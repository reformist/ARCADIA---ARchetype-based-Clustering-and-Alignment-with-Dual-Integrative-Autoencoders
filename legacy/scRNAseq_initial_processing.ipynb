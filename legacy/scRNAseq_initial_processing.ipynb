{
 "cells": [
  {
   "cell_type": "code",
   "execution_count": null,
   "metadata": {},
   "outputs": [],
   "source": [
    "import scanpy\n",
    "import pandas as pd\n",
    "import numpy as np\n",
    "from kneed import KneeLocator"
   ]
  },
  {
   "cell_type": "markdown",
   "metadata": {},
   "source": [
    "### Performing basic preprocessing of scRNA-seq data"
   ]
  },
  {
   "cell_type": "code",
   "execution_count": null,
   "metadata": {},
   "outputs": [],
   "source": [
    "adata = scanpy.read(filename = \"scRNA-seq_rna_umap.h5ad\")"
   ]
  },
  {
   "cell_type": "code",
   "execution_count": null,
   "metadata": {},
   "outputs": [],
   "source": [
    "# following contacttracing tutorial\n",
    "adata.obs.index.name=None\n",
    "adata.var.index.name=None"
   ]
  },
  {
   "cell_type": "code",
   "execution_count": null,
   "metadata": {},
   "outputs": [],
   "source": [
    "# making sure cell barcodes are unique\n",
    "numdup = sum(adata.obs.index.duplicated())\n",
    "print(f'{numdup} duplicated barcodes')\n",
    "if numdup > 0:\n",
    "    adata.obs_names_make_unique()\n",
    "    numdup = sum(adata.obs.index.duplicated())\n",
    "    print(f'Now, {numdup} duplicated barcodes')"
   ]
  },
  {
   "cell_type": "code",
   "execution_count": null,
   "metadata": {},
   "outputs": [],
   "source": [
    "# condition setting\n",
    "adata.obs['Condition'] = adata.obs['Sample']"
   ]
  },
  {
   "cell_type": "code",
   "execution_count": null,
   "metadata": {},
   "outputs": [],
   "source": [
    "adata.obs['cell type'] = adata.obs['new_annotation']"
   ]
  },
  {
   "cell_type": "code",
   "execution_count": null,
   "metadata": {},
   "outputs": [],
   "source": [
    "adata.obs['Condition'].value_counts()"
   ]
  },
  {
   "cell_type": "code",
   "execution_count": null,
   "metadata": {},
   "outputs": [],
   "source": [
    "# removing small cell types\n",
    "minCell = 50\n",
    "ctcounts = adata.obs[['cell type','Condition']].value_counts()\n",
    "remove_cellTypes = ctcounts[ctcounts < minCell].reset_index()['cell type'].unique()\n",
    "if len(remove_cellTypes) > 0:\n",
    "    tmpstr = ','.join(remove_cellTypes)\n",
    "    print(f'Removing celltypes: {tmpstr}')\n",
    "    print(f'Original ncell {adata.shape[0]}')\n",
    "    adata = adata[~adata.obs['cell type'].isin(remove_cellTypes)]\n",
    "    print(f'New ncell {adata.shape[0]}')\n",
    "else:\n",
    "    print('Keeping all cell types')"
   ]
  },
  {
   "cell_type": "code",
   "execution_count": null,
   "metadata": {},
   "outputs": [],
   "source": [
    "# creating logX layer\n",
    "adata.X = adata.X.toarray()\n",
    "adata.layers['logX'] = np.log10(adata.X + 0.1) - np.log10(0.1)"
   ]
  },
  {
   "cell_type": "code",
   "execution_count": null,
   "metadata": {},
   "outputs": [],
   "source": [
    "\n",
    "# use kneepoint method to get number of PCs to use\n",
    "init_npcs = 50\n",
    "scanpy.pp.pca(adata, n_comps=init_npcs)\n",
    "x = [x for x in range(len(adata.uns['pca']['variance_ratio']))]\n",
    "y = np.log(adata.uns['pca']['variance_ratio'])\n",
    "knee = KneeLocator(x=x, y=y, curve='convex', direction='decreasing', online=True, interp_method='polynomial')\n",
    "knee.plot_knee_normalized()"
   ]
  },
  {
   "cell_type": "code",
   "execution_count": null,
   "metadata": {},
   "outputs": [],
   "source": [
    "opt_n_pcs = knee.knee+1\n",
    "print('Optimal Number of PCs: ', str(opt_n_pcs))\n",
    "scanpy.pp.pca(adata, n_comps=opt_n_pcs)\n",
    "scanpy.pp.neighbors(adata)\n",
    "scanpy.tl.umap(adata)"
   ]
  },
  {
   "cell_type": "code",
   "execution_count": null,
   "metadata": {},
   "outputs": [],
   "source": [
    "scanpy.pl.umap(adata, color=['cell type', 'Condition'], ncols=1)\n"
   ]
  },
  {
   "cell_type": "code",
   "execution_count": null,
   "metadata": {},
   "outputs": [],
   "source": []
  }
 ],
 "metadata": {
  "kernelspec": {
   "display_name": "Python 3",
   "language": "python",
   "name": "python3"
  },
  "language_info": {
   "codemirror_mode": {
    "name": "ipython",
    "version": 3
   },
   "file_extension": ".py",
   "mimetype": "text/x-python",
   "name": "python",
   "nbconvert_exporter": "python",
   "pygments_lexer": "ipython3",
   "version": "3.9.7"
  }
 },
 "nbformat": 4,
 "nbformat_minor": 2
}
