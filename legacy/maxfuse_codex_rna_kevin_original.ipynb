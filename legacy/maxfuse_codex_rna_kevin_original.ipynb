{
 "cells": [
  {
   "cell_type": "markdown",
   "id": "c38f7471",
   "metadata": {},
   "source": [
    "Try MaxFuse method to integrate CODEX and scRNA-seq from mouse ICT dataset\n",
    "======"
   ]
  },
  {
   "cell_type": "code",
   "execution_count": null,
   "id": "c5160a2c",
   "metadata": {},
   "outputs": [],
   "source": [
    "import warnings"
   ]
  },
  {
   "cell_type": "code",
   "execution_count": null,
   "id": "e5233b0d",
   "metadata": {},
   "outputs": [],
   "source": [
    "warnings.simplefilter(action='ignore',)"
   ]
  },
  {
   "cell_type": "code",
   "execution_count": null,
   "id": "6ac763e4",
   "metadata": {},
   "outputs": [],
   "source": [
    "warnings.simplefilter(action='ignore',)"
   ]
  },
  {
   "cell_type": "code",
   "execution_count": null,
   "id": "1e5047da",
   "metadata": {},
   "outputs": [],
   "source": [
    "import numpy as np\n",
    "import pandas as pd\n",
    "import scanpy as sc\n",
    "import anndata as ad\n",
    "import seaborn as sns\n",
    "import maxfuse as mf\n",
    "import matplotlib.pyplot as plt\n",
    "\n",
    "from scipy.io import mmread\n",
    "from scipy import sparse\n",
    "from sklearn.metrics import confusion_matrix, ConfusionMatrixDisplay"
   ]
  },
  {
   "cell_type": "markdown",
   "id": "28d45270",
   "metadata": {},
   "source": [
    "# setup and load datasets (only run once)"
   ]
  },
  {
   "cell_type": "markdown",
   "id": "8df8aa81",
   "metadata": {
    "jp-MarkdownHeadingCollapsed": true
   },
   "source": [
    "## CODEX"
   ]
  },
  {
   "cell_type": "code",
   "execution_count": null,
   "id": "850f1380",
   "metadata": {},
   "outputs": [],
   "source": [
    "! ls unprocessed_data"
   ]
  },
  {
   "cell_type": "code",
   "execution_count": null,
   "id": "54cf991c",
   "metadata": {},
   "outputs": [],
   "source": [
    "codex_meta = pd.read_csv('unprocessed_data/codex_meta.csv', index_col=0)\n",
    "codex_genes = pd.read_csv('unprocessed_data/codex_genes.csv', index_col=0).values.flatten()\n",
    "codex_counts = pd.read_csv('unprocessed_data/codex_counts_matrix.csv') # counts matrix\n",
    "codex_data = pd.read_csv('unprocessed_data/codex_data_matrix.csv') # normalized data matrix (see I/O Rmd)"
   ]
  },
  {
   "cell_type": "code",
   "execution_count": null,
   "id": "eecf701d",
   "metadata": {},
   "outputs": [],
   "source": [
    "codex_counts = codex_counts.set_index(\"Unnamed: 0\")\n",
    "codex_counts.index.name = None\n",
    "codex_counts.columns = codex_meta.index\n",
    "codex_counts = codex_counts.T\n",
    "array_copy = np.array(codex_counts, dtype=float)\n",
    "codex_counts = pd.DataFrame(array_copy, index = codex_counts.index, columns = codex_counts.columns)\n",
    "del array_copy\n",
    "codex_counts = sparse.csr_matrix(codex_counts)\n",
    "codex_counts"
   ]
  },
  {
   "cell_type": "code",
   "execution_count": null,
   "id": "543a464d",
   "metadata": {},
   "outputs": [],
   "source": [
    "codex_data = codex_data.set_index(\"Unnamed: 0\")\n",
    "codex_data.index.name = None\n",
    "codex_data.columns = codex_meta.index\n",
    "codex_data = codex_data.T\n",
    "array_copy = np.array(codex_data, dtype=float)\n",
    "codex_data = pd.DataFrame(array_copy, index = codex_data.index, columns = codex_data.columns)\n",
    "del array_copy\n",
    "codex_data = sparse.csr_matrix(codex_data)\n",
    "codex_data"
   ]
  },
  {
   "cell_type": "code",
   "execution_count": null,
   "id": "764b782a",
   "metadata": {},
   "outputs": [],
   "source": [
    "codex_genes = pd.DataFrame(codex_genes, columns=['gene'], index = codex_genes)"
   ]
  },
  {
   "cell_type": "code",
   "execution_count": null,
   "id": "5c115b32",
   "metadata": {},
   "outputs": [],
   "source": [
    "codex = ad.AnnData(X = codex_data, obs = codex_meta, var = codex_genes, layers={'counts':codex_counts,'normalized_data':codex_data})\n",
    "codex"
   ]
  },
  {
   "cell_type": "code",
   "execution_count": null,
   "id": "c2d1e0d2",
   "metadata": {},
   "outputs": [],
   "source": [
    "codex.obsm['spatial'] = np.array(codex.obs[['x_um','y_um']]) # to easily visualize spatial image"
   ]
  },
  {
   "cell_type": "code",
   "execution_count": null,
   "id": "c7ac4aad",
   "metadata": {},
   "outputs": [],
   "source": [
    "# double check orientation is correct and layers have raw counts and normalized, respectively\n",
    "sc.pl.embedding(codex[codex.obs['Image'] == 'cntrl_n130_d10'], color='pdL1', layer='counts',\n",
    "                basis = 'spatial', title='cntrl_n130_d10', use_raw = False, vmax='p90')\n",
    "sc.pl.embedding(codex[codex.obs['Image'] == 'cntrl_n130_d10'], color='pdL1', layer='normalized_data',\n",
    "                basis = 'spatial', title='cntrl_n130_d10', use_raw = False, vmax='p90')"
   ]
  },
  {
   "cell_type": "code",
   "execution_count": null,
   "id": "18497920",
   "metadata": {},
   "outputs": [],
   "source": [
    "# codex.write_h5ad('codex.h5ad')"
   ]
  },
  {
   "cell_type": "markdown",
   "id": "7c91b0bf",
   "metadata": {
    "jp-MarkdownHeadingCollapsed": true
   },
   "source": [
    "## scRNAseq"
   ]
  },
  {
   "cell_type": "code",
   "execution_count": null,
   "id": "f4a53cc7",
   "metadata": {},
   "outputs": [],
   "source": [
    "! ls unprocessed_data"
   ]
  },
  {
   "cell_type": "code",
   "execution_count": null,
   "id": "d0a489ee",
   "metadata": {},
   "outputs": [],
   "source": [
    "rna_meta = pd.read_csv('unprocessed_data/rna_meta.csv', index_col=0)\n",
    "rna_genes = pd.read_csv('unprocessed_data/rna_genes.csv', index_col=0).values.flatten()\n",
    "rna_counts = pd.read_csv('unprocessed_data/rna_counts_matrix.csv') # counts matrix\n",
    "rna_data = pd.read_csv('unprocessed_data/rna_data_matrix.csv') # normalized data matrix (see I/O Rmd)"
   ]
  },
  {
   "cell_type": "code",
   "execution_count": null,
   "id": "d8127bb0",
   "metadata": {},
   "outputs": [],
   "source": [
    "rna_counts = rna_counts.set_index(\"Unnamed: 0\")\n",
    "rna_counts.index.name = None\n",
    "rna_counts.columns = rna_meta.index\n",
    "rna_counts = rna_counts.T\n",
    "array_copy = np.array(rna_counts, dtype=float)\n",
    "rna_counts = pd.DataFrame(array_copy, index = rna_counts.index, columns = rna_counts.columns)\n",
    "del array_copy\n",
    "rna_counts = sparse.csr_matrix(rna_counts)\n",
    "rna_counts"
   ]
  },
  {
   "cell_type": "code",
   "execution_count": null,
   "id": "71e99039",
   "metadata": {},
   "outputs": [],
   "source": [
    "rna_data = rna_data.set_index(\"Unnamed: 0\")\n",
    "rna_data.index.name = None\n",
    "rna_data.columns = rna_meta.index\n",
    "rna_data = rna_data.T\n",
    "\n",
    "array_copy = np.array(rna_data, dtype=float)\n",
    "rna_data = pd.DataFrame(array_copy, index = rna_data.index, columns = rna_data.columns)\n",
    "del array_copy\n",
    "rna_data = sparse.csr_matrix(rna_data)\n",
    "rna_data"
   ]
  },
  {
   "cell_type": "code",
   "execution_count": null,
   "id": "75f0a78d",
   "metadata": {},
   "outputs": [],
   "source": [
    "(rna_counts != rna_data).nnz==0 # checking the matrices are the same, which they should be"
   ]
  },
  {
   "cell_type": "code",
   "execution_count": null,
   "id": "cab7beaf",
   "metadata": {},
   "outputs": [],
   "source": [
    "rna_genes = pd.DataFrame(rna_genes, columns=['gene'], index = rna_genes)"
   ]
  },
  {
   "cell_type": "code",
   "execution_count": null,
   "id": "430e6fdf",
   "metadata": {},
   "outputs": [],
   "source": [
    "rna = ad.AnnData(X = rna_counts, obs = rna_meta, var = rna_genes, layers={'counts':rna_counts})\n",
    "rna"
   ]
  },
  {
   "cell_type": "code",
   "execution_count": null,
   "id": "1c030039",
   "metadata": {},
   "outputs": [],
   "source": [
    "rna.obsm['tSNE'] = np.array(rna.obs[['tSNE_1','tSNE_2']]) # transfer embeddings"
   ]
  },
  {
   "cell_type": "code",
   "execution_count": null,
   "id": "bf9d486d",
   "metadata": {},
   "outputs": [],
   "source": [
    "# find genes that start with p (e.g., PD-L1 ortholog)\n",
    "def starts_with_p(row):\n",
    "    return any(str(val).startswith('Cd') for val in row)\n",
    "\n",
    "filtered_df = rna.var[rna.var.apply(starts_with_p, axis=1)]\n",
    "# sorted(filtered_df.values.flatten())"
   ]
  },
  {
   "cell_type": "code",
   "execution_count": null,
   "id": "9e733b1c",
   "metadata": {},
   "outputs": [],
   "source": [
    "sc.pl.embedding(rna, color='Cd274', basis = 'tSNE', title='scRNA-seq', use_raw = False, vmax='p90')"
   ]
  },
  {
   "cell_type": "code",
   "execution_count": null,
   "id": "8153c85e",
   "metadata": {},
   "outputs": [],
   "source": [
    "# rna.write_h5ad('rna.h5ad')"
   ]
  },
  {
   "cell_type": "markdown",
   "id": "40821044",
   "metadata": {
    "jp-MarkdownHeadingCollapsed": true
   },
   "source": [
    "# initial processing and clustering of scRNA-seq"
   ]
  },
  {
   "cell_type": "markdown",
   "id": "3e516f23",
   "metadata": {},
   "source": [
    "## QC"
   ]
  },
  {
   "cell_type": "code",
   "execution_count": null,
   "id": "6ce91f8c",
   "metadata": {},
   "outputs": [],
   "source": [
    "rna = sc.read_h5ad('rna.h5ad')"
   ]
  },
  {
   "cell_type": "code",
   "execution_count": null,
   "id": "32a717f7",
   "metadata": {},
   "outputs": [],
   "source": [
    "rna.obs.head()"
   ]
  },
  {
   "cell_type": "code",
   "execution_count": null,
   "id": "552c964a",
   "metadata": {},
   "outputs": [],
   "source": [
    "print(rna.obs[\"new_annotation\"].value_counts())"
   ]
  },
  {
   "cell_type": "code",
   "execution_count": null,
   "id": "d58eb5f1",
   "metadata": {},
   "outputs": [],
   "source": [
    "# find genes that start with Rp (e.g., RPS or RPL orthologs)\n",
    "def starts_with_p(row):\n",
    "    return any(str(val).startswith('Hb') for val in row)\n",
    "\n",
    "filtered_df = rna.var[rna.var.apply(starts_with_p, axis=1)]\n",
    "# sorted(filtered_df.values.flatten())"
   ]
  },
  {
   "cell_type": "code",
   "execution_count": null,
   "id": "f31e35cc",
   "metadata": {},
   "outputs": [],
   "source": [
    "rna.var[\"mt\"] = rna.var_names.str.startswith(\"Mt-\") # mitochondrial genes\n",
    "rna.var[\"ribo\"] = rna.var_names.str.startswith((\"Rps\", \"Rpl\")) # ribosomal genes\n",
    "rna.var[\"hb\"] = rna.var_names.str.contains(\"^Hb[^(P)]\") # hemoglobin genes"
   ]
  },
  {
   "cell_type": "code",
   "execution_count": null,
   "id": "d6161533",
   "metadata": {},
   "outputs": [],
   "source": [
    "print(rna.var[[\"mt\",\"ribo\",\"hb\"]].value_counts())"
   ]
  },
  {
   "cell_type": "code",
   "execution_count": null,
   "id": "f3ab5d07",
   "metadata": {},
   "outputs": [],
   "source": [
    "sc.pp.calculate_qc_metrics(rna, qc_vars=[\"ribo\", \"hb\"], inplace=True, log1p=True)"
   ]
  },
  {
   "cell_type": "code",
   "execution_count": null,
   "id": "eab77737",
   "metadata": {},
   "outputs": [],
   "source": [
    "sc.pl.violin(rna, [\"n_genes_by_counts\", \"total_counts\", \"pct_counts_ribo\", \"pct_counts_hb\"],\n",
    "    jitter=0.4, multi_panel=True, )"
   ]
  },
  {
   "cell_type": "code",
   "execution_count": null,
   "id": "a5681326",
   "metadata": {},
   "outputs": [],
   "source": [
    "sc.pl.scatter(rna, \"total_counts\", \"n_genes_by_counts\", color=\"pct_counts_ribo\")"
   ]
  },
  {
   "cell_type": "code",
   "execution_count": null,
   "id": "d1acf7c9",
   "metadata": {},
   "outputs": [],
   "source": [
    "print(rna.shape)\n",
    "sc.pp.filter_genes(rna, min_cells=3)\n",
    "print(rna.shape)"
   ]
  },
  {
   "cell_type": "code",
   "execution_count": null,
   "id": "3b28f582",
   "metadata": {},
   "outputs": [],
   "source": [
    "rna.layers[\"counts\"] = rna.X.copy()"
   ]
  },
  {
   "cell_type": "code",
   "execution_count": null,
   "id": "c37c3d48",
   "metadata": {},
   "outputs": [],
   "source": [
    "sc.pp.normalize_total(rna) # normalize to median total counts\n",
    "sc.pp.log1p(rna) # logarithmize data"
   ]
  },
  {
   "cell_type": "code",
   "execution_count": null,
   "id": "b109ec0d",
   "metadata": {},
   "outputs": [],
   "source": [
    "# ! pip install --user scikit-misc"
   ]
  },
  {
   "cell_type": "code",
   "execution_count": null,
   "id": "7f7fbfc1",
   "metadata": {},
   "outputs": [],
   "source": [
    "sc.pp.highly_variable_genes(rna, n_top_genes=8000, batch_key=None, flavor='seurat_v3', layer='counts') # choosing 2K since only 5K cells"
   ]
  },
  {
   "cell_type": "code",
   "execution_count": null,
   "id": "d4d66158",
   "metadata": {},
   "outputs": [],
   "source": [
    "sc.pl.highly_variable_genes(rna)"
   ]
  },
  {
   "cell_type": "markdown",
   "id": "5a8aa95f",
   "metadata": {},
   "source": [
    "## PP"
   ]
  },
  {
   "cell_type": "code",
   "execution_count": null,
   "id": "8e6e2499",
   "metadata": {},
   "outputs": [],
   "source": [
    "sc.pp.pca(rna, n_comps=30)"
   ]
  },
  {
   "cell_type": "code",
   "execution_count": null,
   "id": "e4fb711e",
   "metadata": {},
   "outputs": [],
   "source": [
    "sc.pl.pca_variance_ratio(rna, n_pcs=30, log=True)"
   ]
  },
  {
   "cell_type": "code",
   "execution_count": null,
   "id": "6f7ab31a",
   "metadata": {},
   "outputs": [],
   "source": [
    "list(rna.obs.columns)"
   ]
  },
  {
   "cell_type": "code",
   "execution_count": null,
   "id": "ffc9050b",
   "metadata": {},
   "outputs": [],
   "source": [
    "sc.pl.pca(rna,\n",
    "    color=[\"new_annotation\", \"new_annotation\", \"Sample\", \"Sample\"],\n",
    "    dimensions=[(0, 1), (2, 3), (0, 1), (2, 3)], ncols=2)"
   ]
  },
  {
   "cell_type": "code",
   "execution_count": null,
   "id": "4805c840",
   "metadata": {},
   "outputs": [],
   "source": [
    "sc.pp.neighbors(rna, n_neighbors=15, n_pcs=20, method='umap') # method='umap' or method='gauss'"
   ]
  },
  {
   "cell_type": "code",
   "execution_count": null,
   "id": "4d6d12c4",
   "metadata": {},
   "outputs": [],
   "source": [
    "sc.tl.umap(rna)"
   ]
  },
  {
   "cell_type": "code",
   "execution_count": null,
   "id": "18cdfa59",
   "metadata": {},
   "outputs": [],
   "source": [
    "sc.tl.leiden(rna, resolution=1.0)"
   ]
  },
  {
   "cell_type": "code",
   "execution_count": null,
   "id": "6dadf34d",
   "metadata": {},
   "outputs": [],
   "source": [
    "sc.pl.umap(rna, color=['Sample'])\n",
    "sc.pl.umap(rna, color=['new_annotation'])\n",
    "sc.pl.umap(rna, color=['leiden'], legend_loc='on data')"
   ]
  },
  {
   "cell_type": "code",
   "execution_count": null,
   "id": "561ddbb0",
   "metadata": {},
   "outputs": [],
   "source": [
    "rna.obs['Cluster'] = rna.obs['Cluster'].astype('category')\n",
    "sc.pl.embedding(rna, basis = 'tSNE', color=['Sample'])\n",
    "sc.pl.embedding(rna, basis = 'tSNE', color=['new_annotation'])\n",
    "sc.pl.embedding(rna, basis = 'tSNE', color=['Cluster'], legend_loc='on data')"
   ]
  },
  {
   "cell_type": "code",
   "execution_count": null,
   "id": "e5049987",
   "metadata": {},
   "outputs": [],
   "source": [
    "rna.write_h5ad('rna_umap.h5ad') # save this to avoid having to re-process"
   ]
  },
  {
   "cell_type": "markdown",
   "id": "927f7b6f",
   "metadata": {
    "jp-MarkdownHeadingCollapsed": true
   },
   "source": [
    "# initial processing and clustering of CODEX"
   ]
  },
  {
   "cell_type": "code",
   "execution_count": null,
   "id": "fd421e01",
   "metadata": {},
   "outputs": [],
   "source": [
    "codex = sc.read_h5ad('codex.h5ad')"
   ]
  },
  {
   "cell_type": "code",
   "execution_count": null,
   "id": "d44b4c13",
   "metadata": {},
   "outputs": [],
   "source": [
    "sc.pp.pca(codex, n_comps=25)"
   ]
  },
  {
   "cell_type": "code",
   "execution_count": null,
   "id": "630665dc",
   "metadata": {},
   "outputs": [],
   "source": [
    "sc.pl.pca_variance_ratio(codex, n_pcs=25, log=True) # choose 20 like in Seurat tutorial? Or 10 where elbow is"
   ]
  },
  {
   "cell_type": "code",
   "execution_count": null,
   "id": "a5196dbd",
   "metadata": {},
   "outputs": [],
   "source": [
    "codex.obs.head()"
   ]
  },
  {
   "cell_type": "code",
   "execution_count": null,
   "id": "b7e81620",
   "metadata": {},
   "outputs": [],
   "source": [
    "sc.pl.pca(codex,\n",
    "    color=[\"Image\", \"Image\", \"cell_type\", \"cell_type\", \"condition\", \"condition\"],\n",
    "    dimensions=[(0, 1), (2, 3), (0, 1), (2, 3), (0, 1), (2, 3)],\n",
    "    ncols=2, size=2,)"
   ]
  },
  {
   "cell_type": "code",
   "execution_count": null,
   "id": "736c6fa4",
   "metadata": {},
   "outputs": [],
   "source": [
    "sc.pp.neighbors(codex, n_neighbors=15, n_pcs=20, method='gauss') # method='umap' or method='gauss'"
   ]
  },
  {
   "cell_type": "code",
   "execution_count": null,
   "id": "a92c8856",
   "metadata": {},
   "outputs": [],
   "source": [
    "sc.tl.umap(codex)"
   ]
  },
  {
   "cell_type": "code",
   "execution_count": null,
   "id": "02f893ee",
   "metadata": {},
   "outputs": [],
   "source": [
    "sc.pl.umap(codex, color=['Image'])\n",
    "sc.pl.umap(codex, color=['cell_type'])\n",
    "sc.pl.umap(codex, color=['condition'], legend_loc='on data')"
   ]
  },
  {
   "cell_type": "code",
   "execution_count": null,
   "id": "7f4b8c3c",
   "metadata": {},
   "outputs": [],
   "source": [
    "sc.tl.leiden(codex, resolution=0.4, n_iterations=2) # use igraph implementation and fixed iters to speed things up"
   ]
  },
  {
   "cell_type": "code",
   "execution_count": null,
   "id": "8ee14cb8",
   "metadata": {},
   "outputs": [],
   "source": [
    "sc.pl.umap(codex, color=['leiden'], legend_loc='on data')"
   ]
  },
  {
   "cell_type": "code",
   "execution_count": null,
   "id": "353bce5b",
   "metadata": {},
   "outputs": [],
   "source": [
    "codex.write_h5ad('codex_umap.h5ad') # save this since this integrated preprocessing took a while"
   ]
  },
  {
   "cell_type": "markdown",
   "id": "9d64f49f",
   "metadata": {},
   "source": [
    "# Naive scVI run on CODEX\n",
    "\n",
    "https://docs.scvi-tools.org/en/stable/tutorials/notebooks/quick_start/api_overview.html"
   ]
  },
  {
   "cell_type": "markdown",
   "id": "02056e49",
   "metadata": {
    "jp-MarkdownHeadingCollapsed": true
   },
   "source": [
    "## fit models"
   ]
  },
  {
   "cell_type": "code",
   "execution_count": null,
   "id": "c74e761d",
   "metadata": {},
   "outputs": [],
   "source": [
    "import numpy as np\n",
    "import pandas as pd\n",
    "import scanpy as sc\n",
    "import anndata as ad\n",
    "import seaborn as sns\n",
    "import torch\n",
    "import scvi"
   ]
  },
  {
   "cell_type": "code",
   "execution_count": null,
   "id": "fa4637d0",
   "metadata": {},
   "outputs": [],
   "source": [
    "codex = sc.read_h5ad('codex_umap.h5ad')\n",
    "# rna = sc.read_h5ad('rna_umap.h5ad')"
   ]
  },
  {
   "cell_type": "code",
   "execution_count": null,
   "id": "18831aba",
   "metadata": {},
   "outputs": [],
   "source": [
    "codex.obs.head()"
   ]
  },
  {
   "cell_type": "code",
   "execution_count": null,
   "id": "b7dcf697",
   "metadata": {},
   "outputs": [],
   "source": [
    "scvi.model.SCVI.setup_anndata(\n",
    "    codex, layer='counts', \n",
    "    categorical_covariate_keys=['Image'], # 'condition'\n",
    ")"
   ]
  },
  {
   "cell_type": "code",
   "execution_count": null,
   "id": "f0a66b8c",
   "metadata": {},
   "outputs": [],
   "source": [
    "model = scvi.model.SCVI(codex) # 10 latent layers by default"
   ]
  },
  {
   "cell_type": "code",
   "execution_count": null,
   "id": "3b27b53c",
   "metadata": {},
   "outputs": [],
   "source": [
    "model.train()"
   ]
  },
  {
   "cell_type": "code",
   "execution_count": null,
   "id": "c1a78c90",
   "metadata": {},
   "outputs": [],
   "source": [
    "codex_copy = codex.copy()\n",
    "scvi.model.SCVI.setup_anndata(codex_copy, layer='counts', categorical_covariate_keys=['condition'],)\n",
    "model_condition = scvi.model.SCVI(codex_copy)\n",
    "model_condition.train()"
   ]
  },
  {
   "cell_type": "code",
   "execution_count": null,
   "id": "427db475",
   "metadata": {},
   "outputs": [],
   "source": [
    "codex.obsm['X_scVI'] = model.get_latent_representation()\n",
    "codex_copy.obsm['X_scVI'] = model_condition.get_latent_representation()"
   ]
  },
  {
   "cell_type": "code",
   "execution_count": null,
   "id": "3cd2449f",
   "metadata": {},
   "outputs": [],
   "source": [
    "codex.write_h5ad('codex_scvi_image.h5ad')\n",
    "codex_copy.write_h5ad('codex_scvi_condition.h5ad')"
   ]
  },
  {
   "cell_type": "markdown",
   "id": "29a059de",
   "metadata": {
    "jp-MarkdownHeadingCollapsed": true
   },
   "source": [
    "## load and process (time consuming)"
   ]
  },
  {
   "cell_type": "code",
   "execution_count": null,
   "id": "9d2b19a0",
   "metadata": {},
   "outputs": [],
   "source": [
    "codex = sc.read_h5ad('codex_scvi_image.h5ad')\n",
    "codex_copy = sc.read_h5ad('codex_scvi_condition.h5ad')"
   ]
  },
  {
   "cell_type": "code",
   "execution_count": null,
   "id": "2291fcb2",
   "metadata": {},
   "outputs": [],
   "source": [
    "# subsample 10% for now\n",
    "sc.pp.subsample(codex, .10)\n",
    "sc.pp.subsample(codex_copy, .10)"
   ]
  },
  {
   "cell_type": "code",
   "execution_count": null,
   "id": "60a7a83a",
   "metadata": {},
   "outputs": [],
   "source": [
    "sc.pp.neighbors(codex, use_rep='X_scVI')\n",
    "sc.tl.umap(codex, min_dist=0.3)"
   ]
  },
  {
   "cell_type": "code",
   "execution_count": null,
   "id": "7e578f33",
   "metadata": {},
   "outputs": [],
   "source": [
    "sc.pl.umap(codex, color=['Image','cell_type','condition'][0])\n",
    "sc.pl.umap(codex, color=['Image','cell_type','condition'][1])\n",
    "sc.pl.umap(codex, color=['Image','cell_type','condition'][2])"
   ]
  },
  {
   "cell_type": "code",
   "execution_count": null,
   "id": "4fca1f36",
   "metadata": {},
   "outputs": [],
   "source": [
    "sc.pp.neighbors(codex_copy, use_rep='X_scVI')\n",
    "sc.tl.umap(codex_copy, min_dist=0.3)"
   ]
  },
  {
   "cell_type": "code",
   "execution_count": null,
   "id": "2ad2ef5a",
   "metadata": {},
   "outputs": [],
   "source": [
    "sc.pl.umap(codex_copy, color=['Image','cell_type','condition'][0])\n",
    "sc.pl.umap(codex_copy, color=['Image','cell_type','condition'][1])\n",
    "sc.pl.umap(codex_copy, color=['Image','cell_type','condition'][2])"
   ]
  },
  {
   "cell_type": "markdown",
   "id": "717a258c",
   "metadata": {
    "jp-MarkdownHeadingCollapsed": true
   },
   "source": [
    "# Calculate SCI to prune CellChat results"
   ]
  },
  {
   "cell_type": "code",
   "execution_count": null,
   "id": "1183b017",
   "metadata": {},
   "outputs": [],
   "source": [
    "codex = sc.read_h5ad('codex_umap.h5ad')\n",
    "rna = sc.read_h5ad('rna_umap.h5ad')"
   ]
  },
  {
   "cell_type": "code",
   "execution_count": null,
   "id": "e16659a4",
   "metadata": {},
   "outputs": [],
   "source": [
    "codex"
   ]
  },
  {
   "cell_type": "code",
   "execution_count": null,
   "id": "a6cc9da2",
   "metadata": {},
   "outputs": [],
   "source": [
    "plt.subplots(figsize=(12,6))\n",
    "ax = sns.histplot(codex.obs, x='CN', hue='cell_type', multiple='fill')\n",
    "sns.move_legend(ax, \"upper left\", bbox_to_anchor=(1, 1))\n",
    "plt.xticks(rotation=315);"
   ]
  },
  {
   "cell_type": "code",
   "execution_count": null,
   "id": "7318de05",
   "metadata": {},
   "outputs": [],
   "source": [
    "import matplotlib as mpl\n",
    "\n",
    "mpl.rcParams['figure.figsize'] = (6,6)\n",
    "ax = sc.pl.embedding(codex[codex.obs['Image']=='ict_n212_d10'], basis='spatial', color='CN', show=False)\n",
    "ax.set_ylim(-100,9300)\n",
    "ax.set_xlim(-100,9300)"
   ]
  },
  {
   "cell_type": "code",
   "execution_count": null,
   "id": "5c0de546",
   "metadata": {},
   "outputs": [],
   "source": [
    "def get_SCI(W, X, Y):\n",
    "    \n",
    "    N = W.shape[0]\n",
    "    term1 = N / (2*W.sum().sum())\n",
    "\n",
    "    x_m = X.mean()\n",
    "    y_m = Y.mean()\n",
    "    term2 = np.matmul(np.matmul(np.diag(X-x_m),W),np.diag(Y-y_m))\n",
    "    term3 = term2.sum().sum()\n",
    "\n",
    "    term4 = np.sqrt(((X-x_m)**2).sum()) * np.sqrt(((Y-y_m)**2).sum())\n",
    "\n",
    "    term5 = term1 * term3 / term4\n",
    "\n",
    "    return term5"
   ]
  },
  {
   "cell_type": "markdown",
   "id": "74dc5632",
   "metadata": {},
   "source": [
    "# MaxFuse\n",
    "\n",
    "https://github.com/shuxiaoc/maxfuse?tab=readme-ov-file"
   ]
  },
  {
   "cell_type": "code",
   "execution_count": null,
   "id": "8bb27940",
   "metadata": {},
   "outputs": [],
   "source": [
    "codex = sc.read_h5ad('codex_umap.h5ad')\n",
    "rna = sc.read_h5ad('rna_umap.h5ad')"
   ]
  },
  {
   "cell_type": "markdown",
   "id": "da9f49c1",
   "metadata": {},
   "source": [
    "## add CN metadata to codex"
   ]
  },
  {
   "cell_type": "code",
   "execution_count": null,
   "id": "32ad1079",
   "metadata": {},
   "outputs": [],
   "source": [
    "adata_obs = sc.read_h5ad('codex.h5ad').obs\n",
    "adata_obs.head()"
   ]
  },
  {
   "cell_type": "code",
   "execution_count": null,
   "id": "250e731c",
   "metadata": {},
   "outputs": [],
   "source": [
    "sns.histplot(adata_obs, x='condition', hue='cell_type', multiple='stack')"
   ]
  },
  {
   "cell_type": "code",
   "execution_count": null,
   "id": "1a53cd79",
   "metadata": {},
   "outputs": [],
   "source": [
    "# map neighborhood information (indices should match)\n",
    "codex.obs['CN'] = adata_obs['neighborhood']"
   ]
  },
  {
   "cell_type": "code",
   "execution_count": null,
   "id": "20f832c5",
   "metadata": {},
   "outputs": [],
   "source": [
    "sns.histplot(adata_obs, x='condition', hue='neighborhood', multiple='stack')"
   ]
  },
  {
   "cell_type": "code",
   "execution_count": null,
   "id": "c99a793f",
   "metadata": {},
   "outputs": [],
   "source": [
    "# FIX THIS\n",
    "codex.obs['CN'] = codex.obs['CN'].replace({\n",
    "    1: 'CN1 Tumor Boundary',\n",
    "    2: 'CN2 Tumor Bulk',\n",
    "    3: 'CN3 Neutrophils + Dead cells',\n",
    "    4: 'CN4 CX3CR1+ Macrophage',\n",
    "    5: 'CN5 Dead Cells Center',\n",
    "    6: 'CN6 Lymphoid Rich',\n",
    "    7: 'CN7 INOS+ and IFN-g Actv Macs',\n",
    "}).astype('category')"
   ]
  },
  {
   "cell_type": "code",
   "execution_count": null,
   "id": "59dceea8",
   "metadata": {},
   "outputs": [],
   "source": [
    "sns.histplot(codex.obs, x='condition', hue='CN', multiple='stack', legend=False).set_title('CNs across conditions');"
   ]
  },
  {
   "cell_type": "code",
   "execution_count": null,
   "id": "fa963bd7",
   "metadata": {},
   "outputs": [],
   "source": [
    "sns.histplot(codex.obs, x='cell_type', hue='CN', multiple='stack', legend=False).set_title('CNs across cell types');\n",
    "plt.xticks(rotation=90);"
   ]
  },
  {
   "cell_type": "code",
   "execution_count": null,
   "id": "326e7057",
   "metadata": {},
   "outputs": [],
   "source": [
    "sc.pl.umap(codex, color='CN')"
   ]
  },
  {
   "cell_type": "code",
   "execution_count": null,
   "id": "a82c716c",
   "metadata": {},
   "outputs": [],
   "source": [
    "for im in codex.obs['Image'].unique():\n",
    "    sc.pl.embedding(codex[codex.obs['Image'] == im], color='CN', basis = 'spatial', title=im)"
   ]
  },
  {
   "cell_type": "code",
   "execution_count": null,
   "id": "2d7b1729",
   "metadata": {},
   "outputs": [],
   "source": [
    "# full data with tumor for reference\n",
    "adata = sc.read_h5ad('codex.h5ad')\n",
    "adata.obs['neighborhood'] = adata.obs['neighborhood'].astype('category')\n",
    "for im in codex.obs['Image'].unique():\n",
    "    sc.pl.embedding(adata[adata.obs['Image'] == im], color='neighborhood', basis = 'spatial', title=im)"
   ]
  },
  {
   "cell_type": "code",
   "execution_count": null,
   "id": "e7cbc39e",
   "metadata": {},
   "outputs": [],
   "source": [
    "# codex.write_h5ad('codex_umap.h5ad')"
   ]
  },
  {
   "cell_type": "markdown",
   "id": "c23f7428",
   "metadata": {},
   "source": [
    "## do scRNA-seq feature selection\n",
    "\n",
    "Re-compute 2k HVGs, and do top 100 genes for each cell type, and add those and marker genes to features for maxfuse"
   ]
  },
  {
   "cell_type": "code",
   "execution_count": null,
   "id": "91cca7a2",
   "metadata": {},
   "outputs": [],
   "source": [
    "rna.var['mf_features'] = sc.pp.highly_variable_genes(rna, n_top_genes=2000, batch_key=None, flavor='seurat_v3', layer='counts', inplace=False)['highly_variable']"
   ]
  },
  {
   "cell_type": "code",
   "execution_count": null,
   "id": "b152cfcc",
   "metadata": {},
   "outputs": [],
   "source": [
    "sc.tl.rank_genes_groups(rna, groupby='new_annotation', method='t-test')"
   ]
  },
  {
   "cell_type": "code",
   "execution_count": null,
   "id": "65cd536a",
   "metadata": {},
   "outputs": [],
   "source": [
    "print(np.sum(rna.var['mf_features']))\n",
    "for ct in rna.obs['new_annotation'].unique():\n",
    "    degs = sc.get.rank_genes_groups_df(rna, group=ct).iloc[:100,0].values\n",
    "    rna.var.loc[rna.var.index.isin(degs),'mf_features']=True\n",
    "print(np.sum(rna.var['mf_features']))"
   ]
  },
  {
   "cell_type": "markdown",
   "id": "4527b9f0",
   "metadata": {
    "jp-MarkdownHeadingCollapsed": true
   },
   "source": [
    "## cell type composition"
   ]
  },
  {
   "cell_type": "code",
   "execution_count": null,
   "id": "6bbeb636",
   "metadata": {},
   "outputs": [],
   "source": [
    "ax = sns.histplot(codex.obs, x='condition',hue='cell_type', multiple='stack', legend=False)\n",
    "for container in ax.containers:\n",
    "    ax.bar_label(container, label_type='center')"
   ]
  },
  {
   "cell_type": "code",
   "execution_count": null,
   "id": "f0b8042c",
   "metadata": {},
   "outputs": [],
   "source": [
    "plt.subplots(figsize=(12,6))\n",
    "ax = sns.histplot(codex.obs, x='Image',hue='cell_type', multiple='stack', legend=False)\n",
    "for container in ax.containers:\n",
    "    ax.bar_label(container, label_type='center')\n",
    "plt.xticks(rotation=90);"
   ]
  },
  {
   "cell_type": "code",
   "execution_count": null,
   "id": "1b704cc3",
   "metadata": {},
   "outputs": [],
   "source": [
    "ax = sns.histplot(rna.obs, x='Sample',hue='new_annotation', multiple='stack', legend=False)\n",
    "for container in ax.containers:\n",
    "    ax.bar_label(container, label_type='center')"
   ]
  },
  {
   "cell_type": "markdown",
   "id": "2d642ba2",
   "metadata": {},
   "source": [
    "## Create Inputs: define weak-linked features i.e. connect protein and gene expression features\n",
    "\n",
    "Does it need to be 1:1 feature mapping?"
   ]
  },
  {
   "cell_type": "code",
   "execution_count": null,
   "id": "480e2c7f",
   "metadata": {},
   "outputs": [],
   "source": [
    "conversion = pd.read_csv('protein_gene_conversion.csv', index_col=0)"
   ]
  },
  {
   "cell_type": "code",
   "execution_count": null,
   "id": "29154f2d",
   "metadata": {},
   "outputs": [],
   "source": [
    "codex.var_names"
   ]
  },
  {
   "cell_type": "code",
   "execution_count": null,
   "id": "f89ed676",
   "metadata": {},
   "outputs": [],
   "source": [
    "h_m_map = pd.read_csv('human2mouse (1).txt', sep='\\t', index_col=0)\n",
    "h_m_map.reset_index(inplace=True)"
   ]
  },
  {
   "cell_type": "code",
   "execution_count": null,
   "id": "6e14d289",
   "metadata": {},
   "outputs": [],
   "source": [
    "found_rna = []\n",
    "not_found = []\n",
    "for gene in codex.var_names:\n",
    "    if gene.capitalize() in rna.var_names:\n",
    "        found_rna.append(gene.capitalize())\n",
    "    else:\n",
    "        not_found.append(gene.capitalize())"
   ]
  },
  {
   "cell_type": "code",
   "execution_count": null,
   "id": "ee4d1197",
   "metadata": {},
   "outputs": [],
   "source": [
    "found_h_m_map = []\n",
    "for i,gene in enumerate(not_found):\n",
    "    if gene.capitalize() in h_m_map['Mouse'].values:\n",
    "        found_h_m_map.append(gene.capitalize())\n",
    "        not_found.pop(i)"
   ]
  },
  {
   "cell_type": "code",
   "execution_count": null,
   "id": "63d16bfe",
   "metadata": {},
   "outputs": [],
   "source": [
    "found_protein_conversion = []\n",
    "for i,gene in enumerate(not_found):\n",
    "    if gene in conversion.index.values:\n",
    "        found_protein_conversion.append(gene+':'+conversion.loc[gene,'RNA name'])\n",
    "        not_found.pop(i)"
   ]
  },
  {
   "cell_type": "code",
   "execution_count": null,
   "id": "79957c27",
   "metadata": {},
   "outputs": [],
   "source": [
    "found_protein_conversion2 = []\n",
    "for i,gene in enumerate(not_found):\n",
    "    if gene.upper() in conversion.index.values:\n",
    "        found_protein_conversion2.append(gene+':'+conversion.loc[gene.upper(),'RNA name'])\n",
    "        not_found.pop(i)"
   ]
  },
  {
   "cell_type": "code",
   "execution_count": null,
   "id": "ed7e56c9",
   "metadata": {},
   "outputs": [],
   "source": [
    "print('found in rna:', found_rna)\n",
    "print('needs human mapping:', found_h_m_map)\n",
    "print('found_protein_conversion', found_protein_conversion)\n",
    "print('found_protein_conversion2', found_protein_conversion2)\n",
    "print(not_found)"
   ]
  },
  {
   "cell_type": "code",
   "execution_count": null,
   "id": "667db821",
   "metadata": {},
   "outputs": [],
   "source": [
    "protein_mapping = {\n",
    "    'cd103':'Itgae', \n",
    "    'ki67':'Mki67', \n",
    "    'foxp3':'Foxp3', \n",
    "    'cd140': 'Pdgfra', # CD140 protein same as PDGFRA gene? \n",
    "    'cx3cr1': 'Cx3cr1', \n",
    "    'cd3':'Cd3d', # or Cd3e or Cd3g \n",
    "    'cd8': 'Cd8b1', # or Cd8a\n",
    "    'nkp46': 'Ncr1', # NKP46 protein same as NCR1 gene?\n",
    "    'tim 3': 'Havcr2', # TIM3 protein same as HAVCR2 gene?  \n",
    "    'xcr1': 'Xcr1', \n",
    "    'sirp-alpha': 'Sirpa', \n",
    "    'gzmB':'Gzmb', \n",
    "    'pd1':'Pdcd1', \n",
    "    'cd206': 'Mrc1',  \n",
    "    'cd4':'Cd4',\n",
    "    'caspase 3': 'Casp3',  \n",
    "    'cd45': 'Ptprc', # or Ptprcap\n",
    "    'Lag3':'Lag3', \n",
    "    'cd64': 'Fcgr1',  \n",
    "    'f4-80': 'Adgre1',  \n",
    "    'cd38':'Cd38',\n",
    "    'cd31':'Pecam1', \n",
    "    'cd11c': 'Itgax',  \n",
    "    'cd24':'Cd24a', \n",
    "    'inos': 'Nos2',  \n",
    "    'cd11b': 'Itgam',  \n",
    "    'ly6G':'Ly6g', \n",
    "    'cd90':'Thy1', \n",
    "    'mhcii': None, # composed of HLA-DPA1, HLA-DPB1, HLA-DQA1, HLA-DQB1, HLA-DRA? # not including because biased towards treated condition in scRNA, vs. codex\n",
    "    'pdL1':'Cd274',\n",
    "}"
   ]
  },
  {
   "cell_type": "code",
   "execution_count": null,
   "id": "5745bd1f",
   "metadata": {},
   "outputs": [],
   "source": [
    "print(sorted(list(rna.var[rna.var_names.str.contains('H2')].index))[8:])"
   ]
  },
  {
   "cell_type": "code",
   "execution_count": null,
   "id": "343ec782",
   "metadata": {},
   "outputs": [],
   "source": [
    "sc.pl.umap(codex, color = ['mhcii', 'condition'])"
   ]
  },
  {
   "cell_type": "code",
   "execution_count": null,
   "id": "4fc58a0b",
   "metadata": {},
   "outputs": [],
   "source": [
    "# h_m_map = pd.read_csv('human2mouse (1).txt', sep='\\t', index_col=0)\n",
    "# _ = ['HLA-DQA1','HLA-DQB1','HLA-DRA', 'HLA-DPA1', 'HLA-DPB1']\n",
    "# _ = set(h_m_map.loc[h_m_map.index.isin(_),'Mouse'].values)\n",
    "# _ = list(_ & set(rna.var_names))\n",
    "\n",
    "# sc.pl.umap(rna, color = ['Cd8a', 'Cd8b1'])\n",
    "# sc.pl.umap(rna, color = ['Cd3d', 'Cd3e', 'Cd3eap', 'Cd3g'])\n",
    "# sc.pl.umap(rna, color = ['Ptprc', 'Ptprcap'])\n",
    "# sc.pl.umap(rna, color = _, vmin='p10', vmax='p90')\n",
    "\n",
    "sc.pl.umap(rna, color = ['Sirpa','Mrc1','Casp3','Fcgr1','Adgre1','Itgax','Itgam'], vmax='p90')"
   ]
  },
  {
   "cell_type": "code",
   "execution_count": null,
   "id": "3679faf2",
   "metadata": {},
   "outputs": [],
   "source": [
    "protein_index = list()\n",
    "RNA_index = list()\n",
    "for protein in protein_mapping.keys():\n",
    "    if protein_mapping[protein] != None:\n",
    "        protein_index.append(protein)\n",
    "        RNA_index.append(protein_mapping[protein])\n",
    "print(protein_index)\n",
    "print(RNA_index)"
   ]
  },
  {
   "cell_type": "code",
   "execution_count": null,
   "id": "f0305aef",
   "metadata": {},
   "outputs": [],
   "source": [
    "rna_shared = rna[:,RNA_index].copy()\n",
    "codex_shared = codex[:,protein_index].copy()\n",
    "print(rna_shared.shape)\n",
    "print(codex_shared.shape)"
   ]
  },
  {
   "cell_type": "code",
   "execution_count": null,
   "id": "15d52f3a",
   "metadata": {},
   "outputs": [],
   "source": [
    "# only 18 of the ~30 shared features are HVGs in scRNA-seq\n",
    "np.sum(rna_shared.var['mf_features'])"
   ]
  },
  {
   "cell_type": "code",
   "execution_count": null,
   "id": "ddf55dcb",
   "metadata": {},
   "outputs": [],
   "source": [
    "rna.var.loc[RNA_index,'mf_features'] = True\n",
    "rna_shared.var.loc[RNA_index,'mf_features'] = True\n",
    "print(np.sum(rna.var['mf_features']))"
   ]
  },
  {
   "cell_type": "code",
   "execution_count": null,
   "id": "eaff6e16",
   "metadata": {},
   "outputs": [],
   "source": [
    "sc.pp.neighbors(rna_shared, n_neighbors=15, use_rep='X')\n",
    "sc.tl.umap(rna_shared)"
   ]
  },
  {
   "cell_type": "code",
   "execution_count": null,
   "id": "a2ed78e0",
   "metadata": {},
   "outputs": [],
   "source": [
    "sc.pl.umap(rna_shared, color=['Sample'])\n",
    "sc.pl.umap(rna_shared, color=['new_annotation'])\n",
    "sc.pl.umap(rna_shared, color=['leiden'])"
   ]
  },
  {
   "cell_type": "code",
   "execution_count": null,
   "id": "23e8866f",
   "metadata": {},
   "outputs": [],
   "source": [
    "rna_shared = rna_shared.X.copy()\n",
    "codex_shared = codex_shared.X.copy()"
   ]
  },
  {
   "cell_type": "code",
   "execution_count": null,
   "id": "ee75ff2d",
   "metadata": {},
   "outputs": [],
   "source": [
    "rna_active = rna[:,rna.var['mf_features']].copy()\n",
    "sc.pp.scale(rna_active) # preprocessing in the tutorial, makes it mean=0 and std var\n",
    "rna_active = rna_active.X"
   ]
  },
  {
   "cell_type": "code",
   "execution_count": null,
   "id": "d6af6654",
   "metadata": {},
   "outputs": [],
   "source": [
    "codex_active = codex.copy()\n",
    "# not sure if needed to scale protein measurements (they don't do it in tutorial, but the scale might be [0,1] based on methods section)\n",
    "codex_active = codex.X"
   ]
  },
  {
   "cell_type": "code",
   "execution_count": null,
   "id": "289110cf",
   "metadata": {},
   "outputs": [],
   "source": [
    "rna_active = np.asarray(rna_active) # already dense numpy array\n",
    "codex_active = np.asarray(codex_active.todense())\n",
    "rna_shared = np.asarray(rna_shared.todense())\n",
    "codex_shared = np.asarray(codex_shared.todense())\n",
    "\n",
    "print(rna_active.shape)\n",
    "print(codex_active.shape)\n",
    "print(rna_shared.shape)\n",
    "print(codex_shared.shape)"
   ]
  },
  {
   "cell_type": "markdown",
   "id": "94b7c106",
   "metadata": {},
   "source": [
    "## fit MaxFuse\n",
    "\n",
    "arr1 := RNA ; arr2 := CODEX"
   ]
  },
  {
   "cell_type": "markdown",
   "id": "54c56f57",
   "metadata": {},
   "source": [
    "### step 1: prep"
   ]
  },
  {
   "cell_type": "code",
   "execution_count": null,
   "id": "85821d1a",
   "metadata": {},
   "outputs": [],
   "source": [
    "# use cell labels to guide MaxFuse smoothing steps\n",
    "labels_rna = rna.obs['new_annotation'].values\n",
    "labels_codex = codex.obs['cell_type'].values\n",
    "\n",
    "display(labels_rna)\n",
    "display(labels_codex)"
   ]
  },
  {
   "cell_type": "code",
   "execution_count": null,
   "id": "71793442",
   "metadata": {},
   "outputs": [],
   "source": [
    "fusor = mf.model.Fusor(\n",
    "    shared_arr1 = rna_shared,\n",
    "    active_arr1 = rna_active,\n",
    "    labels1 = labels_rna,\n",
    "    shared_arr2 = codex_shared,\n",
    "    active_arr2 = codex_active,\n",
    "    labels2 = labels_codex,\n",
    ")"
   ]
  },
  {
   "cell_type": "code",
   "execution_count": null,
   "id": "0f64c4a3",
   "metadata": {},
   "outputs": [],
   "source": [
    "# see tutorial for explanation -- the below reduces computational complexity\n",
    "fusor.split_into_batches(\n",
    "    max_outward_size=8000,\n",
    "    matching_ratio=4,\n",
    "    metacell_size=2,\n",
    "    verbose=True\n",
    ")"
   ]
  },
  {
   "cell_type": "code",
   "execution_count": null,
   "id": "e75a209d",
   "metadata": {},
   "outputs": [],
   "source": [
    "# plot top singular values of active_arr1 on a random batch\n",
    "fusor.plot_singular_values(target='active_arr1', n_components=None); # can also explicitly specify the number of components"
   ]
  },
  {
   "cell_type": "code",
   "execution_count": null,
   "id": "d26e1906",
   "metadata": {},
   "outputs": [],
   "source": [
    "# plot top singular values of active_arr2 on a random batch\n",
    "fusor.plot_singular_values(target='active_arr2', n_components=None);"
   ]
  },
  {
   "cell_type": "code",
   "execution_count": null,
   "id": "1bb21fe3",
   "metadata": {},
   "outputs": [],
   "source": [
    "svd_components1 = 40\n",
    "svd_components2 = 15\n",
    "\n",
    "fusor.construct_graphs(\n",
    "    n_neighbors1=15,\n",
    "    n_neighbors2=15,\n",
    "    svd_components1=svd_components1,\n",
    "    svd_components2=svd_components2,\n",
    "    resolution1=2,\n",
    "    resolution2=2,\n",
    "    # if two resolutions differ less than resolution_tol\n",
    "    # then we do not distinguish between then\n",
    "    resolution_tol=0.1,\n",
    "    verbose=True\n",
    ")"
   ]
  },
  {
   "cell_type": "markdown",
   "id": "b9a0c73d",
   "metadata": {},
   "source": [
    "### step 2: finding initial pivots"
   ]
  },
  {
   "cell_type": "code",
   "execution_count": null,
   "id": "8a6e773a",
   "metadata": {},
   "outputs": [],
   "source": [
    "fusor.plot_singular_values(target='shared_arr1',n_components=None);"
   ]
  },
  {
   "cell_type": "code",
   "execution_count": null,
   "id": "60784ed3",
   "metadata": {},
   "outputs": [],
   "source": [
    "fusor.plot_singular_values(target='shared_arr2',n_components=None);"
   ]
  },
  {
   "cell_type": "code",
   "execution_count": null,
   "id": "72c47bc3",
   "metadata": {},
   "outputs": [],
   "source": [
    "svd_components1=20\n",
    "svd_components2=20\n",
    "\n",
    "fusor.find_initial_pivots(\n",
    "    wt1=0.3, wt2=0.3, # weights of first and second modality; smaller = greater strength of fuzzy smoothing, 1 = original data used\n",
    "    svd_components1=svd_components1, svd_components2=svd_components2)"
   ]
  },
  {
   "cell_type": "markdown",
   "id": "044d38ed",
   "metadata": {},
   "source": [
    "### step 3: finding refined pivots"
   ]
  },
  {
   "cell_type": "code",
   "execution_count": null,
   "id": "60c6d79e",
   "metadata": {},
   "outputs": [],
   "source": [
    "# plot top canonical correlations in a random batch\n",
    "fusor.plot_canonical_correlations(\n",
    "    svd_components1=40,\n",
    "    svd_components2=None,\n",
    "    cca_components=30\n",
    ");"
   ]
  },
  {
   "cell_type": "code",
   "execution_count": null,
   "id": "2a3d1aa5",
   "metadata": {},
   "outputs": [],
   "source": [
    "fusor.refine_pivots(\n",
    "    wt1=0.3, wt2=0.3,\n",
    "    svd_components1=40, svd_components2=None,\n",
    "    cca_components=25,\n",
    "    n_iters=1,\n",
    "    randomized_svd=False, \n",
    "    svd_runs=1,\n",
    "    verbose=True\n",
    ")"
   ]
  },
  {
   "cell_type": "code",
   "execution_count": null,
   "id": "54d8f901",
   "metadata": {},
   "outputs": [],
   "source": [
    "fusor.filter_bad_matches(target='pivot', filter_prop=0.5) # 50% recommended by tutorial for spatial data"
   ]
  },
  {
   "cell_type": "code",
   "execution_count": null,
   "id": "05694659",
   "metadata": {},
   "outputs": [],
   "source": [
    "# check performance based on cell type accuracy (pivot matching)\n",
    "pivot_matching = fusor.get_matching(order=(2, 1),target='pivot')\n",
    "\n",
    "lv1_acc = mf.metrics.get_matching_acc(matching=pivot_matching, \n",
    "    labels1=labels_rna, \n",
    "    labels2=labels_codex,\n",
    "    order = (2,1)\n",
    ")\n",
    "lv1_acc"
   ]
  },
  {
   "cell_type": "code",
   "execution_count": null,
   "id": "8e6d6902",
   "metadata": {},
   "outputs": [],
   "source": [
    "# We can inspect the first pivot pair.\n",
    "[pivot_matching[0][0], pivot_matching[1][0], pivot_matching[2][0]]"
   ]
  },
  {
   "cell_type": "code",
   "execution_count": null,
   "id": "8b730bb0",
   "metadata": {},
   "outputs": [],
   "source": [
    "cm = confusion_matrix(labels_rna[pivot_matching[0]], labels_codex[pivot_matching[1]])\n",
    "ConfusionMatrixDisplay(\n",
    "    confusion_matrix=np.round((cm.T/np.sum(cm, axis=1)).T*100), \n",
    "    display_labels=np.unique(labels_rna),\n",
    ").plot()"
   ]
  },
  {
   "cell_type": "markdown",
   "id": "7f1ba9ee",
   "metadata": {},
   "source": [
    "### step 4: propagation"
   ]
  },
  {
   "cell_type": "code",
   "execution_count": null,
   "id": "ab496959",
   "metadata": {},
   "outputs": [],
   "source": [
    "fusor.propagate(\n",
    "    svd_components1=40, \n",
    "    svd_components2=None, \n",
    "    wt1=0.7,\n",
    "    wt2=0.7,\n",
    ")"
   ]
  },
  {
   "cell_type": "code",
   "execution_count": null,
   "id": "056505e9",
   "metadata": {},
   "outputs": [],
   "source": [
    "fusor.filter_bad_matches(target='propagated',filter_prop=0.3) # recommended filter_prop between 0.1 - 0.4"
   ]
  },
  {
   "cell_type": "code",
   "execution_count": null,
   "id": "7f8cc78a",
   "metadata": {},
   "outputs": [],
   "source": [
    "full_matching = fusor.get_matching(order=(2, 1), target='full_data') # we want rna (1) to match with multiple codex (2), not other way around"
   ]
  },
  {
   "cell_type": "code",
   "execution_count": null,
   "id": "1dc5141e",
   "metadata": {},
   "outputs": [],
   "source": [
    "pd.DataFrame(list(zip(full_matching[0], full_matching[1], full_matching[2])), \n",
    "             columns = ['mod1_indx', 'mod2_indx', 'score'])\n",
    "# columns: cell idx in mod1, cell idx in mod2, and matching scores"
   ]
  },
  {
   "cell_type": "code",
   "execution_count": null,
   "id": "3568efb9",
   "metadata": {},
   "outputs": [],
   "source": [
    "# compute the cell type level matching accuracy, for the full (filtered version) dataset\n",
    "lv1_acc = mf.metrics.get_matching_acc(matching=full_matching, \n",
    "    labels1=labels_rna, \n",
    "    labels2=labels_codex \n",
    ")\n",
    "lv1_acc"
   ]
  },
  {
   "cell_type": "markdown",
   "id": "874d12e4",
   "metadata": {},
   "source": [
    "### step 5: downstream analysis (subsampled codex)"
   ]
  },
  {
   "cell_type": "code",
   "execution_count": null,
   "id": "e39c7e35",
   "metadata": {},
   "outputs": [],
   "source": [
    "# if adding other metadata\n",
    "codex_obs = sc.read_h5ad('codex_umap.h5ad').obs\n",
    "rna_obs = sc.read_h5ad('rna_umap.h5ad').obs"
   ]
  },
  {
   "cell_type": "code",
   "execution_count": null,
   "id": "1cbbc914",
   "metadata": {},
   "outputs": [],
   "source": [
    "display(codex_obs.columns)\n",
    "display(rna_obs.columns)"
   ]
  },
  {
   "cell_type": "code",
   "execution_count": null,
   "id": "8c166c45",
   "metadata": {},
   "outputs": [],
   "source": [
    "rna_cca, protein_cca_sub = fusor.get_embedding(\n",
    "    active_arr1=fusor.active_arr1,\n",
    "    active_arr2=fusor.active_arr2[full_matching[1],:] # cells in codex remained after filtering\n",
    ")"
   ]
  },
  {
   "cell_type": "code",
   "execution_count": null,
   "id": "789fe90e",
   "metadata": {},
   "outputs": [],
   "source": [
    "np.random.seed(42)\n",
    "subs = 13000 # subsample 13k CODEX cells\n",
    "randix = np.random.choice(protein_cca_sub.shape[0],subs, replace = False)\n",
    "\n",
    "dim_use = 20 # dimensions of the CCA embedding to be used for UMAP etc\n",
    "\n",
    "cca_adata = ad.AnnData(\n",
    "    np.concatenate((rna_cca[:,:dim_use], protein_cca_sub[randix,:dim_use]), axis=0), \n",
    "    dtype=np.float32\n",
    ")\n",
    "cca_adata.obs['data_type'] = ['rna'] * rna_cca.shape[0] + ['protein'] * subs\n",
    "cca_adata.obs['cell_type'] = list(np.concatenate((labels_rna,\n",
    "                                                  labels_codex[full_matching[1]][randix]), axis = 0))\n",
    "# add other metadata\n",
    "condition_rna = rna_obs['Sample'].values\n",
    "condition_codex = codex_obs['condition'].values\n",
    "cca_adata.obs['condition'] = list(np.concatenate((condition_rna,\n",
    "                                                  condition_codex[full_matching[1]][randix]), axis = 0))\n",
    "cca_adata.obs['condition'] = cca_adata.obs['condition'].replace({\n",
    "    'Control':'control',\n",
    "    'aPD1_aCTLA4':'treated', \n",
    "    'CONTROL':'control', \n",
    "    'ICT':'treated',\n",
    "})\n",
    "cca_adata.obs['condition'] = cca_adata.obs['condition'].astype('category')"
   ]
  },
  {
   "cell_type": "code",
   "execution_count": null,
   "id": "4b676388",
   "metadata": {},
   "outputs": [],
   "source": [
    "rna_shared"
   ]
  },
  {
   "cell_type": "code",
   "execution_count": null,
   "id": "4126a05b",
   "metadata": {},
   "outputs": [],
   "source": [
    "sc.pp.neighbors(cca_adata, n_neighbors=15)\n",
    "sc.tl.umap(cca_adata)\n",
    "sc.pl.umap(cca_adata, color='data_type')"
   ]
  },
  {
   "cell_type": "code",
   "execution_count": null,
   "id": "95cda468",
   "metadata": {},
   "outputs": [],
   "source": [
    "sc.pl.umap(cca_adata, color='cell_type')"
   ]
  },
  {
   "cell_type": "code",
   "execution_count": null,
   "id": "d8dcf4be",
   "metadata": {},
   "outputs": [],
   "source": [
    "sc.pl.umap(cca_adata[cca_adata.obs['data_type']=='protein'], color='cell_type', title='just protein')"
   ]
  },
  {
   "cell_type": "code",
   "execution_count": null,
   "id": "2ee91727",
   "metadata": {},
   "outputs": [],
   "source": [
    "sc.pl.umap(cca_adata[cca_adata.obs['data_type']=='rna'], color='cell_type', title='just rna')"
   ]
  },
  {
   "cell_type": "code",
   "execution_count": null,
   "id": "50ff17d5",
   "metadata": {},
   "outputs": [],
   "source": [
    "sc.pl.umap(cca_adata[cca_adata.obs['data_type']=='protein'], color='cell_type', groups=['neutrophils','cDC-1','IFN-gamma actv macs','T-reg'], title='just protein, sparse cell types')"
   ]
  },
  {
   "cell_type": "code",
   "execution_count": null,
   "id": "c907fc40",
   "metadata": {},
   "outputs": [],
   "source": [
    "sc.pl.umap(cca_adata[cca_adata.obs['data_type']=='rna'], color='cell_type', groups=['neutrophils','cDC-1','IFN-gamma actv macs','T-reg'], title='just rna, sparse cell types')"
   ]
  },
  {
   "cell_type": "markdown",
   "id": "e62feac7",
   "metadata": {
    "jp-MarkdownHeadingCollapsed": true
   },
   "source": [
    "### step 5: downstream analysis (full codex)"
   ]
  },
  {
   "cell_type": "code",
   "execution_count": null,
   "id": "1fd0888c",
   "metadata": {},
   "outputs": [],
   "source": [
    "rna_cca, protein_cca_full = fusor.get_embedding(\n",
    "    active_arr1=fusor.active_arr1,\n",
    "    active_arr2=fusor.active_arr2[full_matching[1],:] # cells in codex remained after filtering\n",
    ")"
   ]
  },
  {
   "cell_type": "code",
   "execution_count": null,
   "id": "cfc34c70",
   "metadata": {},
   "outputs": [],
   "source": [
    "# np.random.seed(42)\n",
    "# subs = 13000 # subsample 13k CODEX cells\n",
    "# randix = np.random.choice(protein_cca_sub.shape[0],subs, replace = False)\n",
    "\n",
    "dim_use = 15 # dimensions of the CCA embedding to be used for UMAP etc\n",
    "\n",
    "cca_adata_full = ad.AnnData(\n",
    "    np.concatenate((rna_cca[:,:dim_use], protein_cca_full[:,:dim_use]), axis=0), \n",
    "    dtype=np.float32\n",
    ")\n",
    "cca_adata_full.obs['data_type'] = ['rna'] * rna_cca.shape[0] + ['protein'] * protein_cca_full.shape[0]\n",
    "cca_adata_full.obs['cell_type'] = list(np.concatenate((labels_rna,\n",
    "                                                  labels_codex[full_matching[1]]), axis = 0))"
   ]
  },
  {
   "cell_type": "code",
   "execution_count": null,
   "id": "000a409c",
   "metadata": {},
   "outputs": [],
   "source": [
    "sc.pp.neighbors(cca_adata_full, n_neighbors=15)\n",
    "sc.tl.umap(cca_adata_full)\n",
    "sc.pl.umap(cca_adata_full, color='data_type')"
   ]
  },
  {
   "cell_type": "code",
   "execution_count": null,
   "id": "f37f33fa",
   "metadata": {},
   "outputs": [],
   "source": [
    "sc.pl.umap(cca_adata_full, color='cell_type')"
   ]
  },
  {
   "cell_type": "code",
   "execution_count": null,
   "id": "ccdbda0a",
   "metadata": {},
   "outputs": [],
   "source": [
    "sc.pl.umap(cca_adata_full[cca_adata_full.obs['data_type']=='protein'], color='cell_type', title='just protein')"
   ]
  },
  {
   "cell_type": "code",
   "execution_count": null,
   "id": "6ed6a70a",
   "metadata": {},
   "outputs": [],
   "source": [
    "sc.pl.umap(cca_adata_full[cca_adata_full.obs['data_type']=='rna'], color='cell_type', title='just rna')"
   ]
  },
  {
   "cell_type": "code",
   "execution_count": null,
   "id": "6bb58d84",
   "metadata": {},
   "outputs": [],
   "source": [
    "sc.pl.umap(cca_adata_full[cca_adata_full.obs['data_type']=='protein'], color='cell_type', groups=['neutrophils','cDC-1','IFN-gamma actv macs'], title='just protein, sparse cell types')"
   ]
  },
  {
   "cell_type": "code",
   "execution_count": null,
   "id": "08db2b26",
   "metadata": {},
   "outputs": [],
   "source": [
    "sc.pl.umap(cca_adata_full[cca_adata_full.obs['data_type']=='rna'], color='cell_type', groups=['neutrophils','cDC-1','IFN-gamma actv macs'], title='just rna, sparse cell types')"
   ]
  },
  {
   "cell_type": "markdown",
   "id": "64d461fa",
   "metadata": {},
   "source": [
    "# explore CN information on merged data"
   ]
  },
  {
   "cell_type": "code",
   "execution_count": null,
   "id": "50bf592c",
   "metadata": {},
   "outputs": [],
   "source": [
    "cca_adata.obs['CN'] = list(np.concatenate((np.full_like(labels_rna, 'na (RNA)'),\n",
    "                                            codex.obs['CN'].values[full_matching[1]][randix]), \n",
    "                                            axis = 0))\n",
    "cca_adata.obs.head()"
   ]
  },
  {
   "cell_type": "code",
   "execution_count": null,
   "id": "2b6ca090",
   "metadata": {},
   "outputs": [],
   "source": [
    "sc.pl.umap(cca_adata, color='cell_type', title='rna+protein')"
   ]
  },
  {
   "cell_type": "code",
   "execution_count": null,
   "id": "4a87b4de",
   "metadata": {},
   "outputs": [],
   "source": [
    "sc.pl.umap(cca_adata, color='CN')"
   ]
  },
  {
   "cell_type": "code",
   "execution_count": null,
   "id": "62c0e7a4",
   "metadata": {},
   "outputs": [],
   "source": [
    "sc.pl.umap(cca_adata[cca_adata.obs['data_type']=='protein'], color='CN', title='just protein')"
   ]
  },
  {
   "cell_type": "code",
   "execution_count": null,
   "id": "c1a874c8",
   "metadata": {},
   "outputs": [],
   "source": [
    "protein = cca_adata[cca_adata.obs['data_type']=='protein']\n",
    "sc.tl.embedding_density(protein, groupby='CN')"
   ]
  },
  {
   "cell_type": "code",
   "execution_count": null,
   "id": "63cb1871",
   "metadata": {},
   "outputs": [],
   "source": [
    "sc.pl.umap(cca_adata[cca_adata.obs['data_type']=='rna'], color='cell_type', title='rna only')"
   ]
  },
  {
   "cell_type": "code",
   "execution_count": null,
   "id": "258f6c8f",
   "metadata": {},
   "outputs": [],
   "source": [
    "sc.pl.umap(protein, color='cell_type', title='protein only')"
   ]
  },
  {
   "cell_type": "code",
   "execution_count": null,
   "id": "a354d64c",
   "metadata": {},
   "outputs": [],
   "source": [
    "sc.pl.umap(protein, color='cell_type', groups=['T-reg','cd4+ T cells','cd8+T cells'])"
   ]
  },
  {
   "cell_type": "code",
   "execution_count": null,
   "id": "67f7e3a6",
   "metadata": {},
   "outputs": [],
   "source": [
    "sc.pl.embedding_density(protein, groupby='CN', ncols=2)"
   ]
  },
  {
   "cell_type": "code",
   "execution_count": null,
   "id": "60d05d47",
   "metadata": {},
   "outputs": [],
   "source": [
    "sc.pl.umap(cca_adata, color='condition')"
   ]
  },
  {
   "cell_type": "markdown",
   "id": "12ace5dd",
   "metadata": {},
   "source": [
    "## find centroids for each cell type in each CN"
   ]
  },
  {
   "cell_type": "code",
   "execution_count": null,
   "id": "2e347b83",
   "metadata": {},
   "outputs": [],
   "source": [
    "# full matching gives the links between modalities: mod1=RNA, mod2=CODEX. RNA can map to multiple CODEX\n",
    "pd.DataFrame(list(zip(full_matching[0], full_matching[1], full_matching[2])), \n",
    "             columns = ['mod1_indx', 'mod2_indx', 'score'])"
   ]
  },
  {
   "cell_type": "code",
   "execution_count": null,
   "id": "d824a036",
   "metadata": {},
   "outputs": [],
   "source": [
    "# rna indices 0 through 5545, codex indices 5546 through 18545\n",
    "cca_adata"
   ]
  },
  {
   "cell_type": "code",
   "execution_count": null,
   "id": "78ba8f4e",
   "metadata": {},
   "outputs": [],
   "source": [
    "for ct in protein.obs['cell_type'].unique():\n",
    "    sc.pl.umap(protein, color='cell_type', groups=[ct])"
   ]
  },
  {
   "cell_type": "code",
   "execution_count": null,
   "id": "6ec621c7",
   "metadata": {},
   "outputs": [],
   "source": [
    "# from visual inspection, drop cell_types from CNs that don't have much representation\n",
    "\n",
    "cn_map = {\n",
    "    'CN1':'CN1 Tumor Boundary',\n",
    "    'CN2':'CN2 Tumor Bulk',\n",
    "    'CN3':'CN3 Neutrophils + Dead cells',\n",
    "    'CN4':'CN4 CX3CR1+ Macrophage',\n",
    "    'CN5':'CN5 Dead Cells Center',\n",
    "    'CN6':'CN6 Lymphoid Rich',\n",
    "    'CN7':'CN7 INOS+ and IFN-g Actv Macs',\n",
    "}\n",
    "cn_map = dict((v,k) for k,v in cn_map.items()) # flip the dict\n",
    "\n",
    "drop = {\n",
    "    'T-reg': ['CN3','CN5',], # CN3, CN5\n",
    "    'cx3cr1+ macs': ['CN3','CN5',], # CN5 \n",
    "    'cd206+ macs': ['CN5',], # CN5 \n",
    "    'cd8+T cells': ['CN5',], # CN5\n",
    "    'IFN-gamma actv macs': ['CN5',], # CN5\n",
    "    'inos+ macrophages': ['CN5',], # CN5 \n",
    "    'cd4+ T cells': ['CN5',], # CN5\n",
    "    'nk cells': ['CN3','CN5',], # CN3, CN5\n",
    "    'cDC-1': ['CN3','CN5',], # CN3, CN5\n",
    "    'neutrophils': ['CN1','CN2','CN4','CN6','CN7'], # all but CN3, CN5\n",
    "}"
   ]
  },
  {
   "cell_type": "code",
   "execution_count": null,
   "id": "21149df9",
   "metadata": {},
   "outputs": [],
   "source": [
    "# calculate centroid using protein data\n",
    "protein.obs['cn'] = protein.obs['CN'].replace(cn_map)\n",
    "protein.obs['ct_cn'] = protein.obs['cell_type'].astype('str') + ' ' + protein.obs['cn'].astype('str')\n",
    "protein.obs['ct_cn'] = protein.obs['ct_cn'].astype('category')\n",
    "protein.obs['ct_cn_i'] = protein.obs['ct_cn'].cat.codes\n",
    "\n",
    "centroids = mf.utils.get_centroids(protein.X, protein.obs['ct_cn_i'])\n",
    "centroids = pd.DataFrame(centroids)"
   ]
  },
  {
   "cell_type": "code",
   "execution_count": null,
   "id": "659619af",
   "metadata": {},
   "outputs": [],
   "source": [
    "tmp = protein.obs[['ct_cn','ct_cn_i']].copy().drop_duplicates()\n",
    "tmp.index = tmp['ct_cn_i']\n",
    "tmp.sort_index(inplace=True)\n",
    "tmp.drop(columns='ct_cn_i', inplace=True)"
   ]
  },
  {
   "cell_type": "code",
   "execution_count": null,
   "id": "1d308f63",
   "metadata": {},
   "outputs": [],
   "source": [
    "centroids['ct_cn'] = tmp['ct_cn']\n",
    "centroids.set_index('ct_cn', inplace=True)\n",
    "centroids.head()"
   ]
  },
  {
   "cell_type": "markdown",
   "id": "ee5e36bd",
   "metadata": {},
   "source": [
    "## redo UMAP with cell_type/CN centroids visualized"
   ]
  },
  {
   "cell_type": "code",
   "execution_count": null,
   "id": "05e068fb",
   "metadata": {},
   "outputs": [],
   "source": [
    "centroids_copy = centroids.copy()"
   ]
  },
  {
   "cell_type": "code",
   "execution_count": null,
   "id": "4a3f9e5a",
   "metadata": {},
   "outputs": [],
   "source": [
    "centroids = ad.AnnData(centroids_copy)\n",
    "centroids.obs['data_type'] = 'centroids'\n",
    "centroids.obs['centroid'] = centroids.obs.index.astype('str') + ' centroid'\n",
    "centroids.obs['cell_type'] = centroids.obs['centroid'].str.split(' CN', expand=True)[0]\n",
    "centroids.obs['CN'] = centroids.obs['centroid'].str.split('CN', expand=True)[1]\n",
    "centroids.obs['CN'] = 'CN' + centroids.obs['CN'].str.split(' ', expand=True)[0]"
   ]
  },
  {
   "cell_type": "code",
   "execution_count": null,
   "id": "70643efa",
   "metadata": {},
   "outputs": [],
   "source": [
    "cca_adata.obs['centroid'] = 'NA'"
   ]
  },
  {
   "cell_type": "code",
   "execution_count": null,
   "id": "31b75cf5",
   "metadata": {},
   "outputs": [],
   "source": [
    "cca_adata_centroids = ad.concat([cca_adata, centroids])\n",
    "cca_adata_centroids"
   ]
  },
  {
   "cell_type": "code",
   "execution_count": null,
   "id": "1c0e2313",
   "metadata": {},
   "outputs": [],
   "source": [
    "sc.pp.neighbors(cca_adata_centroids, n_neighbors=15)\n",
    "sc.tl.umap(cca_adata_centroids)\n",
    "sc.pl.umap(cca_adata_centroids, color='data_type')"
   ]
  },
  {
   "cell_type": "code",
   "execution_count": null,
   "id": "020b2880",
   "metadata": {},
   "outputs": [],
   "source": [
    "centroids = cca_adata_centroids[cca_adata_centroids.obs['data_type']=='centroids']\n",
    "cca_adata = cca_adata_centroids[cca_adata_centroids.obs['data_type']!='centroids']\n",
    "protein = cca_adata_centroids[cca_adata_centroids.obs['data_type']=='protein']\n",
    "rna = cca_adata_centroids[cca_adata_centroids.obs['data_type']=='rna']"
   ]
  },
  {
   "cell_type": "code",
   "execution_count": null,
   "id": "f1ac3311",
   "metadata": {},
   "outputs": [],
   "source": [
    "sc.pl.umap(cca_adata, color='cell_type')\n",
    "sc.pl.umap(cca_adata, color='CN', groups = sorted(cca_adata.obs['CN'].unique())[:-1])"
   ]
  },
  {
   "cell_type": "code",
   "execution_count": null,
   "id": "4fa8c1aa",
   "metadata": {},
   "outputs": [],
   "source": [
    "sc.pl.umap(protein, color='cell_type', title='just protein')\n"
   ]
  },
  {
   "cell_type": "code",
   "execution_count": null,
   "id": "e5dae163",
   "metadata": {},
   "outputs": [],
   "source": [
    "sc.pl.umap(rna, color='cell_type', title='just rna')"
   ]
  },
  {
   "cell_type": "code",
   "execution_count": null,
   "id": "1cd1c5cb",
   "metadata": {},
   "outputs": [],
   "source": [
    "centroids_plot = centroids.obs[['cell_type','CN','centroid']]\n",
    "centroids_plot['UMAP1'] = np.array(centroids.obsm['X_umap'][:,0])\n",
    "centroids_plot['UMAP2'] = np.array(centroids.obsm['X_umap'][:,1])\n",
    "centroids_plot['color'] = centroids_plot['CN'].replace({\n",
    "    'CN1': '#ff7f0e', \n",
    "    'CN2': '#d62728', \n",
    "    'CN3': '#8c564b', \n",
    "    'CN4': '#b5bd61', \n",
    "    'CN5': '#aec7e8', \n",
    "    'CN6': '#98df8a', \n",
    "    'CN7': '#c5b0d5',\n",
    "})\n",
    "centroids_plot"
   ]
  },
  {
   "cell_type": "code",
   "execution_count": null,
   "id": "9068eb19",
   "metadata": {},
   "outputs": [],
   "source": [
    "import matplotlib.pyplot as plt\n",
    "import matplotlib.colors as mcolors\n",
    "from matplotlib import rcParams\n",
    "\n",
    "for ct in cca_adata.obs['cell_type'].unique():\n",
    "    fig, ax = plt.subplots(figsize=(8, 6))\n",
    "    sc.pl.umap(cca_adata, color='cell_type', groups = [ct], ax=ax, title=ct+' CN centroids', legend_loc=False, show=False)\n",
    "    plt.scatter(x=centroids_plot.loc[centroids_plot['cell_type']==ct,'UMAP1'], \n",
    "                y=centroids_plot.loc[centroids_plot['cell_type']==ct,'UMAP2'],\n",
    "                color = centroids_plot.loc[centroids_plot['cell_type']==ct,'color'],\n",
    "                marker='*', s=200)"
   ]
  },
  {
   "cell_type": "code",
   "execution_count": null,
   "id": "b5c0c4e3",
   "metadata": {},
   "outputs": [],
   "source": [
    "# uncomment this block to add condition metadata back (should be done above)\n",
    "\n",
    "# condition_rna = rna_obs['Sample'].values\n",
    "# condition_codex = codex_obs['condition'].values\n",
    "# condition_array = list(np.concatenate((condition_rna, condition_codex[full_matching[1]][randix], ['NA'] * centroids.shape[0]), axis = 0))\n",
    "# cca_adata_centroids.obs['condition'] = condition_array\n",
    "# cca_adata_centroids.obs['condition'] = cca_adata_centroids.obs['condition'].replace({\n",
    "#     'Control':'control',\n",
    "#     'aPD1_aCTLA4':'treated', \n",
    "#     'CONTROL':'control', \n",
    "#     'ICT':'treated',\n",
    "#     'NA' : 'NA',\n",
    "# })\n",
    "# cca_adata_centroids.obs['condition'] = cca_adata_centroids.obs['condition'].astype('category')\n",
    "# \n",
    "# centroids = cca_adata_centroids[cca_adata_centroids.obs['data_type']=='centroids']\n",
    "# cca_adata = cca_adata_centroids[cca_adata_centroids.obs['data_type']!='centroids']\n",
    "# protein = cca_adata_centroids[cca_adata_centroids.obs['data_type']=='protein']\n",
    "# rna = cca_adata_centroids[cca_adata_centroids.obs['data_type']=='rna']\n",
    "# rna_centroids = cca_adata_centroids[cca_adata_centroids.obs['data_type']!='protein']"
   ]
  },
  {
   "cell_type": "code",
   "execution_count": null,
   "id": "61745abe",
   "metadata": {},
   "outputs": [],
   "source": [
    "sc.pl.umap(cca_adata, color='condition')"
   ]
  },
  {
   "cell_type": "code",
   "execution_count": null,
   "id": "286d3aa6",
   "metadata": {},
   "outputs": [],
   "source": [
    "# cca_adata_centroids.write_h5ad('cca_adata_centroids.h5ad')"
   ]
  },
  {
   "cell_type": "markdown",
   "id": "51d33752",
   "metadata": {},
   "source": [
    "## find scRNA-seq nearest to cell_type/CN centroids\n",
    "\n",
    "do it for treated and untreated separately"
   ]
  },
  {
   "cell_type": "code",
   "execution_count": null,
   "id": "164e9d18",
   "metadata": {},
   "outputs": [],
   "source": [
    "# cca_adata_centroids = sc.read_h5ad('cca_adata_centroids.h5ad')\n",
    "\n",
    "# centroids = cca_adata_centroids[cca_adata_centroids.obs['data_type']=='centroids']\n",
    "# cca_adata = cca_adata_centroids[cca_adata_centroids.obs['data_type']!='centroids']\n",
    "# protein = cca_adata_centroids[cca_adata_centroids.obs['data_type']=='protein']\n",
    "# rna = cca_adata_centroids[cca_adata_centroids.obs['data_type']=='rna']\n",
    "# rna_centroids = cca_adata_centroids[cca_adata_centroids.obs['data_type']!='protein']"
   ]
  },
  {
   "cell_type": "code",
   "execution_count": null,
   "id": "fac9ca4a",
   "metadata": {},
   "outputs": [],
   "source": [
    "treated = rna_centroids[rna_centroids.obs['condition'].isin(['treated','NA'])]\n",
    "untreated = rna_centroids[rna_centroids.obs['condition'].isin(['control','NA'])]"
   ]
  },
  {
   "cell_type": "code",
   "execution_count": null,
   "id": "1c4a4d1a",
   "metadata": {},
   "outputs": [],
   "source": [
    "# for each ct/cn combination, subset the cell_type, construct NN graph, grab column of distances to centroid, sort and take top 100 (or as many) and those are repesentative single-cells for that ct/cn, for treated and untreated\n",
    "CUTOFF = 50\n",
    "treated_ct_cns = {}\n",
    "untreated_ct_cns = {}\n",
    "for ct in rna_centroids.obs['cell_type'].unique():\n",
    "    treated_ct_cns[ct] = []\n",
    "    untreated_ct_cns[ct] = []\n",
    "    for cn in ['CN1', 'CN2', 'CN3', 'CN4', 'CN5', 'CN6', 'CN7']:\n",
    "        if cn in drop[ct]: # skip the ones that don't have great CN representation\n",
    "            continue\n",
    "        print('ct:', ct, '| cn:', cn)\n",
    "        # do it first for treated\n",
    "        subset = treated[(treated.obs['cell_type']==ct) & \\\n",
    "                               (treated.obs['CN'].isin([cn,'na (RNA)']))].copy()\n",
    "        sc.pp.neighbors(subset, n_neighbors = subset.shape[0]) # connect full neighborhood graph\n",
    "        cells = list(subset.obs.index) # grab cell names\n",
    "        nn = pd.DataFrame(subset.obsp['connectivities'].todense(), index=cells, columns=cells)\n",
    "        cells.remove(ct+' '+cn) # remove centroid\n",
    "        nn = nn.loc[[ct+' '+cn],cells].T\n",
    "        nn = nn.sort_values(by=ct+' '+cn, ascending=False)\n",
    "        cutoff = CUTOFF\n",
    "        if nn.shape[0]<100:\n",
    "            cutoff = nn.shape[0]\n",
    "            print('<100 NNs...finding', cutoff, 'NNs')\n",
    "        nn = nn.iloc[:max(nn.shape[0],cutoff)] # either top 100 or however many are in the dataset\n",
    "        nn = nn.loc[nn[ct+' '+cn]>0] # must have connectivity > 0 (this shouldn't matter I think)\n",
    "        cca_adata_centroids.obs['nn treated '+ct+' '+cn] = False\n",
    "        cca_adata_centroids.obs.loc[nn.index, 'nn treated '+ct+' '+cn] = True\n",
    "        treated_ct_cns[ct].append('nn treated '+ct+' '+cn)\n",
    "        # then do it again for untreated\n",
    "        subset = untreated[(untreated.obs['cell_type']==ct) & \\\n",
    "                               (untreated.obs['CN'].isin([cn,'na (RNA)']))].copy()\n",
    "        sc.pp.neighbors(subset, n_neighbors = subset.shape[0]) # connect full neighborhood graph\n",
    "        cells = list(subset.obs.index) # grab cell names\n",
    "        nn = pd.DataFrame(subset.obsp['connectivities'].todense(), index=cells, columns=cells)\n",
    "        cells.remove(ct+' '+cn) # remove centroid\n",
    "        nn = nn.loc[[ct+' '+cn],cells].T\n",
    "        nn = nn.sort_values(by=ct+' '+cn, ascending=False)\n",
    "        cutoff = CUTOFF\n",
    "        if nn.shape[0]<100:\n",
    "            cutoff = nn.shape[0]\n",
    "            print('<100 NNs...finding', cutoff, 'NNs')\n",
    "        nn = nn.iloc[:max(nn.shape[0],cutoff)] # either top 100 or however many are in the dataset\n",
    "        nn = nn.loc[nn[ct+' '+cn]>0] # must have connectivity > 0 (this shouldn't matter I think)\n",
    "        cca_adata_centroids.obs['nn untreated '+ct+' '+cn] = False\n",
    "        cca_adata_centroids.obs.loc[nn.index, 'nn untreated '+ct+' '+cn] = True\n",
    "        untreated_ct_cns[ct].append('nn untreated '+ct+' '+cn)\n",
    "\n",
    "cca_adata_centroids.obs"
   ]
  },
  {
   "cell_type": "code",
   "execution_count": null,
   "id": "ad20b25a",
   "metadata": {},
   "outputs": [],
   "source": [
    "for ct in treated_ct_cns:\n",
    "    sc.pl.umap(cca_adata_centroids, color=treated_ct_cns[ct] + untreated_ct_cns[ct], ncols=5, legend_loc=False)"
   ]
  },
  {
   "cell_type": "code",
   "execution_count": null,
   "id": "94903dd1",
   "metadata": {},
   "outputs": [],
   "source": [
    "cca_adata_centroids.write_h5ad('cca_')"
   ]
  }
 ],
 "metadata": {
  "kernelspec": {
   "display_name": "Python 3 (ipykernel)",
   "language": "python",
   "name": "python3"
  },
  "language_info": {
   "codemirror_mode": {
    "name": "ipython",
    "version": 3
   },
   "file_extension": ".py",
   "mimetype": "text/x-python",
   "name": "python",
   "nbconvert_exporter": "python",
   "pygments_lexer": "ipython3",
   "version": "3.9.19"
  }
 },
 "nbformat": 4,
 "nbformat_minor": 5
}
