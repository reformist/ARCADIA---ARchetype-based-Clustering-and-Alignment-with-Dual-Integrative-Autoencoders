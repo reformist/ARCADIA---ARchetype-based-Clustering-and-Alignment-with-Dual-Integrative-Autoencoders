{
 "cells": [
  {
   "cell_type": "code",
   "execution_count": null,
   "id": "46032ec3",
   "metadata": {
    "ExecuteTime": {
     "end_time": "2024-10-15T02:14:38.780853Z",
     "start_time": "2024-10-15T02:14:38.777340Z"
    }
   },
   "outputs": [],
   "source": [
    "# ! pip install --user scikit-misc\n",
    "import warnings\n",
    "\n",
    "import xgboost as xgb\n",
    "from sklearn.model_selection import train_test_split\n",
    "\n",
    "warnings.simplefilter(action='ignore', )\n",
    "warnings.simplefilter(action='ignore', )\n",
    "import pandas as pd\n",
    "import scanpy as sc\n",
    "import anndata as ad\n",
    "import seaborn as sns\n",
    "import maxfuse as mf\n",
    "import anndata\n",
    "import hdbscan\n",
    "from scipy.cluster.hierarchy import cut_tree\n",
    "from sklearn.metrics import silhouette_score, calinski_harabasz_score, davies_bouldin_score, f1_score\n",
    "from sklearn.mixture import GaussianMixture\n",
    "from sklearn.metrics import adjusted_mutual_info_score\n",
    "import numpy as np\n",
    "import matplotlib.pyplot as plt\n",
    "from scipy.io import mmread\n",
    "from scipy import sparse\n",
    "from sklearn.metrics import confusion_matrix, ConfusionMatrixDisplay\n",
    "\n",
    "pd.set_option('display.max_rows', 10)  # Display only 10 rows\n",
    "pd.set_option('display.max_columns', 5)  # Display only 5 columns\n",
    "\n",
    "# setup and load datasets (only run once)\n",
    "## CODEX"
   ]
  },
  {
   "cell_type": "code",
   "execution_count": null,
   "id": "16336acb",
   "metadata": {
    "ExecuteTime": {
     "end_time": "2024-10-15T02:14:41.165568Z",
     "start_time": "2024-10-15T02:14:38.822829Z"
    }
   },
   "outputs": [],
   "source": [
    "codex = sc.read(filename=\"/home/barroz/projects/Columbia/STAT_ML_GEN/project/codex_codex_cn_tumor.h5ad\")\n",
    "# sc.pp.subsample(codex, fraction=0.03)\n",
    "rna = sc.read(filename=\"/home/barroz/projects/Columbia/STAT_ML_GEN/project/scRNA-seq_rna_umap.h5ad\")\n",
    "# sc.pp.subsample(rna, fraction=0.3)\n"
   ]
  },
  {
   "cell_type": "code",
   "execution_count": null,
   "id": "79785738",
   "metadata": {
    "ExecuteTime": {
     "end_time": "2024-10-15T02:14:41.207532Z",
     "start_time": "2024-10-15T02:14:41.202204Z"
    }
   },
   "outputs": [],
   "source": [
    "adata_obs = codex  #sc.read_h5ad('codex.h5ad').obs\n",
    "adata_obs = codex.obs\n",
    "\n",
    "adata_obs.head()"
   ]
  },
  {
   "cell_type": "code",
   "execution_count": null,
   "id": "5452661c",
   "metadata": {
    "ExecuteTime": {
     "end_time": "2024-10-15T02:14:41.340774Z",
     "start_time": "2024-10-15T02:14:41.337817Z"
    }
   },
   "outputs": [],
   "source": [
    "# map neighborhood information (indices should match)\n",
    "codex.obs['CN'] = adata_obs['neighborhood']"
   ]
  },
  {
   "cell_type": "code",
   "execution_count": null,
   "id": "6e16bda9",
   "metadata": {
    "ExecuteTime": {
     "end_time": "2024-10-15T02:14:41.581141Z",
     "start_time": "2024-10-15T02:14:41.360624Z"
    }
   },
   "outputs": [],
   "source": [
    "# FIX THIS\n",
    "codex.obs['CN'] = codex.obs['CN'].replace({\n",
    "    1: 'CN1 Tumor Boundary',\n",
    "    2: 'CN2 Tumor Bulk',\n",
    "    3: 'CN3 Neutrophils + Dead cells',\n",
    "    4: 'CN4 CX3CR1+ Macrophage',\n",
    "    5: 'CN5 Dead Cells Center',\n",
    "    6: 'CN6 Lymphoid Rich',\n",
    "    7: 'CN7 INOS+ and IFN-g Actv Macs',\n",
    "}).astype('category')"
   ]
  },
  {
   "cell_type": "code",
   "execution_count": null,
   "id": "46f8495c",
   "metadata": {
    "ExecuteTime": {
     "end_time": "2024-10-15T02:14:41.833351Z",
     "start_time": "2024-10-15T02:14:41.605956Z"
    }
   },
   "outputs": [],
   "source": [
    "rna.var['mf_features'] = \\\n",
    "sc.pp.highly_variable_genes(rna, n_top_genes=2000, batch_key=None, flavor='seurat_v3', layer='counts', inplace=False)[\n",
    "    'highly_variable']"
   ]
  },
  {
   "cell_type": "code",
   "execution_count": null,
   "id": "c86cd903",
   "metadata": {
    "ExecuteTime": {
     "end_time": "2024-10-15T02:14:42.378137Z",
     "start_time": "2024-10-15T02:14:41.837329Z"
    }
   },
   "outputs": [],
   "source": [
    "sc.tl.rank_genes_groups(rna, groupby='new_annotation', method='t-test')\n"
   ]
  },
  {
   "cell_type": "code",
   "execution_count": null,
   "id": "a901aff1",
   "metadata": {
    "ExecuteTime": {
     "end_time": "2024-10-15T02:14:42.618271Z",
     "start_time": "2024-10-15T02:14:42.493705Z"
    }
   },
   "outputs": [],
   "source": [
    "print(np.sum(rna.var['mf_features']))\n",
    "for ct in rna.obs['new_annotation'].unique():\n",
    "    degs = sc.get.rank_genes_groups_df(rna, group=ct).iloc[:100, 0].values\n",
    "    rna.var.loc[rna.var.index.isin(degs), 'mf_features'] = True\n",
    "print(np.sum(rna.var['mf_features']))"
   ]
  },
  {
   "cell_type": "code",
   "execution_count": null,
   "id": "200c5ae2",
   "metadata": {
    "ExecuteTime": {
     "end_time": "2024-10-15T02:14:44.342896Z",
     "start_time": "2024-10-15T02:14:42.720680Z"
    }
   },
   "outputs": [],
   "source": [
    "ax = sns.histplot(codex.obs, x='condition', hue='cell_type', multiple='stack', legend=False)\n",
    "for container in ax.containers:\n",
    "    ax.bar_label(container, label_type='center')"
   ]
  },
  {
   "cell_type": "code",
   "execution_count": null,
   "id": "4ed6a673",
   "metadata": {
    "ExecuteTime": {
     "end_time": "2024-10-15T02:14:46.316389Z",
     "start_time": "2024-10-15T02:14:44.447271Z"
    }
   },
   "outputs": [],
   "source": [
    "plt.subplots(figsize=(12, 6))\n",
    "ax = sns.histplot(codex.obs, x='Image', hue='cell_type', multiple='stack', legend=False)\n",
    "for container in ax.containers:\n",
    "    ax.bar_label(container, label_type='center')\n",
    "plt.xticks(rotation=90);"
   ]
  },
  {
   "cell_type": "code",
   "execution_count": null,
   "id": "8237ab7d",
   "metadata": {
    "ExecuteTime": {
     "end_time": "2024-10-15T02:14:46.591249Z",
     "start_time": "2024-10-15T02:14:46.421368Z"
    }
   },
   "outputs": [],
   "source": [
    "ax = sns.histplot(rna.obs, x='Sample', hue='new_annotation', multiple='stack', legend=False)\n",
    "for container in ax.containers:\n",
    "    ax.bar_label(container, label_type='center')"
   ]
  },
  {
   "cell_type": "code",
   "execution_count": null,
   "id": "78abd5f6",
   "metadata": {
    "ExecuteTime": {
     "end_time": "2024-10-15T02:14:46.697615Z",
     "start_time": "2024-10-15T02:14:46.694180Z"
    }
   },
   "outputs": [],
   "source": [
    "# from maxfuse repo\n",
    "conversion = pd.read_csv('data/protein_gene_conversion.csv', index_col=0)\n"
   ]
  },
  {
   "cell_type": "code",
   "execution_count": null,
   "id": "314b6282",
   "metadata": {
    "ExecuteTime": {
     "end_time": "2024-10-15T02:14:46.813314Z",
     "start_time": "2024-10-15T02:14:46.801745Z"
    }
   },
   "outputs": [],
   "source": [
    "h_m_map = pd.read_csv('data/human2mouse.txt', sep='\\t', index_col=0)\n",
    "h_m_map.reset_index(inplace=True)"
   ]
  },
  {
   "cell_type": "code",
   "execution_count": null,
   "id": "473cbb2a",
   "metadata": {
    "ExecuteTime": {
     "end_time": "2024-10-15T02:14:46.917991Z",
     "start_time": "2024-10-15T02:14:46.915464Z"
    }
   },
   "outputs": [],
   "source": [
    "found_rna = []\n",
    "not_found = []\n",
    "for gene in codex.var_names:\n",
    "    if gene.capitalize() in rna.var_names:\n",
    "        found_rna.append(gene.capitalize())\n",
    "    else:\n",
    "        not_found.append(gene.capitalize())"
   ]
  },
  {
   "cell_type": "code",
   "execution_count": null,
   "id": "8e4fa78f",
   "metadata": {
    "ExecuteTime": {
     "end_time": "2024-10-15T02:14:47.033151Z",
     "start_time": "2024-10-15T02:14:47.026256Z"
    }
   },
   "outputs": [],
   "source": [
    "\n",
    "found_h_m_map = []\n",
    "for i, gene in enumerate(not_found):\n",
    "    if gene.capitalize() in h_m_map['Mouse'].values:\n",
    "        found_h_m_map.append(gene.capitalize())\n",
    "        not_found.pop(i)"
   ]
  },
  {
   "cell_type": "code",
   "execution_count": null,
   "id": "f6d980f9",
   "metadata": {
    "ExecuteTime": {
     "end_time": "2024-10-15T02:14:47.146654Z",
     "start_time": "2024-10-15T02:14:47.143906Z"
    }
   },
   "outputs": [],
   "source": [
    "found_protein_conversion = []\n",
    "for i, gene in enumerate(not_found):\n",
    "    if gene in conversion.index.values:\n",
    "        found_protein_conversion.append(gene + ':' + conversion.loc[gene, 'RNA name'])\n",
    "        not_found.pop(i)"
   ]
  },
  {
   "cell_type": "code",
   "execution_count": null,
   "id": "8b98d02f",
   "metadata": {
    "ExecuteTime": {
     "end_time": "2024-10-15T02:14:47.257471Z",
     "start_time": "2024-10-15T02:14:47.254345Z"
    }
   },
   "outputs": [],
   "source": [
    "found_protein_conversion2 = []\n",
    "for i, gene in enumerate(not_found):\n",
    "    if gene.upper() in conversion.index.values:\n",
    "        found_protein_conversion2.append(gene + ':' + conversion.loc[gene.upper(), 'RNA name'])\n",
    "        not_found.pop(i)"
   ]
  },
  {
   "cell_type": "code",
   "execution_count": null,
   "id": "f31b11c2",
   "metadata": {
    "ExecuteTime": {
     "end_time": "2024-10-15T02:14:47.367936Z",
     "start_time": "2024-10-15T02:14:47.365680Z"
    }
   },
   "outputs": [],
   "source": [
    "print('found in rna:', found_rna)\n",
    "print('needs human mapping:', found_h_m_map)\n",
    "print('found_protein_conversion', found_protein_conversion)\n",
    "print('found_protein_conversion2', found_protein_conversion2)\n",
    "print(not_found)"
   ]
  },
  {
   "cell_type": "code",
   "execution_count": null,
   "id": "6469cc00",
   "metadata": {
    "ExecuteTime": {
     "end_time": "2024-10-15T02:14:47.479834Z",
     "start_time": "2024-10-15T02:14:47.476846Z"
    }
   },
   "outputs": [],
   "source": [
    "protein_mapping = {\n",
    "    'cd103': 'Itgae',\n",
    "    'ki67': 'Mki67',\n",
    "    'foxp3': 'Foxp3',\n",
    "    'cd140': 'Pdgfra',  # CD140 protein same as PDGFRA gene? \n",
    "    'cx3cr1': 'Cx3cr1',\n",
    "    'cd3': 'Cd3d',  # or Cd3e or Cd3g \n",
    "    'cd8': 'Cd8b1',  # or Cd8a\n",
    "    'nkp46': 'Ncr1',  # NKP46 protein same as NCR1 gene?\n",
    "    'tim 3': 'Havcr2',  # TIM3 protein same as HAVCR2 gene?  \n",
    "    'xcr1': 'Xcr1',\n",
    "    'sirp-alpha': 'Sirpa',\n",
    "    'gzmB': 'Gzmb',\n",
    "    'pd1': 'Pdcd1',\n",
    "    'cd206': 'Mrc1',\n",
    "    'cd4': 'Cd4',\n",
    "    'caspase 3': 'Casp3',\n",
    "    'cd45': 'Ptprc',  # or Ptprcap\n",
    "    'Lag3': 'Lag3',\n",
    "    'cd64': 'Fcgr1',\n",
    "    'f4-80': 'Adgre1',\n",
    "    'cd38': 'Cd38',\n",
    "    'cd31': 'Pecam1',\n",
    "    'cd11c': 'Itgax',\n",
    "    'cd24': 'Cd24a',\n",
    "    'inos': 'Nos2',\n",
    "    'cd11b': 'Itgam',\n",
    "    'ly6G': 'Ly6g',\n",
    "    'cd90': 'Thy1',\n",
    "    'mhcii': None,\n",
    "    # composed of HLA-DPA1, HLA-DPB1, HLA-DQA1, HLA-DQB1, HLA-DRA? # not including because biased towards treated condition in scRNA, vs. codex\n",
    "    'pdL1': 'Cd274',\n",
    "}"
   ]
  },
  {
   "cell_type": "code",
   "execution_count": null,
   "id": "8e4dd2dd",
   "metadata": {
    "ExecuteTime": {
     "end_time": "2024-10-15T02:14:47.595310Z",
     "start_time": "2024-10-15T02:14:47.590177Z"
    }
   },
   "outputs": [],
   "source": [
    "print(sorted(list(rna.var[rna.var_names.str.contains('H2')].index))[8:])"
   ]
  },
  {
   "cell_type": "code",
   "execution_count": null,
   "id": "09463514",
   "metadata": {
    "ExecuteTime": {
     "end_time": "2024-10-15T02:15:07.235627Z",
     "start_time": "2024-10-15T02:14:47.704942Z"
    }
   },
   "outputs": [],
   "source": [
    "# run pca\n",
    "sc.pp.pca(codex)\n",
    "sc.pl.pca(codex, color=['mhcii', 'condition'])\n"
   ]
  },
  {
   "cell_type": "code",
   "execution_count": null,
   "id": "45dba713",
   "metadata": {
    "ExecuteTime": {
     "end_time": "2024-10-15T02:15:08.961831Z",
     "start_time": "2024-10-15T02:15:08.959314Z"
    }
   },
   "outputs": [],
   "source": [
    "protein_index = list()\n",
    "RNA_index = list()\n",
    "for protein in protein_mapping.keys():\n",
    "    if protein_mapping[protein] != None:\n",
    "        protein_index.append(protein)\n",
    "        RNA_index.append(protein_mapping[protein])\n",
    "print(protein_index)\n",
    "print(RNA_index)"
   ]
  },
  {
   "cell_type": "code",
   "execution_count": null,
   "id": "81aa4de4",
   "metadata": {
    "ExecuteTime": {
     "end_time": "2024-10-15T02:15:11.002249Z",
     "start_time": "2024-10-15T02:15:09.114309Z"
    }
   },
   "outputs": [],
   "source": [
    "rna_shared = rna[:, RNA_index].copy()\n",
    "codex_shared = codex[:, protein_index].copy()\n",
    "print(rna_shared.shape)\n",
    "print(codex_shared.shape)"
   ]
  },
  {
   "cell_type": "code",
   "execution_count": null,
   "id": "02436127",
   "metadata": {
    "ExecuteTime": {
     "end_time": "2024-10-15T02:15:11.123604Z",
     "start_time": "2024-10-15T02:15:11.120942Z"
    }
   },
   "outputs": [],
   "source": [
    "protein_index = list()\n",
    "RNA_index = list()\n",
    "for protein in protein_mapping.keys():\n",
    "    if protein_mapping[protein] != None:\n",
    "        protein_index.append(protein)\n",
    "        RNA_index.append(protein_mapping[protein])\n",
    "print(protein_index[:5], '...')\n",
    "print(RNA_index[:5], '...')"
   ]
  },
  {
   "cell_type": "code",
   "execution_count": null,
   "id": "a2727440",
   "metadata": {
    "ExecuteTime": {
     "end_time": "2024-10-15T02:15:14.543175Z",
     "start_time": "2024-10-15T02:15:11.239085Z"
    }
   },
   "outputs": [],
   "source": [
    "# only 18 of the ~30 shared features are HVGs in scRNA-seq\n",
    "rna_shared = rna[:, RNA_index].copy()\n",
    "codex_shared = codex[:, protein_index].copy()\n",
    "print(rna_shared.shape)\n",
    "print(codex_shared.shape)\n",
    "np.sum(rna_shared.var['mf_features'])\n"
   ]
  },
  {
   "cell_type": "code",
   "execution_count": null,
   "id": "a0bc6143",
   "metadata": {
    "ExecuteTime": {
     "end_time": "2024-10-15T02:15:14.660144Z",
     "start_time": "2024-10-15T02:15:14.656942Z"
    }
   },
   "outputs": [],
   "source": [
    "rna.var.loc[RNA_index, 'mf_features'] = True\n",
    "rna_shared.var.loc[RNA_index, 'mf_features'] = True\n",
    "print(np.sum(rna.var['mf_features']))"
   ]
  },
  {
   "cell_type": "code",
   "execution_count": null,
   "id": "64d62f16",
   "metadata": {
    "ExecuteTime": {
     "end_time": "2024-10-15T02:15:25.179812Z",
     "start_time": "2024-10-15T02:15:14.772605Z"
    }
   },
   "outputs": [],
   "source": [
    "sc.pp.neighbors(rna_shared, n_neighbors=15, use_rep='X')\n",
    "sc.tl.umap(rna_shared)"
   ]
  },
  {
   "cell_type": "code",
   "execution_count": null,
   "id": "cc136fa2",
   "metadata": {
    "ExecuteTime": {
     "end_time": "2024-10-15T02:15:25.811348Z",
     "start_time": "2024-10-15T02:15:25.282867Z"
    }
   },
   "outputs": [],
   "source": [
    "sc.pl.umap(rna_shared, color=['Sample'])\n",
    "sc.pl.umap(rna_shared, color=['new_annotation'])\n",
    "sc.pl.umap(rna_shared, color=['leiden'])"
   ]
  },
  {
   "cell_type": "code",
   "execution_count": null,
   "id": "ab618c81",
   "metadata": {
    "ExecuteTime": {
     "end_time": "2024-10-15T02:15:26.036695Z",
     "start_time": "2024-10-15T02:15:25.929215Z"
    }
   },
   "outputs": [],
   "source": [
    "rna_shared = rna_shared.X.copy()\n",
    "codex_shared = codex_shared.X.copy()"
   ]
  },
  {
   "cell_type": "code",
   "execution_count": null,
   "id": "af88b854",
   "metadata": {
    "ExecuteTime": {
     "end_time": "2024-10-15T02:15:26.312216Z",
     "start_time": "2024-10-15T02:15:26.143672Z"
    }
   },
   "outputs": [],
   "source": [
    "rna_active = rna[:, rna.var['mf_features']].copy()\n",
    "sc.pp.scale(rna_active)  # preprocessing in the tutorial, makes it mean=0 and std var\n",
    "rna_active = rna_active.X"
   ]
  },
  {
   "cell_type": "code",
   "execution_count": null,
   "id": "0239dc43",
   "metadata": {
    "ExecuteTime": {
     "end_time": "2024-10-15T02:15:26.984136Z",
     "start_time": "2024-10-15T02:15:26.417918Z"
    }
   },
   "outputs": [],
   "source": [
    "codex_active = codex.copy()\n",
    "# not sure if needed to scale protein measurements (they don't do it in tutorial, but the scale might be [0,1] based on methods section)\n",
    "codex_active = codex.X"
   ]
  },
  {
   "cell_type": "code",
   "execution_count": null,
   "id": "9a8f549c",
   "metadata": {
    "ExecuteTime": {
     "end_time": "2024-10-15T02:15:27.572988Z",
     "start_time": "2024-10-15T02:15:27.086028Z"
    }
   },
   "outputs": [],
   "source": [
    "rna_active = np.asarray(rna_active)  # already dense numpy array\n",
    "codex_active = np.asarray(codex_active.todense())\n",
    "rna_shared = np.asarray(rna_shared.todense())\n",
    "codex_shared = np.asarray(codex_shared.todense())\n",
    "\n",
    "print(rna_active.shape)\n",
    "print(codex_active.shape)\n",
    "print(rna_shared.shape)\n",
    "print(codex_shared.shape)"
   ]
  },
  {
   "cell_type": "markdown",
   "id": "4417d753",
   "metadata": {},
   "source": [
    "# Fix MaxFuse"
   ]
  },
  {
   "cell_type": "code",
   "execution_count": null,
   "id": "e7f074e2",
   "metadata": {
    "ExecuteTime": {
     "end_time": "2024-10-15T02:15:27.683048Z",
     "start_time": "2024-10-15T02:15:27.677721Z"
    }
   },
   "outputs": [],
   "source": [
    "# use cell labels to guide MaxFuse smoothing steps\n",
    "labels_rna = rna.obs['new_annotation'].values\n",
    "labels_codex = codex.obs['cell_type'].values\n",
    "\n",
    "display(labels_rna)\n",
    "display(labels_codex)"
   ]
  },
  {
   "cell_type": "code",
   "execution_count": null,
   "id": "84ccd552",
   "metadata": {
    "ExecuteTime": {
     "end_time": "2024-10-15T02:15:27.805226Z",
     "start_time": "2024-10-15T02:15:27.792961Z"
    }
   },
   "outputs": [],
   "source": [
    "fusor = mf.model.Fusor(\n",
    "    shared_arr1=rna_shared,\n",
    "    active_arr1=rna_active,\n",
    "    labels1=labels_rna,\n",
    "    shared_arr2=codex_shared,\n",
    "    active_arr2=codex_active,\n",
    "    labels2=labels_codex,\n",
    ")"
   ]
  },
  {
   "cell_type": "code",
   "execution_count": null,
   "id": "e192e564",
   "metadata": {
    "ExecuteTime": {
     "end_time": "2024-10-15T02:15:27.998406Z",
     "start_time": "2024-10-15T02:15:27.908732Z"
    }
   },
   "outputs": [],
   "source": [
    "# see tutorial for explanation -- the below reduces computational complexity\n",
    "fusor.split_into_batches(\n",
    "    max_outward_size=8000,\n",
    "    matching_ratio=4,\n",
    "    metacell_size=2,\n",
    "    verbose=True\n",
    ")"
   ]
  },
  {
   "cell_type": "code",
   "execution_count": null,
   "id": "ee7c1256",
   "metadata": {
    "ExecuteTime": {
     "end_time": "2024-10-15T13:56:24.283715Z",
     "start_time": "2024-10-15T13:56:24.270906Z"
    }
   },
   "outputs": [],
   "source": [
    "# plot top singular values of active_arr1 on a random batch\n",
    "fusor.plot_singular_values(target='active_arr1',\n",
    "                           n_components=None);  # can also explicitly specify the number of components\n",
    "# plot top singular values of active_arr2 on a random batch\n",
    "fusor.plot_singular_values(target='active_arr2', n_components=None);"
   ]
  },
  {
   "cell_type": "code",
   "execution_count": null,
   "id": "c1ea5f8e",
   "metadata": {
    "ExecuteTime": {
     "end_time": "2024-10-15T02:16:11.687815Z",
     "start_time": "2024-10-15T02:15:36.441627Z"
    }
   },
   "outputs": [],
   "source": [
    "svd_components1 = 40\n",
    "svd_components2 = 15\n",
    "\n",
    "fusor.construct_graphs(\n",
    "    n_neighbors1=15,\n",
    "    n_neighbors2=15,\n",
    "    svd_components1=svd_components1,\n",
    "    svd_components2=svd_components2,\n",
    "    resolution1=2,\n",
    "    resolution2=2,\n",
    "    # if two resolutions differ less than resolution_tol\n",
    "    # then we do not distinguish between then\n",
    "    resolution_tol=0.1,\n",
    "    verbose=True\n",
    ")"
   ]
  },
  {
   "cell_type": "code",
   "execution_count": null,
   "id": "4166cd81",
   "metadata": {
    "ExecuteTime": {
     "end_time": "2024-10-15T02:36:53.556578Z",
     "start_time": "2024-10-15T02:16:11.788689Z"
    }
   },
   "outputs": [],
   "source": [
    "svd_components1 = 20\n",
    "svd_components2 = 20\n",
    "\n",
    "fusor.find_initial_pivots(\n",
    "    wt1=0.3, wt2=0.3,\n",
    "    # weights of first and second modality; smaller = greater strength of fuzzy smoothing, 1 = original data used\n",
    "    svd_components1=svd_components1, svd_components2=svd_components2)"
   ]
  },
  {
   "cell_type": "code",
   "execution_count": null,
   "id": "b9a035a6",
   "metadata": {
    "ExecuteTime": {
     "end_time": "2024-10-15T02:36:55.398450Z",
     "start_time": "2024-10-15T02:36:53.656744Z"
    }
   },
   "outputs": [],
   "source": [
    "# plot top canonical correlations in a random batch\n",
    "fusor.plot_canonical_correlations(\n",
    "    svd_components1=40,\n",
    "    svd_components2=None,\n",
    "    cca_components=30\n",
    ");"
   ]
  },
  {
   "cell_type": "code",
   "execution_count": null,
   "id": "199a05aa",
   "metadata": {
    "ExecuteTime": {
     "end_time": "2024-10-15T02:43:41.471470Z",
     "start_time": "2024-10-15T02:36:55.501421Z"
    }
   },
   "outputs": [],
   "source": [
    "fusor.refine_pivots(\n",
    "    wt1=0.3, wt2=0.3,\n",
    "    svd_components1=40, svd_components2=None,\n",
    "    cca_components=25,\n",
    "    n_iters=1,\n",
    "    randomized_svd=False,\n",
    "    svd_runs=1,\n",
    "    verbose=True\n",
    ")"
   ]
  },
  {
   "cell_type": "code",
   "execution_count": null,
   "id": "8b3ba3fa",
   "metadata": {
    "ExecuteTime": {
     "end_time": "2024-10-15T02:44:10.695420Z",
     "start_time": "2024-10-15T02:43:41.736483Z"
    }
   },
   "outputs": [],
   "source": [
    "fusor.filter_bad_matches(target='pivot', filter_prop=0.5)  # 50% recommended by tutorial for spatial data"
   ]
  },
  {
   "cell_type": "code",
   "execution_count": null,
   "id": "ffc61f4d",
   "metadata": {
    "ExecuteTime": {
     "end_time": "2024-10-15T02:44:11.190280Z",
     "start_time": "2024-10-15T02:44:10.699483Z"
    }
   },
   "outputs": [],
   "source": [
    "# check performance based on cell type accuracy (pivot matching)\n",
    "pivot_matching = fusor.get_matching(order=(2, 1), target='pivot')\n",
    "\n",
    "lv1_acc = mf.metrics.get_matching_acc(matching=pivot_matching,\n",
    "                                      labels1=labels_rna,\n",
    "                                      labels2=labels_codex,\n",
    "                                      order=(2, 1)\n",
    "                                      )\n",
    "lv1_acc"
   ]
  },
  {
   "cell_type": "code",
   "execution_count": null,
   "id": "f5bbd412",
   "metadata": {
    "ExecuteTime": {
     "end_time": "2024-10-15T02:49:09.564842Z",
     "start_time": "2024-10-15T02:44:11.304536Z"
    }
   },
   "outputs": [],
   "source": [
    "fusor.propagate(\n",
    "    svd_components1=40,\n",
    "    svd_components2=None,\n",
    "    wt1=0.7,\n",
    "    wt2=0.7,\n",
    ")"
   ]
  },
  {
   "cell_type": "code",
   "execution_count": null,
   "id": "86c4c6d1",
   "metadata": {
    "ExecuteTime": {
     "end_time": "2024-10-15T02:52:21.786782Z",
     "start_time": "2024-10-15T02:49:09.671317Z"
    }
   },
   "outputs": [],
   "source": [
    "fusor.filter_bad_matches(target='propagated', filter_prop=0.3)  # recommended filter_prop between 0.1 - 0.4"
   ]
  },
  {
   "cell_type": "code",
   "execution_count": null,
   "id": "e104b990",
   "metadata": {
    "ExecuteTime": {
     "end_time": "2024-10-15T02:52:47.997646Z",
     "start_time": "2024-10-15T02:52:21.889017Z"
    }
   },
   "outputs": [],
   "source": [
    "full_matching = fusor.get_matching(order=(2, 1),\n",
    "                                   target='full_data')  # we want rna (1) to match with multiple codex (2), not other way around"
   ]
  },
  {
   "cell_type": "code",
   "execution_count": null,
   "id": "7407f181",
   "metadata": {
    "ExecuteTime": {
     "end_time": "2024-10-15T02:52:51.697321Z",
     "start_time": "2024-10-15T02:52:48.095725Z"
    }
   },
   "outputs": [],
   "source": [
    "pd.DataFrame(list(zip(full_matching[0], full_matching[1], full_matching[2])),\n",
    "             columns=['mod1_indx', 'mod2_indx', 'score'])\n",
    "# columns: cell idx in mod1, cell idx in mod2, and matching scores"
   ]
  },
  {
   "cell_type": "code",
   "execution_count": null,
   "id": "24b1d7ca",
   "metadata": {
    "ExecuteTime": {
     "end_time": "2024-10-15T02:52:57.925928Z",
     "start_time": "2024-10-15T02:52:51.819554Z"
    }
   },
   "outputs": [],
   "source": [
    "# compute the cell type level matching accuracy, for the full (filtered version) dataset\n",
    "lv1_acc = mf.metrics.get_matching_acc(matching=full_matching,\n",
    "                                      labels1=labels_rna,\n",
    "                                      labels2=labels_codex\n",
    "                                      )\n",
    "lv1_acc"
   ]
  },
  {
   "cell_type": "code",
   "execution_count": null,
   "id": "86aa12fc",
   "metadata": {
    "ExecuteTime": {
     "end_time": "2024-10-15T13:53:40.790435Z",
     "start_time": "2024-10-15T13:53:40.425106Z"
    }
   },
   "outputs": [],
   "source": [
    "cm = confusion_matrix(labels_rna[pivot_matching[0]], labels_codex[pivot_matching[1]])\n",
    "ConfusionMatrixDisplay(\n",
    "    confusion_matrix=np.round((cm.T/np.sum(cm, axis=1)).T*100), \n",
    "    display_labels=np.unique(labels_rna),\n",
    ").plot()"
   ]
  },
  {
   "cell_type": "code",
   "execution_count": null,
   "id": "41dfe6f4",
   "metadata": {
    "ExecuteTime": {
     "end_time": "2024-10-15T02:53:00.477790Z",
     "start_time": "2024-10-15T02:52:57.996826Z"
    }
   },
   "outputs": [],
   "source": [
    "rna_embedding, codex_embedding = fusor.get_embedding(\n",
    "    active_arr1=fusor.active_arr1,\n",
    "    active_arr2=fusor.active_arr2\n",
    ")\n",
    "codex.obsm['X_maxfuse'] = codex_embedding\n",
    "\n",
    "codex_embedding = anndata.AnnData(codex_embedding)\n",
    "codex_embedding.obs = codex.obs\n",
    "rna_embedding = anndata.AnnData(rna_embedding)\n",
    "rna_embedding.obs = rna.obs\n",
    "codex_embedding.write('codex_embedding.h5ad')\n",
    "rna_embedding.write('rna_embedding.h5ad')\n"
   ]
  },
  {
   "cell_type": "code",
   "execution_count": null,
   "id": "4ed5b163",
   "metadata": {
    "ExecuteTime": {
     "end_time": "2024-10-15T02:53:00.484889Z",
     "start_time": "2024-10-15T02:53:00.482494Z"
    }
   },
   "outputs": [],
   "source": [
    "# num rna cell vs num codex cell\n",
    "print(rna_embedding.shape)\n",
    "print(codex_embedding.shape)\n"
   ]
  },
  {
   "cell_type": "code",
   "execution_count": null,
   "id": "7b79e819",
   "metadata": {
    "ExecuteTime": {
     "end_time": "2024-10-15T02:53:04.999224Z",
     "start_time": "2024-10-15T02:53:00.592146Z"
    }
   },
   "outputs": [],
   "source": [
    "\n",
    "# Create an AnnData object combining RNA and CODEX cells in the shared space\n",
    "rna_labels = ['RNA'] * rna_embedding.X.shape[0]\n",
    "codex_labels = ['CODEX'] * codex_embedding.X.shape[0]\n",
    "data_type_labels = np.concatenate([rna_labels, codex_labels])\n",
    "\n",
    "combined_data = ad.AnnData(\n",
    "    np.concatenate((rna_embedding.X, codex_embedding.X)),\n",
    "    obs=pd.concat([rna.obs, codex.obs])\n",
    ")\n",
    "combined_data.obs['data_type'] = data_type_labels\n",
    "\n",
    "# Perform UMAP on the combined data\n",
    "# sc.pp.neighbors(combined_data, n_neighbors=15)\n",
    "sc.tl.pca(combined_data)\n",
    "\n",
    "# Plot the co-embedding\n",
    "sample_fraction = 0.1\n",
    "n_cells = combined_data.shape[0]\n",
    "random_indices = np.random.choice(n_cells, size=int(n_cells * sample_fraction), replace=False)\n",
    "\n",
    "# Subset the AnnData object to only include the sampled cells\n",
    "sampled_data = combined_data[random_indices, :]\n",
    "# sc.pl.pca(sampled_data, color=['Cluster', 'data_type'])\n",
    "\n"
   ]
  },
  {
   "cell_type": "code",
   "execution_count": null,
   "id": "1366dbc1",
   "metadata": {
    "ExecuteTime": {
     "end_time": "2024-10-15T02:53:05.103598Z",
     "start_time": "2024-10-15T02:53:05.102180Z"
    }
   },
   "outputs": [],
   "source": []
  },
  {
   "cell_type": "markdown",
   "id": "a17aa654",
   "metadata": {},
   "source": [
    "# Train a classifier on the co-embedding"
   ]
  },
  {
   "cell_type": "code",
   "execution_count": null,
   "id": "ae9cdd61",
   "metadata": {
    "ExecuteTime": {
     "end_time": "2024-10-15T02:53:05.204311Z",
     "start_time": "2024-10-15T02:53:05.201928Z"
    }
   },
   "outputs": [],
   "source": [
    "# prepare data for training\n",
    "features = codex_embedding.X\n",
    "labels = codex_embedding.obs['CN']\n",
    "labels = labels.astype('category').values.codes"
   ]
  },
  {
   "cell_type": "code",
   "execution_count": null,
   "id": "a19eacf3",
   "metadata": {
    "ExecuteTime": {
     "end_time": "2024-10-15T02:53:41.134080Z",
     "start_time": "2024-10-15T02:53:05.303056Z"
    }
   },
   "outputs": [],
   "source": [
    "\n",
    "X = pd.DataFrame(features)\n",
    "y = pd.DataFrame(labels)\n",
    "X_train, X_test, y_train, y_test = train_test_split(X, y, test_size=0.2, random_state=42)\n",
    "model = xgb.XGBClassifier(use_label_encoder=False, eval_metric='mlogloss')\n",
    "model.fit(X_train, y_train)\n",
    "y_pred = model.predict(X_test)\n",
    "score = f1_score(y_test, y_pred, average='weighted')\n",
    "print(f'f1 score: {score:.4f}')"
   ]
  },
  {
   "cell_type": "code",
   "execution_count": null,
   "id": "c0cb8eaa",
   "metadata": {
    "ExecuteTime": {
     "end_time": "2024-10-15T02:53:42.059203Z",
     "start_time": "2024-10-15T02:53:41.339657Z"
    }
   },
   "outputs": [],
   "source": [
    "y_pred = model.predict(X_test)\n",
    "cm = confusion_matrix(y_test, y_pred)\n",
    "disp = ConfusionMatrixDisplay(confusion_matrix=cm)\n",
    "disp.plot()\n",
    "plt.show()\n"
   ]
  },
  {
   "cell_type": "markdown",
   "id": "e0f2be1e",
   "metadata": {},
   "source": [
    "# Prepare the RNA features"
   ]
  },
  {
   "cell_type": "code",
   "execution_count": null,
   "id": "73f6c1c1",
   "metadata": {
    "ExecuteTime": {
     "end_time": "2024-10-15T02:53:42.257342Z",
     "start_time": "2024-10-15T02:53:42.255459Z"
    }
   },
   "outputs": [],
   "source": [
    "# prepare data for training\n",
    "features = rna_embedding\n",
    "labels = None"
   ]
  },
  {
   "cell_type": "code",
   "execution_count": null,
   "id": "0af60937",
   "metadata": {
    "ExecuteTime": {
     "end_time": "2024-10-15T02:53:42.459294Z",
     "start_time": "2024-10-15T02:53:42.448905Z"
    }
   },
   "outputs": [],
   "source": [
    "predicted_RNA_CN = model.predict(rna_embedding.X)"
   ]
  },
  {
   "cell_type": "code",
   "execution_count": null,
   "id": "d0a2fb72",
   "metadata": {
    "ExecuteTime": {
     "end_time": "2024-10-15T02:53:43.025204Z",
     "start_time": "2024-10-15T02:53:42.654316Z"
    }
   },
   "outputs": [],
   "source": [
    "rna_embedding = anndata.AnnData(rna_embedding)\n",
    "rna_embedding.obs = rna.obs\n",
    "#  add the predicted CN labels to the RNA embedding\n",
    "rna_embedding.obs['predicted_CN'] = pd.Categorical(predicted_RNA_CN)\n",
    "# plot the RNA embedding with the predicted CN labels PCA\n",
    "sc.tl.pca(rna_embedding)\n",
    "# make the shape be the cell type\n",
    "sc.pl.pca(rna_embedding, color=['predicted_CN', 'Cluster'], title='Predicted CN labels on RNA-seq data')"
   ]
  },
  {
   "cell_type": "code",
   "execution_count": null,
   "id": "19890136",
   "metadata": {
    "ExecuteTime": {
     "end_time": "2024-10-15T02:53:43.563835Z",
     "start_time": "2024-10-15T02:53:43.224062Z"
    }
   },
   "outputs": [],
   "source": [
    "# Loop through each cluster and create a separate PCA plot\n",
    "clusters = rna_embedding.obs['Cluster'].unique()[:3]\n",
    "for cluster in clusters:\n",
    "    subset_data = rna_embedding[rna_embedding.obs['Cluster'] == cluster]\n",
    "    sc.pl.pca(subset_data, color='predicted_CN', title=f'Predicted CN labels for {cluster}')\n"
   ]
  },
  {
   "cell_type": "code",
   "execution_count": null,
   "id": "5c2b70ca",
   "metadata": {
    "ExecuteTime": {
     "end_time": "2024-10-15T02:53:44.164747Z",
     "start_time": "2024-10-15T02:53:43.763443Z"
    }
   },
   "outputs": [],
   "source": [
    "# apply silhouette score on the predicted CN labels\n",
    "\n",
    "# print results of all scores\n",
    "print('Silhouette Score:', silhouette_score(rna_embedding.X, predicted_RNA_CN))\n",
    "print('Calinski Harabasz Score:', calinski_harabasz_score(rna_embedding.X, predicted_RNA_CN))\n",
    "print('Davies Bouldin Score:', davies_bouldin_score(rna_embedding.X, predicted_RNA_CN))\n",
    "\n"
   ]
  },
  {
   "cell_type": "code",
   "execution_count": null,
   "id": "c15386f9",
   "metadata": {
    "ExecuteTime": {
     "end_time": "2024-10-15T02:53:46.126120Z",
     "start_time": "2024-10-15T02:53:44.391882Z"
    }
   },
   "outputs": [],
   "source": [
    "num_clusters = len(np.unique(codex_embedding.obs['CN']))\n",
    "gmm = GaussianMixture(n_components=num_clusters, random_state=0)\n",
    "gmm_labels = gmm.fit_predict(rna_embedding.X)\n",
    "ami_score = adjusted_mutual_info_score(rna_embedding.obs['predicted_CN'], gmm_labels)\n",
    "rna_embedding.obs['GMM'] = pd.Categorical(gmm_labels)\n",
    "print('Adjusted Mutual Information Score:', ami_score)"
   ]
  },
  {
   "cell_type": "code",
   "execution_count": null,
   "id": "71c353ab",
   "metadata": {
    "ExecuteTime": {
     "end_time": "2024-10-15T02:53:46.631890Z",
     "start_time": "2024-10-15T02:53:46.367673Z"
    }
   },
   "outputs": [],
   "source": [
    "# plot the RNA embedding with the HDBSCAN labels vs the predicted CN labels\n",
    "sc.pl.pca(rna_embedding, color=['GMM', 'predicted_CN'], title='GMM vs Predicted CN labels on RNA-seq data')"
   ]
  },
  {
   "cell_type": "code",
   "execution_count": null,
   "id": "698fc0ad",
   "metadata": {
    "ExecuteTime": {
     "end_time": "2024-10-15T02:53:59.117165Z",
     "start_time": "2024-10-15T02:53:46.826879Z"
    }
   },
   "outputs": [],
   "source": [
    "\n",
    "clusterer = hdbscan.HDBSCAN(min_cluster_size=2, gen_min_span_tree=True)\n",
    "clusterer.fit(rna_embedding.X)\n",
    "hierarchy = clusterer.single_linkage_tree_.to_numpy()\n",
    "num_clusters = len(np.unique(codex_embedding.obs['CN']))\n",
    "selected_clusters = cut_tree(hierarchy, n_clusters=num_clusters).flatten()\n",
    "rna_embedding.obs['HDBSCAN_Cut'] = pd.Categorical(selected_clusters)\n",
    "# Check mutual information score between predicted CN labels and the cut HDBSCAN labels\n",
    "ami_score = adjusted_mutual_info_score(rna_embedding.obs['predicted_CN'], rna_embedding.obs['HDBSCAN_Cut'])\n",
    "print('Adjusted Mutual Information Score:', ami_score)"
   ]
  },
  {
   "cell_type": "code",
   "execution_count": null,
   "id": "1a944888",
   "metadata": {
    "ExecuteTime": {
     "end_time": "2024-10-15T02:53:59.767568Z",
     "start_time": "2024-10-15T02:53:59.504685Z"
    }
   },
   "outputs": [],
   "source": [
    "# plot the RNA embedding with the HDBSCAN labels vs the predicted CN labels\n",
    "sc.pl.pca(rna_embedding, color=['HDBSCAN_Cut', 'predicted_CN'], title='HDBSCAN vs Predicted CN labels on RNA-seq data')"
   ]
  },
  {
   "cell_type": "code",
   "execution_count": null,
   "id": "eecfc70c",
   "metadata": {
    "ExecuteTime": {
     "end_time": "2024-10-15T02:53:59.776894Z",
     "start_time": "2024-10-15T02:53:59.775341Z"
    }
   },
   "outputs": [],
   "source": []
  },
  {
   "cell_type": "code",
   "execution_count": null,
   "id": "be86e2c0",
   "metadata": {
    "ExecuteTime": {
     "end_time": "2024-10-15T02:53:59.977942Z",
     "start_time": "2024-10-15T02:53:59.976434Z"
    }
   },
   "outputs": [],
   "source": []
  }
 ],
 "metadata": {
  "kernelspec": {
   "display_name": "Python 3",
   "language": "python",
   "name": "python3"
  },
  "language_info": {
   "codemirror_mode": {
    "name": "ipython",
    "version": 2
   },
   "file_extension": ".py",
   "mimetype": "text/x-python",
   "name": "python",
   "nbconvert_exporter": "python",
   "pygments_lexer": "ipython2",
   "version": "2.7.6"
  }
 },
 "nbformat": 4,
 "nbformat_minor": 5
}
