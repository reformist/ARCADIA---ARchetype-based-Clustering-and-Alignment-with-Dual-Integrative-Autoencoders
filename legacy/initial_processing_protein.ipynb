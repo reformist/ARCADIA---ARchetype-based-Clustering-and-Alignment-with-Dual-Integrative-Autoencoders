{
 "cells": [
  {
   "cell_type": "code",
   "execution_count": null,
   "metadata": {
    "ExecuteTime": {
     "end_time": "2024-10-11T15:34:34.175598Z",
     "start_time": "2024-10-11T15:34:34.173281Z"
    }
   },
   "outputs": [],
   "source": [
    "import scanpy as sc\n",
    "import pandas as pd\n",
    "import numpy as np\n",
    "from kneed import KneeLocator"
   ]
  },
  {
   "cell_type": "markdown",
   "metadata": {},
   "source": [
    "### Performing basic preprocessing of scRNA-seq data"
   ]
  },
  {
   "cell_type": "code",
   "execution_count": null,
   "metadata": {
    "ExecuteTime": {
     "end_time": "2024-10-11T15:31:30.020947Z",
     "start_time": "2024-10-11T15:31:27.874062Z"
    }
   },
   "outputs": [],
   "source": [
    "adata = sc.read(filename = \"/home/barroz/projects/Columbia/STAT_ML_GEN/project/codex_codex_cn_tumor.h5ad\")\n",
    "adata"
   ]
  },
  {
   "cell_type": "code",
   "execution_count": null,
   "metadata": {
    "ExecuteTime": {
     "end_time": "2024-10-11T15:38:43.718073Z",
     "start_time": "2024-10-11T15:38:41.902088Z"
    }
   },
   "outputs": [],
   "source": [
    "# showing the spatial image and CN for the first Image\n",
    "image_to_show = adata.obs['Image'].iloc[0]\n",
    "first_img_adata =adata[adata.obs['Image'] == adata.obs['Image'].iloc[0]]\n",
    "first_img_adata.obs['neighborhood'] = first_img_adata.obs['neighborhood'].astype('category')\n",
    "sc.pl.scatter(first_img_adata, show=False, color='cell_type',x='x_um', y='y_um')\n",
    "sc.pl.scatter(first_img_adata, show=False, color='neighborhood',x='x_um', y='y_um')"
   ]
  },
  {
   "cell_type": "code",
   "execution_count": null,
   "metadata": {
    "ExecuteTime": {
     "end_time": "2024-10-11T15:44:56.554937Z",
     "start_time": "2024-10-11T15:44:55.943466Z"
    }
   },
   "outputs": [],
   "source": [
    "sc.pl.embedding(adata[adata.obs['Image'] == 'cntrl_n130_d10'], color='pdL1', layer='counts',\n",
    "                basis = 'spatial', title='cntrl_n130_d10', use_raw = False, vmax='p90')\n"
   ]
  },
  {
   "cell_type": "code",
   "execution_count": null,
   "metadata": {
    "ExecuteTime": {
     "start_time": "2024-10-11T15:53:07.423714Z"
    },
    "jupyter": {
     "is_executing": true
    }
   },
   "outputs": [],
   "source": [
    "# run PCA on the data\n",
    "sc.pp.pca(adata, n_comps=20) \n",
    "sc.pp.neighbors(adata, n_neighbors=15, use_rep='X_pca')\n",
    "sc.tl.umap(adata) "
   ]
  },
  {
   "cell_type": "code",
   "execution_count": null,
   "metadata": {
    "ExecuteTime": {
     "end_time": "2024-10-11T15:48:00.637311Z",
     "start_time": "2024-10-11T15:48:00.556051Z"
    }
   },
   "outputs": [],
   "source": [
    "variance_captured  = adata.uns['pca']['variance_ratio'].sum()\n",
    "print(f'Variance captured by 20 PCs: {variance_captured}')\n",
    "sc.pl.pca_variance_ratio(adata, n_pcs=20, log=True) # choose 20 like in Seurat tutorial? Or 10 where elbow is\n"
   ]
  },
  {
   "cell_type": "code",
   "execution_count": null,
   "metadata": {
    "ExecuteTime": {
     "end_time": "2024-10-11T15:49:08.311158Z",
     "start_time": "2024-10-11T15:49:08.159989Z"
    }
   },
   "outputs": [],
   "source": [
    "sc.pl.umap(adata,\n",
    "          color=[\"Image\", \"Image\", \"cell_type\", \"cell_type\", \"condition\", \"condition\"],\n",
    "          dimensions=[(0, 1), (2, 3), (0, 1), (2, 3), (0, 1), (2, 3)],\n",
    "          ncols=2, size=2, )\n",
    "\n",
    "# sc.pl.umap(codex, color=['Image'])\n",
    "# sc.pl.umap(codex, color=['cell_type'])\n",
    "# sc.pl.umap(codex, color=['condition'], legend_loc='on data')\n"
   ]
  },
  {
   "cell_type": "code",
   "execution_count": null,
   "metadata": {
    "ExecuteTime": {
     "end_time": "2024-10-11T15:47:50.284549Z",
     "start_time": "2024-10-11T15:47:50.281994Z"
    }
   },
   "outputs": [],
   "source": [
    "# following contact tracing tutorial\n",
    "adata.obs.index.name=None\n",
    "adata.var.index.name=None"
   ]
  },
  {
   "cell_type": "code",
   "execution_count": null,
   "metadata": {
    "ExecuteTime": {
     "end_time": "2024-10-11T15:31:33.859752Z",
     "start_time": "2024-10-11T15:31:33.763164Z"
    }
   },
   "outputs": [],
   "source": [
    "# making sure cell barcodes are unique\n",
    "numdup = sum(adata.obs.index.duplicated())\n",
    "print(f'{numdup} duplicated barcodes')\n",
    "if numdup > 0:\n",
    "    adata.obs_names_make_unique()\n",
    "    numdup = sum(adata.obs.index.duplicated())\n",
    "    print(f'Now, {numdup} duplicated barcodes')"
   ]
  },
  {
   "cell_type": "code",
   "execution_count": null,
   "metadata": {
    "ExecuteTime": {
     "end_time": "2024-10-11T15:31:34.026178Z",
     "start_time": "2024-10-11T15:31:34.017103Z"
    }
   },
   "outputs": [],
   "source": [
    "adata.obs"
   ]
  },
  {
   "cell_type": "code",
   "execution_count": null,
   "metadata": {
    "ExecuteTime": {
     "end_time": "2024-10-11T15:13:50.034300Z",
     "start_time": "2024-10-11T15:13:48.789635Z"
    }
   },
   "outputs": [],
   "source": [
    "# condition setting\n",
    "adata.obs['Condition'] = adata.obs['Sample']"
   ]
  },
  {
   "cell_type": "code",
   "execution_count": null,
   "metadata": {},
   "outputs": [],
   "source": [
    "adata.obs['cell type'] = adata.obs['new_annotation']"
   ]
  },
  {
   "cell_type": "code",
   "execution_count": null,
   "metadata": {},
   "outputs": [],
   "source": [
    "adata.obs['Condition'].value_counts()"
   ]
  },
  {
   "cell_type": "code",
   "execution_count": null,
   "metadata": {},
   "outputs": [],
   "source": [
    "# removing small cell types\n",
    "minCell = 50\n",
    "ctcounts = adata.obs[['cell type','Condition']].value_counts()\n",
    "remove_cellTypes = ctcounts[ctcounts < minCell].reset_index()['cell type'].unique()\n",
    "if len(remove_cellTypes) > 0:\n",
    "    tmpstr = ','.join(remove_cellTypes)\n",
    "    print(f'Removing celltypes: {tmpstr}')\n",
    "    print(f'Original ncell {adata.shape[0]}')\n",
    "    adata = adata[~adata.obs['cell type'].isin(remove_cellTypes)]\n",
    "    print(f'New ncell {adata.shape[0]}')\n",
    "else:\n",
    "    print('Keeping all cell types')"
   ]
  },
  {
   "cell_type": "code",
   "execution_count": null,
   "metadata": {},
   "outputs": [],
   "source": [
    "# creating logX layer\n",
    "adata.X = adata.X.toarray()\n",
    "adata.layers['logX'] = np.log10(adata.X + 0.1) - np.log10(0.1)"
   ]
  },
  {
   "cell_type": "code",
   "execution_count": null,
   "metadata": {},
   "outputs": [],
   "source": [
    "\n",
    "# use kneepoint method to get number of PCs to use\n",
    "init_npcs = 50\n",
    "scanpy.pp.pca(adata, n_comps=init_npcs)\n",
    "x = [x for x in range(len(adata.uns['pca']['variance_ratio']))]\n",
    "y = np.log(adata.uns['pca']['variance_ratio'])\n",
    "knee = KneeLocator(x=x, y=y, curve='convex', direction='decreasing', online=True, interp_method='polynomial')\n",
    "knee.plot_knee_normalized()"
   ]
  },
  {
   "cell_type": "code",
   "execution_count": null,
   "metadata": {},
   "outputs": [],
   "source": [
    "opt_n_pcs = knee.knee+1\n",
    "print('Optimal Number of PCs: ', str(opt_n_pcs))\n",
    "scanpy.pp.pca(adata, n_comps=opt_n_pcs)\n",
    "scanpy.pp.neighbors(adata)\n",
    "scanpy.tl.umap(adata)"
   ]
  },
  {
   "cell_type": "code",
   "execution_count": null,
   "metadata": {},
   "outputs": [],
   "source": [
    "scanpy.pl.umap(adata, color=['cell type', 'Condition'], ncols=1)\n"
   ]
  },
  {
   "cell_type": "code",
   "execution_count": null,
   "metadata": {},
   "outputs": [],
   "source": []
  }
 ],
 "metadata": {
  "kernelspec": {
   "display_name": "Python 3",
   "language": "python",
   "name": "python3"
  },
  "language_info": {
   "codemirror_mode": {
    "name": "ipython",
    "version": 3
   },
   "file_extension": ".py",
   "mimetype": "text/x-python",
   "name": "python",
   "nbconvert_exporter": "python",
   "pygments_lexer": "ipython3",
   "version": "3.9.7"
  }
 },
 "nbformat": 4,
 "nbformat_minor": 2
}
