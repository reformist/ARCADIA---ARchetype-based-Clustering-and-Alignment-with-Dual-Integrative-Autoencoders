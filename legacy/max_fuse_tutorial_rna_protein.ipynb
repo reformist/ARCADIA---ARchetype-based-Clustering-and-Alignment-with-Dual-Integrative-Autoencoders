{
 "cells": [
  {
   "cell_type": "code",
   "execution_count": null,
   "metadata": {
    "ExecuteTime": {
     "end_time": "2024-10-14T22:21:07.520959Z",
     "start_time": "2024-10-14T22:21:07.516027Z"
    }
   },
   "outputs": [],
   "source": [
    "#need to use python version 3.8 with conda as that's the requirement for maxfuse\n",
    "import numpy as np\n",
    "import pandas as pd\n",
    "from scipy.io import mmread\n",
    "\n",
    "import matplotlib.pyplot as plt\n",
    "plt.rcParams[\"figure.figsize\"] = (6, 4)\n",
    "\n",
    "from sklearn.metrics import confusion_matrix, ConfusionMatrixDisplay\n",
    "\n",
    "import anndata as ad\n",
    "import scanpy as sc\n",
    "import maxfuse as mf\n",
    "\n",
    "import seaborn as sns"
   ]
  },
  {
   "cell_type": "code",
   "execution_count": null,
   "metadata": {
    "ExecuteTime": {
     "end_time": "2024-10-14T22:21:07.582793Z",
     "start_time": "2024-10-14T22:21:07.578903Z"
    }
   },
   "outputs": [],
   "source": [
    "# this cell only needs to be run once\n",
    "# import requests, zipfile, io\n",
    "# r = requests.get(\"http://stat.wharton.upenn.edu/~zongming/maxfuse/data.zip\")\n",
    "# z = zipfile.ZipFile(io.BytesIO(r.content))\n",
    "# z.extractall(\"../\")"
   ]
  },
  {
   "cell_type": "code",
   "execution_count": null,
   "metadata": {
    "ExecuteTime": {
     "end_time": "2024-10-14T22:21:09.186337Z",
     "start_time": "2024-10-14T22:21:07.627817Z"
    }
   },
   "outputs": [],
   "source": [
    "protein = pd.read_csv(\"data/tonsil/tonsil_codex.csv\") # ~178,000 codex cells\n"
   ]
  },
  {
   "cell_type": "code",
   "execution_count": null,
   "metadata": {
    "ExecuteTime": {
     "end_time": "2024-10-14T22:21:16.240765Z",
     "start_time": "2024-10-14T22:21:09.218Z"
    }
   },
   "outputs": [],
   "source": [
    "# not needed to run maxfuse\n",
    "sns.scatterplot(data=protein, x=\"centroid_x\", y=\"centroid_y\", hue = \"cluster.term\", s = 0.1)\n"
   ]
  },
  {
   "cell_type": "code",
   "execution_count": null,
   "metadata": {
    "ExecuteTime": {
     "end_time": "2024-10-14T22:21:16.390297Z",
     "start_time": "2024-10-14T22:21:16.279962Z"
    }
   },
   "outputs": [],
   "source": [
    "# input csv contains meta info, take only protein features\n",
    "protein_features = ['CD38', 'CD19', 'CD31', 'Vimentin', 'CD22', 'Ki67', 'CD8',\n",
    "       'CD90', 'CD123', 'CD15', 'CD3', 'CD152', 'CD21', 'cytokeratin', 'CD2',\n",
    "       'CD66', 'collagen IV', 'CD81', 'HLA-DR', 'CD57', 'CD4', 'CD7', 'CD278',\n",
    "       'podoplanin', 'CD45RA', 'CD34', 'CD54', 'CD9', 'IGM', 'CD117', 'CD56',\n",
    "       'CD279', 'CD45', 'CD49f', 'CD5', 'CD16', 'CD63', 'CD11b', 'CD1c',\n",
    "       'CD40', 'CD274', 'CD27', 'CD104', 'CD273', 'FAPalpha', 'Ecadherin']\n",
    "# convert to AnnData\n",
    "protein_adata = ad.AnnData(\n",
    "    protein[protein_features].to_numpy(), dtype=np.float32\n",
    ")\n",
    "protein_adata.var_names = protein[protein_features].columns"
   ]
  },
  {
   "cell_type": "code",
   "execution_count": null,
   "metadata": {
    "ExecuteTime": {
     "end_time": "2024-10-14T22:21:52.485770Z",
     "start_time": "2024-10-14T22:21:16.419977Z"
    }
   },
   "outputs": [],
   "source": [
    "\n",
    "# read in RNA data\n",
    "rna = mmread(\"data/tonsil/tonsil_rna_counts.txt\") # rna count as sparse matrix, 10k cells (RNA)\n",
    "rna_names = pd.read_csv('data/tonsil/tonsil_rna_names.csv')['names'].to_numpy()\n",
    "# convert to AnnData\n",
    "rna_adata = ad.AnnData(\n",
    "    rna.tocsr(), dtype=np.float32\n",
    ")\n",
    "rna_adata.var_names = rna_names"
   ]
  },
  {
   "cell_type": "code",
   "execution_count": null,
   "metadata": {},
   "outputs": [],
   "source": [
    "rna_adata"
   ]
  },
  {
   "cell_type": "code",
   "execution_count": null,
   "metadata": {
    "ExecuteTime": {
     "end_time": "2024-10-14T22:21:52.525308Z",
     "start_time": "2024-10-14T22:21:52.512168Z"
    }
   },
   "outputs": [],
   "source": [
    "\n",
    "# read in celltyle labels\n",
    "metadata_rna = pd.read_csv('data/tonsil/tonsil_rna_meta.csv')\n",
    "labels_rna = metadata_rna['cluster.info'].to_numpy()\n",
    "labels_codex = protein['cluster.term'].to_numpy()\n",
    "\n",
    "protein_adata.obs['celltype'] = labels_codex\n",
    "rna_adata.obs['celltype'] = labels_rna"
   ]
  },
  {
   "cell_type": "code",
   "execution_count": null,
   "metadata": {
    "ExecuteTime": {
     "end_time": "2024-10-14T22:21:52.565169Z",
     "start_time": "2024-10-14T22:21:52.555907Z"
    }
   },
   "outputs": [],
   "source": [
    "\n",
    "correspondence = pd.read_csv('data/protein_gene_conversion.csv')\n",
    "correspondence.head()"
   ]
  },
  {
   "cell_type": "code",
   "execution_count": null,
   "metadata": {
    "ExecuteTime": {
     "end_time": "2024-10-14T22:21:52.629965Z",
     "start_time": "2024-10-14T22:21:52.609707Z"
    }
   },
   "outputs": [],
   "source": [
    "rna_protein_correspondence = []\n",
    "\n",
    "for i in range(correspondence.shape[0]):\n",
    "    curr_protein_name, curr_rna_names = correspondence.iloc[i]\n",
    "    if curr_protein_name not in protein_adata.var_names:\n",
    "        continue\n",
    "    if curr_rna_names.find('Ignore') != -1: # some correspondence ignored eg. protein isoform to one gene\n",
    "        continue\n",
    "    curr_rna_names = curr_rna_names.split('/') # eg. one protein to multiple genes\n",
    "    for r in curr_rna_names:\n",
    "        if r in rna_adata.var_names:\n",
    "            rna_protein_correspondence.append([r, curr_protein_name])\n",
    "            \n",
    "rna_protein_correspondence = np.array(rna_protein_correspondence)"
   ]
  },
  {
   "cell_type": "code",
   "execution_count": null,
   "metadata": {},
   "outputs": [],
   "source": [
    "rna_shared"
   ]
  },
  {
   "cell_type": "code",
   "execution_count": null,
   "metadata": {
    "ExecuteTime": {
     "end_time": "2024-10-14T22:21:52.790055Z",
     "start_time": "2024-10-14T22:21:52.677227Z"
    }
   },
   "outputs": [],
   "source": [
    "# Columns rna_shared and protein_shared are matched.\n",
    "# One may encounter \"Variable names are not unique\" warning,\n",
    "# this is fine and is because one RNA may encode multiple proteins and vice versa.\n",
    "rna_shared = rna_adata[:, rna_protein_correspondence[:, 0]].copy()\n",
    "protein_shared = protein_adata[:, rna_protein_correspondence[:, 1]].copy()"
   ]
  },
  {
   "cell_type": "code",
   "execution_count": null,
   "metadata": {
    "ExecuteTime": {
     "end_time": "2024-10-14T22:21:52.886440Z",
     "start_time": "2024-10-14T22:21:52.822315Z"
    }
   },
   "outputs": [],
   "source": [
    "# Make sure no column is static, only use protein features\n",
    "# that are variable (larger than a certain threshold)\n",
    "mask = (\n",
    "    (rna_shared.X.toarray().std(axis=0) > 0.5) \n",
    "    & (protein_shared.X.std(axis=0) > 0.1)\n",
    ")\n",
    "rna_shared = rna_shared[:, mask].copy()\n",
    "protein_shared = protein_shared[:, mask].copy()\n",
    "print([rna_shared.shape,protein_shared.shape])"
   ]
  },
  {
   "cell_type": "code",
   "execution_count": null,
   "metadata": {
    "ExecuteTime": {
     "end_time": "2024-10-14T22:21:52.912841Z",
     "start_time": "2024-10-14T22:21:52.900784Z"
    }
   },
   "outputs": [],
   "source": [
    "# process rna_shared\n",
    "sc.pp.normalize_total(rna_shared)\n",
    "sc.pp.log1p(rna_shared)\n",
    "sc.pp.scale(rna_shared)"
   ]
  },
  {
   "cell_type": "code",
   "execution_count": null,
   "metadata": {
    "ExecuteTime": {
     "end_time": "2024-10-14T22:22:17.184982Z",
     "start_time": "2024-10-14T22:21:52.952357Z"
    }
   },
   "outputs": [],
   "source": [
    "\n",
    "# plot UMAP of rna cells based only on rna markers with protein correspondence\n",
    "\n",
    "sc.pp.neighbors(rna_shared, n_neighbors=15)\n",
    "sc.tl.umap(rna_shared)\n",
    "sc.pl.umap(rna_shared, color='celltype')"
   ]
  },
  {
   "cell_type": "code",
   "execution_count": null,
   "metadata": {
    "ExecuteTime": {
     "end_time": "2024-10-14T22:24:40.189115Z",
     "start_time": "2024-10-14T22:22:17.236393Z"
    }
   },
   "outputs": [],
   "source": [
    "\n",
    "# plot UMAPs of codex cells based only on protein markers with rna correspondence\n",
    "# due to a large number of codex cells, this can take a while. uncomment below to plot.\n",
    "\n",
    "sc.pp.neighbors(protein_shared, n_neighbors=15)\n",
    "sc.tl.umap(protein_shared)\n",
    "sc.pl.umap(protein_shared, color='celltype')"
   ]
  },
  {
   "cell_type": "code",
   "execution_count": null,
   "metadata": {
    "ExecuteTime": {
     "end_time": "2024-10-14T22:24:42.200247Z",
     "start_time": "2024-10-14T22:24:40.224781Z"
    }
   },
   "outputs": [],
   "source": [
    "rna_adata.X = rna_adata.X.toarray()\n",
    "(rna_adata.X).std(axis=0)"
   ]
  },
  {
   "cell_type": "code",
   "execution_count": null,
   "metadata": {
    "ExecuteTime": {
     "end_time": "2024-10-14T22:24:46.952965Z",
     "start_time": "2024-10-14T22:24:42.240624Z"
    }
   },
   "outputs": [],
   "source": [
    "# make sure no feature is static\n",
    "rna_active = rna_adata.X\n",
    "protein_active = protein_adata.X\n",
    "rna_active = rna_active[:, rna_active.std(axis=0) > 1e-5] # these are fine since already using variable features\n",
    "protein_active = protein_active[:, protein_active.std(axis=0) > 1e-5] # protein are generally variable"
   ]
  },
  {
   "cell_type": "code",
   "execution_count": null,
   "metadata": {
    "ExecuteTime": {
     "end_time": "2024-10-14T22:24:46.995132Z",
     "start_time": "2024-10-14T22:24:46.990899Z"
    }
   },
   "outputs": [],
   "source": [
    "# inspect shape of the four matrices\n",
    "print(rna_active.shape)\n",
    "print(protein_active.shape)\n",
    "print(rna_shared.shape)\n",
    "print(protein_shared.shape)"
   ]
  },
  {
   "cell_type": "code",
   "execution_count": null,
   "metadata": {
    "ExecuteTime": {
     "end_time": "2024-10-14T22:24:47.045101Z",
     "start_time": "2024-10-14T22:24:47.041385Z"
    }
   },
   "outputs": [],
   "source": [
    "fusor = mf.model.Fusor(\n",
    "    shared_arr1=rna_shared,\n",
    "    shared_arr2=protein_shared,\n",
    "    active_arr1=rna_active,\n",
    "    active_arr2=protein_active,\n",
    "    labels1=None,\n",
    "    labels2=None\n",
    ")"
   ]
  },
  {
   "cell_type": "code",
   "execution_count": null,
   "metadata": {
    "ExecuteTime": {
     "end_time": "2024-10-14T22:24:47.111599Z",
     "start_time": "2024-10-14T22:24:47.092285Z"
    }
   },
   "outputs": [],
   "source": [
    "fusor.split_into_batches(\n",
    "    max_outward_size=8000,\n",
    "    matching_ratio=4,\n",
    "    metacell_size=2,\n",
    "    verbose=True\n",
    ")"
   ]
  },
  {
   "cell_type": "code",
   "execution_count": null,
   "metadata": {
    "ExecuteTime": {
     "end_time": "2024-10-14T22:25:31.831175Z",
     "start_time": "2024-10-14T22:24:47.161979Z"
    }
   },
   "outputs": [],
   "source": [
    "# plot top singular values of avtive_arr1 on a random batch\n",
    "fusor.plot_singular_values(\n",
    "    target='active_arr1',\n",
    "    n_components=None # can also explicitly specify the number of components\n",
    ")"
   ]
  },
  {
   "cell_type": "code",
   "execution_count": null,
   "metadata": {
    "ExecuteTime": {
     "end_time": "2024-10-14T22:25:38.473449Z",
     "start_time": "2024-10-14T22:25:37.960214Z"
    }
   },
   "outputs": [],
   "source": [
    "fusor.plot_singular_values(\n",
    "    target='active_arr2',\n",
    "    n_components=None\n",
    ")"
   ]
  },
  {
   "cell_type": "code",
   "execution_count": null,
   "metadata": {
    "ExecuteTime": {
     "end_time": "2024-10-14T22:31:18.082505Z",
     "start_time": "2024-10-14T22:25:38.520810Z"
    }
   },
   "outputs": [],
   "source": [
    "fusor.construct_graphs(\n",
    "    n_neighbors1=15,\n",
    "    n_neighbors2=15,\n",
    "    svd_components1=40,\n",
    "    svd_components2=15,\n",
    "    resolution1=2,\n",
    "    resolution2=2,\n",
    "    # if two resolutions differ less than resolution_tol\n",
    "    # then we do not distinguish between then\n",
    "    resolution_tol=0.1,\n",
    "    verbose=True\n",
    ")"
   ]
  },
  {
   "cell_type": "code",
   "execution_count": null,
   "metadata": {
    "ExecuteTime": {
     "end_time": "2024-10-14T22:35:16.081242Z",
     "start_time": "2024-10-14T22:35:15.776265Z"
    }
   },
   "outputs": [],
   "source": [
    "# step II: finding intitial pivots\n",
    "fusor.shared_arr1 = fusor.shared_arr1.X  # Ensure it's a NumPy array\n",
    "fusor.shared_arr2 = fusor.shared_arr2.X  # Ensure it's a NumPy array\n",
    "\n",
    "fusor.plot_singular_values(\n",
    "    target='shared_arr1',\n",
    "    n_components=None,\n",
    ")\n"
   ]
  },
  {
   "cell_type": "code",
   "execution_count": null,
   "metadata": {
    "ExecuteTime": {
     "end_time": "2024-10-14T22:35:10.332870Z",
     "start_time": "2024-10-14T22:35:09.719149Z"
    }
   },
   "outputs": [],
   "source": [
    "fusor.plot_singular_values(\n",
    "    target='shared_arr2',\n",
    "    n_components=None\n",
    ")"
   ]
  },
  {
   "cell_type": "code",
   "execution_count": null,
   "metadata": {
    "ExecuteTime": {
     "end_time": "2024-10-14T22:45:50.772116Z",
     "start_time": "2024-10-14T22:40:20.537406Z"
    }
   },
   "outputs": [],
   "source": [
    "fusor.find_initial_pivots(\n",
    "    wt1=0.3, wt2=0.3,\n",
    "    svd_components1=25, svd_components2=20\n",
    ")\n"
   ]
  },
  {
   "cell_type": "code",
   "execution_count": null,
   "metadata": {
    "ExecuteTime": {
     "end_time": "2024-10-14T22:59:37.409108Z",
     "start_time": "2024-10-14T22:59:15.094952Z"
    }
   },
   "outputs": [],
   "source": [
    "\n",
    "# plot top canonical correlations in a random batch\n",
    "fusor.plot_canonical_correlations(\n",
    "    svd_components1=50,\n",
    "    svd_components2=None,\n",
    "    cca_components=45\n",
    ")\n"
   ]
  },
  {
   "cell_type": "code",
   "execution_count": null,
   "metadata": {
    "ExecuteTime": {
     "end_time": "2024-10-14T23:02:55.142840Z",
     "start_time": "2024-10-14T22:59:37.454241Z"
    }
   },
   "outputs": [],
   "source": [
    "fusor.refine_pivots(\n",
    "    wt1=0.3, wt2=0.3,\n",
    "    svd_components1=40, svd_components2=None,\n",
    "    cca_components=25,\n",
    "    n_iters=1,\n",
    "    randomized_svd=False, \n",
    "    svd_runs=1,\n",
    "    verbose=True\n",
    ")"
   ]
  },
  {
   "cell_type": "code",
   "execution_count": null,
   "metadata": {
    "ExecuteTime": {
     "end_time": "2024-10-14T23:03:54.239793Z",
     "start_time": "2024-10-14T23:02:55.222246Z"
    }
   },
   "outputs": [],
   "source": [
    "fusor.filter_bad_matches(target='pivot', filter_prop=0.5)\n"
   ]
  },
  {
   "cell_type": "code",
   "execution_count": null,
   "metadata": {
    "ExecuteTime": {
     "end_time": "2024-10-14T23:03:54.323984Z",
     "start_time": "2024-10-14T23:03:54.288597Z"
    }
   },
   "outputs": [],
   "source": [
    "pivot_matching = fusor.get_matching(order=(2, 1),target='pivot')\n",
    "\n",
    "lv1_acc = mf.metrics.get_matching_acc(matching=pivot_matching, \n",
    "    labels1=labels_rna, \n",
    "    labels2=labels_codex,\n",
    "    order = (2,1)\n",
    ")\n",
    "lv1_acc"
   ]
  },
  {
   "cell_type": "code",
   "execution_count": null,
   "metadata": {
    "ExecuteTime": {
     "end_time": "2024-10-14T23:27:55.894033Z",
     "start_time": "2024-10-14T23:27:38.780495Z"
    }
   },
   "outputs": [],
   "source": [
    "# Assuming 'fusor' is your Fusor object\n",
    "rna_cca, codex_cca = fusor.get_embedding(\n",
    "    active_arr1=fusor.active_arr1,      # scRNA-seq active array\n",
    "    active_arr2=fusor.active_arr2       # CODEX active array\n",
    ")\n"
   ]
  }
 ],
 "metadata": {
  "kernelspec": {
   "display_name": "Python 3",
   "language": "python",
   "name": "python3"
  },
  "language_info": {
   "codemirror_mode": {
    "name": "ipython",
    "version": 3
   },
   "file_extension": ".py",
   "mimetype": "text/x-python",
   "name": "python",
   "nbconvert_exporter": "python",
   "pygments_lexer": "ipython3",
   "version": "3.8.20"
  }
 },
 "nbformat": 4,
 "nbformat_minor": 2
}
