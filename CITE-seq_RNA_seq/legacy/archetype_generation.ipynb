{
 "cells": [
  {
   "cell_type": "code",
   "execution_count": null,
   "metadata": {
    "ExecuteTime": {
     "end_time": "2025-01-30T17:36:39.238470Z",
     "start_time": "2025-01-30T17:36:38.998259Z"
    }
   },
   "outputs": [],
   "source": [
    "import copy\n",
    "import importlib\n",
    "import os\n",
    "import re\n",
    "\n",
    "import anndata\n",
    "import numpy as np\n",
    "# import starfysh\n",
    "import pandas as pd\n",
    "import scanpy as sc\n",
    "\n",
    "import scvi\n",
    "import seaborn as sns\n",
    "from anndata import AnnData\n",
    "# import starfysh\n",
    "from matplotlib import pyplot as plt\n",
    "from py_pcha import PCHA\n",
    "from scipy.sparse import issparse\n",
    "from scipy.spatial.distance import cdist\n",
    "from scipy.stats import zscore\n",
    "from sklearn.cluster import KMeans\n",
    "from sklearn.decomposition import PCA\n",
    "from sympy.physics.units import current\n",
    "from tqdm import tqdm\n",
    "from kneed import KneeLocator\n",
    "\n",
    "import bar_nick_utils\n",
    "\n",
    "importlib.reload(bar_nick_utils)\n",
    "\n",
    "from bar_nick_utils import preprocess_rna, preprocess_protein, plot_archetypes, \\\n",
    "    get_cell_representations_as_archetypes_cvxpy, reorder_rows_to_maximize_diagonal, evaluate_distance_metrics, \\\n",
    "    plot_archetypes_matching, compare_matchings, find_best_pair_by_row_matching, add_spatial_data_to_prot, \\\n",
    "    clean_uns_for_h5ad, get_latest_file,match_datasets\n",
    "plot_flag = False\n",
    "# computationally figure out which ones are best\n",
    "np.random.seed(8)\n",
    "! which python"
   ]
  },
  {
   "cell_type": "markdown",
   "metadata": {},
   "source": [
    "### reading in data"
   ]
  },
  {
   "cell_type": "code",
   "execution_count": null,
   "metadata": {
    "ExecuteTime": {
     "end_time": "2025-01-30T16:48:46.585180Z",
     "start_time": "2025-01-30T16:48:44.641171Z"
    }
   },
   "outputs": [],
   "source": [
    "# adata = sc.read(\"spleen_lymph_cite_seq.h5ad\")\n",
    "adata = scvi.data.spleen_lymph_cite_seq(save_path='data')\n",
    "# adata for protein, rna take relevant info for each <for each sample>\n"
   ]
  },
  {
   "cell_type": "code",
   "execution_count": null,
   "metadata": {},
   "outputs": [],
   "source": [
    "# from apca.models import *\n",
    "# n_components=2 # factors have dimensionality of 2\n",
    "# mu = 1.0 # augmenting objective strength equal to 1\n",
    "# inference = 'encoded' # encoded approximate inference strategy\n",
    "\n",
    "# aapca = AAPCA(n_components=n_components, mu=mu, inference=inference)\n"
   ]
  },
  {
   "cell_type": "code",
   "execution_count": null,
   "metadata": {},
   "outputs": [],
   "source": [
    "# # Import numpy\n",
    "# import numpy as np\n",
    "\n",
    "# # Generate synthetic data\n",
    "# # Note: primary and augmenting data must have same number of samples/same first dimension size\n",
    "# n_samp = 100\n",
    "# X = np.random.randn(n_samp, 20)   # primary data, 100 samples with dimensionality of 20\n",
    "# Y = np.random.randn(n_samp, 3)    # concomitant data, 100 samples with dimensionality of 3\n",
    "\n",
    "# # Fit adversarial AugmentedPCA instance\n",
    "# aapca.fit(X=X, Y=Y)\n"
   ]
  },
  {
   "cell_type": "code",
   "execution_count": null,
   "metadata": {},
   "outputs": [],
   "source": [
    "# # Import numpy\n",
    "# import numpy as np\n",
    "\n",
    "# # Import supervised AugmentedPCA\n",
    "# from apca.models import SAPCA\n",
    "\n",
    "# # Generate synthetic data and labels\n",
    "# n_samp = 100\n",
    "# X = np.random.randn(n_samp, 20)\n",
    "# Y = np.random.randint(low=0, high=1, size=(n_samp, 1), dtype=int)\n",
    "\n",
    "# # Generate test/train splits\n",
    "# train_pct = 0.7\n",
    "# idx = np.arange(start=0, stop=101, step=1, dtype=int)\n",
    "# np.random.shuffle(idx)\n",
    "# n_train = int(train_pct * len(idx))\n",
    "# train_idx = idx[:n_train]\n",
    "# test_idx = idx[n_train:]\n",
    "\n",
    "# # Split data into test/train sets\n",
    "# X_train = X[train_idx, :]\n",
    "# X_test = X[test_idx, :]\n",
    "# Y_train = Y[train_idx, :]\n",
    "# Y_test = Y[test_idx, :]\n",
    "\n",
    "# # Instantiate supervised AugmentedPCA model with local approximate inference strategy\n",
    "# sapca = SAPCA(n_components=3, mu=5.0, inference='local')\n",
    "\n",
    "# # Fit supervised AugmentedPCA model\n",
    "# sapca.fit(X=X_train, Y=Y_train)\n",
    "\n",
    "# # Generate components for test set\n",
    "# # Note: both primary and augmenting data are needed to obtain factors\n",
    "# S_test = sapca.transform(X=X_test, Y=Y_test)\n"
   ]
  },
  {
   "cell_type": "code",
   "execution_count": null,
   "metadata": {
    "ExecuteTime": {
     "end_time": "2025-01-30T16:48:46.725495Z",
     "start_time": "2025-01-30T16:48:46.637394Z"
    }
   },
   "outputs": [],
   "source": [
    "adata_1 = adata[adata.obs['batch'] == f'SLN111-D1']\n",
    "adata_2 = adata[adata.obs['batch'] == f'SLN111-D2']\n",
    "fraction = 1\n",
    "sc.pp.subsample(adata_1, fraction=fraction)\n",
    "sc.pp.subsample(adata_2, fraction=fraction)\n",
    "adata_1 = adata_1[adata_1.obs['cell_types'].argsort(), :]  # sort by cell types for easier visualization\n",
    "adata_2 = adata_2[adata_2.obs['cell_types'].argsort(), :]  # sort by cell types for easier visualization\n",
    "\n",
    "# initial_adata_rna = adata[adata.obs['batch'] == f'SLN111-D1']\n",
    "# initial_adata_protein = adata[adata.obs['batch'] == f'SLN208-D1'] \n",
    "# get rna from one patient, protein from the other then run the whole archetype analysis\n",
    "# cell type protein, cell type rna, see which one's \n",
    "qwe+!"
   ]
  },
  {
   "cell_type": "code",
   "execution_count": null,
   "metadata": {
    "ExecuteTime": {
     "end_time": "2025-01-30T16:48:46.764984Z",
     "start_time": "2025-01-30T16:48:46.761298Z"
    }
   },
   "outputs": [],
   "source": [
    "adata_1"
   ]
  },
  {
   "cell_type": "code",
   "execution_count": null,
   "metadata": {
    "ExecuteTime": {
     "end_time": "2025-01-30T16:48:46.900489Z",
     "start_time": "2025-01-30T16:48:46.810898Z"
    }
   },
   "outputs": [],
   "source": [
    "cell_type_mapping = {\n",
    "    \"Activated CD4 T\": \"CD4 T\",\n",
    "    \"B1 B\": \"B cells\",\n",
    "    \"CD122+ CD8 T\": \"CD8 T\",\n",
    "    \"CD4 T\": \"CD4 T\",\n",
    "    \"CD8 T\": \"CD8 T\",\n",
    "    \"Erythrocytes\": \"RBC\",\n",
    "    \"GD T\": \"T cells\",\n",
    "    \"ICOS-high Tregs\": \"CD4 T\",\n",
    "    \"Ifit3-high B\": \"B cells\",\n",
    "    \"Ifit3-high CD4 T\": \"CD4 T\",\n",
    "    \"Ifit3-high CD8 T\": \"CD8 T\",\n",
    "    \"Ly6-high mono\": \"Monocytes\",\n",
    "    \"Ly6-low mono\": \"Monocytes\",\n",
    "    \"MZ B\": \"B cells\",\n",
    "    \"MZ/Marco-high macrophages\": \"Macrophages\",\n",
    "    \"Mature B\": \"B cells\",\n",
    "    \"Migratory DCs\": \"cDCs\",\n",
    "    \"NK\": \"NK\",\n",
    "    \"NKT\": \"T cells\",\n",
    "    \"Neutrophils\": \"Neutrophils\",\n",
    "    \"Plasma B\": \"B cells\",\n",
    "    \"Red-pulp macrophages\": \"Macrophages\",\n",
    "    \"Transitional B\": \"B cells\",\n",
    "    \"Tregs\": \"Treg\",\n",
    "    \"cDC1s\": \"cDCs\",\n",
    "    \"cDC2s\": \"cDCs\",\n",
    "    \"pDCs\": \"pDCs\",\n",
    "}\n",
    "# Map the specific cell types to major cell types and add as a new column in obs\n",
    "adata.obs['major_cell_types'] = pd.Categorical(adata.obs['cell_types'].map(cell_type_mapping))\n",
    "\n",
    "adata_1.obs['major_cell_types'] = pd.Categorical(adata_1.obs['cell_types'].map(cell_type_mapping))\n",
    "adata_2.obs['major_cell_types'] = pd.Categorical(adata_2.obs['cell_types'].map(cell_type_mapping))\n",
    "\n",
    "assert set(cell_type_mapping.keys()) == set(adata.obs['cell_types'])\n",
    "\n",
    "# generate major cell types\n",
    "major_to_minor_dict ={}\n",
    "# from major to minor dict\n",
    "for k,v in cell_type_mapping.items():\n",
    "    if v not in major_to_minor_dict:\n",
    "        major_to_minor_dict[v] = [k]\n",
    "    else:\n",
    "        major_to_minor_dict[v].append(k)"
   ]
  },
  {
   "cell_type": "code",
   "execution_count": null,
   "metadata": {
    "ExecuteTime": {
     "end_time": "2025-01-30T16:48:47.051902Z",
     "start_time": "2025-01-30T16:48:47.047802Z"
    }
   },
   "outputs": [],
   "source": [
    "adata_1"
   ]
  },
  {
   "cell_type": "code",
   "execution_count": null,
   "metadata": {
    "ExecuteTime": {
     "end_time": "2025-01-30T16:48:47.141013Z",
     "start_time": "2025-01-30T16:48:47.135668Z"
    }
   },
   "outputs": [],
   "source": [
    "print(adata_1.obs['major_cell_types'].value_counts())\n",
    "print(adata_2.obs['major_cell_types'].value_counts())"
   ]
  },
  {
   "cell_type": "code",
   "execution_count": null,
   "metadata": {
    "ExecuteTime": {
     "end_time": "2025-01-30T16:48:47.207586Z",
     "start_time": "2025-01-30T16:48:47.201823Z"
    }
   },
   "outputs": [],
   "source": [
    "adata.obs['major_cell_types'].value_counts()"
   ]
  },
  {
   "cell_type": "markdown",
   "metadata": {},
   "source": [
    "### preprocessing RNA protein"
   ]
  },
  {
   "cell_type": "code",
   "execution_count": null,
   "metadata": {
    "ExecuteTime": {
     "end_time": "2025-01-30T16:48:48.964199Z",
     "start_time": "2025-01-30T16:48:47.276761Z"
    }
   },
   "outputs": [],
   "source": [
    "# Filter cells and genes (different sample)\n",
    "sc.pp.filter_cells(adata_1, min_genes=100)\n",
    "sc.pp.filter_genes(adata_1, min_cells=20)\n",
    "# Identify highly variable genes (for further analysis, could narrow down)\n",
    "sc.pp.highly_variable_genes(adata_1, n_top_genes=2000, flavor='seurat_v3')\n"
   ]
  },
  {
   "cell_type": "code",
   "execution_count": null,
   "metadata": {},
   "outputs": [],
   "source": []
  },
  {
   "cell_type": "code",
   "execution_count": null,
   "metadata": {},
   "outputs": [],
   "source": [
    "\n",
    "# Scatter plot of variance vs. mean expression\n",
    "# common approach to inspect the variance of genes. It shows the relationship between mean expression and variance (or dispersion) and highlights the selected highly variable genes.\n",
    "if plot_flag:\n",
    "    plt.figure(figsize=(8, 6))\n",
    "    plt.scatter(adata_1.var['means'], adata_1.var['variances'], alpha=0.3, label='All genes')\n",
    "    plt.scatter(adata_1.var['means'][adata_1.var['highly_variable']], \n",
    "        adata_1.var['variances'][adata_1.var['highly_variable']], \n",
    "        color='red', label='Highly variable genes')\n",
    "    plt.xlabel('Mean expression')\n",
    "    plt.ylabel('Variance')\n",
    "    plt.xscale('log')\n",
    "    plt.yscale('log')\n",
    "    plt.legend()\n",
    "    plt.title('Variance vs. Mean Expression of Genes')\n",
    "    plt.show()\n"
   ]
  },
  {
   "cell_type": "code",
   "execution_count": null,
   "metadata": {},
   "outputs": [],
   "source": [
    "# plt.figure(figsize=(8, 6))\n",
    "# plt.hist(adata_1.var['variances'], bins=75, alpha=0.7)\n",
    "# plt.axvline(x=adata_1.var['variances'][adata_1.var['highly_variable']].min(), color='red', linestyle='dashed', label='Cutoff')\n",
    "# plt.xlabel('Variance')\n",
    "# plt.ylabel('Frequency')\n",
    "# plt.yscale('log')\n",
    "# plt.title('Distribution of Gene Variances')\n",
    "# plt.legend()\n",
    "# plt.show()\n"
   ]
  },
  {
   "cell_type": "code",
   "execution_count": null,
   "metadata": {},
   "outputs": [],
   "source": [
    "variances_sorted = np.sort(adata_1.var['variances'])[::-1]\n",
    "\n",
    "if plot_flag:\n",
    "    plt.figure(figsize=(8, 6))\n",
    "    plt.plot(range(1, len(variances_sorted) + 1), variances_sorted)\n",
    "    plt.xlabel('Gene rank')\n",
    "    plt.ylabel('Variance')\n",
    "    # plt.xscale('log')\n",
    "\n",
    "    plt.yscale('log')\n",
    "    plt.title('Elbow plot of Gene Variances')\n",
    "    plt.axvline(x=1000, color='red', linestyle='dashed', label='n_top_genes=1000')\n",
    "    plt.legend()\n",
    "    plt.show()\n",
    "    plt.figure()\n",
    "kneedle = KneeLocator(range(1, len(variances_sorted) + 1), np.log(variances_sorted), S=4.0, curve=\"convex\", direction=\"decreasing\")\n",
    "if plot_flag:\n",
    "    kneedle.plot_knee()\n",
    "\n"
   ]
  },
  {
   "cell_type": "code",
   "execution_count": null,
   "metadata": {},
   "outputs": [],
   "source": [
    "print(kneedle.knee)"
   ]
  },
  {
   "cell_type": "code",
   "execution_count": null,
   "metadata": {},
   "outputs": [],
   "source": [
    "sc.pp.highly_variable_genes(adata_1, n_top_genes=kneedle.knee, flavor='seurat_v3')"
   ]
  },
  {
   "cell_type": "code",
   "execution_count": null,
   "metadata": {},
   "outputs": [],
   "source": [
    "adata_1 = adata_1[:, adata_1.var['highly_variable']]\n",
    "print(f\"Selected {adata_1.shape[1]} highly variable genes.\")\n",
    "# PCA after selecting highly variable genes\n",
    "sc.pp.pca(adata_1)\n",
    "print(\n",
    "    f\"Variance ratio after highly variable gene selection PCA (10 PCs): {adata_1.uns['pca']['variance_ratio'][:10].sum():.4f}\")"
   ]
  },
  {
   "cell_type": "code",
   "execution_count": null,
   "metadata": {},
   "outputs": [],
   "source": [
    "adata_1"
   ]
  },
  {
   "cell_type": "code",
   "execution_count": null,
   "metadata": {
    "ExecuteTime": {
     "end_time": "2025-01-30T16:48:49.002044Z",
     "start_time": "2025-01-30T16:48:48.992179Z"
    }
   },
   "outputs": [],
   "source": [
    "# ]\n",
    "adata_1 = adata_1[\n",
    "    adata_1.obs.sort_values(by=['major_cell_types', 'cell_types']).index\n",
    "]\n",
    "\n",
    "adata_2 = adata_2[\n",
    "    adata_2.obs.sort_values(by=['major_cell_types', 'cell_types']).index\n",
    "]\n"
   ]
  },
  {
   "cell_type": "code",
   "execution_count": null,
   "metadata": {
    "ExecuteTime": {
     "end_time": "2025-01-30T16:48:55.203301Z",
     "start_time": "2025-01-30T16:48:49.035627Z"
    }
   },
   "outputs": [],
   "source": [
    "# initial adata code (different samples) (takes a little while longer for some reason)\n",
    "# make sure I do this to adata_2 as well\n",
    "\n",
    "\n",
    "# ran into this: InvalidIndexError: Reindexing only valid with uniquely valued Index objects\n",
    "\n",
    "# adata_1 = adata_1[\n",
    "#     adata_1.obs.sort_values(by=['major_cell_types', 'cell_types']).index\n",
    "# ]\n",
    "# so only kept reoccurence of first cell here\n",
    "# adata_1 = adata_1[\n",
    "#     ~adata_1.obs.index.duplicated(keep='first') \n",
    "# ]\n",
    "adata_1 = adata_1[\n",
    "    adata_1.obs.sort_values(by=['major_cell_types', 'cell_types']).index\n",
    "]\n",
    "\n",
    "adata_2 = adata_2[\n",
    "    adata_2.obs.sort_values(by=['major_cell_types', 'cell_types']).index\n",
    "]\n",
    "\n",
    "adata_1_rna = adata_1.copy()\n",
    "sc.pp.pca(adata_1_rna)\n",
    "print(f'variance explained by first 10 PCs {adata_1_rna.uns[\"pca\"][\"variance_ratio\"][:10].sum()}')\n",
    "adata_1_rna = preprocess_rna(adata_1_rna)\n",
    "sc.pp.pca(adata_1_rna)\n",
    "\n",
    "adata_1_rna.obsm.pop('protein_expression')\n",
    "# assert len(set(adata.obs['batch']))!=1\n",
    "\n",
    "adata_2_prot = AnnData(adata_2.obsm['protein_expression'])\n",
    "# # add all obs and var to adata_prot\n",
    "# adata_prot.obs = adata_rna.obs (this is a potential problem as rna and protein obs don't match currently)\n",
    "adata_2_prot.obs = adata_2.obs \n",
    "# remove n_genes and percent_mito from adata_prot\n",
    "\n",
    "# del adata\n",
    "\n"
   ]
  },
  {
   "cell_type": "code",
   "execution_count": null,
   "metadata": {},
   "outputs": [],
   "source": [
    "sc.pp.filter_cells(adata_2_prot, min_genes=90)\n",
    "sc.pp.filter_genes(adata_2_prot, min_cells=100)"
   ]
  },
  {
   "cell_type": "code",
   "execution_count": null,
   "metadata": {},
   "outputs": [],
   "source": [
    "if plot_flag:\n",
    "    sc.pp.pca(adata_2_prot)\n",
    "\n",
    "    sc.pp.neighbors(adata_2_prot)  # Compute the neighbors needed for UMAP\n",
    "    sc.tl.umap(adata_2_prot)  # Calculate UMAP coordinates\n",
    "\n",
    "    sc.pl.umap(adata_2_prot, color='cell_types')"
   ]
  },
  {
   "cell_type": "code",
   "execution_count": null,
   "metadata": {},
   "outputs": [],
   "source": [
    "adata_2_prot.obs = adata_2_prot.obs.drop(columns=['n_genes', 'percent_mito'])\n",
    "adata_2_prot = preprocess_protein(adata_2_prot)\n",
    "adata_2_prot.obsm.pop('X_pca')\n",
    "adata_2_prot.varm.pop('PCs')\n",
    "original_protein_num = adata_2_prot.X.shape[1]"
   ]
  },
  {
   "cell_type": "code",
   "execution_count": null,
   "metadata": {},
   "outputs": [],
   "source": [
    "adata_2_prot.X"
   ]
  },
  {
   "cell_type": "markdown",
   "metadata": {},
   "source": [
    "# Synthetic spatial data generation"
   ]
  },
  {
   "cell_type": "code",
   "execution_count": null,
   "metadata": {
    "ExecuteTime": {
     "end_time": "2025-01-30T16:48:56.106381Z",
     "start_time": "2025-01-30T16:48:55.266721Z"
    }
   },
   "outputs": [],
   "source": [
    "\n",
    "assert adata_2_prot.obs.index.is_unique\n",
    "\n",
    "adata_2_prot,horizontal_splits,vertical_splits = add_spatial_data_to_prot(adata_2_prot, major_to_minor_dict)\n",
    "adata_2_prot.obsm['spatial_location'] = pd.DataFrame([adata_2_prot.obs['X'],adata_2_prot.obs['Y']]).T\n",
    "if plot_flag:\n",
    "    sc.pl.scatter(adata_2_prot[adata_2_prot.obs['major_cell_types']=='B cells'], x='X', y='Y', color='cell_types', title='B Cell subtypes locations')\n",
    "    sc.pl.scatter(adata_2_prot[adata_2_prot.obs['major_cell_types']=='CD4 T'], x='X', y='Y', color='cell_types', title='T Cell subtypes locations')\n",
    "    sc.pl.scatter(adata_2_prot[adata_2_prot.obs['major_cell_types']=='CD8 T'], x='X', y='Y', color='cell_types', title='T Cell subtypes locations')\n"
   ]
  },
  {
   "cell_type": "code",
   "execution_count": null,
   "metadata": {
    "ExecuteTime": {
     "end_time": "2025-01-30T16:49:33.393562Z",
     "start_time": "2025-01-30T16:48:56.141337Z"
    }
   },
   "outputs": [],
   "source": [
    "sc.pp.neighbors(adata_2_prot,use_rep='spatial_location')\n",
    "\n",
    "connectivities = adata_2_prot.obsp['connectivities']\n",
    "connectivities[connectivities>0]=1\n",
    "assert np.array_equal(np.array([0., 1.], dtype=np.float32), np.unique(np.array(connectivities.todense())))\n",
    "if plot_flag:\n",
    "    sns.heatmap(connectivities.todense()[:10000,:10000])"
   ]
  },
  {
   "cell_type": "code",
   "execution_count": null,
   "metadata": {
    "ExecuteTime": {
     "end_time": "2025-01-30T16:49:33.664023Z",
     "start_time": "2025-01-30T16:49:33.439562Z"
    }
   },
   "outputs": [],
   "source": [
    "neighbor_sums = connectivities.dot(adata_2_prot.X) # get the sum of all neighbors\n",
    "# neighbor_means = neighbor_sums/(0.00001+neighbor_sums.sum(1))[:,np.newaxis] # normalize\n",
    "neighbor_means = np.asarray(neighbor_sums/connectivities.sum(1))\n",
    "if plot_flag:\n",
    "    # showing the first 3 features of 50 cells (should be similar because same major cell type)\n",
    "    plt.figure(figsize=(10,5))\n",
    "    plt.subplot(1,2,1)\n",
    "    sns.scatterplot(neighbor_means[:50,:3])\n",
    "    plt.subplot(1,2,2)\n",
    "    # make sure that the features are independent\n",
    "    plt.scatter(neighbor_means[:50,0],neighbor_means[:50,1])"
   ]
  },
  {
   "cell_type": "code",
   "execution_count": null,
   "metadata": {
    "ExecuteTime": {
     "end_time": "2025-01-30T16:49:33.826379Z",
     "start_time": "2025-01-30T16:49:33.697419Z"
    }
   },
   "outputs": [],
   "source": [
    "# (different samples)\n",
    "# since we have different samples, we need different final labels after the clustering\n",
    "# Standardize the data\n",
    "normalized_data = zscore(neighbor_means, axis=0) # each cell we get the mean of the features of its neighbors\n",
    "num_clusters = 5\n",
    "kmeans = KMeans(n_clusters=num_clusters, random_state=0).fit(normalized_data)\n",
    "\n",
    "final_labels = np.array(kmeans.labels_)\n",
    "if 'CN' in adata_2_prot.obs:\n",
    "    adata_2_prot.obs.drop(columns=['CN'], inplace=True, errors='ignore')\n",
    "    # adata_1_rna.obs.drop(columns=['CN'], inplace=True, errors='ignore')\n",
    "adata_2_prot.obs['CN'] = pd.Categorical(final_labels)\n",
    "# adata_1_rna.obs['CN'] = pd.Categorical(final_labels)\n",
    "num_clusters = len(adata_2_prot.obs['CN'].unique())\n",
    "\n",
    "palette = sns.color_palette(\"tab10\", num_clusters)  # \"tab10\" is a good color map, you can choose others too\n",
    "adata_2_prot.uns['spatial_clusters_colors'] = palette.as_hex()  # Save as hex color codes\n"
   ]
  },
  {
   "cell_type": "code",
   "execution_count": null,
   "metadata": {
    "ExecuteTime": {
     "end_time": "2025-01-30T16:49:34.144934Z",
     "start_time": "2025-01-30T16:49:33.862783Z"
    }
   },
   "outputs": [],
   "source": [
    "from sklearn.decomposition import PCA\n",
    "res = PCA(2).fit_transform(normalized_data)\n",
    "# feature vector mean of each cell's neighbors \n",
    "plt.scatter(res[:,0],res[:,1],c=final_labels)\n"
   ]
  },
  {
   "cell_type": "code",
   "execution_count": null,
   "metadata": {
    "ExecuteTime": {
     "end_time": "2025-01-30T16:49:35.608483Z",
     "start_time": "2025-01-30T16:49:34.179354Z"
    }
   },
   "outputs": [],
   "source": [
    "sns.heatmap(neighbor_means) # less noisy because we mean, makes sense as we made sure each cell is of same cell type\n",
    "plt.show()\n",
    "sns.heatmap(adata_2_prot.X)"
   ]
  },
  {
   "cell_type": "code",
   "execution_count": null,
   "metadata": {
    "ExecuteTime": {
     "end_time": "2025-01-30T16:50:05.762026Z",
     "start_time": "2025-01-30T16:49:35.642722Z"
    }
   },
   "outputs": [],
   "source": [
    "# (different adata technique)\n",
    "if plot_flag:\n",
    "    # merge the CN to the protein data\n",
    "    fig, ax = plt.subplots()\n",
    "    sc.pl.scatter(\n",
    "        adata_2_prot,\n",
    "        x='X', y='Y',\n",
    "        color='CN', # got this CN from kmeans\n",
    "        title='Cluster cells by their CN, can see the different CN in different regions, \\nthanks to the different B cell types in each region',\n",
    "        ax=ax,  # Use the ax created above\n",
    "        show=False  # Prevent scanpy from showing the plot immediately\n",
    "    )\n",
    "    for x in horizontal_splits[1:-1]:  # Exclude the edges to avoid border doubling\n",
    "        ax.axvline(x=x, color='black', linestyle='--')\n",
    "    for y in vertical_splits[1:-1]:  # Exclude the edges to avoid border doubling\n",
    "        ax.axhline(y=y, color='black', linestyle='--')\n",
    "    plt.show()\n",
    "    \n",
    "    neighbor_adata = anndata.AnnData(neighbor_means)\n",
    "\n",
    "    # rna no longer has the CN, using the protein\n",
    "    neighbor_adata.obs['CN'] = pd.Categorical(adata_2_prot.obs['CN'])\n",
    "\n",
    "    \n",
    "    sc.pp.pca(neighbor_adata)\n",
    "    sc.pp.neighbors(neighbor_adata)\n",
    "    sc.tl.umap(neighbor_adata)\n",
    "    sc.pl.umap(neighbor_adata, color='CN', title='UMAP of CN embedding')\n",
    "\n",
    "    # making sure the CN and the protein are distinct\n",
    "    adata_prot_cn_concat =anndata.concat([adata_2_prot, neighbor_adata], join='outer', label='modality', keys=['Protein','CN'])\n",
    "    X = adata_prot_cn_concat.X.toarray() if issparse(adata_prot_cn_concat.X) else adata_prot_cn_concat.X\n",
    "    X = np.nan_to_num(X)\n",
    "    adata_prot_cn_concat.X = X\n",
    "    sc.pp.pca(adata_prot_cn_concat)\n",
    "    sc.pp.neighbors(adata_prot_cn_concat)\n",
    "    sc.tl.umap(adata_prot_cn_concat)\n",
    "    sc.pl.umap(adata_prot_cn_concat,color=['CN','modality'],title=['UMAP of CN embedding','UMAP of CN embedding concatenated'])\n",
    "    sc.pl.pca(adata_prot_cn_concat, color=['CN','modality'], title=['PCA of CN embedding','PCA of CN embedding concatenated'])\n"
   ]
  },
  {
   "cell_type": "code",
   "execution_count": null,
   "metadata": {
    "ExecuteTime": {
     "end_time": "2025-01-30T16:50:06.124649Z",
     "start_time": "2025-01-30T16:50:05.796525Z"
    }
   },
   "outputs": [],
   "source": [
    "# Assuming `adata_prot` is the original AnnData object\n",
    "# And `neighbor_means` is the new matrix to be concatenated\n",
    "# different adata\n",
    "new_feature_names = [f\"CN_{i}\" for i in adata_2_prot.var.index]\n",
    "if adata_2_prot.X.shape[1] == neighbor_means.shape[1]:\n",
    "    new_X = np.hstack([adata_2_prot.X, neighbor_means])\n",
    "    additional_var = pd.DataFrame(index=new_feature_names)\n",
    "    new_vars = pd.concat([adata_2_prot.var, additional_var])\n",
    "else:\n",
    "    new_X = adata_2_prot.X\n",
    "    new_vars = adata_2_prot.var\n",
    "\n",
    "adata_2_prot = anndata.AnnData(\n",
    "    X=new_X,\n",
    "    obs=adata_2_prot.obs.copy(),   # Keep the same observation metadata\n",
    "    var= new_vars,   # Keep the same variable metadata\n",
    "    uns=adata_2_prot.uns.copy(),   # Keep the same unstructured data\n",
    "    obsm=adata_2_prot.obsm.copy(), # Keep the same observation matrices\n",
    "    # varm=adata_prot.varm.copy(), # Keep the same variable matrices\n",
    "    layers=adata_2_prot.layers.copy()  # Keep the same layers\n",
    ")\n",
    "adata_2_prot.var['feature_type'] = ['protein'] * original_protein_num + ['CN'] * neighbor_means.shape[1]\n",
    "sc.pp.pca(adata_2_prot) # rerun PCA\n",
    "print(f\"New adata shape (protein features + cell neighborhood vector): {adata_2_prot.shape}\")\n"
   ]
  },
  {
   "cell_type": "markdown",
   "metadata": {},
   "source": [
    "# End of CN concatenation to protein features"
   ]
  },
  {
   "cell_type": "code",
   "execution_count": null,
   "metadata": {
    "ExecuteTime": {
     "end_time": "2025-01-30T16:50:27.330505Z",
     "start_time": "2025-01-30T16:50:06.248124Z"
    }
   },
   "outputs": [],
   "source": [
    "# different rna, protein data analysis\n",
    "sc.pp.pca(adata_1_rna)\n",
    "sc.pp.pca(adata_2_prot)\n",
    "sc.pp.neighbors(adata_1_rna, key_added='original_neighbors',use_rep='X_pca')\n",
    "sc.tl.umap(adata_1_rna, neighbors_key='original_neighbors')\n",
    "adata_1_rna.obsm['X_original_umap'] = adata_1_rna.obsm[\"X_umap\"]\n",
    "sc.pp.neighbors(adata_2_prot, key_added='original_neighbors',use_rep='X_pca')\n",
    "sc.tl.umap(adata_2_prot, neighbors_key='original_neighbors')\n",
    "adata_2_prot.obsm['X_original_umap'] = adata_2_prot.obsm[\"X_umap\"]\n",
    "\n",
    "if plot_flag:\n",
    "    sc.pl.pca(adata_1_rna, color=['cell_types', 'major_cell_types'], title=['RNA pca minor cell types', 'RNA pca major cell types'])\n",
    "    sc.pl.pca(adata_2_prot, color=['cell_types', 'major_cell_types'], title=['Protein pca minor cell types', 'Protein pca major cell types'])\n",
    "    sc.pl.embedding(adata_1_rna, basis='X_umap', color=[ 'major_cell_types','cell_types'], title=['RNA UMAP major cell types','RNA UMAP major cell types'])\n",
    "    sc.pl.embedding(adata_2_prot,basis='X_original_umap',color=['major_cell_types','cell_types'],title=['Protein UMAp major cell types','Protein UMAP major cell types'])"
   ]
  },
  {
   "cell_type": "code",
   "execution_count": null,
   "metadata": {},
   "outputs": [],
   "source": [
    "# computing a gene module score \n",
    "terminal_exhaustion = [\n",
    "    \"CD3G\", \"FASLG\", \"ID2\", \"LAG3\", \"RGS1\",\n",
    "    \"CCL3\", \"CCL3L1\", \"KIAA1671\", \"SH2D2A\", \"DUSP2\",\n",
    "    \"PDCD1\", \"CD7\", \"NR4A2\", \"CD160\", \"PTPN22\",\n",
    "    \"ABI3\", \"PTGER4\", \"GZMK\", \"GZMA\", \"MBNL1\",\n",
    "    \"VMP1\", \"PLAC8\", \"RGS3\", \"EFHD2\", \"GLRX\",\n",
    "    \"CXCR6\", \"ARL6IP1\", \"CCL4\", \"ISG15\", \"LAX1\",\n",
    "    \"CD8A\", \"SERPINA3\", \"GZMB\", \"TOX\"\n",
    "]\n",
    "precursor_exhaustion = [\n",
    "    \"TCF7\", \"MS4A4A\", \"TNFSF8\", \"CXCL10\", \"EEF1B2\",\n",
    "    \"ID3\", \"IL7R\", \"JUN\", \"LTB\", \"XCL1\",\n",
    "    \"SOCS3\", \"TRAF1\", \"EMB\", \"CRTAM\", \"EEF1G\",\n",
    "    \"CD9\", \"ITGB1\", \"GPR183\", \"ZFP36L1\", \"SLAMF6\",\n",
    "    \"LY6E\"\n",
    "]\n",
    "cd8_t_cell_activation = [\n",
    "    \"CD69\", \"CCR7\", \"CD27\", \"BTLA\", \"CD40LG\",\n",
    "    \"IL2RA\", \"CD3E\", \"CD47\", \"EOMES\", \"GNLY\",\n",
    "    \"GZMA\", \"GZMB\", \"PRF1\", \"IFNG\", \"CD8A\",\n",
    "    \"CD8B\", \"CD95L\", \"LAMP1\", \"LAG3\", \"CTLA4\",\n",
    "    \"HLA-DRA\", \"TNFRSF4\", \"ICOS\", \"TNFRSF9\", \"TNFRSF18\"\n",
    "]\n",
    "\n",
    "\n"
   ]
  },
  {
   "cell_type": "code",
   "execution_count": null,
   "metadata": {},
   "outputs": [],
   "source": [
    "adata_1_rna.var_names = adata_1_rna.var_names.str.upper()\n",
    "adata_2_prot.var_names = adata_2_prot.var_names.str.upper()"
   ]
  },
  {
   "cell_type": "code",
   "execution_count": null,
   "metadata": {},
   "outputs": [],
   "source": [
    "sc.tl.score_genes(adata_1_rna, gene_list=terminal_exhaustion, score_name=\"terminal_exhaustion_score\")"
   ]
  },
  {
   "cell_type": "code",
   "execution_count": null,
   "metadata": {},
   "outputs": [],
   "source": [
    "if plot_flag:\n",
    "    sc.pl.umap(adata_1_rna, color=\"terminal_exhaustion_score\", cmap=\"viridis\")\n"
   ]
  },
  {
   "cell_type": "code",
   "execution_count": null,
   "metadata": {},
   "outputs": [],
   "source": [
    "adata_1_rna"
   ]
  },
  {
   "cell_type": "markdown",
   "metadata": {},
   "source": [
    "### analysis to get to scatter plot"
   ]
  },
  {
   "cell_type": "code",
   "execution_count": null,
   "metadata": {
    "ExecuteTime": {
     "end_time": "2025-01-30T16:50:48.800266Z",
     "start_time": "2025-01-30T16:50:27.378157Z"
    }
   },
   "outputs": [],
   "source": [
    "# different adata analysis\n",
    "adata_2_prot_first_110_vars = adata_2_prot[:, adata_2_prot.var_names[:110]].copy()\n",
    "adata_2_prot_second_110_vars = adata_2_prot[:, adata_2_prot.var_names[110:]].copy()\n",
    "sc.pp.pca(adata_2_prot_first_110_vars)\n",
    "sc.pp.pca(adata_2_prot_second_110_vars)\n",
    "# plot umap each separately\n",
    "sc.pp.neighbors(adata_2_prot_first_110_vars)\n",
    "sc.tl.umap(adata_2_prot_first_110_vars)\n",
    "sc.pp.neighbors(adata_2_prot_first_110_vars)\n",
    "sc.tl.umap(adata_2_prot_first_110_vars)\n",
    "sc.pp.neighbors(adata_2_prot_second_110_vars)\n",
    "sc.tl.umap(adata_2_prot_second_110_vars)\n",
    "\n",
    "if plot_flag:\n",
    "    sc.pl.embedding(adata_2_prot_first_110_vars, basis='X_umap', color=[ 'major_cell_types','cell_types'], title=['Protein UMAP first 110 vars major cell types','Protein UMAP first 110 vars major cell types'])\n",
    "    sc.pl.embedding(adata_2_prot_second_110_vars, basis='X_umap', color=[ 'major_cell_types','cell_types'], title=['Protein UMAP second 110 vars major cell types','Protein UMAP second 110 vars major cell types'])"
   ]
  },
  {
   "cell_type": "code",
   "execution_count": null,
   "metadata": {
    "ExecuteTime": {
     "end_time": "2025-01-30T16:51:31.920040Z",
     "start_time": "2025-01-30T16:50:48.852525Z"
    }
   },
   "outputs": [],
   "source": [
    "# different rna, protein adata analysis\n",
    "max_possible_pca_dim_rna = min(adata_1_rna.X.shape[1], adata_1_rna.X.shape[0])\n",
    "max_possible_pca_dim_prot = min(adata_2_prot.X.shape[1], adata_2_prot.X.shape[0])\n",
    "sc.pp.pca(adata_1_rna, n_comps=max_possible_pca_dim_rna - 1)\n",
    "sc.pp.pca(adata_2_prot, n_comps=max_possible_pca_dim_prot - 1)\n",
    "# make PCA explain X% of variance\n",
    "\n",
    "# going to make pca 25 here just so they have the same number of pca\n",
    "max_dim = 50\n",
    "variance_ration_selected = 0.8\n",
    "\n",
    "cumulative_variance_ratio = np.cumsum(adata_1_rna.uns['pca']['variance_ratio'])\n",
    "n_comps_thresh = np.argmax(cumulative_variance_ratio >= variance_ration_selected) + 1\n",
    "n_comps_thresh =min(n_comps_thresh,max_dim)\n",
    "if n_comps_thresh==1:\n",
    "    raise ValueError('n_comps_thresh is 1, this is not good, try to lower the variance_ration_selected')\n",
    "real_ratio = np.cumsum(adata_1_rna.uns['pca']['variance_ratio'])[n_comps_thresh]\n",
    "# sc.pp.pca(adata_1_rna, n_comps=n_comps_thresh)\n",
    "sc.pp.pca(adata_1_rna, n_comps=n_comps_thresh)\n",
    "print(f\"\\nNumber of components explaining {real_ratio} of rna variance: {n_comps_thresh}\\n\")\n",
    "sc.pp.pca(adata_2_prot)\n",
    "cumulative_variance_ratio = np.cumsum(adata_2_prot.uns['pca']['variance_ratio'])\n",
    "n_comps_thresh = np.argmax(cumulative_variance_ratio >= variance_ration_selected) + 1\n",
    "n_comps_thresh =min(n_comps_thresh,max_dim)\n",
    "real_ratio = np.cumsum(adata_2_prot.uns['pca']['variance_ratio'])[n_comps_thresh]\n",
    "# sc.pp.pca(adata_2_prot, n_comps=n_comps_thresh)\n",
    "sc.pp.pca(adata_1_rna, n_comps=n_comps_thresh)\n",
    "print(f\"\\nNumber of components explaining {real_ratio} of protein variance: {n_comps_thresh}\")\n",
    "if n_comps_thresh==1:\n",
    "    raise ValueError('n_comps_thresh is 1, this is not good, try to lower the variance_ration_selected')"
   ]
  },
  {
   "cell_type": "code",
   "execution_count": null,
   "metadata": {},
   "outputs": [],
   "source": [
    "\n",
    "# Different adata analysis\n",
    "archetype_list_protein = []\n",
    "archetype_list_rna = []\n",
    "converge = 1e-5\n",
    "min_k = 7  \n",
    "max_k = 8\n",
    "step_size = 1\n",
    "\n",
    "# Store explained variances for plotting the elbow method\n",
    "evs_protein = []\n",
    "evs_rna = []\n",
    "\n",
    "# Protein archetype detection\n",
    "X_protein = adata_2_prot.obsm['X_pca'].T\n",
    "total = (max_k - min_k) / step_size\n",
    "for i, k in tqdm(enumerate(range(min_k, max_k, step_size)), total=total, desc='Protein Archetypes Detection'):\n",
    "    archetype, _, _, _, ev = PCHA(X_protein, noc=k)\n",
    "    evs_protein.append(ev)\n",
    "    archetype_list_protein.append(np.array(archetype).T)\n",
    "    if i > 0 and evs_protein[i] - evs_protein[i - 1] < converge:\n",
    "        print('Early stopping for Protein')\n",
    "        break\n",
    "\n",
    "# RNA archetype detection\n",
    "X_rna = adata_1_rna.obsm['X_pca'].T\n",
    "for j, k in tqdm(enumerate(range(min_k, max_k, step_size)), total=total, desc='RNA Archetypes Detection'):\n",
    "    if j > i:  \n",
    "        break\n",
    "    archetype, _, _, _, ev = PCHA(X_rna, noc=k)\n",
    "    evs_rna.append(ev)\n",
    "    archetype_list_rna.append(np.array(archetype).T)\n",
    "    if j > 0 and evs_rna[j] - evs_rna[j - 1] < converge:\n",
    "        print('Early stopping for RNA')\n",
    "        break\n",
    "\n",
    "# Ensure both lists have the same length\n",
    "min_len = min(len(archetype_list_protein), len(archetype_list_rna))\n",
    "archetype_list_protein = archetype_list_protein[:min_len]\n",
    "archetype_list_rna = archetype_list_rna[:min_len]\n",
    "\n"
   ]
  },
  {
   "cell_type": "code",
   "execution_count": null,
   "metadata": {},
   "outputs": [],
   "source": [
    "# Plot the Elbow Method for both protein and RNA\n",
    "if plot_flag:\n",
    "    plt.figure(figsize=(8, 6))\n",
    "    ks = list(range(min_k, min_k + len(evs_protein)))  # Adjust for early stopping\n",
    "\n",
    "    plt.plot(ks, evs_protein, marker='o', label='Protein EV')\n",
    "    plt.plot(ks[:len(evs_rna)], evs_rna, marker='s', label='RNA EV')\n",
    "    plt.xlabel(\"Number of Archetypes (k)\")\n",
    "    plt.ylabel(\"Explained Variance\")\n",
    "    plt.title(\"Elbow Method for Archetype Selection\")\n",
    "    plt.legend()\n",
    "    plt.grid()\n",
    "    plt.show()"
   ]
  },
  {
   "cell_type": "code",
   "execution_count": null,
   "metadata": {
    "ExecuteTime": {
     "end_time": "2025-01-30T16:53:24.540711Z",
     "start_time": "2025-01-30T16:51:31.966815Z"
    }
   },
   "outputs": [],
   "source": [
    "# different adata analysis\n",
    "archetype_list_protein = []\n",
    "\n",
    "archetype_list_rna = []\n",
    "converge = 1e-5\n",
    "min_k = 7  # this is where we set number of archetypes\n",
    "max_k = 8\n",
    "step_size = 1\n",
    "\n",
    "evs = []\n",
    "X_protein = adata_2_prot.obsm['X_pca'].T\n",
    "total = (max_k - min_k) / step_size\n",
    "for i, k in tqdm(enumerate(range(min_k, max_k, step_size)), total=total, desc='Protein Archetypes Detection'):\n",
    "    archetype, _, _, _, ev = PCHA(X_protein, noc=k)\n",
    "    evs.append(ev)\n",
    "    archetype_list_protein.append(np.array(archetype).T)\n",
    "    if i > 0 and ev - evs[i - 1] < converge:\n",
    "        print('early stopping')\n",
    "        break\n",
    "evs = []\n",
    "X_rna = adata_1_rna.obsm['X_pca'].T\n",
    "\n",
    "for j, k in tqdm(enumerate(range(min_k, max_k, step_size)), total=total, desc='RNA Archetypes Detection'):\n",
    "    if j > i:\n",
    "        break\n",
    "    archetype, _, _, _, ev = PCHA(X_rna, noc=k)\n",
    "    evs.append(ev)\n",
    "    archetype_list_rna.append(np.array(archetype).T)\n",
    "    if j > 0 and ev - evs[j - 1] < converge:\n",
    "        print('early stopping')\n",
    "        break\n",
    "min_len = min([len(archetype_list_protein), len(archetype_list_rna)])\n",
    "archetype_list_protein = archetype_list_protein[:min_len]\n",
    "archetype_list_rna = archetype_list_rna[:min_len]"
   ]
  },
  {
   "cell_type": "code",
   "execution_count": null,
   "metadata": {
    "ExecuteTime": {
     "end_time": "2025-01-30T17:04:55.936145Z",
     "start_time": "2025-01-30T16:53:24.677897Z"
    }
   },
   "outputs": [],
   "source": [
    "# different sample analysis\n",
    "minor_cell_types_list_prot = sorted(list(set(adata_2_prot.obs['cell_types'])))\n",
    "major_cell_types_list_prot = sorted(list(set(adata_2_prot.obs['major_cell_types'])))\n",
    "\n",
    "# have to do this above two lines for rna too\n",
    "minor_cell_types_list_rna = sorted(list(set(adata_1_rna.obs['cell_types'])))\n",
    "major_cell_types_list_rna = sorted(list(set(adata_1_rna.obs['major_cell_types'])))\n",
    "\n",
    "major_cell_types_amount_prot = [adata_2_prot.obs['major_cell_types'].value_counts()[cell_type] for cell_type in\n",
    "                                major_cell_types_list_prot]\n",
    "major_cell_types_amount_rna = [adata_1_rna.obs['major_cell_types'].value_counts()[cell_type] for cell_type in\n",
    "                               major_cell_types_list_rna]\n",
    "assert set(adata_1_rna.obs['major_cell_types']) == set(adata_2_prot.obs['major_cell_types'])\n",
    "archetype_proportion_list_rna, archetype_proportion_list_protein = [], []\n",
    "\n",
    "# i made sure that archetype prot and archetype rna have the same dimensions but still not working\n",
    "\n",
    "for archetypes_prot, archetypes_rna in tqdm(zip(archetype_list_protein, archetype_list_rna),\n",
    "                                            total=len(archetype_list_protein),\n",
    "                                            desc='Archetypes generating archetypes major cell types proportion vector '):\n",
    "    weights_prot = get_cell_representations_as_archetypes_cvxpy(adata_2_prot.obsm['X_pca'], archetypes_prot)\n",
    "    weights_rna = get_cell_representations_as_archetypes_cvxpy(adata_1_rna.obsm['X_pca'], archetypes_rna)\n",
    "\n",
    "    archetypes_dim_prot = archetypes_prot.shape[1] # these dimensions are not 25 anymore, made them 50\n",
    "    archetype_num_prot = archetypes_prot.shape[0]\n",
    "    # need to do the above two lines for rna too\n",
    "\n",
    "    # archetype num prot and rna should be the same?\n",
    "    archetypes_dim_rna = archetypes_rna.shape[1] # these dimensions are 50\n",
    "    archetype_num_rna = archetypes_rna.shape[0]  \n",
    "\n",
    "    # could it be because the minor and major cell types have different lengths for protein and rna?\n",
    "    prot_arch_prop = pd.DataFrame(np.zeros((archetype_num_prot, len(major_cell_types_list_prot))), columns=major_cell_types_list_prot)\n",
    "    rna_arch_prop = pd.DataFrame(np.zeros((archetype_num_rna, len(major_cell_types_list_rna))), columns=major_cell_types_list_rna)\n",
    "    archetype_cell_proportions = np.zeros((archetype_num_prot, len(major_cell_types_list_rna)))\n",
    "    for curr_archetype in range(archetype_num_prot):\n",
    "        df_rna = pd.DataFrame([weights_prot[:, curr_archetype], adata_2_prot.obs['major_cell_types'].values],\n",
    "                              index=['weight', 'major_cell_types']).T\n",
    "        df_prot = pd.DataFrame([weights_rna[:, curr_archetype], adata_1_rna.obs['major_cell_types'].values],\n",
    "                               index=['weight', 'major_cell_types']).T\n",
    "        df_rna = df_rna.groupby('major_cell_types')['weight'].sum()[major_cell_types_list_rna]\n",
    "        df_prot = df_prot.groupby('major_cell_types')['weight'].sum()[major_cell_types_list_prot]\n",
    "        # normalize by the amount of major cell types\n",
    "        rna_arch_prop.loc[curr_archetype, :] = df_rna.values / major_cell_types_amount_rna\n",
    "        prot_arch_prop.loc[curr_archetype, :] = df_prot.values / major_cell_types_amount_prot\n",
    "\n",
    "    prot_arch_prop = (prot_arch_prop.T / prot_arch_prop.sum(1)).T\n",
    "    prot_arch_prop = prot_arch_prop / prot_arch_prop.sum(0)\n",
    "    rna_arch_prop = (rna_arch_prop.T / rna_arch_prop.sum(1)).T\n",
    "    rna_arch_prop = rna_arch_prop / rna_arch_prop.sum(0)\n",
    "    archetype_proportion_list_rna.append(rna_arch_prop.copy())\n",
    "    archetype_proportion_list_protein.append(prot_arch_prop.copy())"
   ]
  },
  {
   "cell_type": "code",
   "execution_count": null,
   "metadata": {
    "ExecuteTime": {
     "end_time": "2025-01-30T17:04:56.016271Z",
     "start_time": "2025-01-30T17:04:56.014205Z"
    }
   },
   "outputs": [],
   "source": [
    "# lengths of major cell type amount rna and protein are the same\n",
    "print(major_cell_types_amount_rna)\n",
    "print(major_cell_types_amount_prot)"
   ]
  },
  {
   "cell_type": "code",
   "execution_count": null,
   "metadata": {
    "ExecuteTime": {
     "end_time": "2025-01-30T17:04:56.447588Z",
     "start_time": "2025-01-30T17:04:56.063604Z"
    }
   },
   "outputs": [],
   "source": [
    "# plotting the results of the lowest num of archetypes\n",
    "if plot_flag:\n",
    "    fig = plt.figure(figsize=(10, 5))\n",
    "    plt.subplot(1, 2, 1)\n",
    "    # sns.heatmap(reorder_rows_to_maximize_diagonal(archetype_proportion_list_rna[0])[0])\n",
    "    sns.heatmap((archetype_proportion_list_rna[0]), cbar=False)\n",
    "    plt.xticks()\n",
    "    plt.title('RNA Archetypes')\n",
    "    plt.yticks([])\n",
    "    plt.ylabel('Archetypes')\n",
    "    plt.subplot(1, 2, 2)\n",
    "    plt.title('Protein Archetypes')\n",
    "    # sns.heatmap(reorder_rows_to_maximize_diagonal(archetype_proportion_list_protein[0])[0])\n",
    "    sns.heatmap((archetype_proportion_list_protein[0]), cbar=False)\n",
    "    plt.suptitle('showcase the relationship between archetypes and cell types')\n",
    "    plt.yticks([])\n",
    "    plt.suptitle('Non-Aligned Archetypes Profiles')\n",
    "    plt.ylabel('Archetypes')\n",
    "    plt.show()\n",
    "\n",
    "    new_order_1 = reorder_rows_to_maximize_diagonal(archetype_proportion_list_rna[0])[1]\n",
    "    new_order_2 = reorder_rows_to_maximize_diagonal(archetype_proportion_list_protein[0])[1]\n",
    "    data1 = archetype_proportion_list_rna[0].iloc[new_order_1, :]\n",
    "    data2 = archetype_proportion_list_protein[0].iloc[new_order_2, :]\n",
    "    # this just uses simple diagonal optimization for each one separatly, this is not final matching\n",
    "    plot_archetypes_matching(data1, data2)\n"
   ]
  },
  {
   "cell_type": "code",
   "execution_count": null,
   "metadata": {
    "ExecuteTime": {
     "end_time": "2025-01-30T17:04:56.491119Z",
     "start_time": "2025-01-30T17:04:56.486806Z"
    }
   },
   "outputs": [],
   "source": [
    "# todo find_best_pair_by_row_matching() find a mathing which has too many archetypes, should check it later\n",
    "best_num_or_archetypes_index, best_total_cost, best_rna_archetype_order, best_protein_archetype_order = find_best_pair_by_row_matching(\n",
    "    copy.deepcopy(archetype_proportion_list_rna), copy.deepcopy(archetype_proportion_list_protein), metric='correlation'\n",
    ")\n",
    "\n",
    "print(\"\\nBest pair found:\")\n",
    "print(f\"Best index: {best_num_or_archetypes_index}\")\n",
    "print(f\"Best total matching cost: {best_total_cost}\")\n",
    "print(f\"Row indices (RNA): {best_rna_archetype_order}\")\n",
    "print(f\"Matched row indices (Protein): {best_protein_archetype_order}\")\n"
   ]
  },
  {
   "cell_type": "code",
   "execution_count": null,
   "metadata": {
    "ExecuteTime": {
     "end_time": "2025-01-30T17:04:56.738484Z",
     "start_time": "2025-01-30T17:04:56.535203Z"
    }
   },
   "outputs": [],
   "source": [
    "# reorder the archetypes based on the best matching so the archtypes across modalities are aligned\n",
    "best_archetype_rna_prop = archetype_proportion_list_rna[best_num_or_archetypes_index].iloc[\n",
    "                          best_rna_archetype_order, :].reset_index(drop=True)\n",
    "# best_archetype_rna_prop = pd.DataFrame(best_archetype_rna_prop)\n",
    "best_archetype_prot_prop = archetype_proportion_list_protein[best_num_or_archetypes_index].iloc[\n",
    "                           best_protein_archetype_order, :].reset_index(drop=True)\n",
    "# best_archetype_prot_prop = pd.DataFrame(best_archetype_prot_prop)\n",
    "if plot_flag:\n",
    "    plot_archetypes_matching(best_archetype_rna_prop, best_archetype_prot_prop,8)"
   ]
  },
  {
   "cell_type": "code",
   "execution_count": null,
   "metadata": {
    "ExecuteTime": {
     "end_time": "2025-01-30T17:04:56.785719Z",
     "start_time": "2025-01-30T17:04:56.781856Z"
    }
   },
   "outputs": [],
   "source": [
    "best_archetype_prot_prop.idxmax(axis=0)"
   ]
  },
  {
   "cell_type": "code",
   "execution_count": null,
   "metadata": {
    "ExecuteTime": {
     "end_time": "2025-01-30T17:04:57.363620Z",
     "start_time": "2025-01-30T17:04:56.850081Z"
    }
   },
   "outputs": [],
   "source": [
    "if plot_flag:\n",
    "    # add lable and laegend\n",
    "    best_archetype_prot_prop.idxmax(axis=0).plot(kind='bar', color='red', hatch='\\\\',label='Protein')\n",
    "    best_archetype_rna_prop.idxmax(axis=0).plot(kind='bar', alpha=0.5, hatch='/',label='RNA')\n",
    "    plt.title('show overlap of cell types proportions in archetypes')\n",
    "    # add legend\n",
    "    plt.legend()\n",
    "    plt.xlabel('Major Cell Types')\n",
    "    plt.ylabel('Proportion')\n",
    "    plt.show()\n",
    "    compare_matchings(archetype_proportion_list_rna, archetype_proportion_list_protein, metric='cosine',\n",
    "                      num_trials=100)\n",
    "\n"
   ]
  },
  {
   "cell_type": "code",
   "execution_count": null,
   "metadata": {
    "ExecuteTime": {
     "end_time": "2025-01-30T17:04:57.393185Z",
     "start_time": "2025-01-30T17:04:57.390113Z"
    }
   },
   "outputs": [],
   "source": [
    "best_protein_archetype_order"
   ]
  },
  {
   "cell_type": "code",
   "execution_count": null,
   "metadata": {
    "ExecuteTime": {
     "end_time": "2025-01-30T17:06:56.757580Z",
     "start_time": "2025-01-30T17:04:57.436020Z"
    }
   },
   "outputs": [],
   "source": [
    "# get all cells archetype vec and see how they match\n",
    "ordered_best_rna_archetype = archetype_list_rna[best_num_or_archetypes_index][best_protein_archetype_order, :]\n",
    "ordered_best_protein_archetype = archetype_list_protein[best_num_or_archetypes_index][best_rna_archetype_order, :]\n",
    "cells_archetype_vec_rna = get_cell_representations_as_archetypes_cvxpy(adata_1_rna.obsm['X_pca'],\n",
    "                                                                       ordered_best_rna_archetype)\n",
    "cells_archetype_vec_prot = get_cell_representations_as_archetypes_cvxpy(adata_2_prot.obsm['X_pca'],ordered_best_protein_archetype)\n",
    "\n",
    "adata_1_rna.obsm['archetype_vec'] = pd.DataFrame(cells_archetype_vec_rna, index=adata_1_rna.obs.index,columns=range(cells_archetype_vec_rna.shape[1]))\n",
    "adata_2_prot.obsm['archetype_vec'] = pd.DataFrame(cells_archetype_vec_prot, index=adata_2_prot.obs.index,columns=range(cells_archetype_vec_prot.shape[1]))\n",
    "adata_1_rna.obsm['archetype_vec'].columns = adata_1_rna.obsm['archetype_vec'].columns.astype(str)\n",
    "adata_2_prot.obsm['archetype_vec'].columns = adata_2_prot.obsm['archetype_vec'].columns.astype(str)\n",
    "\n",
    "adata_1_rna.obs['archetype_label'] = pd.Categorical(np.argmax(cells_archetype_vec_rna, axis=1))\n",
    "adata_2_prot.obs['archetype_label'] = pd.Categorical(np.argmax(cells_archetype_vec_prot, axis=1))\n",
    "adata_1_rna.uns['archetypes'] = ordered_best_rna_archetype\n",
    "adata_2_prot.uns['archetypes'] = ordered_best_protein_archetype\n",
    "metrics = ['euclidean', 'cityblock', 'cosine', 'correlation', 'chebyshev']\n",
    "if plot_flag:\n",
    "    evaluate_distance_metrics(cells_archetype_vec_rna, cells_archetype_vec_prot, metrics)"
   ]
  },
  {
   "cell_type": "code",
   "execution_count": null,
   "metadata": {
    "ExecuteTime": {
     "end_time": "2025-01-30T17:06:56.812553Z",
     "start_time": "2025-01-30T17:06:56.808585Z"
    }
   },
   "outputs": [],
   "source": [
    "# add the best matching archetype to the metadata\n",
    "adata_1_rna.obs['archetype_label'] = pd.Categorical(np.argmax(cells_archetype_vec_rna, axis=1))\n",
    "adata_2_prot.obs['archetype_label'] = pd.Categorical(np.argmax(cells_archetype_vec_prot, axis=1))"
   ]
  },
  {
   "cell_type": "code",
   "execution_count": null,
   "metadata": {
    "ExecuteTime": {
     "end_time": "2025-01-30T17:06:57.445350Z",
     "start_time": "2025-01-30T17:06:56.837621Z"
    }
   },
   "outputs": [],
   "source": [
    "if plot_flag:\n",
    "    plt.figure(figsize=(10, 5))\n",
    "    plt.subplot(1, 2, 1)\n",
    "    plt.ylabel('Archetypes')\n",
    "    plt.xlabel('PCA dimensiton of archetypes')\n",
    "    plt.title('RNA Archetypes')\n",
    "    sns.heatmap(ordered_best_rna_archetype)\n",
    "    plt.subplot(1, 2, 2)\n",
    "    plt.ylabel('Archetypes')\n",
    "    plt.xlabel('PCA dimensiton of archetypes')\n",
    "    plt.title('Protein Archetypes')\n",
    "    sns.heatmap(ordered_best_protein_archetype)\n",
    "    plt.show()\n",
    "\n",
    "    plt.figure(figsize=(10, 5))\n",
    "    plt.subplot(1, 2, 1)\n",
    "    plt.title('RNA Archetypes')\n",
    "    plt.ylabel('Archetypes')\n",
    "    _, row_order = reorder_rows_to_maximize_diagonal(best_archetype_rna_prop)\n",
    "    sns.heatmap(pd.DataFrame(best_archetype_rna_prop).iloc[row_order], cbar=False)  \n",
    "    plt.yticks([])\n",
    "    plt.ylabel('Archetypes')\n",
    "    plt.subplot(1, 2, 2)\n",
    "    \n",
    "    plt.ylabel('Archetypes')\n",
    "    plt.title('Protein Archetypes')\n",
    "    sns.heatmap(pd.DataFrame(best_archetype_prot_prop).iloc[row_order], cbar=False)  \n",
    "    plt.ylabel('Archetypes')\n",
    "    # plt.suptitle('The more similar the better, means that the archetypes are aligned in explaining different cell types')\n",
    "    plt.suptitle('Aligned Archetypes Profiles')\n",
    "    plt.yticks([])\n",
    "\n",
    "    plt.show()\n",
    "    \n",
    "\n"
   ]
  },
  {
   "cell_type": "code",
   "execution_count": null,
   "metadata": {
    "ExecuteTime": {
     "end_time": "2025-01-30T17:06:57.722758Z",
     "start_time": "2025-01-30T17:06:57.493023Z"
    }
   },
   "outputs": [],
   "source": [
    "if plot_flag:\n",
    "    plt.figure(figsize=(10, 5))\n",
    "    plt.subplot(1, 2, 1)\n",
    "    plt.title('RNA Archetypes')\n",
    "    plt.ylabel('Archetypes')\n",
    "    _, row_order = reorder_rows_to_maximize_diagonal(best_archetype_rna_prop)\n",
    "    sns.heatmap(pd.DataFrame(best_archetype_rna_prop).iloc[row_order], cbar=False)  \n",
    "    plt.yticks([])\n",
    "    plt.ylabel('Archetypes')\n",
    "    plt.subplot(1, 2, 2)\n",
    "\n",
    "    plt.ylabel('Archetypes')\n",
    "    plt.title('Protein Archetypes')\n",
    "    sns.heatmap(pd.DataFrame(best_archetype_prot_prop).iloc[row_order], cbar=False)  \n",
    "    plt.ylabel('Archetypes')\n",
    "    # plt.suptitle('The more similar the better, means that the archetypes are aligned in explaining different cell types')\n",
    "    plt.suptitle('Aligned Archetypes Profiles')\n",
    "    plt.yticks([])\n",
    "\n",
    "    plt.show()\n",
    "    "
   ]
  },
  {
   "cell_type": "code",
   "execution_count": null,
   "metadata": {
    "ExecuteTime": {
     "end_time": "2025-01-30T17:07:11.733063Z",
     "start_time": "2025-01-30T17:06:57.769051Z"
    }
   },
   "outputs": [],
   "source": [
    "\n",
    "archetype_distances = cdist(cells_archetype_vec_rna,\n",
    "                            cells_archetype_vec_prot, metric='correlation')\n",
    "if plot_flag:\n",
    "    plt.figure(figsize=(10, 5))\n",
    "    plt.subplot(1, 2, 1)\n",
    "    sns.heatmap(np.log1p(archetype_distances[:1000, :1000]))\n",
    "    plt.title(\n",
    "        'if diagonal bias this mean that the \\nmathing is somewhat correct (remember that cells are sorted by tyeps for better visualization ')\n",
    "    plt.subplot(1, 2, 2)\n",
    "    # plt.plot(archetype_distances.argmin(axis=0))\n",
    "    plt.title('If this looks like line, matching \\nARE THE SAME AND NOT ACROSS MODALITIES')\n",
    "    min_values_highlight = archetype_distances.copy()\n",
    "    min_values_highlight[archetype_distances.argmin(axis=0), range(len(archetype_distances.argmin(axis=0)))] = 100\n",
    "    sns.heatmap(min_values_highlight[:5000, :5000])\n",
    "    # sns.heatmap(np.log1p(archetype_distances[:100,:100]))\n",
    "    plt.show()\n"
   ]
  },
  {
   "cell_type": "code",
   "execution_count": null,
   "metadata": {
    "ExecuteTime": {
     "end_time": "2025-01-30T17:07:12.392186Z",
     "start_time": "2025-01-30T17:07:11.791145Z"
    }
   },
   "outputs": [],
   "source": [
    "if plot_flag:\n",
    "    ax = sns.histplot(adata_1_rna.obs, x='archetype_label', hue='major_cell_types', multiple='fill', stat='proportion')\n",
    "    plt.xticks(rotation=45)\n",
    "    sns.move_legend(ax, \"upper left\", bbox_to_anchor=(1, 1))\n",
    "    plt.title('Proportion of Archetypes in Major Cell Types  in RNA')\n",
    "    plt.show()\n",
    "\n",
    "    ax = sns.histplot(adata_2_prot.obs, x='archetype_label', hue='major_cell_types', multiple='fill', stat='proportion')\n",
    "    plt.xticks(rotation=45)\n",
    "    sns.move_legend(ax, \"upper left\", bbox_to_anchor=(1, 1))\n",
    "    plt.title('Proportion of Archetypes in Major Cell Types in Protein')\n"
   ]
  },
  {
   "cell_type": "code",
   "execution_count": null,
   "metadata": {
    "ExecuteTime": {
     "end_time": "2025-01-30T17:07:12.440559Z",
     "start_time": "2025-01-30T17:07:12.437991Z"
    }
   },
   "outputs": [],
   "source": [
    "def plot_scatter(mtx1, mtx2, n_samples):\n",
    "    pca = PCA(n_components=2)\n",
    "    embeddings_combined = np.vstack((mtx1, mtx2))\n",
    "    tsne_results = pca.fit_transform(embeddings_combined)\n",
    "    # tsne_results = pca.fit_transform(embeddings_combined)\n",
    "\n",
    "    labels = ['Dataset 1'] * n_samples + ['Dataset 2'] * n_samples\n",
    "    df = pd.DataFrame(tsne_results, columns=['TSNE1', 'TSNE2'])\n",
    "    df['Dataset'] = labels\n",
    "\n",
    "    sns.scatterplot(x='TSNE1', y='TSNE2', hue='Dataset', data=df)\n",
    "    plt.title('t-SNE of Aligned Embeddings')\n",
    "    plt.show()\n"
   ]
  },
  {
   "cell_type": "markdown",
   "metadata": {},
   "source": [
    "### weights"
   ]
  },
  {
   "cell_type": "code",
   "execution_count": null,
   "metadata": {
    "ExecuteTime": {
     "end_time": "2025-01-30T17:07:12.869091Z",
     "start_time": "2025-01-30T17:07:12.486338Z"
    }
   },
   "outputs": [],
   "source": [
    "if plot_flag:\n",
    "    # plot both heatmaps as subplots, and add titel the more similar the better:\n",
    "    plt.figure(figsize=(10, 5))\n",
    "    plt.subplot(1, 2, 1)\n",
    "    plt.title('RNA Archetypes')\n",
    "    plt.ylabel('Archetypes')\n",
    "    _,row_order = reorder_rows_to_maximize_diagonal(best_archetype_rna_prop)\n",
    "    sns.heatmap(pd.DataFrame(best_archetype_rna_prop).loc[row_order,:])\n",
    "    # sns.heatmap(pd.DataFrame(best_archetype_rna_prop))\n",
    "    plt.subplot(1, 2, 2)\n",
    "    plt.ylabel('Archetypes')\n",
    "    # sns.heatmap(best_archetype_prot_prop)\n",
    "    sns.heatmap(pd.DataFrame(best_archetype_prot_prop).loc[row_order,:])\n",
    "    # sns.heatmap(pd.DataFrame(best_archetype_prot_prop).iloc[row_order,:])\n",
    "    plt.title('Protein Archetypes')\n",
    "    plt.suptitle('The more similar the better, means that the archtypes are aligned in explaining different cell types')\n",
    "    plt.show()\n",
    "    # errors = np.abs(ordered_arch_prot - ordered_arch_rna)\n",
    "    # random_error =np.abs(ordered_arch_prot - np.random.permutation(ordered_arch_rna))\n",
    "    # plt.plot(errors.values.flatten())\n",
    "    # plt.plot(random_error.values.flatten())\n",
    "    # plt.legend(['Error', 'Random Error'])\n",
    "    # plt.show()"
   ]
  },
  {
   "cell_type": "code",
   "execution_count": null,
   "metadata": {
    "ExecuteTime": {
     "end_time": "2025-01-30T17:07:13.456831Z",
     "start_time": "2025-01-30T17:07:12.956236Z"
    }
   },
   "outputs": [],
   "source": [
    "if plot_flag:\n",
    "\n",
    "    fig, axes = plt.subplots(1, 2, figsize=(15, 7))\n",
    "\n",
    "    # Plot for RNA\n",
    "    ax = sns.histplot(adata_1_rna.obs, x='archetype_label', hue='major_cell_types', multiple='fill', stat='proportion', ax=axes[0])\n",
    "    axes[0].set_xticks(axes[0].get_xticks())  # Set the ticks first\n",
    "    axes[0].set_xticklabels(axes[0].get_xticklabels(), rotation=45)\n",
    "    axes[0].set_title('Proportion of Archetypes in Major Cell Types in RNA')\n",
    "    axes[0].set_xlabel('Archetype Label')\n",
    "    axes[0].tick_params(axis='x', which='both', bottom=True, top=False, labelbottom=True)\n",
    "    axes[0].get_legend().remove()  # Remove the legend from the left subplot\n",
    "\n",
    "    # Plot for Protein\n",
    "    ax = sns.histplot(adata_2_prot.obs, x='archetype_label', hue='major_cell_types', multiple='fill', stat='proportion', ax=axes[1])\n",
    "    axes[1].set_xticks(axes[1].get_xticks())  # Set the ticks first\n",
    "    axes[1].set_yticklabels([])\n",
    "    axes[1].set_title('Proportion of Archetypes in Major Cell Types in Protein')\n",
    "    sns.move_legend(ax, \"upper left\", bbox_to_anchor=(1, 1))\n",
    "\n",
    "    plt.tight_layout()\n",
    "    plt.show()\n",
    "    # TODO this plot does not add up for some reason, it seems that the archetypes are not aligned correctly"
   ]
  },
  {
   "cell_type": "code",
   "execution_count": null,
   "metadata": {
    "ExecuteTime": {
     "end_time": "2025-01-30T17:07:54.813722Z",
     "start_time": "2025-01-30T17:07:13.465769Z"
    }
   },
   "outputs": [],
   "source": [
    "if plot_flag:\n",
    "    data_points_rna = adata_1_rna.obsm['X_pca']\n",
    "    data_points_prot = adata_2_prot.obsm['X_pca']\n",
    "    data_point_archetype_indices_rna = list(np.argmax(cells_archetype_vec_rna, axis=1))\n",
    "    data_point_archetype_indices_prot = list(np.argmax(cells_archetype_vec_prot, axis=1))\n",
    "\n",
    "    # use ground truth cell types\n",
    "    show_ground_truth =True\n",
    "    if show_ground_truth:\n",
    "        major_or_minor = 'cell_types'\n",
    "        major_or_minor = 'major_cell_types'\n",
    "        samples_cell_types_rna = list(adata_1_rna.obs[major_or_minor])\n",
    "        samples_cell_types_prot = list(adata_2_prot.obs[major_or_minor])\n",
    "    else: #\n",
    "        # Get the archetype indices for each data point\n",
    "        major_cell_types_list = minor_cell_types_list_rna\n",
    "        current_cell_types_list = major_cell_types_list\n",
    "        # Map the archetype indices to cell type names\n",
    "        samples_cell_types_rna = [current_cell_types_list[i] for i in data_point_archetype_indices_rna]\n",
    "        samples_cell_types_prot = [current_cell_types_list[i] for i in data_point_archetype_indices_prot]\n",
    "\n",
    "    \n",
    "\n",
    "    # Optionally limit the number of samples\n",
    "    num_samples = 50000  # or any number you prefer\n",
    "    data_points_rna_plot = data_points_rna[:num_samples]\n",
    "    data_points_prot_plot = data_points_prot[:num_samples]\n",
    "    samples_cell_types_rna_plot = samples_cell_types_rna[:num_samples]\n",
    "    samples_cell_types_prot_plot = samples_cell_types_prot[:num_samples]\n",
    "    data_point_archetype_indices_rna_plot = data_point_archetype_indices_rna[:num_samples]\n",
    "    data_point_archetype_indices_prot_plot = data_point_archetype_indices_prot[:num_samples]\n",
    "\n",
    "    # Create a consistent color mapping\n",
    "    all_cell_types = set(samples_cell_types_rna_plot + samples_cell_types_prot_plot)\n",
    "    all_cell_types.discard('archetype')\n",
    "    all_cell_types = [ct for ct in all_cell_types if ct is not np.nan]\n",
    "    all_cell_types = sorted(all_cell_types)\n",
    "    palette = sns.color_palette(\"tab20\", len(all_cell_types))\n",
    "    cell_type_colors = {cell_type: color for cell_type, color in zip(all_cell_types, palette)}\n",
    "    cell_type_colors[\"archetype\"] = \"black\"\n",
    "\n",
    "    # Call the updated function with the color mapping\n",
    "    plot_archetypes(\n",
    "        data_points_rna_plot,\n",
    "        ordered_best_rna_archetype,\n",
    "        samples_cell_types_rna_plot,\n",
    "        data_point_archetype_indices_rna_plot,\n",
    "        modality='RNA',\n",
    "        cell_type_colors=cell_type_colors\n",
    "    )\n",
    "    plot_archetypes(\n",
    "        data_points_prot_plot,\n",
    "        ordered_best_protein_archetype,\n",
    "        samples_cell_types_prot_plot,\n",
    "        data_point_archetype_indices_prot_plot,\n",
    "        modality='Protein',\n",
    "        cell_type_colors=cell_type_colors\n",
    "    )\n"
   ]
  },
  {
   "cell_type": "code",
   "execution_count": null,
   "metadata": {
    "ExecuteTime": {
     "end_time": "2025-01-30T17:08:13.231094Z",
     "start_time": "2025-01-30T17:07:54.863115Z"
    }
   },
   "outputs": [],
   "source": [
    "adata_archetype_rna = AnnData(adata_1_rna.obsm['archetype_vec'])\n",
    "adata_archetype_prot = AnnData(adata_2_prot.obsm['archetype_vec'])\n",
    "adata_archetype_rna.obs = adata_1_rna.obs\n",
    "adata_archetype_prot.obs = adata_2_prot.obs\n",
    "adata_archetype_rna.index = adata_1_rna.obs.index\n",
    "adata_archetype_prot.index = adata_2_prot.obs.index\n",
    "if plot_flag:\n",
    "    sc.pp.pca(adata_archetype_rna)\n",
    "    sc.pp.pca(adata_archetype_prot)\n",
    "    sc.pl.pca(adata_archetype_rna, color=['major_cell_types', 'archetype_label', 'cell_types'])\n",
    "    sc.pl.pca(adata_archetype_prot, color=['major_cell_types', 'archetype_label', 'cell_types'])\n",
    "    sc.pp.neighbors(adata_archetype_rna)\n",
    "    sc.pp.neighbors(adata_archetype_prot)\n",
    "    sc.tl.umap(adata_archetype_rna)\n",
    "    sc.tl.umap(adata_archetype_prot)\n",
    "    sc.pl.umap(adata_archetype_rna, color=['major_cell_types', 'archetype_label', 'cell_types'])\n",
    "    sc.pl.umap(adata_archetype_prot, color=['major_cell_types', 'archetype_label', 'cell_types'])"
   ]
  },
  {
   "cell_type": "code",
   "execution_count": null,
   "metadata": {
    "ExecuteTime": {
     "end_time": "2025-01-30T17:08:30.134855Z",
     "start_time": "2025-01-30T17:08:13.331284Z"
    }
   },
   "outputs": [],
   "source": [
    "if plot_flag:\n",
    "    # making sure that the archetypes make sense in original data context\n",
    "    sc.pp.neighbors(adata_1_rna)\n",
    "    sc.pp.neighbors(adata_2_prot)\n",
    "    sc.tl.umap(adata_1_rna)\n",
    "    sc.tl.umap(adata_2_prot)\n",
    "    sc.pl.umap(adata_1_rna, color='archetype_label', title='RNA Archetypes')\n",
    "    sc.pl.umap(adata_2_prot, color='archetype_label', title='Protein Archetypes')"
   ]
  },
  {
   "cell_type": "code",
   "execution_count": null,
   "metadata": {
    "ExecuteTime": {
     "end_time": "2025-01-30T17:08:30.153424Z",
     "start_time": "2025-01-30T17:08:30.142898Z"
    }
   },
   "outputs": [],
   "source": [
    "adata_1_rna"
   ]
  },
  {
   "cell_type": "code",
   "execution_count": null,
   "metadata": {},
   "outputs": [],
   "source": [
    "t_cell_terminal_exhaustion = [\n",
    "    \"CD3G\", \"FASLG\", \"ID2\", \"LAG3\", \"RGS1\", \"CCL3\", \"CCL3L1\", \"KIAA1671\",\n",
    "    \"SH2D2A\", \"DUSP2\", \"PDCD1\", \"CD7\", \"NR4A2\", \"CD160\", \"PTPN22\", \"ABI3\",\n",
    "    \"PTGER4\", \"GZMK\", \"GZMA\", \"MBNL1\", \"VMP1\", \"PLAC8\", \"RGS3\", \"EFHD2\",\n",
    "    \"GLRX\", \"CXCR6\", \"ARL6IP1\", \"CCL4\", \"ISG15\", \"LAX1\", \"CD8A\", \"SERPINA3\",\n",
    "    \"GZMB\", \"TOX\"\n",
    "]\n",
    "\n",
    "t_cell_precursor_exhaustion = [\n",
    "    \"TCF7\", \"MS4A4A\", \"TNFSF8\", \"CXCL10\", \"EEF1B2\", \"ID3\", \"IL7R\", \"JUN\",\n",
    "    \"LTB\", \"XCL1\", \"SOCS3\", \"TRAF1\", \"EMB\", \"CRTAM\", \"EEF1G\", \"CD9\",\n",
    "    \"ITGB1\", \"GPR183\", \"ZFP36L1\", \"SLAMF6\", \"LY6E\"\n",
    "]\n",
    "\n",
    "t_cell_t_reg = [\n",
    "    \"NT5E\", \"CD3D\", \"CD3G\", \"CD3E\", \"CD4\",\n",
    "    \"CD5\", \"ENTPD1\", \"CTLA4\", \"IZUMO1R\", \"TNFRSF18\",\n",
    "    \"IL2RA\", \"ITGAE\", \"LAG3\", \"TGFB1\", \"LRRC32\",\n",
    "    \"TNFRSF4\", \"SELL\", \"FOXP3\", \"STAT5A\", \"STAT5B\",\n",
    "    \"LGALS1\", \"IL10\", \"IL12A\", \"EBI3\", \"TGFB1\"\n",
    "]\n",
    "\n"
   ]
  },
  {
   "cell_type": "code",
   "execution_count": null,
   "metadata": {},
   "outputs": [],
   "source": []
  },
  {
   "cell_type": "code",
   "execution_count": null,
   "metadata": {},
   "outputs": [],
   "source": []
  },
  {
   "cell_type": "code",
   "execution_count": null,
   "metadata": {},
   "outputs": [],
   "source": []
  },
  {
   "cell_type": "code",
   "execution_count": null,
   "metadata": {},
   "outputs": [],
   "source": [
    "\n"
   ]
  },
  {
   "cell_type": "code",
   "execution_count": null,
   "metadata": {
    "ExecuteTime": {
     "end_time": "2025-01-30T17:08:30.597931Z",
     "start_time": "2025-01-30T17:08:30.256125Z"
    }
   },
   "outputs": [],
   "source": [
    "# save all adata objects with time stamp\n",
    "clean_uns_for_h5ad(adata_2_prot)\n",
    "clean_uns_for_h5ad(adata_1_rna)\n",
    "time_stamp = pd.Timestamp.now().strftime(\"%Y-%m-%d-%H-%M-%S\")\n",
    "adata_1_rna.write(f'data/adata_rna_{time_stamp}.h5ad')\n",
    "adata_2_prot.write(f'data/adata_prot_{time_stamp}.h5ad')\n",
    "adata_archetype_rna.write(f'data/adata_archetype_rna_{time_stamp}.h5ad')\n",
    "adata_archetype_prot.write(f'data/adata_archetype_prot_{time_stamp}.h5ad')\n",
    "# load the latest of each sort by time as if I dont have the time stamp, read all files in the right name prefix and sort by time in a folder\n",
    "folder = 'data/'\n",
    "file_prefixes = ['adata_rna_', 'adata_prot_', 'adata_archetype_rna_', 'adata_archetype_prot_']\n",
    "\n",
    "# Load the latest files (example)\n",
    "latest_files = {prefix: get_latest_file(folder, prefix) for prefix in file_prefixes}\n",
    "adata_rna = sc.read(latest_files['adata_rna_'])\n",
    "adata_prot = sc.read(latest_files['adata_prot_'])\n",
    "adata_archetype_rna = sc.read(latest_files['adata_archetype_rna_'])\n",
    "adata_archetype_prot = sc.read(latest_files['adata_archetype_prot_'])\n",
    "\n"
   ]
  }
 ],
 "metadata": {
  "kernelspec": {
   "display_name": "scvi",
   "language": "python",
   "name": "python3"
  },
  "language_info": {
   "codemirror_mode": {
    "name": "ipython",
    "version": 3
   },
   "file_extension": ".py",
   "mimetype": "text/x-python",
   "name": "python",
   "nbconvert_exporter": "python",
   "pygments_lexer": "ipython3",
   "version": "3.10.16"
  }
 },
 "nbformat": 4,
 "nbformat_minor": 2
}
