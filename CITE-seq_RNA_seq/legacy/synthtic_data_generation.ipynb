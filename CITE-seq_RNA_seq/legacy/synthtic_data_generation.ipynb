{
 "cells": [
  {
   "cell_type": "code",
   "execution_count": null,
   "id": "initial_id",
   "metadata": {
    "ExecuteTime": {
     "end_time": "2024-11-28T01:39:44.988363Z",
     "start_time": "2024-11-28T01:39:39.651505Z"
    }
   },
   "outputs": [],
   "source": [
    "import tempfile\n",
    "from collections import Counter\n",
    "from itertools import product, zip_longest\n",
    "import scipy\n",
    "import anndata as ad\n",
    "import matplotlib.pyplot as plt\n",
    "# import mudata as md\n",
    "from bar_nick_utils import plot_torch_normal, add_spatial_data_to_prot, preprocess_protein, preprocess_rna\n",
    "from anndata import AnnData\n",
    "# import muon\n",
    "import scanpy as sc\n",
    "import scvi\n",
    "import seaborn as sns\n",
    "import torch\n",
    "# ignore warnings\n",
    "import warnings\n",
    "import pandas as pd\n",
    "import numpy    as np\n",
    "import os\n",
    "import tempfile\n",
    "import torch.functional as F\n",
    "from scipy.sparse import issparse\n",
    "from scipy.stats import zscore\n",
    "from scvi.model import SCVI\n",
    "from scvi.train import TrainingPlan\n",
    "import torch\n",
    "import matplotlib.pyplot as plt\n",
    "import numpy as np\n",
    "import pandas as pd\n",
    "import scanpy as sc\n",
    "import seaborn as sns\n",
    "import torch\n",
    "import scvi\n",
    "from scvi.model import SCVI\n",
    "from scvi.train import TrainingPlan\n",
    "import torch\n",
    "from pytorch_lightning.loggers import TensorBoardLogger\n",
    "from datetime import datetime\n",
    "\n",
    "from sklearn.metrics import silhouette_score\n",
    "from sklearn.cluster import KMeans\n",
    "plot_flag = False                                        \n",
    "device = \"cuda:0\" if torch.cuda.is_available() else \"cpu\"\n",
    "pd.set_option(\"display.max_columns\", 10)\n",
    "pd.set_option(\"display.max_rows\", 10)\n",
    "warnings.filterwarnings(\"ignore\")\n",
    "pd.options.display.max_rows = 10\n",
    "pd.options.display.max_columns = 10\n",
    "np.set_printoptions(threshold=100) \n",
    "np.random.seed(0)\n",
    "plot_flag = False\n"
   ]
  },
  {
   "cell_type": "code",
   "execution_count": null,
   "id": "1c15f87e811d9660",
   "metadata": {
    "ExecuteTime": {
     "end_time": "2024-11-28T01:39:48.421795Z",
     "start_time": "2024-11-28T01:39:44.994598Z"
    }
   },
   "outputs": [],
   "source": [
    "save_dir = 'data/totalVI'\n",
    "# adata = scvi.data.pbmcs_10x_cite_seq(save_path=save_dir)\n",
    "adata = scvi.data.spleen_lymph_cite_seq(save_path=save_dir)\n",
    "adata.obsm['protein_expression'].shape\n",
    "# adata.write('data/totalVI/spleen_lymph_cite_seq.h5ad')"
   ]
  },
  {
   "cell_type": "code",
   "execution_count": null,
   "id": "f58e80dd83ac58c4",
   "metadata": {
    "ExecuteTime": {
     "end_time": "2024-11-28T01:39:48.523658Z",
     "start_time": "2024-11-28T01:39:48.520821Z"
    }
   },
   "outputs": [],
   "source": [
    "# sc.read_10x_h5('/home/barroz/Downloads/10k_PBMCs_TotalSeq_B_3p_raw_feature_bc_matrix.h5')"
   ]
  },
  {
   "cell_type": "code",
   "execution_count": null,
   "id": "9e4e8d61c52bb0a8",
   "metadata": {
    "ExecuteTime": {
     "end_time": "2024-11-28T01:39:48.666858Z",
     "start_time": "2024-11-28T01:39:48.567115Z"
    }
   },
   "outputs": [],
   "source": [
    "adata.obsm['protein_expression'].shape\n",
    "adata.obs['cell_types'] = pd.Categorical(adata.obs['cell_types'])\n",
    "assert len(set(adata.obs['batch']))!=1\n",
    "adata_prot = AnnData(adata.obsm['protein_expression'])\n",
    "# remove protein_expression from adatan/\n",
    "adata_rna = adata.copy()\n",
    "adata_rna.obsm.pop('protein_expression')\n",
    "# add all obs and var to adata_prot\n",
    "adata_prot.obs = adata_rna.obs\n",
    "# remove n_genes and percent_mito from adata_prot\n",
    "adata_prot.obs = adata_prot.obs.drop(columns=['n_genes', 'percent_mito'])\n",
    "# take only the first batch from adata_prot and adata_rna\n",
    "# first_batch = adata_prot.obs['batch'][0]\n",
    "# take the largest batch \n",
    "larget_batch = adata_prot.obs['batch'].value_counts().idxmax()\n",
    "# sc.pl.umap(adata_prot_subset, color=\"batch\",neighbors_key='original_neighbors',title='Original data minor cell types')\n"
   ]
  },
  {
   "cell_type": "code",
   "execution_count": null,
   "id": "7b254d36ce45e3e7",
   "metadata": {
    "ExecuteTime": {
     "end_time": "2024-11-28T01:39:50.401399Z",
     "start_time": "2024-11-28T01:39:48.688969Z"
    }
   },
   "outputs": [],
   "source": [
    "adata_prot = adata_prot[adata_prot.obs['batch'] == larget_batch]\n",
    "adata_rna = adata_rna[adata_rna.obs['batch'] == larget_batch]\n",
    "adata_rna = preprocess_rna(adata,adata_rna)\n",
    "adata_prot = preprocess_protein(adata_prot)"
   ]
  },
  {
   "cell_type": "code",
   "execution_count": null,
   "id": "b0bba310f3e713f",
   "metadata": {
    "ExecuteTime": {
     "end_time": "2024-11-28T01:39:50.456Z",
     "start_time": "2024-11-28T01:39:50.412482Z"
    }
   },
   "outputs": [],
   "source": [
    "rna_archetype_vecs = pd.read_csv('data/rna_weights.csv',index_col = 0)\n",
    "protein_archetype_vecs = pd.read_csv('data/protein_weights.csv',index_col = 0)\n",
    "rna_archetype_vecs.index = adata_rna.obs.index\n",
    "protein_archetype_vecs.index = adata_prot.obs.index\n",
    "protein_mapping = ['Red blood cells', 'T cells-2', 'Plasmacytoid dendritic cells','Natural killer T cells', 'Natural killer cells', 'Neutrophils', 'Dendritic cells', 'Regulatory T cells', 'Monocytes', 'Macrophages', 'Conventional dendritic cells', 'B cells', 'T cells-1' ]\n",
    "rna_archetype_vecs.columns = protein_mapping\n",
    "gene_mapping = ['Monocytes', 'T cells-2', 'T cells-1', 'Macrophages', 'Neutrophils', 'Red blood cells', 'Natural killer cells', 'Conventional dendritic cells', 'Regulatory T cells', 'Dendritic cells', 'Natural killer T cells','Plasmacytoid dendritic cells', 'B cells' ]\n",
    "protein_archetype_vecs.columns = gene_mapping\n",
    "types_to_pop = ['Plasmacytoid dendritic cells', 'Plasmacytoid dendritic cells','Conventional dendritic cells','Red blood cells','Dendritic cells','Monocytes','Natural killer T cells','Natural killer cells','Neutrophils']\n",
    "# filter out the types that are not in the mapping form the mapping\n",
    "\n",
    "\n",
    "gene_argsort_indices = [i for i, _ in sorted(enumerate(gene_mapping), key=lambda x: x[1])]\n",
    "protein_argsort_indices = [i for i, _ in sorted(enumerate(protein_mapping), key=lambda x: x[1])]\n",
    "rna_archetype_vecs = rna_archetype_vecs.iloc[:,gene_argsort_indices]\n",
    "rna_archetype_vecs = rna_archetype_vecs.drop(columns=types_to_pop)\n",
    "protein_archetype_vecs = protein_archetype_vecs.iloc[:,protein_argsort_indices]\n",
    "protein_archetype_vecs = protein_archetype_vecs.drop(columns=types_to_pop)\n",
    "adata_rna.obsm['archetype_vec'] = rna_archetype_vecs\n",
    "adata_prot.obsm['archetype_vec'] = protein_archetype_vecs"
   ]
  },
  {
   "cell_type": "code",
   "execution_count": null,
   "id": "5423bf67bd3090a",
   "metadata": {
    "ExecuteTime": {
     "end_time": "2024-11-28T01:39:50.505935Z",
     "start_time": "2024-11-28T01:39:50.470959Z"
    }
   },
   "outputs": [],
   "source": [
    "sample_size = min(len(adata_prot), len(adata_rna), 2000)\n",
    "adata_prot_subset = sc.pp.subsample(adata_prot, n_obs=sample_size,copy=    True)\n",
    "adata_rna_subset = sc.pp.subsample(adata_rna, n_obs=sample_size,copy=    True)\n",
    "del adata_prot, adata_rna"
   ]
  },
  {
   "cell_type": "code",
   "execution_count": null,
   "id": "c30549b6b84dfcca",
   "metadata": {
    "ExecuteTime": {
     "end_time": "2024-11-28T01:39:50.521001Z",
     "start_time": "2024-11-28T01:39:50.518415Z"
    }
   },
   "outputs": [],
   "source": [
    "# plot protein expression pca and rna expression pca\n",
    "# sc.pp.pca(adata_prot)\n",
    "# sc.pp.pca(adata_rna)\n",
    "# sc.pl.pca(adata_prot)\n",
    "# sc.pl.pca(adata_rna)\n",
    "# take a subset of the data using scanpy to a new anndata object\n"
   ]
  },
  {
   "cell_type": "code",
   "execution_count": null,
   "id": "29249239dc960b93",
   "metadata": {
    "ExecuteTime": {
     "end_time": "2024-11-28T01:39:50.579859Z",
     "start_time": "2024-11-28T01:39:50.561684Z"
    }
   },
   "outputs": [],
   "source": [
    "cell_type_mapping = {\n",
    "    \"Activated CD4 T\": \"CD4 T\",\n",
    "    \"B1 B\": \"B cells\",\n",
    "    \"CD122+ CD8 T\": \"CD8 T\",\n",
    "    \"CD4 T\": \"CD4 T\",\n",
    "    \"CD8 T\": \"CD8 T\",\n",
    "    \"Erythrocytes\": \"RBC\",\n",
    "    \"GD T\": \"T cells\",\n",
    "    \"ICOS-high Tregs\": \"CD4 T\",\n",
    "    \"Ifit3-high B\": \"B cells\",\n",
    "    \"Ifit3-high CD4 T\": \"CD4 T\",\n",
    "    \"Ifit3-high CD8 T\": \"CD8 T\",\n",
    "    \"Ly6-high mono\": \"Monocytes\",\n",
    "    \"Ly6-low mono\": \"Monocytes\",\n",
    "    \"MZ B\": \"B cells\",\n",
    "    \"MZ/Marco-high macrophages\": \"Macrophages\",\n",
    "    \"Mature B\": \"B cells\",\n",
    "    \"Migratory DCs\": \"cDCs\",\n",
    "    \"NK\": \"NK\",\n",
    "    \"NKT\": \"T cells\",\n",
    "    \"Neutrophils\": \"Neutrophils\",\n",
    "    \"Plasma B\": \"B cells\",\n",
    "    \"Red-pulp macrophages\": \"Macrophages\",\n",
    "    \"Transitional B\": \"B cells\",\n",
    "    \"Tregs\": \"Treg\",\n",
    "    \"cDC1s\": \"cDCs\",\n",
    "    \"cDC2s\": \"cDCs\",\n",
    "    \"pDCs\": \"pDCs\",\n",
    "}\n",
    "# Map the specific cell types to major cell types and add as a new column in obs\n",
    "adata_rna_subset.obs['major_cell_types'] = pd.Categorical( adata_rna_subset.obs['cell_types'].map(cell_type_mapping))\n",
    "adata_prot_subset.obs['major_cell_types'] =pd.Categorical(  adata_rna_subset.obs['cell_types'].map(cell_type_mapping))\n",
    "# sort by major cell types\n",
    "adata_rna_subset = adata_rna_subset[adata_rna_subset.obs['major_cell_types'].sort_values().index]\n",
    "adata_prot_subset = adata_prot_subset[adata_prot_subset.obs['major_cell_types'].sort_values().index]\n",
    "major_to_minor_dict ={}\n",
    "# from major to minor dict\n",
    "for k,v in cell_type_mapping.items():\n",
    "    if v not in major_to_minor_dict:\n",
    "        major_to_minor_dict[v] = [k]\n",
    "    else:\n",
    "        major_to_minor_dict[v].append(k)\n",
    "    \n",
    "# [len(x) for x in major_to_minor_dict.values()]"
   ]
  },
  {
   "cell_type": "code",
   "execution_count": null,
   "id": "3a652b8879aad00c",
   "metadata": {
    "ExecuteTime": {
     "end_time": "2024-11-28T01:39:51.201893Z",
     "start_time": "2024-11-28T01:39:50.617795Z"
    }
   },
   "outputs": [],
   "source": [
    "\n",
    "rna_archetype_vecs = adata_rna_subset.obsm['archetype_vec'] \n",
    "protein_archetype_vecs = adata_prot_subset.obsm['archetype_vec']\n",
    "rna_archetype_vecs = (rna_archetype_vecs -    rna_archetype_vecs.mean()) / rna_archetype_vecs.std()\n",
    "protein_archetype_vecs = (protein_archetype_vecs - protein_archetype_vecs.mean()) / protein_archetype_vecs.std()\n",
    "sns.heatmap(np.log1p(rna_archetype_vecs))\n",
    "plt.show()\n",
    "sns.heatmap(np.log1p(protein_archetype_vecs))\n",
    "plt.show()"
   ]
  },
  {
   "cell_type": "code",
   "execution_count": null,
   "id": "6a551be49fd49add",
   "metadata": {
    "ExecuteTime": {
     "end_time": "2024-11-28T01:39:51.612233Z",
     "start_time": "2024-11-28T01:39:51.217341Z"
    }
   },
   "outputs": [],
   "source": [
    "# add archetype_distances to adata_rna_subset\n",
    "adata_rna_subset.obs['index_col'] = np.arange(adata_rna_subset.shape[0])\n",
    "adata_prot_subset.obs['index_col'] = np.arange(adata_prot_subset.shape[0])\n",
    "if 'archetype_vec' not in adata_rna_subset.obsm.keys():\n",
    "    raise Exception('archetype_vec not in adata_rna_subset.obsm.keys()')\n",
    "# set the archtyeps distances from rna to protein\n",
    "\n",
    "# set the archetype distances to the rna adata\n",
    "# TODO I do RNA to RNA DISTANCES!!! should repalce this with RNA to protein distances!!!!\n",
    "archetype_distances = scipy.spatial.distance.cdist(adata_rna_subset.obsm['archetype_vec'].values,\n",
    "                                                   adata_rna_subset.obsm['archetype_vec'].values,metric='cosine')\n",
    "                                                   # adata_prot_subset.obsm['archetype_vec'].values,metric='cosine')\n",
    "adata_rna_subset.obsm['archetype_distances'] = archetype_distances\n",
    "matching_cells = np.argmin(archetype_distances,axis=1)\n",
    "adata_prot_subset = adata_prot_subset[matching_cells] # this make sure that the cells are aligned!\n",
    "# adata_rna_subset.obs['matching_protein_cells'] = matching_cells\n",
    "sns.heatmap(np.log1p(archetype_distances[:100,:100]))\n",
    "plt.show()\n",
    "if np.array_equal(sorted(matching_cells),matching_cells) :\n",
    "    print('Warning, the matching cells are sorted, make sure you are not comparing the same cells RNA to RAN')"
   ]
  },
  {
   "cell_type": "code",
   "execution_count": null,
   "id": "56c087e3daa951eb",
   "metadata": {
    "ExecuteTime": {
     "end_time": "2024-11-28T01:39:51.859754Z",
     "start_time": "2024-11-28T01:39:51.649666Z"
    }
   },
   "outputs": [],
   "source": [
    "archetype_distances.argmin(axis=1)\n",
    "plt.plot(archetype_distances.argmin(axis=1))\n",
    "plt.title('If this looks like a line, then the matching ARE THE SAME AND NOT ACROSS MODALITIES')"
   ]
  },
  {
   "cell_type": "code",
   "execution_count": null,
   "id": "6696aa9346b6f910",
   "metadata": {
    "ExecuteTime": {
     "end_time": "2024-11-28T01:40:06.151407Z",
     "start_time": "2024-11-28T01:39:51.882429Z"
    }
   },
   "outputs": [],
   "source": [
    "sc.pp.pca(adata_prot_subset)\n",
    "sc.pp.pca(adata_rna_subset)\n",
    "sc.pp.neighbors(adata_prot_subset,key_added='original_neighbors')\n",
    "sc.tl.umap(adata_prot_subset,neighbors_key='original_neighbors')\n",
    "sc.pp.neighbors(adata_rna_subset,key_added='original_neighbors')\n",
    "sc.tl.umap(adata_rna_subset,neighbors_key='original_neighbors')\n",
    "\n",
    "if plot_flag:\n",
    "    sc.pl.pca(adata_prot_subset,color=['cell_types','major_cell_types'])\n",
    "    sc.pl.pca(adata_rna_subset,color=['cell_types','major_cell_types'])\n",
    "    sc.pl.umap(adata_prot_subset,color=['cell_types','major_cell_types'])\n",
    "    sc.pl.umap(adata_rna_subset,color=['cell_types','major_cell_types'])\n"
   ]
  },
  {
   "cell_type": "code",
   "execution_count": null,
   "id": "b22045d606465910",
   "metadata": {
    "ExecuteTime": {
     "end_time": "2024-11-28T01:40:06.169508Z",
     "start_time": "2024-11-28T01:40:06.165605Z"
    }
   },
   "outputs": [],
   "source": [
    "if plot_flag:\n",
    "    adata_B_cells = adata_rna_subset[adata_rna_subset.obs['major_cell_types']=='B cells']\n",
    "    sc.pp.pca(adata_B_cells)\n",
    "    sc.pp.neighbors(adata_B_cells, use_rep='X_pca')\n",
    "    sc.tl.umap(adata_B_cells)\n",
    "    sc.pl.umap(adata_B_cells, color=['tissue'], title='verifying tissue does not give a major effect')\n"
   ]
  },
  {
   "cell_type": "code",
   "execution_count": null,
   "id": "50b8525889b1c798",
   "metadata": {
    "ExecuteTime": {
     "end_time": "2024-11-28T01:40:06.215716Z",
     "start_time": "2024-11-28T01:40:06.210440Z"
    }
   },
   "outputs": [],
   "source": [
    "[len(x) for x in major_to_minor_dict.values()]\n",
    "major_to_minor_dict"
   ]
  },
  {
   "cell_type": "code",
   "execution_count": null,
   "id": "c2ddae865e142814",
   "metadata": {
    "ExecuteTime": {
     "end_time": "2024-11-28T01:40:06.800367Z",
     "start_time": "2024-11-28T01:40:06.271636Z"
    }
   },
   "outputs": [],
   "source": [
    "# map minor cell types of B cells to diffrene neighboring regions by samplesing from the regions\n",
    "# and placing the cells in the regions\n",
    "# make a minor cell type to region dict\n",
    "adata_prot_subset,horizontal_splits,vertical_splits = add_spatial_data_to_prot(adata_prot_subset, major_to_minor_dict)"
   ]
  },
  {
   "cell_type": "code",
   "execution_count": null,
   "id": "b84224cabee467f3",
   "metadata": {
    "ExecuteTime": {
     "end_time": "2024-11-28T01:40:06.818699Z",
     "start_time": "2024-11-28T01:40:06.814599Z"
    }
   },
   "outputs": [],
   "source": [
    "if plot_flag:\n",
    "    sc.pl.scatter(adata_prot_subset[adata_prot_subset.obs['major_cell_types']=='B cells'], x='X', y='Y', color='cell_types', title='B Cell subtypes locations')\n",
    "    sc.pl.scatter(adata_prot_subset[adata_prot_subset.obs['major_cell_types']=='T cells-2'], x='X', y='Y', color='cell_types', title='T Cell subtypes locations')\n",
    "    sc.pl.scatter(adata_prot_subset[adata_prot_subset.obs['major_cell_types']=='T cells-1'], x='X', y='Y', color='cell_types', title='T Cell subtypes locations')\n"
   ]
  },
  {
   "cell_type": "code",
   "execution_count": null,
   "id": "6df41e865c25ba05",
   "metadata": {
    "ExecuteTime": {
     "end_time": "2024-11-28T01:40:06.947799Z",
     "start_time": "2024-11-28T01:40:06.859665Z"
    }
   },
   "outputs": [],
   "source": [
    "connectivities = adata_prot_subset.obsp['original_neighbors_connectivities']\n",
    "connectivities[connectivities>0]=1\n",
    "assert np.array_equal(np.array([0., 1.], dtype=np.float32), np.unique(np.array(connectivities.todense())))\n",
    "if plot_flag:\n",
    "    sns.heatmap(connectivities.todense()[:1000,:1000])"
   ]
  },
  {
   "cell_type": "code",
   "execution_count": null,
   "id": "2b6b65500f065506",
   "metadata": {
    "ExecuteTime": {
     "end_time": "2024-11-28T01:40:06.967990Z",
     "start_time": "2024-11-28T01:40:06.962844Z"
    }
   },
   "outputs": [],
   "source": [
    "import scipy\n",
    "neighbor_sums = connectivities.dot(adata_prot_subset.X) # get the sum of all neighbors\n",
    "# np.array(connectivities.todense()[connectivities.todense()!=0].flatten())\n",
    "neighbor_means = neighbor_sums/(0.00001+neighbor_sums.sum(1))[:,np.newaxis] # normalize\n",
    "if plot_flag:\n",
    "    sns.scatterplot(neighbor_means[:50,:3])\n",
    "    plt.show()\n",
    "    plt.scatter(neighbor_means[:50,0],neighbor_means[:50,1])"
   ]
  },
  {
   "cell_type": "code",
   "execution_count": null,
   "id": "497a61469547eea2",
   "metadata": {
    "ExecuteTime": {
     "end_time": "2024-11-28T01:40:07.338257Z",
     "start_time": "2024-11-28T01:40:07.007140Z"
    }
   },
   "outputs": [],
   "source": [
    "# Standardize the data\n",
    "normalized_data = zscore(neighbor_means, axis=0)\n",
    "num_clusters = 6\n",
    "kmeans = KMeans(n_clusters=num_clusters, random_state=0).fit(normalized_data)\n",
    "\n",
    "final_labels = np.array(kmeans.labels_)\n",
    "if 'CN' in adata_prot_subset.obs:\n",
    "    adata_rna.obs.drop(columns=['CN'], inplace=True, errors='ignore')\n",
    "    adata_prot.obs.drop(columns=['CN'], inplace=True, errors='ignore')\n",
    "adata_prot_subset.obs['CN'] = pd.Categorical(final_labels)\n",
    "adata_rna_subset.obs['CN'] = pd.Categorical(final_labels)\n",
    "num_clusters = len(adata_prot_subset.obs['CN'].unique())\n",
    "\n",
    "palette = sns.color_palette(\"tab10\", num_clusters)  # \"tab10\" is a good color map, you can choose others too\n",
    "adata_prot_subset.uns['spatial_clusters_colors'] = palette.as_hex()  # Save as hex color codes\n",
    "fig, ax = plt.subplots()\n",
    "\n",
    "sc.pl.scatter(\n",
    "    adata_prot_subset,\n",
    "    x='X', y='Y',\n",
    "    color='CN',\n",
    "    title='Cluster cells by their CN, can see the different CN in different regions, \\nthanks to the different B cell types in each region',\n",
    "    ax=ax,  # Use the ax created above\n",
    "    show=False  # Prevent scanpy from showing the plot immediately\n",
    ")\n",
    "for x in horizontal_splits[1:-1]:  # Exclude the edges to avoid border doubling\n",
    "    ax.axvline(x=x, color='black', linestyle='--')\n",
    "\n",
    "for y in vertical_splits[1:-1]:  # Exclude the edges to avoid border doubling\n",
    "    ax.axhline(y=y, color='black', linestyle='--')\n",
    "plt.show()\n"
   ]
  },
  {
   "cell_type": "code",
   "execution_count": null,
   "id": "2a9a48c79ee36725",
   "metadata": {
    "ExecuteTime": {
     "end_time": "2024-11-28T01:40:07.369185Z",
     "start_time": "2024-11-28T01:40:07.363757Z"
    }
   },
   "outputs": [],
   "source": [
    "# sc.pp.neighbors(adata_prot_subset, use_rep='X_neighborhood', key_added='X_neighborhood')\n",
    "# sc.tl.umap(adata_prot_subset, neighbors_key='X_neighborhood')\n",
    "# sc.pl.umap(adata_prot_subset, color='CN', title='UMAP of CN vectors colored by CN label')\n",
    "# sc.pl.umap(adata_prot_subset, color='CN', title='UMAP of CN vectors colored by CN label',neighbors_key='original_neighbors',)\n",
    "# sc.pl.umap(adata_prot_subset[adata_prot_subset.obs['major_cell_types']=='B cells'], color='cell_types', title='UMAP of CN vectors colored by minor cell type label')\n",
    "adata_prot_subset"
   ]
  },
  {
   "cell_type": "code",
   "execution_count": null,
   "id": "56e208f1b9a68357",
   "metadata": {
    "ExecuteTime": {
     "end_time": "2024-11-28T01:40:07.422237Z",
     "start_time": "2024-11-28T01:40:07.417479Z"
    }
   },
   "outputs": [],
   "source": [
    "if plot_flag:\n",
    "    sns.histplot(adata_prot_subset[adata_prot_subset.obs['major_cell_types']=='B cells'].obs, x='cell_types',hue='CN', multiple='fill', stat='proportion')\n",
    "    # sns.histplot(adata_prot_subset.obs, x='cell_types',hue='CN', multiple='fill', stat='proportion')\n",
    "    plt.title('Showcasing the signature CN progile of each minor B cell type')"
   ]
  },
  {
   "cell_type": "code",
   "execution_count": null,
   "id": "faf95614738eaec2",
   "metadata": {
    "ExecuteTime": {
     "end_time": "2024-11-28T01:40:07.490043Z",
     "start_time": "2024-11-28T01:40:07.485298Z"
    }
   },
   "outputs": [],
   "source": [
    "if plot_flag:\n",
    "    sc.pl.umap(adata_prot_subset, color=\"cell_types\",neighbors_key='original_neighbors',title='Original data minor cell types')\n",
    "    sc.pl.umap(adata_prot_subset, color=\"major_cell_types\",neighbors_key='original_neighbors',title='Original data major cell types')\n",
    "    sc.pl.umap(adata_prot_subset[adata_prot_subset.obs['major_cell_types'] =='B cells'], color=\"cell_types\",neighbors_key='original_neighbors',title='Latent space MINOR cell types, B cells only')\n",
    "    sc.pl.umap(adata_rna_subset, color=\"CN\",neighbors_key='original_neighbors',title='Original RNA data CN')\n",
    "    sc.pl.umap(adata_prot_subset, color=\"CN\",neighbors_key='original_neighbors',title='Original protein data CN')\n",
    "\n"
   ]
  },
  {
   "cell_type": "code",
   "execution_count": null,
   "id": "ae96d91a12d318c3",
   "metadata": {
    "ExecuteTime": {
     "end_time": "2024-11-28T01:40:07.533023Z",
     "start_time": "2024-11-28T01:40:07.528582Z"
    }
   },
   "outputs": [],
   "source": [
    "# # Define your custom data splitter\n",
    "# class CustomDataSplitter(scvi.dataloaders.DataSplitter):\n",
    "#     def __init__(self, adata_manager, *args, **kwargs):\n",
    "#         super().__init__(adata_manager, *args, **kwargs)\n",
    "#         self.adata_manager = adata_manager\n",
    "#         # Calculate sample weights based on label distribution\n",
    "#         cn_labels = adata_manager.adata.obs[\"CN\"].values  # Replace \"CN\" with your label column\n",
    "#         unique_labels, counts = np.unique(cn_labels, return_counts=True)\n",
    "#         class_weights = {label: 1.0 / count for label, count in zip(unique_labels, counts)}\n",
    "#         self.sample_weights = torch.tensor([class_weights[cn] for cn in cn_labels], dtype=torch.float)\n",
    "# \n",
    "#     def train_dataloader(self):\n",
    "#         \"\"\"Create the train data loader with weighted sampling.\"\"\"\n",
    "#         sampler = WeightedRandomSampler(\n",
    "#             weights=self.sample_weights[self.train_idx],  # Only weights for training samples\n",
    "#             num_samples=len(self.train_idx),\n",
    "#             replacement=True\n",
    "#         )\n",
    "#         return AnnDataLoader(\n",
    "#             self.adata_manager,\n",
    "#             indices=self.train_idx,\n",
    "#             sampler=sampler,\n",
    "#             drop_last=False,\n",
    "#             **self.data_loader_kwargs\n",
    "#         )\n"
   ]
  },
  {
   "cell_type": "code",
   "execution_count": null,
   "id": "4acf9160180c542a",
   "metadata": {
    "ExecuteTime": {
     "end_time": "2024-11-28T01:40:07.582037Z",
     "start_time": "2024-11-28T01:40:07.577883Z"
    }
   },
   "outputs": [],
   "source": [
    "# import numpy as np\n",
    "# import pandas as pd\n",
    "# from anndata import AnnData\n",
    "# \n",
    "# def balance_adata_by_duplication(adata, class_key):\n",
    "#     \"\"\"\n",
    "#     Balance the AnnData object by duplicating samples from smaller classes to match the largest class size.\n",
    "# \n",
    "#     Parameters:\n",
    "#     - adata: AnnData object\n",
    "#     - class_key: the key in adata.obs that contains the class labels\n",
    "# \n",
    "#     Returns:\n",
    "#     - new_adata: balanced AnnData object\n",
    "#     \"\"\"\n",
    "#     # Get counts per class\n",
    "#     class_counts = adata.obs[class_key].value_counts()\n",
    "#     max_count = class_counts.max()\n",
    "# \n",
    "#     balanced_indices = []\n",
    "#     for cell_type in class_counts.index:\n",
    "#         indices = np.where(adata.obs[class_key] == cell_type)[0]\n",
    "#         n_samples = indices.shape[0]\n",
    "#         n_to_sample = max_count - n_samples\n",
    "#         # Sample with replacement to match the max_count\n",
    "#         if n_to_sample > 0:\n",
    "#             # Duplicate indices as needed\n",
    "#             duplicated_indices = np.random.choice(indices, size=n_to_sample, replace=True)\n",
    "#             all_indices = np.concatenate([indices, duplicated_indices])\n",
    "#         else:\n",
    "#             # If already at max count, use the indices as is\n",
    "#             all_indices = indices\n",
    "#         balanced_indices.extend(all_indices)\n",
    "#     # Now create new adata with balanced indices\n",
    "#     balanced_indices = np.array(balanced_indices)\n",
    "#     # Shuffle the indices to mix the duplicated samples\n",
    "#     np.random.shuffle(balanced_indices)\n",
    "#     new_adata = adata[balanced_indices].copy()\n",
    "#     # Optionally, add a column indicating whether a sample is original or duplicated\n",
    "#     new_adata.obs['is_duplicate'] = ['Original' if idx in indices else 'Duplicate' for idx in balanced_indices]\n",
    "#     return new_adata\n",
    "# \n",
    "# # Usage example:\n",
    "# # Suppose adata_rna_subset is your AnnData object, and 'CN' is the key in adata.obs that contains the class labels\n",
    "# \n",
    "# balanced_adata = balance_adata_by_duplication(adata_rna_subset, class_key='CN')\n",
    "# balanced_adata"
   ]
  },
  {
   "cell_type": "code",
   "execution_count": null,
   "id": "f71ed5c2cb9b41f0",
   "metadata": {
    "ExecuteTime": {
     "end_time": "2024-11-28T01:40:10.395036Z",
     "start_time": "2024-11-28T01:40:07.628199Z"
    }
   },
   "outputs": [],
   "source": [
    "# save the adata of extrnal processing\n",
    "# adata_rna_subset = sc.read('adata_rna_subset.hd5ad')\n",
    "# adata_prot_subset = sc.read('adata_prot_subset.hd5ad')\n",
    "\n",
    "if 'spatial_clusters_colors' in adata_rna_subset.uns:\n",
    "    adata_rna_subset.uns['spatial_clusters_colors'] = list(adata_rna_subset.uns['spatial_clusters_colors'])\n",
    "if 'spatial_clusters_colors' in adata_prot_subset.uns:\n",
    "    adata_prot_subset.uns['spatial_clusters_colors'] = list(adata_prot_subset.uns['spatial_clusters_colors'])\n",
    "\n",
    "sc.write('/home/barroz/projects/Mapping-scRNA-seq-Variability-Using-Co-Embedding-to-Understand-Cell-Neighborhood-Effects/CITE-seq_RNA_seq/adata_rna_subset',adata_rna_subset)\n",
    "sc.write('/home/barroz/projects/Mapping-scRNA-seq-Variability-Using-Co-Embedding-to-Understand-Cell-Neighborhood-Effects/CITE-seq_RNA_seq/adata_prot_subset',adata_prot_subset)\n"
   ]
  },
  {
   "cell_type": "code",
   "execution_count": null,
   "id": "49f4478051aed0de",
   "metadata": {
    "ExecuteTime": {
     "end_time": "2024-11-28T01:40:10.417012Z",
     "start_time": "2024-11-28T01:40:10.413036Z"
    }
   },
   "outputs": [],
   "source": [
    "def compute_pairwise_kl(loc, scale):\n",
    "    batch_size, latent_dim = loc.shape\n",
    "\n",
    "    # Expand for broadcasting\n",
    "    loc1 = loc.unsqueeze(1)  # Shape: (256, 1, 10)\n",
    "    loc2 = loc.unsqueeze(0)  # Shape: (1, 256, 10)\n",
    "\n",
    "    scale1 = scale.unsqueeze(1)  # Shape: (256, 1, 10)\n",
    "    scale2 = scale.unsqueeze(0)  # Shape: (1, 256, 10)\n",
    "\n",
    "    # Compute KL divergence for each pair\n",
    "    kl_matrix = (\n",
    "        torch.log(scale2 / scale1) +\n",
    "        (scale1 ** 2 + (loc1 - loc2) ** 2) / (2 * scale2 ** 2) - 0.5\n",
    "    ).sum(dim=-1)  # Sum over latent dimensions\n",
    "\n",
    "    return kl_matrix"
   ]
  },
  {
   "cell_type": "code",
   "execution_count": null,
   "id": "f8277f42a3bcd04a",
   "metadata": {
    "ExecuteTime": {
     "end_time": "2024-11-28T01:40:14.136297Z",
     "start_time": "2024-11-28T01:40:10.458081Z"
    }
   },
   "outputs": [],
   "source": [
    "class DualVAETrainingPlan(TrainingPlan):\n",
    "    def __init__(self, rna_module, **kwargs):\n",
    "        protein_vae = kwargs.pop('protein_vae')\n",
    "        rna_vae_adata = kwargs.pop('rna_vae_adata')\n",
    "        contrastive_weight = kwargs.pop('contrastive_weight', 1.0)\n",
    "\n",
    "        # Call super().__init__() after removing custom kwargs\n",
    "        super().__init__(rna_module, **kwargs)\n",
    "\n",
    "        # Now assign the attributes\n",
    "        self.rna_vae_adata = rna_vae_adata\n",
    "        self.protein_vae = protein_vae\n",
    "        self.contrastive_weight = contrastive_weight\n",
    "        self.protein_vae.module = self.protein_vae.module.to(device)\n",
    "        self.first_step = True\n",
    "    def configure_optimizers(self):\n",
    "        optimizer = torch.optim.AdamW(\n",
    "            list(self.module.parameters()) + list(self.protein_vae.module.parameters()),\n",
    "            lr=0.001,\n",
    "            weight_decay=1e-5,\n",
    "        )\n",
    "        return optimizer\n",
    "    def training_step(self, batch, batch_idx):\n",
    "        # Call the base training step for standard loss computation for RNA VAE\n",
    "        _, _, rna_loss_output = self.forward(batch)\n",
    "        protein_batch = self._get_protein_batch(batch)\n",
    "        _, _, protein_loss_output = self.protein_vae.module.forward(protein_batch)\n",
    "        rna_inference_outputs = self.module.inference(\n",
    "            batch[\"X\"], batch_index=batch[\"batch\"], n_samples=1\n",
    "        )\n",
    "        index = batch[\"labels\"].detach().cpu().numpy().squeeze()\n",
    "\n",
    "        rna_latent_embeddings = rna_inference_outputs[\"z\"].squeeze(0)\n",
    "\n",
    "        protein_inference_outputs = self.protein_vae.module.inference(\n",
    "            protein_batch[\"X\"], batch_index=protein_batch[\"batch\"], n_samples=1\n",
    "        )\n",
    "        kl_div_vec = torch.distributions.kl_divergence(rna_inference_outputs[\"qz\"], protein_inference_outputs[\"qz\"])\n",
    "        protein_latent_embeddings = protein_inference_outputs[\"z\"].squeeze(0)\n",
    "        # rna_index = protein_index = index\n",
    "        # archetype_distances = self.rna_vae_adata.obsm['archetype_distances'][rna_index,:][:, protein_index]\n",
    "        # rna_locs,protein_locs=np.where(archetype_distances < archetype_distances.mean()*0.3)\n",
    "        # rna_locs,protein_locs=np.where(archetype_distances < np.percentile(archetype_distances,0.4))\n",
    "        # for now the archetype distances are already aligned\n",
    "        matching_rna_protein_latent_distances = torch.norm(rna_latent_embeddings- protein_latent_embeddings, p=2, dim=1).mean()\n",
    "        # uses the archetype distances to find the matching rna and protein cells\n",
    "        # the next line assumes that the rna and protein latent embeddings are in the same order\n",
    "        # matching_rna_protein_latent_distances = torch.norm(rna_latent_embeddings - protein_latent_embeddings, p=2,\n",
    "        #                                                    dim=1)\n",
    "        rna_latent_embeddings = rna_inference_outputs[\"qz\"].mean\n",
    "        protein_latent_embeddings = protein_inference_outputs[\"qz\"].mean\n",
    "\n",
    "        rna_distances = compute_pairwise_kl(rna_inference_outputs[\"qz\"].loc , rna_inference_outputs[\"qz\"].scale)\n",
    "        prot_distances = compute_pairwise_kl(protein_inference_outputs[\"qz\"].loc, protein_inference_outputs[\"qz\"].scale)\n",
    "        # prot_distances = torch.cdist(protein_latent_embeddings, protein_latent_embeddings, p=2)\n",
    "        # rna_distances = torch.cdist(rna_latent_embeddings, rna_latent_embeddings, p=2)\n",
    "\n",
    "\n",
    "        # Compute the pairwise KL divergence matrix\n",
    "                \n",
    "        # Compute pairwise KL divergence\n",
    "        if False: # plot histogram of distances prot and rna on top of each other after each epoch\n",
    "            plt.hist(prot_distances.detach().cpu().numpy().flatten(),bins=100,alpha=0.5)\n",
    "            plt.hist(rna_distances.detach().cpu().numpy().flatten(),bins=100,alpha=0.5)\n",
    "            plt.hist(archetype_distances.flatten(), bins=100, alpha=0.5)\n",
    "            plt.show()\n",
    "        distances = 0.1 * rna_distances + prot_distances\n",
    "\n",
    "        # Contrastive loss\n",
    "        cell_neighborhood_info = torch.tensor(self.rna_vae_adata[index].obs[\"CN\"].values).to(device)\n",
    "        major_cell_type = torch.tensor(self.rna_vae_adata[index].obs[\"major_cell_types\"].values.codes).to(device).squeeze()\n",
    "\n",
    "        num_cells = cell_neighborhood_info.shape[0]\n",
    "        diagonal_mask = torch.eye(num_cells, dtype=torch.bool, device=cell_neighborhood_info.device)\n",
    "        # this will give us each row represents a item in the array, and each col is whether it is the same as the items in that index of the col\n",
    "        # this way we get for each cell(a row) which other cells (index of each item in the row, which is the col) are matching\n",
    "        # so if we got 1,2,1, we will get [[1,0,1],[0,1,0],[1,0,1]]\n",
    "        same_cn_mask = cell_neighborhood_info.unsqueeze(0) == cell_neighborhood_info.unsqueeze(1)\n",
    "        same_major_cell_type = major_cell_type.unsqueeze(0) == major_cell_type.unsqueeze(1)\n",
    "        if self.first_step:  # show the mask only for the first batch to make sure it is working as expected\n",
    "            self.first_step = False\n",
    "            plt.imshow(same_cn_mask.cpu().numpy())\n",
    "\n",
    "            plt.figure()\n",
    "            plot_torch_normal(rna_inference_outputs[\"qz\"].mean[0][0].item(),rna_inference_outputs[\"qz\"].scale[0][0].item())\n",
    "            plot_torch_normal(protein_inference_outputs[\"qz\"].mean[0][0].item(),protein_inference_outputs[\"qz\"].scale[0][0].item())\n",
    "            plt.title(f'kl_div score is {kl_div_vec[0][0].item()}')\n",
    "            plt.show()\n",
    "            # plot the second item in the batch\n",
    "            plt.figure()\n",
    "            plot_torch_normal(rna_inference_outputs[\"qz\"].mean[1][0].item(),rna_inference_outputs[\"qz\"].scale[1][0].item())\n",
    "            plot_torch_normal(protein_inference_outputs[\"qz\"].mean[1][0].item(),protein_inference_outputs[\"qz\"].scale[1][0].item())\n",
    "            plt.title(f'kl_div score is {kl_div_vec[1][0].item()}')\n",
    "            plt.show()\n",
    "\n",
    "        distances = distances.masked_fill(diagonal_mask, 0)\n",
    "\n",
    "        same_major_type_same_cn_mask = (same_major_cell_type * same_cn_mask).type(torch.bool)\n",
    "        same_major_type_different_cn_mask = (same_major_cell_type * ~same_cn_mask).type(torch.bool)\n",
    "        different_major_type_same_cn_mask = (~same_major_cell_type * same_cn_mask).type(torch.bool)\n",
    "        different_major_type_different_cn_mask = (~same_major_cell_type * ~same_cn_mask).type(torch.bool)\n",
    "\n",
    "        same_major_type_same_cn_mask.masked_fill_(diagonal_mask, 0)\n",
    "        same_major_type_different_cn_mask.masked_fill_(diagonal_mask, 0)\n",
    "        different_major_type_same_cn_mask.masked_fill_(diagonal_mask, 0)\n",
    "        different_major_type_different_cn_mask.masked_fill_(diagonal_mask, 0)\n",
    "\n",
    "        same_major_type_same_cn_loss = (distances ** 2) * same_major_type_same_cn_mask\n",
    "        same_major_type_different_cn_loss = ((10 - distances).clamp(min=0) ** 2) * same_major_type_different_cn_mask\n",
    "        different_major_type_same_cn_loss = ((10 - distances).clamp(min=0) ** 2) * different_major_type_same_cn_mask\n",
    "        different_major_type_different_cn_loss = ((10 - distances).clamp(min=0) ** 2) * different_major_type_different_cn_mask\n",
    "        # for debugging only: # todo remove this same_cn_loss, it is not valid\n",
    "        same_cn_loss = (distances ** 2) * same_cn_mask\n",
    "        same_major_type_loss = (distances ** 2) * same_major_cell_type\n",
    "        # end of debugging\n",
    "\n",
    "        # positive_loss = (positive_pairs ** 2).mean()\n",
    "        # negative_loss = ((10 - negative_pairs).clamp(min=0) ** 2).mean()\n",
    "        # contrastive_loss = positive_loss + negative_loss\n",
    "        positive_loss = same_major_type_same_cn_loss\n",
    "\n",
    "        negative_loss = different_major_type_different_cn_loss + different_major_type_same_cn_loss + 2 * same_major_type_different_cn_loss\n",
    "        cn_loss = (positive_loss.sum() + negative_loss.sum()) / (num_cells * (num_cells - 1))\n",
    "\n",
    "        total_loss = (rna_loss_output.loss*1+protein_loss_output.loss*1 +\n",
    "                      self.contrastive_weight * cn_loss+\n",
    "                      30 * matching_rna_protein_latent_distances.mean())\n",
    "        # Log losses\n",
    "        self.log(\"train_rna_loss\", rna_loss_output.loss, prog_bar=True)\n",
    "        self.log(\"train_protein_loss\", protein_loss_output.loss, prog_bar=True)\n",
    "        self.log(\"train_contrastive_loss\", cn_loss, prog_bar=True)\n",
    "        self.log(\"train_total_loss\", total_loss, prog_bar=True)\n",
    "        self.log(\"train_matching_rna_protein_latent_distances\", matching_rna_protein_latent_distances.mean(), prog_bar=True)\n",
    "        # print(sum(torch.sum(x) for x in protein_vae.module.parac  q**eters()))\n",
    "        if self.current_epoch % 50 == 0:\n",
    "            rna_vae.save(save_dir, prefix=f'batch_{batch_idx}_', save_anndata=False, overwrite=True)\n",
    "        return total_loss\n",
    "\n",
    "    def _get_protein_batch(self, batch):\n",
    "        # Implement logic to fetch the corresponding protein batch\n",
    "        indices = batch['labels'].detach().cpu().numpy().flatten()  # Assuming batch contains indices\n",
    "        protein_data = self.protein_vae.adata[indices]\n",
    "        protein_batch = {\n",
    "            'X': torch.tensor(protein_data.X.A if issparse(protein_data.X) else protein_data.X).to(device),\n",
    "            'batch': torch.tensor(protein_data.obs['_scvi_batch'].values, dtype=torch.long).to(device),\n",
    "        'labels':torch.tensor(protein_data.obs['CN'].values.astype(int)).to(device),\n",
    "        }\n",
    "        return protein_batch\n",
    "\n",
    "\n",
    "SCVI.setup_anndata(\n",
    "    adata_rna_subset,\n",
    "    labels_key=\"index_col\",\n",
    ")\n",
    "\n",
    "SCVI.setup_anndata(\n",
    "    adata_prot_subset,\n",
    "    labels_key=\"index_col\",\n",
    ")\n",
    "\n",
    "# Initialize VAEs\n",
    "rna_vae = scvi.model.SCVI(adata_rna_subset, gene_likelihood=\"nb\", n_hidden=128)\n",
    "protein_vae = scvi.model.SCVI(adata_prot_subset, gene_likelihood=\"nb\", n_hidden=50)\n",
    "rna_vae._training_plan_cls = DualVAETrainingPlan\n",
    "\n",
    "rna_vae.train(\n",
    "    check_val_every_n_epoch=1,\n",
    "    max_epochs=1,\n",
    "    early_stopping=True,\n",
    "    early_stopping_patience=70,\n",
    "    early_stopping_monitor=\"elbo_validation\",\n",
    "    batch_size=256,\n",
    "    plan_kwargs={'protein_vae': protein_vae,\n",
    "                 'rna_vae_adata': rna_vae.adata,\n",
    "                 'contrastive_weight': 10.0,\n",
    "                 }\n",
    ")"
   ]
  },
  {
   "cell_type": "markdown",
   "id": "6e39c2f14c8f8ec5",
   "metadata": {},
   "source": []
  },
  {
   "cell_type": "code",
   "execution_count": null,
   "id": "ddda5ff98e6a37a4",
   "metadata": {
    "ExecuteTime": {
     "end_time": "2024-11-28T01:42:07.969610Z",
     "start_time": "2024-11-28T01:40:14.160332Z"
    }
   },
   "outputs": [],
   "source": [
    "rna_vae.train(\n",
    "    check_val_every_n_epoch=1,\n",
    "    max_epochs=300,\n",
    "    early_stopping=True,\n",
    "    early_stopping_patience=70,\n",
    "    early_stopping_monitor=\"elbo_validation\",\n",
    "    batch_size=256,\n",
    "    plan_kwargs={'protein_vae': protein_vae,\n",
    "                 'rna_vae_adata': rna_vae.adata,\n",
    "                 'contrastive_weight': 10.0,\n",
    "                 }\n",
    ")"
   ]
  },
  {
   "cell_type": "code",
   "execution_count": null,
   "id": "2e0515a6fd720ee",
   "metadata": {
    "ExecuteTime": {
     "end_time": "2024-11-28T01:42:07.995517Z",
     "start_time": "2024-11-28T01:42:07.992648Z"
    }
   },
   "outputs": [],
   "source": [
    "# sum(balanced_adata.obs['is_duplicate'] == 'Original')"
   ]
  },
  {
   "cell_type": "code",
   "execution_count": null,
   "id": "4c788f15f933968e",
   "metadata": {
    "ExecuteTime": {
     "end_time": "2024-11-28T01:42:08.033308Z",
     "start_time": "2024-11-28T01:42:08.030608Z"
    }
   },
   "outputs": [],
   "source": [
    "# Keep only the original samples\n",
    "# adata_rna_subset = balanced_adata[balanced_adata.obs['is_duplicate'] == 'Original'].copy()\n"
   ]
  },
  {
   "cell_type": "code",
   "execution_count": null,
   "id": "821122324d11ab2a",
   "metadata": {
    "ExecuteTime": {
     "end_time": "2024-11-28T01:42:08.083648Z",
     "start_time": "2024-11-28T01:42:08.078895Z"
    }
   },
   "outputs": [],
   "source": [
    "rna_vae.history.keys()"
   ]
  },
  {
   "cell_type": "code",
   "execution_count": null,
   "id": "d3fe7df755f67ef7",
   "metadata": {
    "ExecuteTime": {
     "end_time": "2024-11-28T01:42:08.562916Z",
     "start_time": "2024-11-28T01:42:08.127365Z"
    }
   },
   "outputs": [],
   "source": [
    "# Ensure convergence\n",
    "train_test_results = rna_vae.history[\"train_total_loss\"]\n",
    "train_test_results[\"elbo_validation\"] = rna_vae.history[\"elbo_validation\"]\n",
    "train_test_results.iloc[:].plot(logy=True)  # exclude first 10 epochs\n",
    "plt.show()"
   ]
  },
  {
   "cell_type": "code",
   "execution_count": null,
   "id": "11b53a02bf84cd89",
   "metadata": {},
   "outputs": [],
   "source": [
    "# sc.pp.pca(adata_rna_subset)\n",
    "# sc.pp.neighbors(adata_rna_subset, use_rep='X_pca',key_added='pca_neighbors')\n",
    "# sc.tl.umap(adata_rna_subset,neighbors_key='pca_neighbors')\n",
    "# sc.pl.umap(adata_rna_subset, color=\"major_cell_types\",neighbors_key='X_pca',title='Latent space, major cell types')\n"
   ]
  },
  {
   "cell_type": "code",
   "execution_count": null,
   "id": "bed1aa1e787c933d",
   "metadata": {},
   "outputs": [],
   "source": [
    "# train_test_results = rna_vae.history[\"train_total_loss\"]\n",
    "# train_test_results[\"elbo_validation\"] = rna_vae.history[\"elbo_validation\"]\n",
    "# train_test_results.iloc[:].plot(logy=True)  # exclude first 10 epochs\n",
    "# plt.show()\n",
    "SCVI_LATENT_KEY = \"X_scVI\"\n",
    "protein_vae.module.to('cpu')\n",
    "protein_vae.is_trained = True\n",
    "latent_rna = rna_vae.get_latent_representation()\n",
    "latent_prot = protein_vae.get_latent_representation()\n",
    "adata_rna_subset.obsm[SCVI_LATENT_KEY] = latent_rna\n",
    "adata_prot_subset.obsm[SCVI_LATENT_KEY] = latent_prot"
   ]
  },
  {
   "cell_type": "code",
   "execution_count": null,
   "id": "3fd31b3ecf9aae78",
   "metadata": {},
   "outputs": [],
   "source": [
    "sc.pp.neighbors(adata_rna_subset, use_rep=SCVI_LATENT_KEY,key_added='latent_space_neighbors')\n",
    "sc.pp.neighbors(adata_prot_subset, use_rep=SCVI_LATENT_KEY,key_added='latent_space_neighbors')\n",
    "sc.tl.umap(adata_rna_subset,neighbors_key='latent_space_neighbors')\n",
    "sc.tl.umap(adata_prot_subset,neighbors_key='latent_space_neighbors')\n",
    "\n",
    "# sc.pl.umap(adata_rna_subset, color=\"major_cell_types\",neighbors_key='latent_space_neighbors',title='RNA Latent space, major cell types')\n",
    "# sc.pl.umap(adata_prot_subset, color=\"major_cell_types\",neighbors_key='latent_space_neighbors',title='Protein Latent space, major cell types')\n",
    "# minor cell types\n",
    "# sc.pl.umap(adata_rna_subset[adata_rna_subset.obs['major_cell_types'] =='B cells'], color=\"CN\",neighbors_key='latent_space_neighbors',title='Latent space, minor cell types (B-cells only) with observed CN')\n",
    "# make sure that the latent space of the protein and rna are aligned by plotting them on top of each other\n",
    "sc.pl.umap(adata_rna_subset, color=\"cell_types\", neighbors_key='latent_space_neighbors',\n",
    "           title='Latent space, minor cell types RNA')\n",
    "sc.pl.umap(adata_prot_subset, color=\"cell_types\", neighbors_key='latent_space_neighbors',\n",
    "           title='Latent space, minor cell types Protein')\n",
    "sc.pl.umap(adata_rna_subset, color=\"CN\", neighbors_key='latent_space_neighbors',\n",
    "           title='Latent space, CN RNA')\n",
    "sc.pl.umap(adata_prot_subset, color=\"CN\", neighbors_key='latent_space_neighbors',\n",
    "              title='Latent space, CN Protein')\n",
    "# Combine the latent embeddings into one AnnData object before plotting\n",
    "combined_latent = ad.concat([AnnData(adata_rna_subset.obsm[SCVI_LATENT_KEY]), AnnData(adata_prot_subset.obsm[SCVI_LATENT_KEY])], join='outer', label='modality', keys=['RNA', 'Protein'])\n",
    "\n",
    "sc.pp.neighbors(combined_latent)\n",
    "sc.tl.umap(combined_latent)\n",
    "sc.pl.umap(combined_latent,  color='modality',\n",
    "           title='Combined Latent space, minor cell types',legend_loc='center')\n",
    "# plot hist of distances between cells of diffrent modalities in latent space\n",
    "combined_latent.obs['modality'] = combined_latent.obs['modality'].astype('category')\n",
    "rna_latent = combined_latent[combined_latent.obs['modality']=='RNA']\n",
    "rna_latent.obs['major_cell_types'] = adata_rna_subset.obs['major_cell_types'].values\n",
    "prot_latent = combined_latent[combined_latent.obs['modality']=='Protein']\n",
    "dis = (np.linalg.norm(rna_latent.X-prot_latent.X,axis=1))\n",
    "rand_rna_latent = rna_latent.copy()\n",
    "#  randomize order of cells in rna latent space\n",
    "shuffled_indices = np.random.permutation(rand_rna_latent.obs.index)\n",
    "rand_rna_latent = rand_rna_latent[shuffled_indices].copy()\n",
    "rand_dis = np.linalg.norm(rand_rna_latent.X-prot_latent.X,axis=1)\n",
    "rand_rna_latent.obs['latent_dis'] = np.log(dis)\n",
    "sc.pl.umap(rand_rna_latent, cmap='coolwarm',\n",
    "           color='latent_dis',\n",
    "           title='Latent space distances between RNA and Protein cells')\n",
    "plt.show()\n",
    "rand_rna_latent = rna_latent.copy()\n",
    "# randomize cell per cell types:\n",
    "for cell_type in rand_rna_latent.obs['major_cell_types'].unique():\n",
    "    cell_type_indices = rand_rna_latent.obs['major_cell_types'] == cell_type\n",
    "    shuffled_indices = np.random.permutation(rand_rna_latent[cell_type_indices].obs.index)\n",
    "    rand_rna_latent.X[cell_type_indices] = rand_rna_latent[cell_type_indices][shuffled_indices].copy().X\n",
    "rand_dis_2 = np.linalg.norm(rand_rna_latent.X - prot_latent.X, axis=1)\n",
    "sns.histplot(rand_dis, bins=100, color='red', label='Randomized distances')\n",
    "sns.histplot(dis, bins=100, color='blue', label='True distances')\n",
    "sns.histplot(rand_dis_2, bins=100, color='yellow', label='Randomized distances within cell types')\n",
    "plt.legend()\n",
    "plt.show()"
   ]
  },
  {
   "cell_type": "code",
   "execution_count": null,
   "id": "71f41d1e0b40d7a9",
   "metadata": {},
   "outputs": [],
   "source": [
    "2ff"
   ]
  },
  {
   "cell_type": "code",
   "execution_count": null,
   "id": "ed053220d5ae2fdc",
   "metadata": {},
   "outputs": [],
   "source": [
    "SCVI_LATENT_KEY = \"X_scVI\"\n",
    "latent = model.get_latent_representation()\n",
    "adata_rna_subset.obsm[SCVI_LATENT_KEY] = latent\n",
    "\n",
    "sc.pp.neighbors(adata_rna_subset, use_rep=SCVI_LATENT_KEY,key_added='latent_space_neighbors')\n",
    "sc.tl.umap(adata_rna_subset,neighbors_key='latent_space_neighbors')\n",
    "\n",
    "sc.pl.umap(adata_rna_subset, color=\"major_cell_types\",neighbors_key='latent_space_neighbors',title='Latent space, major cell types')\n",
    "sc.pl.umap(adata_rna_subset[adata_rna_subset.obs['major_cell_types'] =='B cells'], color=\"CN\",neighbors_key='latent_space_neighbors',title='Latent space, minor cell types (B-cells only) with observed CN')\n",
    "# B cells only adta\n",
    "adata_rna_subset_B_cells = adata_rna_subset[adata_rna_subset.obs['major_cell_types'] == 'B cells']\n",
    "adata_prot_subset_B_cells = adata_prot_subset[adata_prot_subset.obs['major_cell_types'] == 'B cells']\n",
    "sc.pp.neighbors(adata_rna_subset_B_cells, use_rep=SCVI_LATENT_KEY,key_added='latent_space_neighbors')\n",
    "sc.pp.neighbors(adata_prot_subset_B_cells, use_rep='X_pca',key_added='original_neighbors')\n",
    "sc.tl.umap(adata_rna_subset_B_cells,neighbors_key='latent_space_neighbors')\n",
    "sc.tl.umap(adata_prot_subset_B_cells, neighbors_key='original_neighbors')\n",
    "\n",
    "sc.pl.umap(adata_rna_subset_B_cells, color=\"cell_types\",neighbors_key='latent_space_neighbors',title='Latent space minor cell types (B-cells only)')\n",
    "sc.pl.umap(adata_prot_subset_B_cells, color=\"cell_types\",\n",
    "           neighbors_key='original_neighbors', title='Original Latent space MINOR cell types, B cells only')\n",
    "\n"
   ]
  },
  {
   "cell_type": "code",
   "execution_count": null,
   "id": "9e068c11749bfafd",
   "metadata": {},
   "outputs": [],
   "source": [
    "adata_2 = adata_prot_subset[adata_prot_subset.obs['major_cell_types'] == 'B cells']\n",
    "sc.pp.pca(adata_2)\n",
    "sc.pp.neighbors(adata_2, use_rep='X_pca')\n",
    "sc.tl.umap(adata_2)\n",
    "sc.pl.umap(adata_2, color='cell_types')\n"
   ]
  },
  {
   "cell_type": "code",
   "execution_count": null,
   "id": "8236140403278a0d",
   "metadata": {},
   "outputs": [],
   "source": [
    "silhouette_score_per_cell_type_original= {}\n",
    "silhouette_score_per_cell_type_latent = {}\n",
    "silhouette_score_per_cell_type= {}\n",
    "cell_type_indexes = adata_rna_subset.obs['major_cell_types'] == 'B cells'\n",
    "cell_type_data = adata_rna_subset[cell_type_indexes].X\n",
    "minor_cell_type_lables =  adata_rna_subset[cell_type_indexes].obs['cell_types']\n",
    "curr_latent = adata_rna_subset.obsm[SCVI_LATENT_KEY][cell_type_indexes]\n",
    "\n",
    "silhouette_score_per_cell_type['original_B cells'] = silhouette_score(cell_type_data, minor_cell_type_lables)\n",
    "silhouette_score_per_cell_type['Ours B cells'] = silhouette_score(curr_latent, minor_cell_type_lables)"
   ]
  },
  {
   "cell_type": "code",
   "execution_count": null,
   "id": "d61d5a0541a3d028",
   "metadata": {},
   "outputs": [],
   "source": [
    "adata_rna_subset[cell_type_indexes].obs['cell_types']"
   ]
  },
  {
   "cell_type": "code",
   "execution_count": null,
   "id": "9bf944eeffb22034",
   "metadata": {},
   "outputs": [],
   "source": [
    "# plot as box plot\n",
    "plt.bar(silhouette_score_per_cell_type.keys(), silhouette_score_per_cell_type.values())"
   ]
  },
  {
   "cell_type": "code",
   "execution_count": null,
   "id": "1ab60bbdab5b8093",
   "metadata": {},
   "outputs": [],
   "source": [
    "adata_rna_subset.obsm[SCVI_LATENT_KEY]\n"
   ]
  },
  {
   "cell_type": "code",
   "execution_count": null,
   "id": "c33fad84fa801bfa",
   "metadata": {},
   "outputs": [],
   "source": []
  },
  {
   "cell_type": "code",
   "execution_count": null,
   "id": "601ae7eae67f43fb",
   "metadata": {},
   "outputs": [],
   "source": []
  },
  {
   "cell_type": "code",
   "execution_count": null,
   "id": "5a8e8c1f74ca4828",
   "metadata": {},
   "outputs": [],
   "source": [
    "major_to_minor_dict"
   ]
  }
 ],
 "metadata": {
  "kernelspec": {
   "display_name": "Python 3",
   "language": "python",
   "name": "python3"
  },
  "language_info": {
   "codemirror_mode": {
    "name": "ipython",
    "version": 2
   },
   "file_extension": ".py",
   "mimetype": "text/x-python",
   "name": "python",
   "nbconvert_exporter": "python",
   "pygments_lexer": "ipython2",
   "version": "2.7.6"
  }
 },
 "nbformat": 4,
 "nbformat_minor": 5
}
