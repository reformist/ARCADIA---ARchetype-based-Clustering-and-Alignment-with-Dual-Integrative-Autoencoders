{
 "cells": [
  {
   "cell_type": "code",
   "execution_count": null,
   "metadata": {},
   "outputs": [],
   "source": [
    "import scvi\n",
    "save_dir = 'data/totalVI'\n",
    "# adata = scvi.data.pbmcs_10x_cite_seq(save_path=save_dir)\n",
    "adata = scvi.data.spleen_lymph_cite_seq(save_path=save_dir)\n",
    "adata.obsm['protein_expression'].shape\n",
    "adata"
   ]
  },
  {
   "cell_type": "code",
   "execution_count": null,
   "metadata": {},
   "outputs": [],
   "source": [
    "import scanpy as sc"
   ]
  },
  {
   "cell_type": "code",
   "execution_count": null,
   "metadata": {},
   "outputs": [],
   "source": [
    "# separate by sample, process each one separately\n",
    "set(adata.obs['batch_indices'])"
   ]
  },
  {
   "cell_type": "code",
   "execution_count": null,
   "metadata": {},
   "outputs": [],
   "source": [
    "set(adata.obs['batch'])"
   ]
  },
  {
   "cell_type": "code",
   "execution_count": null,
   "metadata": {},
   "outputs": [],
   "source": [
    "set(adata.obs['cell_types'])"
   ]
  },
  {
   "cell_type": "code",
   "execution_count": null,
   "metadata": {},
   "outputs": [],
   "source": [
    "adata.X"
   ]
  },
  {
   "cell_type": "code",
   "execution_count": null,
   "metadata": {},
   "outputs": [],
   "source": [
    "from anndata import AnnData\n",
    "\n",
    "# adata_qc = AnnData()\n",
    "for batch in set(list(adata.obs['batch'])):\n",
    "    print(batch)"
   ]
  },
  {
   "cell_type": "code",
   "execution_count": null,
   "metadata": {},
   "outputs": [],
   "source": [
    "def preprocessing(batch):  \n",
    "    adata_name = adata[adata.obs['batch'] == f'{batch}']\n",
    "    # now need to do normalization\n",
    "    # mitochondrial genes, \"MT-\" for human, \"Mt-\" for mouse\n",
    "    # this CITE-seq data is mouse data\n",
    "    adata_name.var[\"mt\"] = adata.var_names.str.startswith(\"Mt-\")\n",
    "    # ribosomal genes\n",
    "    adata_name.var[\"ribo\"] = adata.var_names.str.startswith((\"RPS\", \"RPL\"))\n",
    "    # hemoglobin genes\n",
    "    adata_name.var[\"hb\"] = adata.var_names.str.contains(\"^HB[^(P)]\")\n",
    "\n",
    "    sc.pp.calculate_qc_metrics(adata_name, qc_vars=[\"mt\", \"ribo\", \"hb\"], inplace=True, log1p=True)\n",
    "\n",
    "    sc.pl.scatter(adata_name, \"total_counts\", \"n_genes_by_counts\", color=\"pct_counts_mt\")\n",
    "\n",
    "    sc.pl.violin(\n",
    "        adata_name,\n",
    "        [\"n_genes_by_counts\", \"total_counts\", \"pct_counts_mt\"],\n",
    "        jitter=0.4,\n",
    "        multi_panel=True,\n",
    "    )\n",
    "    # adata_qc.concatenate(adata_slice)\n",
    "    sc.pp.filter_cells(adata_name, min_genes=100)\n",
    "    sc.pp.filter_genes(adata_name, min_cells=3)\n",
    "\n",
    "    # finding doublets\n",
    "    # adata.layers[\"counts\"] = adata.X.copy()\n",
    "    adata_name.layers[\"counts\"] = adata_name.X.copy()\n",
    "    sc.pp.normalize_total(adata_name)\n",
    "    sc.pp.log1p(adata_name)\n",
    "\n",
    "\n",
    "    sc.pp.highly_variable_genes(adata_name, n_top_genes=2000, batch_key=\"batch\")\n",
    "    sc.pl.highly_variable_genes(adata_name)\n",
    "\n",
    "    sc.tl.pca(adata_name)\n",
    "\n",
    "    sc.pl.pca_variance_ratio(adata_name, n_pcs=50, log=True)\n",
    "\n",
    "#     sc.pl.pca(\n",
    "#     adata_name,\n",
    "#     color=[\"sample\", \"sample\", \"pct_counts_mt\", \"pct_counts_mt\"],\n",
    "#     dimensions=[(0, 1), (2, 3), (0, 1), (2, 3)],\n",
    "#     ncols=2,\n",
    "#     size=2,\n",
    "# )\n",
    "    sc.pp.neighbors(adata_name)\n",
    "    sc.tl.umap(adata_name)\n",
    "\n",
    "\n",
    "\n",
    "\n",
    "    return adata_name\n",
    "\n"
   ]
  },
  {
   "cell_type": "code",
   "execution_count": null,
   "metadata": {},
   "outputs": [],
   "source": [
    "adata_batch_1 = preprocessing('SLN111-D1')"
   ]
  },
  {
   "cell_type": "code",
   "execution_count": null,
   "metadata": {},
   "outputs": [],
   "source": [
    "# adata_batch_1\n",
    "sc.pl.umap(adata_batch_1,color='cell_types')\n"
   ]
  },
  {
   "cell_type": "code",
   "execution_count": null,
   "metadata": {},
   "outputs": [],
   "source": [
    "sc.pl.pca(adata_batch_1,color='cell_types')"
   ]
  },
  {
   "cell_type": "code",
   "execution_count": null,
   "metadata": {},
   "outputs": [],
   "source": [
    "import anndata as ad\n",
    "adata_batch_1_protein = ad.AnnData(adata_batch_1.obsm['protein_expression'])"
   ]
  },
  {
   "cell_type": "code",
   "execution_count": null,
   "metadata": {},
   "outputs": [],
   "source": [
    "sc.pp.normalize_total(adata_batch_1_protein)\n",
    "# might need to adjust these parameters for protein, not sure what the filtering should be\n",
    "sc.pp.filter_cells(adata_batch_1_protein, min_genes=20)\n",
    "sc.pp.filter_genes(adata_batch_1_protein, min_cells=3)"
   ]
  },
  {
   "cell_type": "code",
   "execution_count": null,
   "metadata": {},
   "outputs": [],
   "source": [
    "adata_batch_1_protein"
   ]
  },
  {
   "cell_type": "code",
   "execution_count": null,
   "metadata": {},
   "outputs": [],
   "source": [
    "adata_batch_1_protein.obs['cell_types'] = adata_batch_1.obs['cell_types']\n",
    "# adata_batch_1_protein.obs['protein_names'] = adata_batch_1.obsm['protein_expression'].columns"
   ]
  },
  {
   "cell_type": "code",
   "execution_count": null,
   "metadata": {},
   "outputs": [],
   "source": [
    "cell_type_mapping = {\n",
    "    'Activated CD4 T': 'T cells',\n",
    "    'B1 B': 'B cells',\n",
    "    'CD122+ CD8 T': 'T cells',\n",
    "    'CD4 T': 'T cells',\n",
    "    'CD8 T': 'T cells',\n",
    "    'Erythrocytes': 'Red blood cells',\n",
    "    'GD T': 'T cells',\n",
    "    'ICOS-high Tregs': 'Regulatory T cells',\n",
    "    'Ifit3-high B': 'B cells',\n",
    "    'Ifit3-high CD4 T': 'T cells',\n",
    "    'Ifit3-high CD8 T': 'T cells',\n",
    "    'Ly6-high mono': 'Monocytes',\n",
    "    'Ly6-low mono': 'Monocytes',\n",
    "    'MZ B': 'B cells',\n",
    "    'MZ/Marco-high macrophages': 'Macrophages',\n",
    "    'Mature B': 'B cells',\n",
    "    'Migratory DCs': 'Dendritic cells',\n",
    "    'NK': 'Natural killer cells',\n",
    "    'NKT': 'Natural killer T cells',\n",
    "    'Neutrophils': 'Neutrophils',\n",
    "    'Plasma B': 'B cells',  # Added missing type\n",
    "    'Red-pulp macrophages': 'Macrophages',\n",
    "    'Transitional B': 'B cells',\n",
    "    'Tregs': 'Regulatory T cells',\n",
    "    'cDC1s': 'Conventional dendritic cells',\n",
    "    'cDC2s': 'Conventional dendritic cells',\n",
    "    'pDCs': 'Plasmacytoid dendritic cells'\n",
    "}"
   ]
  },
  {
   "cell_type": "code",
   "execution_count": null,
   "metadata": {},
   "outputs": [],
   "source": [
    "sc.tl.pca(adata_batch_1_protein)\n",
    "sc.pp.neighbors(adata_batch_1_protein)\n",
    "sc.tl.umap(adata_batch_1_protein)\n"
   ]
  },
  {
   "cell_type": "code",
   "execution_count": null,
   "metadata": {},
   "outputs": [],
   "source": [
    "import pandas as pd\n",
    "adata_batch_1.obs['major_cell_types'] = pd.Categorical( adata_batch_1.obs['cell_types'].map(cell_type_mapping))\n",
    "adata_batch_1_protein.obs['major_cell_types'] =pd.Categorical(  adata_batch_1_protein.obs['cell_types'].map(cell_type_mapping))"
   ]
  },
  {
   "cell_type": "code",
   "execution_count": null,
   "metadata": {},
   "outputs": [],
   "source": [
    "# plotting major cell type, minor cell type\n",
    "sc.pl.pca(adata_batch_1, color = 'major_cell_types')"
   ]
  },
  {
   "cell_type": "code",
   "execution_count": null,
   "metadata": {},
   "outputs": [],
   "source": [
    "sc.pl.umap(adata_batch_1, color = 'major_cell_types')"
   ]
  },
  {
   "cell_type": "code",
   "execution_count": null,
   "metadata": {},
   "outputs": [],
   "source": [
    "sc.pl.umap(adata_batch_1, color='cell_types')"
   ]
  },
  {
   "cell_type": "code",
   "execution_count": null,
   "metadata": {},
   "outputs": [],
   "source": [
    "sc.pl.pca(adata_batch_1_protein, color='major_cell_types')"
   ]
  },
  {
   "cell_type": "code",
   "execution_count": null,
   "metadata": {},
   "outputs": [],
   "source": [
    "sc.pl.umap(adata_batch_1_protein, color='major_cell_types')"
   ]
  },
  {
   "cell_type": "code",
   "execution_count": null,
   "metadata": {},
   "outputs": [],
   "source": [
    "sc.pl.umap(adata_batch_1_protein, color = 'cell_types')"
   ]
  },
  {
   "cell_type": "code",
   "execution_count": null,
   "metadata": {},
   "outputs": [],
   "source": [
    "from sklearn.metrics import silhouette_score"
   ]
  },
  {
   "cell_type": "code",
   "execution_count": null,
   "metadata": {},
   "outputs": [],
   "source": [
    "# need to calculate silhouette score\n",
    "\n",
    "silhouette_score_per_cell_type_original= {}\n",
    "silhouette_score_per_cell_type_latent = {}\n",
    "silhouette_score_per_cell_type= {}\n",
    "cell_type_indexes = adata_batch_1.obs['major_cell_types'] == 'B cells'\n",
    "cell_type_data = adata_batch_1[cell_type_indexes].X\n",
    "minor_cell_type_lables =  adata_batch_1[cell_type_indexes].obs['cell_types']\n",
    "# curr_latent = adata_batch_1.obsm[SCVI_LATENT_KEY][cell_type_indexes]\n",
    "\n",
    "# silhouette_score_per_cell_type['original_B cells'] = silhouette_score(cell_type_data, minor_cell_type_lables)\n",
    "# silhouette_score_per_cell_type['Ours B cells'] = silhouette_score(curr_latent, minor_cell_type_lables)"
   ]
  },
  {
   "cell_type": "code",
   "execution_count": null,
   "metadata": {},
   "outputs": [],
   "source": [
    "silhouette_score(adata_batch_1.X, adata_batch_1.obs['major_cell_types'])"
   ]
  },
  {
   "cell_type": "code",
   "execution_count": null,
   "metadata": {},
   "outputs": [],
   "source": [
    "silhouette_score(adata_batch_1.X, adata_batch_1.obs['cell_types'])"
   ]
  },
  {
   "cell_type": "code",
   "execution_count": null,
   "metadata": {},
   "outputs": [],
   "source": [
    "sc.pl.umap(adata_batch_1, color='cell_types')"
   ]
  },
  {
   "cell_type": "code",
   "execution_count": null,
   "metadata": {},
   "outputs": [],
   "source": [
    "sc.pl.umap(adata_batch_1_protein, color='cell_types')"
   ]
  },
  {
   "cell_type": "code",
   "execution_count": null,
   "metadata": {},
   "outputs": [],
   "source": [
    "silhouette_score(adata_batch_1_protein.X, adata_batch_1.obs['major_cell_types'])"
   ]
  },
  {
   "cell_type": "code",
   "execution_count": null,
   "metadata": {},
   "outputs": [],
   "source": [
    "silhouette_score(adata_batch_1_protein.X, adata_batch_1.obs['cell_types'])"
   ]
  },
  {
   "cell_type": "code",
   "execution_count": null,
   "metadata": {},
   "outputs": [],
   "source": [
    "# doing silhouette score with highly variable genes"
   ]
  },
  {
   "cell_type": "code",
   "execution_count": null,
   "metadata": {},
   "outputs": [],
   "source": [
    "# Filter the data to include only highly variable genes\n",
    "highly_variable_mask = adata_batch_1.var['highly_variable']\n",
    "\n",
    "# Create a new AnnData object with highly variable genes\n",
    "adata_batch_1hvg = adata_batch_1[:, highly_variable_mask].copy()\n"
   ]
  },
  {
   "cell_type": "code",
   "execution_count": null,
   "metadata": {},
   "outputs": [],
   "source": [
    "adata_batch_1hvg"
   ]
  },
  {
   "cell_type": "code",
   "execution_count": null,
   "metadata": {},
   "outputs": [],
   "source": [
    "silhouette_score(adata_batch_1hvg.X, adata_batch_1hvg.obs['cell_types'])"
   ]
  },
  {
   "cell_type": "code",
   "execution_count": null,
   "metadata": {},
   "outputs": [],
   "source": [
    "silhouette_score(adata_batch_1hvg.X, adata_batch_1hvg.obs['major_cell_types'])"
   ]
  },
  {
   "cell_type": "code",
   "execution_count": null,
   "metadata": {},
   "outputs": [],
   "source": [
    "sc.pl.pca(adata_batch_1_protein, color = 'cell_types')"
   ]
  },
  {
   "cell_type": "code",
   "execution_count": null,
   "metadata": {},
   "outputs": [],
   "source": [
    "sc.pl.umap(adata_batch_1,color='cell_types')"
   ]
  },
  {
   "cell_type": "code",
   "execution_count": null,
   "metadata": {},
   "outputs": [],
   "source": [
    "sc.pl.pca(adata_batch_1,color='cell_types')"
   ]
  },
  {
   "cell_type": "code",
   "execution_count": null,
   "metadata": {},
   "outputs": [],
   "source": [
    "adata_batch_1_protein"
   ]
  },
  {
   "cell_type": "code",
   "execution_count": null,
   "metadata": {},
   "outputs": [],
   "source": [
    "import numpy as np\n",
    "def clr_normalization(data):\n",
    "    \"\"\"Apply centered log-ratio normalization.\"\"\"\n",
    "    data = np.array(data)\n",
    "    data_sum = np.sum(data, axis=1, keepdims=True)\n",
    "    data_clr = np.log1p(data / data_sum)\n",
    "    return data_clr\n",
    "\n",
    "# Apply CLR normalization to protein data\n"
   ]
  },
  {
   "cell_type": "code",
   "execution_count": null,
   "metadata": {},
   "outputs": [],
   "source": [
    "# adata_batch_1_protein.obsm[\"protein_clr\"] = clr_normalization(adata_batch_1.obsm['protein_expression'])\n"
   ]
  },
  {
   "cell_type": "code",
   "execution_count": null,
   "metadata": {},
   "outputs": [],
   "source": [
    "# adata_batch_1_protein.obsm[\"protein_clr\"]"
   ]
  },
  {
   "cell_type": "code",
   "execution_count": null,
   "metadata": {},
   "outputs": [],
   "source": [
    "sc.tl.pca(adata_batch_1_protein.obsm[\"protein_clr\"])"
   ]
  },
  {
   "cell_type": "code",
   "execution_count": null,
   "metadata": {},
   "outputs": [],
   "source": [
    "sc.pl.pca(adata_batch_1_protein.obsm[\"protein_clr\"])"
   ]
  },
  {
   "cell_type": "code",
   "execution_count": null,
   "metadata": {},
   "outputs": [],
   "source": [
    "sc.pp.normalize_total(adata_batch_1_protein.obsm['protein_expression'])\n",
    "sc.pp.log1p(adata_batch_1_protein.obsm['protein_expression'])\n"
   ]
  },
  {
   "cell_type": "code",
   "execution_count": null,
   "metadata": {},
   "outputs": [],
   "source": [
    "adata_batch_2 = preprocessing('SLN111-D2')"
   ]
  },
  {
   "cell_type": "code",
   "execution_count": null,
   "metadata": {},
   "outputs": [],
   "source": [
    "adata_batch_3 = preprocessing('SLN208-D1')"
   ]
  },
  {
   "cell_type": "code",
   "execution_count": null,
   "metadata": {},
   "outputs": [],
   "source": [
    "adata_batch_4 = preprocessing('SLN208-D2')"
   ]
  },
  {
   "cell_type": "code",
   "execution_count": null,
   "metadata": {},
   "outputs": [],
   "source": [
    "def preprocessing(adata_name, batch):  \n",
    "    adata_111_D1 = adata[adata.obs['batch'] == f'SLN111-D1']\n",
    "    # now need to do normalization\n",
    "    # mitochondrial genes, \"MT-\" for human, \"Mt-\" for mouse\n",
    "    # this CITE-seq data is mouse data\n",
    "    adata_111_D1.var[\"mt\"] = adata.var_names.str.startswith(\"Mt-\")\n",
    "    # ribosomal genes\n",
    "    adata_111_D1.var[\"ribo\"] = adata.var_names.str.startswith((\"RPS\", \"RPL\"))\n",
    "    # hemoglobin genes\n",
    "    adata_111_D1.var[\"hb\"] = adata.var_names.str.contains(\"^HB[^(P)]\")\n",
    "\n",
    "    sc.pp.calculate_qc_metrics(adata_111_D1, qc_vars=[\"mt\", \"ribo\", \"hb\"], inplace=True, log1p=True)\n",
    "\n",
    "    sc.pl.scatter(adata_111_D1, \"total_counts\", \"n_genes_by_counts\", color=\"pct_counts_mt\")\n",
    "\n",
    "    sc.pl.violin(\n",
    "        adata_111_D1,\n",
    "        [\"n_genes_by_counts\", \"total_counts\", \"pct_counts_mt\"],\n",
    "        jitter=0.4,\n",
    "        multi_panel=True,\n",
    "    )\n",
    "    # adata_qc.concatenate(adata_slice)\n",
    "    sc.pp.filter_cells(adata_111_D1, min_genes=100)\n",
    "    sc.pp.filter_genes(adata_111_D1, min_cells=3)\n",
    "\n",
    "    # finding doublets\n",
    "    # adata.layers[\"counts\"] = adata.X.copy()\n",
    "    adata_111_D1.layers[\"counts\"] = adata_111_D1.X.copy()\n",
    "    sc.pp.normalize_total(adata_111_D1)\n",
    "    sc.pp.log1p(adata_111_D1)\n",
    "\n",
    "\n",
    "    sc.pp.highly_variable_genes(adata_111_D1, n_top_genes=2000, batch_key=\"batch\")\n",
    "    sc.pl.highly_variable_genes(adata_111_D1)\n",
    "\n"
   ]
  },
  {
   "cell_type": "code",
   "execution_count": null,
   "metadata": {},
   "outputs": [],
   "source": []
  },
  {
   "cell_type": "code",
   "execution_count": null,
   "metadata": {},
   "outputs": [],
   "source": [
    "adata_208_D1 = adata[adata.obs['batch'] == f'SLN208-D1']\n",
    "# now need to do normalization\n",
    "# mitochondrial genes, \"MT-\" for human, \"Mt-\" for mouse\n",
    "# this CITE-seq data is mouse data\n",
    "adata_208_D1.var[\"mt\"] = adata.var_names.str.startswith(\"Mt-\")\n",
    "# ribosomal genes\n",
    "adata_208_D1.var[\"ribo\"] = adata.var_names.str.startswith((\"RPS\", \"RPL\"))\n",
    "# hemoglobin genes\n",
    "adata_208_D1.var[\"hb\"] = adata.var_names.str.contains(\"^HB[^(P)]\")\n",
    "\n",
    "sc.pp.calculate_qc_metrics(adata_208_D1, qc_vars=[\"mt\", \"ribo\", \"hb\"], inplace=True, log1p=True)\n",
    "# adata_qc.concatenate(adata_slice)"
   ]
  },
  {
   "cell_type": "code",
   "execution_count": null,
   "metadata": {},
   "outputs": [],
   "source": [
    "adata_208_D2 = adata[adata.obs['batch'] == f'SLN208-D2']\n",
    "# now need to do normalization\n",
    "# mitochondrial genes, \"MT-\" for human, \"Mt-\" for mouse\n",
    "# this CITE-seq data is mouse data\n",
    "adata_208_D2.var[\"mt\"] = adata.var_names.str.startswith(\"Mt-\")\n",
    "# ribosomal genes\n",
    "adata_208_D2.var[\"ribo\"] = adata.var_names.str.startswith((\"RPS\", \"RPL\"))\n",
    "# hemoglobin genes\n",
    "adata_208_D2.var[\"hb\"] = adata.var_names.str.contains(\"^HB[^(P)]\")\n",
    "\n",
    "sc.pp.calculate_qc_metrics(adata_208_D2, qc_vars=[\"mt\", \"ribo\", \"hb\"], inplace=True, log1p=True)\n",
    "# adata_qc.concatenate(adata_slice)\n",
    "\n"
   ]
  },
  {
   "cell_type": "code",
   "execution_count": null,
   "metadata": {},
   "outputs": [],
   "source": [
    "adata_slice.X"
   ]
  },
  {
   "cell_type": "code",
   "execution_count": null,
   "metadata": {},
   "outputs": [],
   "source": [
    "adata_slice"
   ]
  },
  {
   "cell_type": "code",
   "execution_count": null,
   "metadata": {},
   "outputs": [],
   "source": []
  }
 ],
 "metadata": {
  "kernelspec": {
   "display_name": "simulation",
   "language": "python",
   "name": "python3"
  },
  "language_info": {
   "codemirror_mode": {
    "name": "ipython",
    "version": 3
   },
   "file_extension": ".py",
   "mimetype": "text/x-python",
   "name": "python",
   "nbconvert_exporter": "python",
   "pygments_lexer": "ipython3",
   "version": "3.11.10"
  }
 },
 "nbformat": 4,
 "nbformat_minor": 2
}
