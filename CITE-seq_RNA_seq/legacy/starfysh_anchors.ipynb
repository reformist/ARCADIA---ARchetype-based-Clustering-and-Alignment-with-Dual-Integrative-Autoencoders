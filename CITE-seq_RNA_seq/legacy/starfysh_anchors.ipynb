{
 "cells": [
  {
   "cell_type": "markdown",
   "metadata": {},
   "source": [
    "### pip installations"
   ]
  },
  {
   "cell_type": "code",
   "execution_count": null,
   "metadata": {
    "ExecuteTime": {
     "end_time": "2024-11-27T17:29:08.192532Z",
     "start_time": "2024-11-27T17:29:06.812490Z"
    }
   },
   "outputs": [],
   "source": [
    "# !pip install starfysh\n",
    "# !pip install pandas \n",
    "# !pip install scanpy\n",
    "# !pip install histomicstk\n",
    "# !pip install --upgrade pip setuptools wheel\n",
    "# !pip install pyvips --use-pep517\n",
    "# !pip install histomicstk --find-links https://girder.github.io/large_image_wheels\n",
    "\n",
    "# import starfysh\n",
    "from matplotlib import pyplot as plt\n",
    "\n",
    "import pandas as pd\n",
    "import scanpy as sc\n",
    "from starfysh import (AA, utils, plot_utils, post_analysis)\n",
    "from starfysh import starfysh as sf_model\n",
    "import numpy as np \n",
    "from py_pcha import PCHA\n",
    "from anndata import AnnData\n",
    "from bar_nick_utils import preprocess_rna, get_cell_representations_as_archetypes, preprocess_protein\n",
    "# import starfysh\n",
    "import pandas as pd\n",
    "import scanpy as sc\n",
    "import numpy as np\n",
    "\n",
    "from starfysh import (AA, utils, plot_utils, post_analysis)\n",
    "from starfysh import starfysh as sf_model\n",
    "import numpy as np \n",
    "from py_pcha import PCHA\n",
    "# computationally figure out which ones are best\n",
    "np.random.seed(8)"
   ]
  },
  {
   "cell_type": "markdown",
   "metadata": {},
   "source": [
    "### reading in data"
   ]
  },
  {
   "cell_type": "code",
   "execution_count": null,
   "metadata": {
    "ExecuteTime": {
     "end_time": "2024-11-27T17:29:08.200962033Z",
     "start_time": "2024-11-27T17:06:06.881086Z"
    }
   },
   "outputs": [],
   "source": [
    "adata = sc.read(\"data/totalVI/spleen_lymph_cite_seq.h5ad\")\n",
    "adata = adata[adata.obs['batch'] == f'SLN111-D1']\n",
    "# take subsampel of adata\n",
    "fraction =1.\n",
    "sc.pp.subsample(adata, fraction=fraction)\n",
    "adata.obsm['protein_expression'].columns.tolist()"
   ]
  },
  {
   "cell_type": "code",
   "execution_count": null,
   "metadata": {
    "ExecuteTime": {
     "end_time": "2024-11-27T17:29:08.201345170Z",
     "start_time": "2024-11-27T17:06:07.469259Z"
    }
   },
   "outputs": [],
   "source": [
    "cell_type_mapping = {\n",
    "    \"Activated CD4 T\": \"CD4 T\",\n",
    "    \"B1 B\": \"B cells\",\n",
    "    \"CD122+ CD8 T\": \"CD8 T\",\n",
    "    \"CD4 T\": \"CD4 T\",\n",
    "    \"CD8 T\": \"CD8 T\",\n",
    "    \"Erythrocytes\": \"RBC\",\n",
    "    \"GD T\": \"T cells\",\n",
    "    \"ICOS-high Tregs\": \"CD4 T\",\n",
    "    \"Ifit3-high B\": \"B cells\",\n",
    "    \"Ifit3-high CD4 T\": \"CD4 T\",\n",
    "    \"Ifit3-high CD8 T\": \"CD8 T\",\n",
    "    \"Ly6-high mono\": \"Monocytes\",\n",
    "    \"Ly6-low mono\": \"Monocytes\",\n",
    "    \"MZ B\": \"B cells\",\n",
    "    \"MZ/Marco-high macrophages\": \"Macrophages\",\n",
    "    \"Mature B\": \"B cells\",\n",
    "    \"Migratory DCs\": \"cDCs\",\n",
    "    \"NK\": \"NK\",\n",
    "    \"NKT\": \"T cells\",\n",
    "    \"Neutrophils\": \"Neutrophils\",\n",
    "    \"Plasma B\": \"B cells\",\n",
    "    \"Red-pulp macrophages\": \"Macrophages\",\n",
    "    \"Transitional B\": \"B cells\",\n",
    "    \"Tregs\": \"Treg\",\n",
    "    \"cDC1s\": \"cDCs\",\n",
    "    \"cDC2s\": \"cDCs\",\n",
    "    \"pDCs\": \"pDCs\",\n",
    "}\n",
    "# Map the specific cell types to major cell types and add as a new column in obs\n",
    "adata.obs['major_cell_types'] = pd.Categorical( adata.obs['cell_types'].map(cell_type_mapping))"
   ]
  },
  {
   "cell_type": "code",
   "execution_count": null,
   "metadata": {
    "ExecuteTime": {
     "end_time": "2024-11-27T17:29:08.201445994Z",
     "start_time": "2024-11-27T17:06:07.573254Z"
    }
   },
   "outputs": [],
   "source": [
    "# {'B cells',\n",
    "#  'Conventional dendritic cells',\n",
    "#  'Dendritic cells',\n",
    "#  'Macrophages',\n",
    "#  'Monocytes',\n",
    "#  'Natural killer T cells',\n",
    "#  'Natural killer cells',\n",
    "#  'Neutrophils',\n",
    "#  'Plasmacytoid dendritic cells',\n",
    "#  'Red blood cells',\n",
    "#  'Regulatory T cells',\n",
    "#  'T cells-1',\n",
    "#  'T cells-2'}"
   ]
  },
  {
   "cell_type": "code",
   "execution_count": null,
   "metadata": {
    "ExecuteTime": {
     "end_time": "2024-11-27T17:29:08.201508170Z",
     "start_time": "2024-11-27T17:06:07.627680Z"
    }
   },
   "outputs": [],
   "source": [
    "adata.obs['major_cell_types'].value_counts()"
   ]
  },
  {
   "cell_type": "code",
   "execution_count": null,
   "metadata": {
    "ExecuteTime": {
     "end_time": "2024-11-27T17:29:08.201619733Z",
     "start_time": "2024-11-27T17:06:07.733544Z"
    }
   },
   "outputs": [],
   "source": [
    "# filtering cell types with low quantity\n",
    "# need to add this filtering step to synthtic_data_generation.ipynb\n",
    "\n",
    "mask = adata.obs['major_cell_types'].isin(['Plasmacytoid dendritic cells', 'Red blood cells', 'Dendritic cells'])\n",
    "adata = adata[~mask]\n"
   ]
  },
  {
   "cell_type": "code",
   "execution_count": null,
   "metadata": {
    "ExecuteTime": {
     "end_time": "2024-11-27T17:29:08.201702059Z",
     "start_time": "2024-11-27T17:06:07.778788Z"
    }
   },
   "outputs": [],
   "source": [
    "adata.obs['major_cell_types'].value_counts()"
   ]
  },
  {
   "cell_type": "markdown",
   "metadata": {},
   "source": [
    "### starfysh analysis does not work"
   ]
  },
  {
   "cell_type": "code",
   "execution_count": null,
   "metadata": {
    "ExecuteTime": {
     "end_time": "2024-11-27T17:29:08.201771326Z",
     "start_time": "2024-11-27T17:06:07.887553Z"
    },
    "jupyter": {
     "is_executing": true
    }
   },
   "outputs": [],
   "source": [
    "aa_model = AA.ArchetypalAnalysis(adata_orig=adata)\n",
    "archetype, arche_dict, major_idx, evs = aa_model.compute_archetypes()\n",
    "# difference between anchors and arche_df\n",
    "# (1). Find archetypal spots & archetypal clusters\n",
    "arche_df = aa_model.find_archetypal_spots(major=True)\n",
    "\n",
    "# (2). Find marker genes associated with each archetypal cluster\n",
    "markers_df = aa_model.find_markers(display=False)\n",
    "\n",
    "# (3). Map archetypes to the closest anchors within `r` nearest neighbors\n",
    "# Choose the top `anchor_percent` (N%) anchors per cell type for archetype mapping\n",
    "# In general, set lower `anchor_percent` for fine resolved cell-states\n",
    "# aa_model.plot_archetypes(do_3d=False, major=True, disp_cluster=False)\n",
    "\n",
    "arche_df"
   ]
  },
  {
   "cell_type": "markdown",
   "metadata": {},
   "source": [
    "### using PCHA"
   ]
  },
  {
   "cell_type": "code",
   "execution_count": null,
   "metadata": {
    "ExecuteTime": {
     "end_time": "2024-11-27T17:29:08.201847280Z",
     "start_time": "2024-11-27T16:39:00.760025Z"
    }
   },
   "outputs": [],
   "source": []
  },
  {
   "cell_type": "code",
   "execution_count": null,
   "metadata": {
    "ExecuteTime": {
     "end_time": "2024-11-27T17:29:08.201905090Z",
     "start_time": "2024-11-27T16:39:01.047427Z"
    }
   },
   "outputs": [],
   "source": [
    "adata.obs['batch']"
   ]
  },
  {
   "cell_type": "markdown",
   "metadata": {},
   "source": [
    "### preprocessing rna"
   ]
  },
  {
   "cell_type": "code",
   "execution_count": null,
   "metadata": {
    "ExecuteTime": {
     "end_time": "2024-11-27T17:29:08.201973030Z",
     "start_time": "2024-11-27T16:39:01.394610Z"
    }
   },
   "outputs": [],
   "source": [
    "adata = preprocess_rna(adata, adata)"
   ]
  },
  {
   "cell_type": "markdown",
   "metadata": {},
   "source": [
    "### preprocessing protein"
   ]
  },
  {
   "cell_type": "code",
   "execution_count": null,
   "metadata": {
    "ExecuteTime": {
     "end_time": "2024-11-27T17:29:08.202016399Z",
     "start_time": "2024-11-27T16:39:01.936314Z"
    }
   },
   "outputs": [],
   "source": [
    "adata.obsm['protein_expression'].shape\n",
    "adata.obs['cell_types'] = pd.Categorical(adata.obs['cell_types'])\n",
    "# assert len(set(adata.obs['batch']))!=1\n",
    "adata_prot = AnnData(adata.obsm['protein_expression'])\n",
    "# remove protein_expression from adatan/\n",
    "adata_rna = adata.copy()\n",
    "adata_rna.obsm.pop('protein_expression')\n",
    "# add all obs and var to adata_prot\n",
    "adata_prot.obs = adata_rna.obs\n",
    "# remove n_genes and percent_mito from adata_prot\n",
    "adata_prot.obs = adata_prot.obs.drop(columns=['n_genes', 'percent_mito'])\n",
    "# take only the first batch from adata_prot and adata_rna\n",
    "# first_batch = adata_prot.obs['batch'][0]\n",
    "# take the largest batch \n",
    "# larget_batch = adata_prot.obs['batch'].value_counts().idxmax()"
   ]
  },
  {
   "cell_type": "code",
   "execution_count": null,
   "metadata": {
    "ExecuteTime": {
     "end_time": "2024-11-27T17:29:08.202060957Z",
     "start_time": "2024-11-27T16:39:01.961640Z"
    }
   },
   "outputs": [],
   "source": [
    "adata_prot = preprocess_protein(adata_prot)"
   ]
  },
  {
   "cell_type": "code",
   "execution_count": null,
   "metadata": {
    "ExecuteTime": {
     "end_time": "2024-11-27T17:29:08.202098666Z",
     "start_time": "2024-11-27T16:39:02.059703Z"
    }
   },
   "outputs": [],
   "source": [
    "adata = adata_prot"
   ]
  },
  {
   "cell_type": "markdown",
   "metadata": {},
   "source": [
    "### analysis to get to scatter plot"
   ]
  },
  {
   "cell_type": "code",
   "execution_count": null,
   "metadata": {
    "ExecuteTime": {
     "end_time": "2024-11-27T17:29:08.202150805Z",
     "start_time": "2024-11-27T16:39:02.118972Z"
    }
   },
   "outputs": [],
   "source": [
    "adata"
   ]
  },
  {
   "cell_type": "code",
   "execution_count": null,
   "metadata": {
    "ExecuteTime": {
     "end_time": "2024-11-27T17:29:08.202228145Z",
     "start_time": "2024-11-27T16:39:02.203953Z"
    }
   },
   "outputs": [],
   "source": [
    "sc.pp.pca(adata,n_comps=30)"
   ]
  },
  {
   "cell_type": "code",
   "execution_count": null,
   "metadata": {
    "ExecuteTime": {
     "end_time": "2024-11-27T17:29:08.202270124Z",
     "start_time": "2024-11-27T16:39:02.328712Z"
    }
   },
   "outputs": [],
   "source": [
    "count = adata.obsm['X_pca']"
   ]
  },
  {
   "cell_type": "code",
   "execution_count": null,
   "metadata": {
    "ExecuteTime": {
     "end_time": "2024-11-27T17:29:08.202321889Z",
     "start_time": "2024-11-27T16:39:02.378834Z"
    }
   },
   "outputs": [],
   "source": [
    "# converge=1e-3\n",
    "# for i, k in enumerate(range(2, 4, 2)):\n",
    "#     archetype, _, _, _, ev = PCHA(X, noc=13)\n",
    "#     evs.append(ev)\n",
    "#     \n",
    "# .append(np.array(archetype).T)\n",
    "#     if i > 0 and ev - evs[i-1] < converge:\n",
    "#         # early stopping\n",
    "#         break"
   ]
  },
  {
   "cell_type": "code",
   "execution_count": null,
   "metadata": {
    "ExecuteTime": {
     "end_time": "2024-11-27T17:29:08.202366376Z",
     "start_time": "2024-11-27T16:43:44.942641Z"
    }
   },
   "outputs": [],
   "source": [
    "\n",
    "X = count.T\n",
    "archetype, _, _, _, ev = PCHA(X, noc=len(set(adata.obs['major_cell_types'])))\n",
    "# archetype = archetype.T\n",
    "archetype.shape"
   ]
  },
  {
   "cell_type": "code",
   "execution_count": null,
   "metadata": {
    "ExecuteTime": {
     "end_time": "2024-11-27T17:29:08.202422002Z",
     "start_time": "2024-11-27T16:39:03.423771Z"
    }
   },
   "outputs": [],
   "source": [
    "# weights = get_cell_representations_as_archetypes(adata_prot.obsm['X_pca'], archetypes[-1].T)\n",
    "distances_array = []\n",
    "for arche in archetype:\n",
    "    distances = np.linalg.norm(adata_prot.obsm['X_pca']- arche, axis=1)\n",
    "    distances_array.append(distances)\n",
    "# np.linalg.norm(adata.obsm['X_pca'],archetype.T)\n",
    "    \n",
    "\n",
    "# Columns: Cell 1 Cell 2 Cell 3 Cell 4\n",
    "# Row: anchor \n",
    "# column, row distance from cell to anchor\n",
    "# we want minimum\n"
   ]
  },
  {
   "cell_type": "code",
   "execution_count": null,
   "metadata": {
    "ExecuteTime": {
     "end_time": "2024-11-27T17:29:08.202474813Z",
     "start_time": "2024-11-27T16:39:03.474723Z"
    }
   },
   "outputs": [],
   "source": [
    "distances_array = np.array(distances_array)\n",
    "distances_array = distances_array.T"
   ]
  },
  {
   "cell_type": "code",
   "execution_count": null,
   "metadata": {
    "ExecuteTime": {
     "end_time": "2024-11-27T17:29:08.202523006Z",
     "start_time": "2024-11-27T16:39:03.759484Z"
    }
   },
   "outputs": [],
   "source": [
    "row_argmin = np.argmin(distances_array, axis=1)"
   ]
  },
  {
   "cell_type": "code",
   "execution_count": null,
   "metadata": {
    "ExecuteTime": {
     "end_time": "2024-11-27T17:29:08.202565731Z",
     "start_time": "2024-11-27T16:39:03.808481Z"
    }
   },
   "outputs": [],
   "source": [
    "adata.obs['archetype'] = row_argmin"
   ]
  },
  {
   "cell_type": "markdown",
   "metadata": {},
   "source": [
    "### weights"
   ]
  },
  {
   "cell_type": "code",
   "execution_count": null,
   "metadata": {
    "ExecuteTime": {
     "end_time": "2024-11-27T17:29:08.202620965Z",
     "start_time": "2024-11-27T16:39:03.856206Z"
    }
   },
   "outputs": [],
   "source": [
    "# send this for gene and protein as well as matching arrays over slack\n",
    "weights = get_cell_representations_as_archetypes(adata.obsm['X_pca'], archetype)\n",
    "weights_df = pd.DataFrame(weights)\n",
    "weights_df.to_csv(\"rna_weights.csv\")\n",
    "row_argmax= np.argmax(weights, axis=1)\n",
    "adata.obs['corr_archetype'] = row_argmax\n",
    "len(set((adata.obs['major_cell_types'])))\n"
   ]
  },
  {
   "cell_type": "code",
   "execution_count": null,
   "metadata": {
    "ExecuteTime": {
     "end_time": "2024-11-27T17:29:08.202677895Z",
     "start_time": "2024-11-27T16:39:03.918390Z"
    }
   },
   "outputs": [],
   "source": [
    "# identifying specific \"cell type\" we want\n",
    "\n",
    "archetype_proportion_list = []\n",
    "for desired_cell_type in range(len(set(adata.obs['major_cell_types']))):\n",
    "    arr = []\n",
    "    for idx, val in enumerate(row_argmax):\n",
    "        if val == desired_cell_type:\n",
    "            arr.append(idx)\n",
    "            \n",
    "    adata_slice = adata[arr, ]\n",
    "    archetype_proportion = adata_slice.obs['major_cell_types'].value_counts().to_dict()\n",
    "    for key in archetype_proportion:\n",
    "        archetype_proportion[key] = archetype_proportion[key] / len(adata_slice)\n",
    "        \n",
    "    archetype_proportion_list.append(archetype_proportion)\n"
   ]
  },
  {
   "cell_type": "code",
   "execution_count": null,
   "metadata": {
    "ExecuteTime": {
     "end_time": "2024-11-27T17:29:08.202725422Z",
     "start_time": "2024-11-27T16:39:03.979308Z"
    }
   },
   "outputs": [],
   "source": [
    "adata_slice = adata[arr, ]\n",
    "adata_slice.shape"
   ]
  },
  {
   "cell_type": "code",
   "execution_count": null,
   "metadata": {
    "ExecuteTime": {
     "end_time": "2024-11-27T17:29:08.202778893Z",
     "start_time": "2024-11-27T16:53:34.508890Z"
    }
   },
   "outputs": [],
   "source": [
    "\n",
    "\n"
   ]
  },
  {
   "cell_type": "code",
   "execution_count": null,
   "metadata": {
    "ExecuteTime": {
     "end_time": "2024-11-27T17:29:08.202823406Z",
     "start_time": "2024-11-27T17:03:30.689263Z"
    }
   },
   "outputs": [],
   "source": [
    "adata.obs['cell_types']"
   ]
  },
  {
   "cell_type": "code",
   "execution_count": null,
   "metadata": {
    "ExecuteTime": {
     "end_time": "2024-11-27T17:29:08.202917499Z",
     "start_time": "2024-11-27T17:04:00.907673Z"
    }
   },
   "outputs": [],
   "source": [
    "# set(list(adata.obs['major_cell_types']))\n",
    "(set(cell_types_dict.keys()))==((set(adata.obs['cell_types'])))"
   ]
  },
  {
   "cell_type": "code",
   "execution_count": null,
   "metadata": {
    "ExecuteTime": {
     "end_time": "2024-11-27T17:29:08.202996264Z",
     "start_time": "2024-11-27T16:39:04.097190Z"
    }
   },
   "outputs": [],
   "source": [
    "# once I have indices, I want to check cell type for all of the indices\n",
    "for dictionary in archetype_proportion_list:\n",
    "    print(dictionary)\n",
    "    "
   ]
  },
  {
   "cell_type": "code",
   "execution_count": null,
   "metadata": {
    "ExecuteTime": {
     "end_time": "2024-11-27T17:29:08.203054832Z",
     "start_time": "2024-11-27T16:39:04.155894Z"
    }
   },
   "outputs": [],
   "source": [
    "# gene protein mapping\n",
    "gene_mapping = ['Monocytes', 'T cells-2', 'T cells-1', 'Macrophages', 'Neutrophils', 'Red blood cells', 'Natural killer cells', 'Conventional dendritic cells', 'Regulatory T cells', 'Dendritic cells', 'Natural killer T cells','Plasmacytoid dendritic cells', 'B cells' ]"
   ]
  },
  {
   "cell_type": "code",
   "execution_count": null,
   "metadata": {
    "ExecuteTime": {
     "end_time": "2024-11-27T17:29:08.203108494Z",
     "start_time": "2024-11-27T16:39:04.204729Z"
    }
   },
   "outputs": [],
   "source": [
    "# final protein mapping\n",
    "protein_mapping = ['Red blood cells', 'T cells-2', 'Plasmacytoid dendritic cells','Natural killer T cells', 'Natural killer cells', 'Neutrophils', 'Dendritic cells', 'Regulatory T cells', 'Monocytes', 'Macrophages', 'Conventional dendritic cells', 'B cells', 'T cells-1' ]"
   ]
  },
  {
   "cell_type": "code",
   "execution_count": null,
   "metadata": {
    "ExecuteTime": {
     "end_time": "2024-11-27T17:29:08.203149387Z",
     "start_time": "2024-11-27T16:39:04.256312Z"
    }
   },
   "outputs": [],
   "source": [
    "assert len(protein_mapping) == len(set(protein_mapping))"
   ]
  },
  {
   "cell_type": "code",
   "execution_count": null,
   "metadata": {
    "ExecuteTime": {
     "end_time": "2024-11-27T17:29:08.203205126Z",
     "start_time": "2024-11-27T16:39:04.312762Z"
    }
   },
   "outputs": [],
   "source": [
    "# protein_mapping = ['Red blood cells', 'Natural killer T cells', 'T cells-2', 'Natural killer cells', 'Neutrophils', 'Dendritic cells', 'Regulatory T cells', 'Monocytes', 'Macrophages', 'Conventional dendritic cells', 'B cells', 'T cells-1']"
   ]
  },
  {
   "cell_type": "code",
   "execution_count": null,
   "metadata": {
    "ExecuteTime": {
     "end_time": "2024-11-27T17:29:08.203246503Z",
     "start_time": "2024-11-27T16:39:04.369159Z"
    }
   },
   "outputs": [],
   "source": [
    "# MUST SAVE\n",
    "# protein_mapping = ['Red blood cells','Plasmacytoid dendritic cells', 'T cells-2','Natural killer cells', 'Natural killer T cells', 'Neutrophils', 'Dendritic cells', 'Regulatory T cells', 'Monocytes', 'Macrophages', 'Conventional dendritic cells','B cells', 'T cells-1' ]\n",
    "\n",
    "print(len(set(list(protein_mapping))))"
   ]
  },
  {
   "cell_type": "code",
   "execution_count": null,
   "metadata": {
    "ExecuteTime": {
     "end_time": "2024-11-27T17:29:08.203290606Z",
     "start_time": "2024-11-27T16:39:04.426161Z"
    }
   },
   "outputs": [],
   "source": [
    "# Plasmacytoid dendritic cells"
   ]
  },
  {
   "cell_type": "code",
   "execution_count": null,
   "metadata": {
    "ExecuteTime": {
     "end_time": "2024-11-27T17:29:08.203331253Z",
     "start_time": "2024-11-27T16:39:04.474607Z"
    }
   },
   "outputs": [],
   "source": [
    "for i in set(adata.obs['major_cell_types']):\n",
    "    if i not in gene_mapping:\n",
    "        print(i)\n",
    "# print(len(protein_mapping))\n",
    "# print(len(set(protein_mapping)))"
   ]
  },
  {
   "cell_type": "code",
   "execution_count": null,
   "metadata": {
    "ExecuteTime": {
     "end_time": "2024-11-27T17:29:08.203387379Z",
     "start_time": "2024-11-27T16:39:04.523513Z"
    }
   },
   "outputs": [],
   "source": [
    "# former rna_mapping = [\"Monoctyes\",'T cells-2', 'T cells-1', 'Macrophages', 'Neutrophils', 'B cells' , 'Natural killer cells','Conventional dendritic cells', 'Regulatory T cells', 'Dendritic cells', 'Natural killer T cells', 'Plasmacytoid dendritic cells', 'B cells' ]"
   ]
  },
  {
   "cell_type": "code",
   "execution_count": null,
   "metadata": {
    "ExecuteTime": {
     "end_time": "2024-11-27T17:29:08.203430181Z",
     "start_time": "2024-11-27T16:39:04.572493Z"
    }
   },
   "outputs": [],
   "source": [
    "# print(len(set(rna_mapping)))"
   ]
  },
  {
   "cell_type": "code",
   "execution_count": null,
   "metadata": {},
   "outputs": [],
   "source": [
    "cell_type_mapping_order = sorted(set(cell_type_mapping.values())) # order that we set dimensions"
   ]
  },
  {
   "cell_type": "code",
   "execution_count": null,
   "metadata": {},
   "outputs": [],
   "source": [
    "adata[arr, :]"
   ]
  },
  {
   "cell_type": "code",
   "execution_count": null,
   "metadata": {},
   "outputs": [],
   "source": [
    "x = adata.obsm['X_pca'][:,:2]\n",
    "y = x[arr, : ]"
   ]
  },
  {
   "cell_type": "code",
   "execution_count": null,
   "metadata": {},
   "outputs": [],
   "source": [
    "archetype = archetype.T"
   ]
  },
  {
   "cell_type": "code",
   "execution_count": null,
   "metadata": {},
   "outputs": [],
   "source": [
    "from sklearn.decomposition import PCA\n",
    "\n",
    "weights_pca = PCA(2).fit_transform(weights)"
   ]
  },
  {
   "cell_type": "code",
   "execution_count": null,
   "metadata": {},
   "outputs": [],
   "source": [
    "plt.scatter(*weights_pca.T)"
   ]
  },
  {
   "cell_type": "code",
   "execution_count": null,
   "metadata": {},
   "outputs": [],
   "source": [
    "plt.scatter(x[:,0],x[:,1])\n",
    "plt.scatter(y[:,0],y[:,1])\n",
    "\n",
    "plt.scatter([archetype[:, 0]], [archetype[:, 1]])\n",
    "plt.scatter([archetype[1, 0]], [archetype[1, 1]])\n"
   ]
  },
  {
   "cell_type": "code",
   "execution_count": null,
   "metadata": {},
   "outputs": [],
   "source": [
    "# sc.pl.pca(adata, color='major_cell_types')\n",
    "sc.pp.neighbors(adata)\n",
    "sc.tl.umap(adata)"
   ]
  },
  {
   "cell_type": "code",
   "execution_count": null,
   "metadata": {},
   "outputs": [],
   "source": [
    "# adata.obs['archetype'] = pd.Categorical(adata.obs['archetype'])\n",
    "adata.obs['corr_archetype'] = pd.Categorical(adata.obs['corr_archetype'])\n",
    "sc.pl.umap(adata, color =[ 'major_cell_types', 'corr_archetype', 'cell_types'])\n"
   ]
  },
  {
   "cell_type": "code",
   "execution_count": null,
   "metadata": {},
   "outputs": [],
   "source": [
    "sc.pl.pca(adata, color =[ 'archetype','major_cell_types', 'corr_archetype', 'cell_types'])\n"
   ]
  },
  {
   "cell_type": "code",
   "execution_count": null,
   "metadata": {},
   "outputs": [],
   "source": [
    "sc.pl.umap(adata,color = 'major_cell_types',title='Protein Major Cell Types')"
   ]
  },
  {
   "cell_type": "code",
   "execution_count": null,
   "metadata": {},
   "outputs": [],
   "source": [
    "sc.pl.umap(adata,color = 'cell_types',title='Protein Minor Cell Types')"
   ]
  },
  {
   "cell_type": "code",
   "execution_count": null,
   "metadata": {},
   "outputs": [],
   "source": [
    "archetypes[-1].shape\n",
    "# two samples, first dimension: x, second dimension: y"
   ]
  },
  {
   "cell_type": "code",
   "execution_count": null,
   "metadata": {},
   "outputs": [],
   "source": [
    "sc.pl.pca(adata_slice, color = '')"
   ]
  },
  {
   "cell_type": "code",
   "execution_count": null,
   "metadata": {},
   "outputs": [],
   "source": [
    "adata.uns['cell_types'] = adata.obs['cell_types']"
   ]
  },
  {
   "cell_type": "code",
   "execution_count": null,
   "metadata": {},
   "outputs": [],
   "source": [
    "adata.uns['cell_types']"
   ]
  },
  {
   "cell_type": "code",
   "execution_count": null,
   "metadata": {},
   "outputs": [],
   "source": [
    "plot_utils.pl_spatial_inf_feature(adata, feature = 'Activated CD4 T', factor = ['arch_0'], spot_size=3, vmax=0.5)\n"
   ]
  },
  {
   "cell_type": "code",
   "execution_count": null,
   "metadata": {},
   "outputs": [],
   "source": [
    "plot_anchor_archetype_clusters"
   ]
  },
  {
   "cell_type": "code",
   "execution_count": null,
   "metadata": {},
   "outputs": [],
   "source": [
    "aa_model.count"
   ]
  },
  {
   "cell_type": "code",
   "execution_count": null,
   "metadata": {},
   "outputs": [],
   "source": [
    "AA.plot_archetypes()"
   ]
  }
 ],
 "metadata": {
  "kernelspec": {
   "display_name": "starfysh",
   "language": "python",
   "name": "python3"
  },
  "language_info": {
   "codemirror_mode": {
    "name": "ipython",
    "version": 3
   },
   "file_extension": ".py",
   "mimetype": "text/x-python",
   "name": "python",
   "nbconvert_exporter": "python",
   "pygments_lexer": "ipython3",
   "version": "3.8.20"
  }
 },
 "nbformat": 4,
 "nbformat_minor": 2
}
