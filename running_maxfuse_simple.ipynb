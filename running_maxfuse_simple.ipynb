{
 "cells": [
  {
   "cell_type": "code",
   "execution_count": null,
   "id": "e4789d42",
   "metadata": {
    "ExecuteTime": {
     "end_time": "2024-10-28T19:39:03.180679Z",
     "start_time": "2024-10-28T19:38:58.450479Z"
    }
   },
   "outputs": [],
   "source": [
    "import pickle\n",
    "# ! pip install --user scikit-misc\n",
    "import warnings\n",
    "from datetime import datetime\n",
    "\n",
    "import xgboost as xgb\n",
    "from matplotlib.pyplot import title\n",
    "from sklearn.model_selection import train_test_split\n",
    "from sklearn.preprocessing import MinMaxScaler\n",
    "\n",
    "warnings.simplefilter(action='ignore', )\n",
    "warnings.simplefilter(action='ignore', )\n",
    "import pandas as pd\n",
    "import scanpy as sc\n",
    "import anndata as ad\n",
    "import seaborn as sns\n",
    "import maxfuse as mf\n",
    "import anndata\n",
    "import hdbscan\n",
    "from tqdm import tqdm\n",
    "from scipy.cluster.hierarchy import cut_tree\n",
    "from sklearn.metrics import silhouette_score, calinski_harabasz_score, davies_bouldin_score, f1_score\n",
    "from sklearn.mixture import GaussianMixture\n",
    "from sklearn.metrics import adjusted_mutual_info_score\n",
    "import numpy as np\n",
    "import matplotlib.pyplot as plt\n",
    "from scipy.io import mmread\n",
    "from scipy import sparse\n",
    "from sklearn.metrics import confusion_matrix, ConfusionMatrixDisplay\n",
    "\n",
    "pd.set_option('display.max_rows', 10)  # Display only 10 rows\n",
    "pd.set_option('display.max_columns', 5)  # Display only 5 columns\n",
    "\n",
    "# setup and load datasets (only run once)\n",
    "## CODEX"
   ]
  },
  {
   "cell_type": "code",
   "execution_count": null,
   "id": "5bd615e3",
   "metadata": {
    "ExecuteTime": {
     "end_time": "2024-10-28T19:39:08.777753Z",
     "start_time": "2024-10-28T19:39:03.184874Z"
    }
   },
   "outputs": [],
   "source": [
    "codex = sc.read(filename=\"/home/barroz/projects/Columbia/STAT_ML_GEN/project/codex_codex_cn_tumor.h5ad\")\n",
    "# sc.pp.subsample(codex, fraction=0.01)\n",
    "codex = codex[codex.obs['Image'] ==codex.obs['Image'][0]]\n",
    "\n",
    "# sc.pp.subsample(codex, fraction=0.0005)\n",
    "rna = sc.read(filename=\"/home/barroz/projects/Columbia/STAT_ML_GEN/project/scRNA-seq_rna_umap.h5ad\")\n",
    "# sc.pp.subsample(rna, fraction=0.1)\n"
   ]
  },
  {
   "cell_type": "code",
   "execution_count": null,
   "id": "c003681f",
   "metadata": {},
   "outputs": [],
   "source": [
    "# (codex.obs['Image'] == codex.obs['Image'][0]).sum()\n",
    "# from collections import Counter\n",
    "# codex[codex.obs['Image'] ==codex.obs['Image'][0]]\n",
    "# codex.obs['Image'][0]\n",
    "# codex[codex.obs['Image'] ==\"cntrl_n109_d10\"]\n",
    "# Counter(codex.obs['Image'])"
   ]
  },
  {
   "cell_type": "code",
   "execution_count": null,
   "id": "7e026e33",
   "metadata": {},
   "outputs": [],
   "source": [
    "n_cell_types"
   ]
  },
  {
   "cell_type": "code",
   "execution_count": null,
   "id": "16fdcfa7",
   "metadata": {
    "ExecuteTime": {
     "end_time": "2024-10-28T19:39:08.822510Z",
     "start_time": "2024-10-28T19:39:08.813477Z"
    }
   },
   "outputs": [],
   "source": [
    "adata_obs = codex  #sc.read_h5ad('codex.h5ad').obs\n",
    "adata_obs = codex.obs\n",
    "n_protein_types = len(codex.X.toarray()[0])\n",
    "n_cell_types = len(adata_obs['cell_type'].unique())\n",
    "adata_obs.head()\n",
    "codex"
   ]
  },
  {
   "cell_type": "code",
   "execution_count": null,
   "id": "9d53a733",
   "metadata": {},
   "outputs": [],
   "source": [
    "# # calculate CN vector for each cell\n",
    "# sc.pp.neighbors(codex, n_neighbors=20, use_rep='spatial')\n",
    "# def calculate_neighborhood_composition(codex, cell_type_key='cell_type'):\n",
    "#     compositions = []\n",
    "#     for i in tqdm(range(codex.n_obs)):\n",
    "#         neighbors = codex.obsp['distances'][i].nonzero()[1]\n",
    "#         neighbor_types = codex.obs[cell_type_key].iloc[neighbors]\n",
    "#         neighbor_types = neighbor_types.value_counts(normalize=True)\n",
    "#         neighbor_types[neighbor_types.isna()] = 0\n",
    "#         compositions.append(neighbor_types)\n",
    "#     return pd.DataFrame(compositions, index=codex.obs_names)\n",
    "# neighborhood_composition = calculate_neighborhood_composition(codex)\n",
    "# codex.obsm['neighborhood_composition'] = neighborhood_composition\n",
    "# neighborhood_composition_df = codex.obsm['neighborhood_composition']\n",
    "\n"
   ]
  },
  {
   "cell_type": "code",
   "execution_count": null,
   "id": "e16872ab",
   "metadata": {},
   "outputs": [],
   "source": [
    "if len(Counter(codex.obs['Image']))>1:\n",
    "    raise ValueError('Multiple images in dataset, must separate them')\n",
    "# Ensure that the neighbor graph is computed\n",
    "sc.pp.neighbors(codex, n_neighbors=30, use_rep='spatial')\n",
    "\n",
    "# Get the adjacency matrix (connectivities)\n",
    "A = codex.obsp['connectivities']  # Sparse matrix of shape (n_cells, n_cells)\n",
    "\n",
    "# Get the cell types\n",
    "cell_types = codex.obs['cell_type'] # the cell types of each sampled cell\n",
    "\n",
    "# Create a bool one encoded matrix of cell types\n",
    "cell_type_dummies = pd.get_dummies(cell_types) #bool of shape (n_cells, n_cell_types) where each col give the True/False for the cell type (rows) \n",
    "\n",
    "# Compute neighbor counts for each cell type via matrix multiplication\n",
    "neighbor_counts = A.dot(cell_type_dummies.values)\n",
    "# Convert to DataFrame\n",
    "neighbor_counts_df = pd.DataFrame(neighbor_counts, index=codex.obs_names, columns=cell_type_dummies.columns)\n",
    "\n",
    "# Normalize to get neighborhood compositions (proportions)\n",
    "neighbor_compositions = neighbor_counts_df.div(neighbor_counts_df.sum(axis=1), axis=0).fillna(0)\n",
    "\n",
    "# Store the result in the AnnData object\n",
    "codex.obsm['neighborhood_composition'] = neighbor_compositions.iloc[:,::-1]\n"
   ]
  },
  {
   "cell_type": "code",
   "execution_count": null,
   "id": "d0bc65ad",
   "metadata": {},
   "outputs": [],
   "source": [
    "# filter out tumor cells:\n",
    "codex = codex[codex.obs['cell_type'] != 'tumor']\n",
    "neighborhood_composition_df = codex.obsm['neighborhood_composition']\n",
    "\n"
   ]
  },
  {
   "cell_type": "code",
   "execution_count": null,
   "id": "320083f2",
   "metadata": {},
   "outputs": [],
   "source": [
    "# Append the neighborhood composition to the features in codex.X\n",
    "# max_prot_value = np.percentile(np.unique(codex.X.toarray()),50)\n",
    "# normalize max_prot_value between 0 and 1 using scapy \n",
    "sc.pp.normalize_total(codex, target_sum=1*n_protein_types/n_cell_types)\n",
    "\n",
    "# neighborhood_composition_df = max_prot_value * neighborhood_composition_df\n",
    "codex_new_features = np.concatenate([codex.X.todense(), neighborhood_composition_df.values],1) \n",
    "# back to sparse matrix\n",
    "codex_new_features = sparse.csr_matrix(codex_new_features)\n",
    "original_shape = codex.X.shape\n",
    "# Update codex.X with the new features\n",
    "# Add the new variables to the codex var\n",
    "new_vars = list(codex.var_names) + list(neighborhood_composition_df.columns)\n",
    "\n",
    "sc.pp.pca(codex)\n",
    "sc.pl.pca(codex, color='cell_type',title='before adding new features')\n",
    "codex = ad.AnnData(X=codex_new_features, obs=codex.obs, var=pd.DataFrame(index=new_vars),obsm=codex.obsm)\n",
    "sc.pp.pca(codex)\n",
    "sc.pl.pca(codex, color='cell_type',title='after adding new features')\n",
    "# get pca variance ratio from the codex data anndata object \"codex\"\n",
    "\n",
    "# Display the new shape of the combined features\n",
    "print(f'Original features shape: {original_shape}')\n",
    "\n",
    "print(f'Neighborhood composition shape: {neighborhood_composition_df.shape}')\n",
    "print(f'Combined features shape: {codex_new_features.shape}')\n",
    "\n"
   ]
  },
  {
   "cell_type": "code",
   "execution_count": null,
   "id": "9b867261",
   "metadata": {},
   "outputs": [],
   "source": [
    "# plot the heatmap of the neighborhood composition\n",
    "plt.figure(figsize=(10, 10))\n",
    "sns.clustermap(codex.X.toarray()[:10000,:], cmap='viridis',col_cluster=False)"
   ]
  },
  {
   "cell_type": "code",
   "execution_count": null,
   "id": "a8ea0756",
   "metadata": {
    "ExecuteTime": {
     "end_time": "2024-10-28T19:39:08.867898Z",
     "start_time": "2024-10-28T19:39:08.864529Z"
    }
   },
   "outputs": [],
   "source": [
    "# map neighborhood information (indices should match)\n",
    "codex.obs['CN'] = adata_obs['neighborhood']"
   ]
  },
  {
   "cell_type": "code",
   "execution_count": null,
   "id": "ae388794",
   "metadata": {
    "ExecuteTime": {
     "end_time": "2024-10-28T19:39:08.918914Z",
     "start_time": "2024-10-28T19:39:08.910632Z"
    }
   },
   "outputs": [],
   "source": [
    "# FIX THIS\n",
    "codex.obs['CN'] = codex.obs['CN'].replace({\n",
    "    1: 'CN1 Tumor Boundary',\n",
    "    2: 'CN2 Tumor Bulk',\n",
    "    3: 'CN3 Neutrophils + Dead cells',\n",
    "    4: 'CN4 CX3CR1+ Macrophage',\n",
    "    5: 'CN5 Dead Cells Center',\n",
    "    6: 'CN6 Lymphoid Rich',\n",
    "    7: 'CN7 INOS+ and IFN-g Actv Macs',\n",
    "}).astype('category')"
   ]
  },
  {
   "cell_type": "code",
   "execution_count": null,
   "id": "8a8cc842",
   "metadata": {
    "ExecuteTime": {
     "end_time": "2024-10-28T19:39:09.128541Z",
     "start_time": "2024-10-28T19:39:09.040593Z"
    }
   },
   "outputs": [],
   "source": [
    "rna.var['mf_features'] = \\\n",
    "sc.pp.highly_variable_genes(rna, n_top_genes=2000, batch_key=None, flavor='seurat_v3', layer='counts', inplace=False)[\n",
    "    'highly_variable']"
   ]
  },
  {
   "cell_type": "code",
   "execution_count": null,
   "id": "9659bf2c",
   "metadata": {
    "ExecuteTime": {
     "end_time": "2024-10-28T19:39:09.279399Z",
     "start_time": "2024-10-28T19:39:09.156600Z"
    }
   },
   "outputs": [],
   "source": [
    "sc.tl.rank_genes_groups(rna, groupby='new_annotation', method='t-test')\n"
   ]
  },
  {
   "cell_type": "code",
   "execution_count": null,
   "id": "dc8d2683",
   "metadata": {
    "ExecuteTime": {
     "end_time": "2024-10-28T19:39:09.425287Z",
     "start_time": "2024-10-28T19:39:09.287548Z"
    }
   },
   "outputs": [],
   "source": [
    "print(np.sum(rna.var['mf_features']))\n",
    "for ct in rna.obs['new_annotation'].unique():\n",
    "    degs = sc.get.rank_genes_groups_df(rna, group=ct).iloc[:100, 0].values\n",
    "    rna.var.loc[rna.var.index.isin(degs), 'mf_features'] = True\n",
    "print(np.sum(rna.var['mf_features']))"
   ]
  },
  {
   "cell_type": "code",
   "execution_count": null,
   "id": "84985341",
   "metadata": {
    "ExecuteTime": {
     "end_time": "2024-10-28T19:39:09.727612Z",
     "start_time": "2024-10-28T19:39:09.469031Z"
    }
   },
   "outputs": [],
   "source": [
    "ax = sns.histplot(codex.obs, x='condition', hue='cell_type', multiple='stack', legend=False)\n",
    "for container in ax.containers:\n",
    "    ax.bar_label(container, label_type='center')"
   ]
  },
  {
   "cell_type": "code",
   "execution_count": null,
   "id": "4957dc9a",
   "metadata": {
    "ExecuteTime": {
     "end_time": "2024-10-28T19:39:10.415791Z",
     "start_time": "2024-10-28T19:39:09.735672Z"
    }
   },
   "outputs": [],
   "source": [
    "plt.subplots(figsize=(12, 6))\n",
    "ax = sns.histplot(codex.obs, x='Image', hue='cell_type', multiple='stack', legend=False)\n",
    "for container in ax.containers:\n",
    "    ax.bar_label(container, label_type='center')\n",
    "plt.xticks(rotation=90);"
   ]
  },
  {
   "cell_type": "code",
   "execution_count": null,
   "id": "035d394c",
   "metadata": {
    "ExecuteTime": {
     "end_time": "2024-10-28T19:39:10.783934Z",
     "start_time": "2024-10-28T19:39:10.423083Z"
    }
   },
   "outputs": [],
   "source": [
    "ax = sns.histplot(rna.obs, x='Sample', hue='new_annotation', multiple='stack', legend=False)\n",
    "for container in ax.containers:\n",
    "    ax.bar_label(container, label_type='center')"
   ]
  },
  {
   "cell_type": "code",
   "execution_count": null,
   "id": "897d5cf0",
   "metadata": {
    "ExecuteTime": {
     "end_time": "2024-10-28T19:39:10.796266Z",
     "start_time": "2024-10-28T19:39:10.792058Z"
    }
   },
   "outputs": [],
   "source": [
    "# from maxfuse repo\n",
    "conversion = pd.read_csv('data/protein_gene_conversion.csv', index_col=0)\n"
   ]
  },
  {
   "cell_type": "markdown",
   "id": "ecfd26a4",
   "metadata": {},
   "source": []
  },
  {
   "cell_type": "code",
   "execution_count": null,
   "id": "f6afd8a1",
   "metadata": {
    "ExecuteTime": {
     "end_time": "2024-10-28T19:39:10.848289Z",
     "start_time": "2024-10-28T19:39:10.835398Z"
    }
   },
   "outputs": [],
   "source": [
    "h_m_map = pd.read_csv('data/human2mouse.txt', sep='\\t', index_col=0)\n",
    "h_m_map.reset_index(inplace=True)"
   ]
  },
  {
   "cell_type": "code",
   "execution_count": null,
   "id": "596d51df",
   "metadata": {
    "ExecuteTime": {
     "end_time": "2024-10-28T19:39:10.884292Z",
     "start_time": "2024-10-28T19:39:10.881367Z"
    }
   },
   "outputs": [],
   "source": [
    "found_rna = []\n",
    "not_found = []\n",
    "for gene in codex.var_names:\n",
    "    if gene.capitalize() in rna.var_names:\n",
    "        found_rna.append(gene.capitalize())\n",
    "    else:\n",
    "        not_found.append(gene.capitalize())"
   ]
  },
  {
   "cell_type": "code",
   "execution_count": null,
   "id": "9a4dc157",
   "metadata": {
    "ExecuteTime": {
     "end_time": "2024-10-28T19:39:10.934623Z",
     "start_time": "2024-10-28T19:39:10.927537Z"
    }
   },
   "outputs": [],
   "source": [
    "\n",
    "found_h_m_map = []\n",
    "for i, gene in enumerate(not_found):\n",
    "    if gene.capitalize() in h_m_map['Mouse'].values:\n",
    "        found_h_m_map.append(gene.capitalize())\n",
    "        not_found.pop(i)"
   ]
  },
  {
   "cell_type": "code",
   "execution_count": null,
   "id": "97349580",
   "metadata": {
    "ExecuteTime": {
     "end_time": "2024-10-28T19:39:10.983466Z",
     "start_time": "2024-10-28T19:39:10.979649Z"
    }
   },
   "outputs": [],
   "source": [
    "found_protein_conversion = []\n",
    "for i, gene in enumerate(not_found):\n",
    "    if gene in conversion.index.values:\n",
    "        found_protein_conversion.append(gene + ':' + conversion.loc[gene, 'RNA name'])\n",
    "        not_found.pop(i)"
   ]
  },
  {
   "cell_type": "code",
   "execution_count": null,
   "id": "c71c5e81",
   "metadata": {
    "ExecuteTime": {
     "end_time": "2024-10-28T19:39:11.030481Z",
     "start_time": "2024-10-28T19:39:11.027285Z"
    }
   },
   "outputs": [],
   "source": [
    "found_protein_conversion2 = []\n",
    "for i, gene in enumerate(not_found):\n",
    "    if gene.upper() in conversion.index.values:\n",
    "        found_protein_conversion2.append(gene + ':' + conversion.loc[gene.upper(), 'RNA name'])\n",
    "        not_found.pop(i)"
   ]
  },
  {
   "cell_type": "code",
   "execution_count": null,
   "id": "b690cfcf",
   "metadata": {
    "ExecuteTime": {
     "end_time": "2024-10-28T19:39:11.077372Z",
     "start_time": "2024-10-28T19:39:11.074597Z"
    }
   },
   "outputs": [],
   "source": [
    "print('found in rna:', found_rna)\n",
    "print('needs human mapping:', found_h_m_map)\n",
    "print('found_protein_conversion', found_protein_conversion)\n",
    "print('found_protein_conversion2', found_protein_conversion2)\n",
    "print(not_found)"
   ]
  },
  {
   "cell_type": "code",
   "execution_count": null,
   "id": "8bcc107b",
   "metadata": {
    "ExecuteTime": {
     "end_time": "2024-10-28T19:39:11.125785Z",
     "start_time": "2024-10-28T19:39:11.122592Z"
    }
   },
   "outputs": [],
   "source": [
    "protein_mapping = {\n",
    "    'cd103': 'Itgae',\n",
    "    'ki67': 'Mki67',\n",
    "    'foxp3': 'Foxp3',\n",
    "    'cd140': 'Pdgfra',  # CD140 protein same as PDGFRA gene? \n",
    "    'cx3cr1': 'Cx3cr1', # for CX3CR1 macrophages\n",
    "    'cd3': 'Cd3d',  # or Cd3e or Cd3g \n",
    "    'cd8': 'Cd8b1',  # or Cd8a\n",
    "    'nkp46': 'Ncr1',  # NKP46 protein same as NCR1 gene?\n",
    "    'tim 3': 'Havcr2',  # TIM3 protein same as HAVCR2 gene?  \n",
    "    'xcr1': 'Xcr1', \n",
    "    'sirp-alpha': 'Sirpa',\n",
    "    'gzmB': 'Gzmb',\n",
    "    'pd1': 'Pdcd1',\n",
    "    'cd206': 'Mrc1', # this is the cd206+ mac\n",
    "    'cd4': 'Cd4',\n",
    "    'caspase 3': 'Casp3',# dead cell \n",
    "    'cd45': 'Ptprc',  # or Ptprcap\n",
    "    'Lag3': 'Lag3',\n",
    "    'cd64': 'Fcgr1',\n",
    "    'f4-80': 'Adgre1',\n",
    "    'cd38': 'Cd38',\n",
    "    'cd31': 'Pecam1', # this is for endothelial cells\n",
    "    'cd11c': 'Itgax',\n",
    "    'cd24': 'Cd24a',\n",
    "    'inos': 'Nos2', # this is for the IFN and INOS macrophage\n",
    "    'cd11b': 'Itgam', # this is for the neutrophil\n",
    "    'ly6G': 'Ly6g',\n",
    "    'cd90': 'Thy1',\n",
    "    'mhcii': None,\n",
    "    # composed of HLA-DPA1, HLA-DPB1, HLA-DQA1, HLA-DQB1, HLA-DRA? # not including because biased towards treated condition in scRNA, vs. codex\n",
    "    'pdL1': 'Cd274',\n",
    "}"
   ]
  },
  {
   "cell_type": "code",
   "execution_count": null,
   "id": "2b7e3a03",
   "metadata": {
    "ExecuteTime": {
     "end_time": "2024-10-28T19:39:11.189638Z",
     "start_time": "2024-10-28T19:39:11.173362Z"
    }
   },
   "outputs": [],
   "source": [
    "print(sorted(list(rna.var[rna.var_names.str.contains('H2')].index))[8:])"
   ]
  },
  {
   "cell_type": "code",
   "execution_count": null,
   "id": "129d2d83",
   "metadata": {
    "ExecuteTime": {
     "end_time": "2024-10-28T19:39:11.742501Z",
     "start_time": "2024-10-28T19:39:11.234799Z"
    }
   },
   "outputs": [],
   "source": [
    "# run pca\n",
    "sc.pp.pca(codex)\n",
    "sc.pl.pca(codex, color=['mhcii', 'condition'])"
   ]
  },
  {
   "cell_type": "code",
   "execution_count": null,
   "id": "9e28da51",
   "metadata": {
    "ExecuteTime": {
     "end_time": "2024-10-28T19:39:11.757866Z",
     "start_time": "2024-10-28T19:39:11.754076Z"
    }
   },
   "outputs": [],
   "source": [
    "protein_index = list()\n",
    "RNA_index = list()\n",
    "for protein in protein_mapping.keys():\n",
    "    if protein_mapping[protein] != None:\n",
    "        protein_index.append(protein)\n",
    "        RNA_index.append(protein_mapping[protein])\n",
    "print(protein_index)\n",
    "print(RNA_index)"
   ]
  },
  {
   "cell_type": "code",
   "execution_count": null,
   "id": "b3603012",
   "metadata": {
    "ExecuteTime": {
     "end_time": "2024-10-28T19:39:11.870093Z",
     "start_time": "2024-10-28T19:39:11.799878Z"
    }
   },
   "outputs": [],
   "source": [
    "rna_shared = rna[:, RNA_index].copy()\n",
    "codex_shared = codex[:, protein_index].copy()\n",
    "print(rna_shared.shape)\n",
    "print(codex_shared.shape)"
   ]
  },
  {
   "cell_type": "code",
   "execution_count": null,
   "id": "9a5ff452",
   "metadata": {
    "ExecuteTime": {
     "end_time": "2024-10-28T19:39:11.885070Z",
     "start_time": "2024-10-28T19:39:11.881972Z"
    }
   },
   "outputs": [],
   "source": [
    "protein_index = list()\n",
    "RNA_index = list()\n",
    "for protein in protein_mapping.keys():\n",
    "    if protein_mapping[protein] != None:\n",
    "        protein_index.append(protein)\n",
    "        RNA_index.append(protein_mapping[protein])\n",
    "print(protein_index[:5], '...')\n",
    "print(RNA_index[:5], '...')"
   ]
  },
  {
   "cell_type": "code",
   "execution_count": null,
   "id": "33efba5c",
   "metadata": {
    "ExecuteTime": {
     "end_time": "2024-10-28T19:39:12.002711Z",
     "start_time": "2024-10-28T19:39:11.925762Z"
    }
   },
   "outputs": [],
   "source": [
    "# only 18 of the ~30 shared features are HVGs in scRNA-seq\n",
    "rna_shared = rna[:, RNA_index].copy()\n",
    "codex_shared = codex[:, protein_index].copy()\n",
    "print(rna_shared.shape)\n",
    "print(codex_shared.shape)\n",
    "np.sum(rna_shared.var['mf_features'])\n"
   ]
  },
  {
   "cell_type": "code",
   "execution_count": null,
   "id": "d0779952",
   "metadata": {
    "ExecuteTime": {
     "end_time": "2024-10-28T19:39:12.016478Z",
     "start_time": "2024-10-28T19:39:12.013147Z"
    }
   },
   "outputs": [],
   "source": [
    "rna.var.loc[RNA_index, 'mf_features'] = True\n",
    "rna_shared.var.loc[RNA_index, 'mf_features'] = True\n",
    "print(np.sum(rna.var['mf_features']))"
   ]
  },
  {
   "cell_type": "code",
   "execution_count": null,
   "id": "1a0ec32b",
   "metadata": {
    "ExecuteTime": {
     "end_time": "2024-10-28T19:39:15.281024Z",
     "start_time": "2024-10-28T19:39:12.057054Z"
    }
   },
   "outputs": [],
   "source": [
    "sc.pp.neighbors(rna_shared, n_neighbors=15, use_rep='X')\n",
    "sc.tl.umap(rna_shared)"
   ]
  },
  {
   "cell_type": "code",
   "execution_count": null,
   "id": "07ceb745",
   "metadata": {
    "ExecuteTime": {
     "end_time": "2024-10-28T19:39:15.756158Z",
     "start_time": "2024-10-28T19:39:15.291872Z"
    }
   },
   "outputs": [],
   "source": [
    "sc.pl.umap(rna_shared, color=['Sample'])\n",
    "sc.pl.umap(rna_shared, color=['new_annotation'])\n",
    "sc.pl.umap(rna_shared, color=['leiden'])"
   ]
  },
  {
   "cell_type": "code",
   "execution_count": null,
   "id": "89e7e8b2",
   "metadata": {
    "ExecuteTime": {
     "end_time": "2024-10-28T19:39:15.768761Z",
     "start_time": "2024-10-28T19:39:15.766125Z"
    }
   },
   "outputs": [],
   "source": [
    "rna_shared = rna_shared.X.copy()\n",
    "codex_shared = codex_shared.X.copy()"
   ]
  },
  {
   "cell_type": "code",
   "execution_count": null,
   "id": "f4f345fc",
   "metadata": {
    "ExecuteTime": {
     "end_time": "2024-10-28T19:39:15.873866Z",
     "start_time": "2024-10-28T19:39:15.809401Z"
    }
   },
   "outputs": [],
   "source": [
    "rna_active = rna[:, rna.var['mf_features']].copy()\n",
    "sc.pp.scale(rna_active)  # preprocessing in the tutorial, makes it mean=0 and std var\n",
    "rna_active = rna_active.X"
   ]
  },
  {
   "cell_type": "code",
   "execution_count": null,
   "id": "85d0e491",
   "metadata": {
    "ExecuteTime": {
     "end_time": "2024-10-28T19:39:15.890794Z",
     "start_time": "2024-10-28T19:39:15.885020Z"
    }
   },
   "outputs": [],
   "source": [
    "codex_active = codex.copy()\n",
    "# not sure if needed to scale protein measurements (they don't do it in tutorial, but the scale might be [0,1] based on methods section)\n",
    "codex_active = codex.X"
   ]
  },
  {
   "cell_type": "code",
   "execution_count": null,
   "id": "9dadef93",
   "metadata": {
    "ExecuteTime": {
     "end_time": "2024-10-28T19:39:15.933950Z",
     "start_time": "2024-10-28T19:39:15.928475Z"
    }
   },
   "outputs": [],
   "source": [
    "rna_active = np.asarray(rna_active)  # already dense numpy array\n",
    "codex_active = np.asarray(codex_active.todense())\n",
    "rna_shared = np.asarray(rna_shared.todense())\n",
    "codex_shared = np.asarray(codex_shared.todense())\n",
    "\n",
    "print(rna_active.shape)\n",
    "print(codex_active.shape)\n",
    "print(rna_shared.shape)\n",
    "print(codex_shared.shape)"
   ]
  },
  {
   "cell_type": "markdown",
   "id": "d3cc4c71",
   "metadata": {},
   "source": [
    "# Fix MaxFuse"
   ]
  },
  {
   "cell_type": "code",
   "execution_count": null,
   "id": "bbd5b5bb",
   "metadata": {
    "ExecuteTime": {
     "end_time": "2024-10-28T19:39:15.981751Z",
     "start_time": "2024-10-28T19:39:15.976004Z"
    }
   },
   "outputs": [],
   "source": [
    "# use cell labels to guide MaxFuse smoothing steps\n",
    "labels_rna = rna.obs['new_annotation'].values\n",
    "labels_codex = codex.obs['cell_type'].values\n",
    "\n",
    "display(labels_rna)\n",
    "display(labels_codex)"
   ]
  },
  {
   "cell_type": "code",
   "execution_count": null,
   "id": "9c692f6a",
   "metadata": {
    "ExecuteTime": {
     "end_time": "2024-10-28T19:39:16.027626Z",
     "start_time": "2024-10-28T19:39:16.025201Z"
    }
   },
   "outputs": [],
   "source": [
    "fusor = mf.model.Fusor(\n",
    "    shared_arr1=rna_shared,\n",
    "    active_arr1=rna_active,\n",
    "    labels1=labels_rna,\n",
    "    shared_arr2=codex_shared,\n",
    "    active_arr2=codex_active,\n",
    "    labels2=labels_codex,\n",
    ")"
   ]
  },
  {
   "cell_type": "code",
   "execution_count": null,
   "id": "57c890a1",
   "metadata": {
    "ExecuteTime": {
     "end_time": "2024-10-28T19:39:16.076182Z",
     "start_time": "2024-10-28T19:39:16.071923Z"
    }
   },
   "outputs": [],
   "source": [
    "# see tutorial for explanation -- the below reduces computational complexity\n",
    "fusor.split_into_batches(\n",
    "    max_outward_size=8000,\n",
    "    matching_ratio=4,\n",
    "    metacell_size=2,\n",
    "    verbose=True\n",
    ")"
   ]
  },
  {
   "cell_type": "code",
   "execution_count": null,
   "id": "6271549c",
   "metadata": {
    "ExecuteTime": {
     "end_time": "2024-10-28T19:39:17.181316Z",
     "start_time": "2024-10-28T19:39:16.121129Z"
    }
   },
   "outputs": [],
   "source": [
    "# plot top singular values of active_arr1 on a random batch\n",
    "fusor.plot_singular_values(target='active_arr1',\n",
    "                           n_components=None);  # can also explicitly specify the number of components\n",
    "# plot top singular values of active_arr2 on a random batch\n",
    "fusor.plot_singular_values(target='active_arr2', n_components=None);"
   ]
  },
  {
   "cell_type": "code",
   "execution_count": null,
   "id": "964707c3",
   "metadata": {
    "ExecuteTime": {
     "end_time": "2024-10-28T19:39:20.427137Z",
     "start_time": "2024-10-28T19:39:17.194007Z"
    }
   },
   "outputs": [],
   "source": [
    "svd_components1 = 40\n",
    "svd_components2 = 15\n",
    "\n",
    "fusor.construct_graphs(\n",
    "    n_neighbors1=2,\n",
    "    n_neighbors2=2,\n",
    "    svd_components1=svd_components1,\n",
    "    svd_components2=svd_components2,\n",
    "    resolution1=2,\n",
    "    resolution2=2,\n",
    "    # if two resolutions differ less than resolution_tol\n",
    "    # then we do not distinguish between then\n",
    "    resolution_tol=0.1,\n",
    "    verbose=True\n",
    ")"
   ]
  },
  {
   "cell_type": "code",
   "execution_count": null,
   "id": "fb6a86eb",
   "metadata": {
    "ExecuteTime": {
     "end_time": "2024-10-28T19:39:20.779207Z",
     "start_time": "2024-10-28T19:39:20.439059Z"
    }
   },
   "outputs": [],
   "source": [
    "svd_components1 = 20\n",
    "svd_components2 = 20\n",
    "\n",
    "fusor.find_initial_pivots(\n",
    "    wt1=0.3, wt2=0.3,\n",
    "    # weights of first and second modality; smaller = greater strength of fuzzy smoothing, 1 = original data used\n",
    "    svd_components1=svd_components1, svd_components2=svd_components2)"
   ]
  },
  {
   "cell_type": "code",
   "execution_count": null,
   "id": "9c6b747e",
   "metadata": {
    "ExecuteTime": {
     "end_time": "2024-10-28T19:39:21.377754Z",
     "start_time": "2024-10-28T19:39:20.800611Z"
    }
   },
   "outputs": [],
   "source": [
    "# plot top canonical correlations in a random batch\n",
    "fusor.plot_canonical_correlations(\n",
    "    svd_components1=40,\n",
    "    svd_components2=None,\n",
    "    cca_components=30\n",
    ");"
   ]
  },
  {
   "cell_type": "code",
   "execution_count": null,
   "id": "bffa3d7b",
   "metadata": {
    "ExecuteTime": {
     "end_time": "2024-10-28T19:39:26.799518Z",
     "start_time": "2024-10-28T19:39:21.397632Z"
    }
   },
   "outputs": [],
   "source": [
    "fusor.refine_pivots(\n",
    "    wt1=0.3, wt2=0.3,\n",
    "    svd_components1=40, svd_components2=None,\n",
    "    cca_components=25,\n",
    "    n_iters=1,\n",
    "    randomized_svd=False,\n",
    "    svd_runs=1,\n",
    "    verbose=True\n",
    ")"
   ]
  },
  {
   "cell_type": "code",
   "execution_count": null,
   "id": "4be294cf",
   "metadata": {
    "ExecuteTime": {
     "end_time": "2024-10-28T19:39:27.415235Z",
     "start_time": "2024-10-28T19:39:26.871471Z"
    }
   },
   "outputs": [],
   "source": [
    "fusor.filter_bad_matches(target='pivot', filter_prop=0.5)  # 50% recommended by tutorial for spatial data"
   ]
  },
  {
   "cell_type": "code",
   "execution_count": null,
   "id": "0b18e368",
   "metadata": {
    "ExecuteTime": {
     "end_time": "2024-10-28T19:39:27.443485Z",
     "start_time": "2024-10-28T19:39:27.425682Z"
    }
   },
   "outputs": [],
   "source": [
    "# check performance based on cell type accuracy (pivot matching)\n",
    "pivot_matching = fusor.get_matching(order=(2, 1), target='pivot')\n",
    "\n",
    "lv1_acc = mf.metrics.get_matching_acc(matching=pivot_matching,\n",
    "                                      labels1=labels_rna,\n",
    "                                      labels2=labels_codex,\n",
    "                                      order=(2, 1)\n",
    "                                      )\n",
    "lv1_acc"
   ]
  },
  {
   "cell_type": "code",
   "execution_count": null,
   "id": "f5ce585b",
   "metadata": {
    "ExecuteTime": {
     "end_time": "2024-10-28T19:39:48.417062Z",
     "start_time": "2024-10-28T19:39:27.520556Z"
    }
   },
   "outputs": [],
   "source": [
    "fusor.propagate(\n",
    "    svd_components1=40,\n",
    "    svd_components2=None,\n",
    "    wt1=0.7,\n",
    "    wt2=0.7,\n",
    ")"
   ]
  },
  {
   "cell_type": "code",
   "execution_count": null,
   "id": "b00fbe9c",
   "metadata": {
    "ExecuteTime": {
     "end_time": "2024-10-28T19:39:48.835290Z",
     "start_time": "2024-10-28T19:39:48.461309Z"
    }
   },
   "outputs": [],
   "source": [
    "fusor.filter_bad_matches(target='propagated', filter_prop=0.3)  # recommended filter_prop between 0.1 - 0.4"
   ]
  },
  {
   "cell_type": "code",
   "execution_count": null,
   "id": "1bb8dfee",
   "metadata": {
    "ExecuteTime": {
     "end_time": "2024-10-28T19:39:49.213144Z",
     "start_time": "2024-10-28T19:39:48.857764Z"
    }
   },
   "outputs": [],
   "source": [
    "# with open(f'fusor_object_{datetime.now().strftime(\"%Y-%m-%d_%H%M\")}.pkl', 'wb') as f:\n",
    "#     pickle.dump(fusor, f)"
   ]
  },
  {
   "cell_type": "code",
   "execution_count": null,
   "id": "c6e126f2",
   "metadata": {
    "ExecuteTime": {
     "end_time": "2024-10-28T19:43:08.247226Z",
     "start_time": "2024-10-28T19:43:08.185837Z"
    }
   },
   "outputs": [],
   "source": [
    "full_matching = fusor.get_matching(order=(2, 1),\n",
    "                                   target='full_data')  # we want rna (1) to match with multiple codex (2), not other way around"
   ]
  },
  {
   "cell_type": "code",
   "execution_count": null,
   "id": "24358049",
   "metadata": {
    "ExecuteTime": {
     "end_time": "2024-10-28T19:43:09.100481Z",
     "start_time": "2024-10-28T19:43:09.049687Z"
    }
   },
   "outputs": [],
   "source": [
    "pd.DataFrame(list(zip(full_matching[0], full_matching[1], full_matching[2])),\n",
    "             columns=['mod1_indx', 'mod2_indx', 'score'])\n",
    "# columns: cell idx in mod1, cell idx in mod2, and matching scores"
   ]
  },
  {
   "cell_type": "code",
   "execution_count": null,
   "id": "082557a4",
   "metadata": {
    "ExecuteTime": {
     "end_time": "2024-10-28T19:43:09.558035Z",
     "start_time": "2024-10-28T19:43:09.428911Z"
    }
   },
   "outputs": [],
   "source": [
    "# compute the cell type level matching accuracy, for the full (filtered version) dataset\n",
    "lv1_acc = mf.metrics.get_matching_acc(matching=full_matching,\n",
    "                                      labels1=labels_rna,\n",
    "                                      labels2=labels_codex\n",
    "                                      )\n",
    "lv1_acc"
   ]
  },
  {
   "cell_type": "code",
   "execution_count": null,
   "id": "b4ed563f",
   "metadata": {
    "ExecuteTime": {
     "end_time": "2024-10-28T19:43:11.974946Z",
     "start_time": "2024-10-28T19:43:10.057789Z"
    }
   },
   "outputs": [],
   "source": [
    "# cm = confusion_matrix(labels_rna[pivot_matching[0]], labels_codex[pivot_matching[1]])\n",
    "# ConfusionMatrixDisplay(\n",
    "#     confusion_matrix=np.round((cm.T/np.sum(cm, axis=1)).T*100), \n",
    "#     display_labels=np.unique(labels_rna),\n",
    "# ).plot()"
   ]
  },
  {
   "cell_type": "code",
   "execution_count": null,
   "id": "b54ae495",
   "metadata": {
    "ExecuteTime": {
     "end_time": "2024-10-28T19:43:43.276219Z",
     "start_time": "2024-10-28T19:43:43.081359Z"
    }
   },
   "outputs": [],
   "source": [
    "\n",
    "rna_embedding, codex_embedding = fusor.get_embedding(\n",
    "    active_arr1=fusor.active_arr1,\n",
    "    active_arr2=fusor.active_arr2\n",
    ")\n",
    "codex.obsm['X_maxfuse'] = codex_embedding\n",
    "\n",
    "codex_embedding = anndata.AnnData(codex_embedding)\n",
    "codex_embedding.obs = codex.obs\n",
    "rna_embedding = anndata.AnnData(rna_embedding)\n",
    "rna_embedding.obs = rna.obs\n",
    "codex_embedding.write('codex_embedding.h5ad')\n",
    "rna_embedding.write('rna_embedding.h5ad')\n"
   ]
  },
  {
   "cell_type": "code",
   "execution_count": null,
   "id": "e29a15a6",
   "metadata": {},
   "outputs": [],
   "source": [
    "# Print sizes of rna_embedding and codex_embedding\n",
    "print(f'rna_embedding size: {rna_embedding.shape}')\n",
    "print(f'codex_embedding size: {codex_embedding.shape}')\n",
    "# taks only 10% of the protein data\n",
    "# codex_embedding_subsampled = codex_embedding.copy()\n",
    "# sc.pp.subsample(codex_embedding_subsampled, fraction=0.1)\n",
    "\n",
    "# Combine RNA and CODEX embeddings into a single AnnData object\n",
    "combined_embedding = ad.AnnData(\n",
    "    np.concatenate((rna_embedding.X, codex_embedding.X)),\n",
    "    obs=pd.concat([rna_embedding.obs, codex_embedding.obs])\n",
    ")\n",
    "# give index of all the RNA and 10% of the CODEX cells\n",
    "RNA_index = np.arange(rna_embedding.shape[0])\n",
    "CODEX_sampled_index = np.random.choice(np.arange(rna_embedding.shape[0], rna_embedding.shape[0]+codex_embedding.shape[0]), int(0.1 * codex_embedding.shape[0]))\n",
    "rna_and_sampled_codex = np.concatenate((RNA_index, CODEX_sampled_index))\n",
    "# Add a column to indicate the source (RNA or CODEX)\n",
    "combined_embedding.obs['source'] = ['RNA'] * rna_embedding.shape[0] + ['CODEX'] * codex_embedding.shape[0]\n",
    "\n",
    "# Perform UMAP on the combined data\n",
    "sub_sampled_embedding = combined_embedding[rna_and_sampled_codex]\n",
    "sc.pp.neighbors(sub_sampled_embedding, n_neighbors=15)\n",
    "sc.tl.umap(sub_sampled_embedding)\n",
    "\n",
    "# Plot the UMAP with the source as color\n",
    "sc.pl.umap(sub_sampled_embedding, color='source', title='UMAP of Combined RNA and CODEX Embeddings')"
   ]
  },
  {
   "cell_type": "markdown",
   "id": "e8eabc45",
   "metadata": {},
   "source": []
  },
  {
   "cell_type": "code",
   "execution_count": null,
   "id": "379a1153",
   "metadata": {},
   "outputs": [],
   "source": [
    "# sc.pl.umap(sub_sampled_embedding, color='source', title='UMAP of Combined RNA and CODEX Embeddings')\n",
    "# plot only the RNA cells\n",
    "# sc.pl.umap(sub_sampled_embedding[sub_sampled_embedding.obs['source'] == 'RNA'], color='new_annotation', title='RNA cells')\n",
    "# sc.pl.umap(sub_sampled_embedding[sub_sampled_embedding.obs['source'] == 'CODEX'], color='cell_type', title='CODEX cells')\n",
    "# plot expression of the  embedding without tumor cells\n",
    "sc.pl.umap(sub_sampled_embedding[sub_sampled_embedding.obs['cell_type'] != 'tumor'], color='cell_type', title='CD45 expression')\n",
    "# plot CODEX protein expression of the embedding without tumor cells\n",
    "sc.pl.umap(sub_sampled_embedding[(sub_sampled_embedding.obs['source'] == 'CODEX') & (sub_sampled_embedding.obs['cell_type'] != 'tumor')] , color='cell_type', title='CODEX Protein Expression without Tumor Cells')\n",
    "sc.pl.umap(sub_sampled_embedding[(sub_sampled_embedding.obs['source'] == 'RNA') & (sub_sampled_embedding.obs['cell_type'] != 'tumor')] , color='new_annotation', title='RNA Expression without Tumor Cells')\n",
    "\n"
   ]
  },
  {
   "cell_type": "code",
   "execution_count": null,
   "id": "cc7108a0",
   "metadata": {},
   "outputs": [],
   "source": [
    "sc.pl.umap(sub_sampled_embedding, color='source', title='UMAP of Combined RNA and CODEX Embeddings')"
   ]
  },
  {
   "cell_type": "code",
   "execution_count": null,
   "id": "d8d099f9",
   "metadata": {},
   "outputs": [],
   "source": [
    "# Subset the combined embedding for RNA and CODEX cells\n",
    "rna_cells = sub_sampled_embedding[sub_sampled_embedding.obs['source'] == 'RNA']\n",
    "codex_cells = sub_sampled_embedding[sub_sampled_embedding.obs['source'] == 'CODEX']\n",
    "\n",
    "# Get unique`` cell types from both RNA and CODEX\n",
    "unique_cell_types = pd.concat([rna_cells.obs['new_annotation'], codex_cells.obs['cell_type']]).unique()\n",
    "\n",
    "\n",
    "\n",
    "# Create a color palette for the cell types\n",
    "palette = sns.color_palette(\"hsv\", len(unique_cell_types))\n",
    "cell_type_colors = dict(zip(unique_cell_types, palette))\n",
    "\n",
    "# Plot the UMAP for RNA cells\n",
    "sc.pl.umap(rna_cells, color='new_annotation', title='UMAP of RNA Cells by Cell Type', palette=cell_type_colors)\n",
    "\n",
    "\n",
    "# Plot the UMAP for CODEX cells\n",
    "sc.pl.umap(codex_cells, color='cell_type', title='UMAP of CODEX Cells by Cell Type', palette=cell_type_colors)\n",
    "# plot only cell types that exist in both:\n",
    "common_cell_types = set(rna_cells.obs['new_annotation']).intersection(codex_cells.obs['cell_type'])\n",
    "common_cell_types = list(common_cell_types)\n",
    "palette = sns.color_palette(\"hsv\", len(common_cell_types))\n",
    "cell_type_colors = dict(zip(common_cell_types, palette))\n",
    "\n",
    "sc.pl.umap(codex_cells[codex_cells.obs['cell_type'].isin(common_cell_types)], color='cell_type', title='UMAP of CODEX Cells by Cell Type', palette=cell_type_colors)\n",
    "sc.pl.umap(rna_cells[rna_cells.obs['new_annotation'].isin(common_cell_types)], color='new_annotation', title='UMAP of RNA Cells by Cell Type', palette=cell_type_colors)\n"
   ]
  },
  {
   "cell_type": "code",
   "execution_count": null,
   "id": "82d5ed09",
   "metadata": {},
   "outputs": [],
   "source": [
    "sc.pl.umap(codex_cells[codex_cells.obs['cell_type'].isin(common_cell_types)], color='CN', title='UMAP of CODEX Cells by Cell Type')\n",
    "# we can see here that the CN do not separate inter cell type cluster\n"
   ]
  },
  {
   "cell_type": "code",
   "execution_count": null,
   "id": "50d38d3c",
   "metadata": {},
   "outputs": [],
   "source": [
    "# Print sizes of rna_embedding and codex_embedding\n",
    "print(f'rna_embedding size: {rna_embedding.shape}')\n",
    "print(f'codex_embedding size: {codex_embedding.shape}')\n",
    "\n",
    "# Combine RNA and CODEX embeddings into a single AnnData object\n",
    "combined_embedding = ad.AnnData(\n",
    "    np.concatenate((rna_embedding.X, codex_embedding.X)),\n",
    "    obs=pd.concat([rna_embedding.obs, codex_embedding.obs])\n",
    ")\n",
    "\n",
    "# Add a column to indicate the source (RNA or CODEX)\n",
    "combined_embedding.obs['source'] = ['RNA'] * rna_embedding.shape[0] + ['CODEX'] * codex_embedding.shape[0]\n",
    "\n",
    "# Perform UMAP on the combined data\n",
    "sc.pp.neighbors(combined_embedding, n_neighbors=15)\n",
    "sc.tl.umap(combined_embedding)\n",
    "\n",
    "# Plot the UMAP with the source as color\n",
    "sc.pl.umap(combined_embedding, color='source', title='UMAP of Combined RNA and CODEX Embeddings')"
   ]
  },
  {
   "cell_type": "code",
   "execution_count": null,
   "id": "db9fd152",
   "metadata": {
    "ExecuteTime": {
     "end_time": "2024-10-28T19:43:43.860018Z",
     "start_time": "2024-10-28T19:43:43.818484Z"
    }
   },
   "outputs": [],
   "source": [
    "# num rna cell vs num codex cell\n",
    "# codex_embedding = anndata.read('codex_embedding.h5ad')\n",
    "# rna_embedding = anndata.read('rna_embedding.h5ad')\n",
    "print(rna_embedding.shape)\n",
    "print(codex_embedding.shape)\n"
   ]
  },
  {
   "cell_type": "code",
   "execution_count": null,
   "id": "6696ae32",
   "metadata": {
    "ExecuteTime": {
     "end_time": "2024-10-28T19:43:44.378165Z",
     "start_time": "2024-10-28T19:43:44.313970Z"
    }
   },
   "outputs": [],
   "source": [
    "\n",
    "# Create an AnnData object combining RNA and CODEX cells in the shared space\n",
    "rna_labels = ['RNA'] * rna_embedding.X.shape[0]\n",
    "codex_labels = ['CODEX'] * codex_embedding.X.shape[0]\n",
    "data_type_labels = np.concatenate([rna_labels, codex_labels])\n",
    "\n",
    "combined_data = ad.AnnData(\n",
    "    np.concatenate((rna_embedding.X, codex_embedding.X)),\n",
    "    obs=pd.concat([rna.obs, codex.obs])\n",
    ")\n",
    "combined_data.obs['data_type'] = data_type_labels\n",
    "\n",
    "# Perform UMAP on the combined data\n",
    "# sc.pp.neighbors(combined_data, n_neighbors=15)\n",
    "sc.tl.pca(combined_data)\n",
    "\n",
    "# Plot the co-embedding\n",
    "sample_fraction = 0.1\n",
    "n_cells = combined_data.shape[0]\n",
    "random_indices = np.random.choice(n_cells, size=int(n_cells * sample_fraction), replace=False)\n",
    "\n",
    "# Subset the AnnData object to only include the sampled cells\n",
    "sampled_data = combined_data[random_indices, :]\n",
    "# sc.pl.pca(sampled_data, color=['Cluster', 'data_type'])\n",
    "\n"
   ]
  },
  {
   "cell_type": "code",
   "execution_count": null,
   "id": "a0e64c79",
   "metadata": {
    "ExecuteTime": {
     "end_time": "2024-10-28T19:43:44.947426Z",
     "start_time": "2024-10-28T19:43:44.945777Z"
    }
   },
   "outputs": [],
   "source": []
  },
  {
   "cell_type": "markdown",
   "id": "f95e2975",
   "metadata": {},
   "source": [
    "# Train a classifier on the co-embedding"
   ]
  },
  {
   "cell_type": "code",
   "execution_count": null,
   "id": "fc12087c",
   "metadata": {
    "ExecuteTime": {
     "end_time": "2024-10-28T19:43:45.576629Z",
     "start_time": "2024-10-28T19:43:45.572096Z"
    }
   },
   "outputs": [],
   "source": [
    "import copy\n",
    "\n",
    "# prepare data for training\n",
    "features = codex_embedding.X\n",
    "labels = codex_embedding.obs['CN']\n",
    "labels = copy.deepcopy(labels.astype('category').values.codes)\n",
    "labels"
   ]
  },
  {
   "cell_type": "code",
   "execution_count": null,
   "id": "3d58ae19",
   "metadata": {
    "ExecuteTime": {
     "end_time": "2024-10-28T19:43:46.176808Z",
     "start_time": "2024-10-28T19:43:46.174603Z"
    }
   },
   "outputs": [],
   "source": [
    "# make small subset for testing\n",
    "# features = features[:100]\n",
    "# labels = labels[:100]\n",
    "# # labels[:50] =1\n",
    "# labels[50:]=0\n",
    "# labels"
   ]
  },
  {
   "cell_type": "code",
   "execution_count": null,
   "id": "cf89bc14",
   "metadata": {
    "ExecuteTime": {
     "end_time": "2024-10-28T19:44:10.368781Z",
     "start_time": "2024-10-28T19:43:46.365230Z"
    }
   },
   "outputs": [],
   "source": [
    "\n",
    "random_state = 42\n",
    "\n",
    "X = pd.DataFrame(features)\n",
    "y = pd.DataFrame(labels)\n",
    "X_train, X_test, y_train, y_test = train_test_split(X, y, test_size=0.2, random_state=random_state)\n",
    "model = xgb.XGBClassifier(use_label_encoder=False, eval_metric='mlogloss')\n",
    "model.fit(X_train, y_train)\n",
    "y_pred = model.predict(X_test)\n",
    "score = f1_score(y_test, y_pred, average='weighted')\n",
    "print(f'f1 score: {score:.4f}')"
   ]
  },
  {
   "cell_type": "code",
   "execution_count": null,
   "id": "60b53ece",
   "metadata": {
    "ExecuteTime": {
     "end_time": "2024-10-28T19:44:10.413069Z",
     "start_time": "2024-10-28T19:44:10.410068Z"
    }
   },
   "outputs": [],
   "source": [
    "from sklearn.decomposition import PCA\n"
   ]
  },
  {
   "cell_type": "code",
   "execution_count": null,
   "id": "ce0ecc6b",
   "metadata": {
    "ExecuteTime": {
     "end_time": "2024-10-28T19:44:10.459042Z",
     "start_time": "2024-10-28T19:44:10.457067Z"
    }
   },
   "outputs": [],
   "source": []
  },
  {
   "cell_type": "code",
   "execution_count": null,
   "id": "08eb7829",
   "metadata": {
    "ExecuteTime": {
     "end_time": "2024-10-28T19:46:52.400294Z",
     "start_time": "2024-10-28T19:44:10.504368Z"
    }
   },
   "outputs": [],
   "source": [
    "import pandas as pd\n",
    "import numpy as np\n",
    "from sklearn.model_selection import train_test_split\n",
    "from sklearn.metrics import f1_score\n",
    "from sklearn.tree import DecisionTreeClassifier\n",
    "from sklearn.naive_bayes import GaussianNB\n",
    "from sklearn.ensemble import (\n",
    "    RandomForestClassifier,\n",
    "    AdaBoostClassifier,\n",
    "    GradientBoostingClassifier,\n",
    "    ExtraTreesClassifier,\n",
    "    BaggingClassifier\n",
    ")\n",
    "from sklearn.linear_model import LogisticRegression, SGDClassifier\n",
    "from sklearn.svm import SVC\n",
    "from sklearn.neighbors import KNeighborsClassifier\n",
    "from sklearn.neural_network import MLPClassifier\n",
    "from sklearn.discriminant_analysis import LinearDiscriminantAnalysis, QuadraticDiscriminantAnalysis\n",
    "import xgboost as xgb\n",
    "X = pd.DataFrame(features)\n",
    "y = pd.DataFrame(labels)\n",
    "y = y.values.ravel()\n",
    "X_train, X_test, y_train, y_test = train_test_split(\n",
    "    X, y, test_size=0.2, random_state=random_state\n",
    ")\n",
    "models = {\n",
    "    'Decision Tree': DecisionTreeClassifier(random_state=random_state),\n",
    "    'Random Forest': RandomForestClassifier(random_state=random_state),\n",
    "    'Extra Trees': ExtraTreesClassifier(random_state=random_state),\n",
    "    'AdaBoost': AdaBoostClassifier(random_state=random_state),\n",
    "    'Gradient Boosting': GradientBoostingClassifier(random_state=random_state),\n",
    "    'Naive Bayes': GaussianNB(),\n",
    "    'Logistic Regression': LogisticRegression(max_iter=1000, random_state=random_state),\n",
    "    'Support Vector Machine': SVC(random_state=random_state, probability=True),\n",
    "    'K-Nearest Neighbors': KNeighborsClassifier(),\n",
    "    'Stochastic Gradient Descent': SGDClassifier(random_state=random_state),\n",
    "    'Neural Network': MLPClassifier(max_iter=1000, random_state=random_state),\n",
    "    'Linear Discriminant Analysis': LinearDiscriminantAnalysis(),\n",
    "    'Quadratic Discriminant Analysis': QuadraticDiscriminantAnalysis(),\n",
    "    'XGBoost': xgb.XGBClassifier(use_label_encoder=False, eval_metric='mlogloss', random_state=random_state),\n",
    "}\n",
    "\n",
    "f1_scores = {}\n",
    "\n",
    "for name, model in models.items():\n",
    "    print(f'Training {name}...')\n",
    "    try:\n",
    "        model.fit(X_train, y_train)\n",
    "        y_pred = model.predict(X_test)\n",
    "        score = f1_score(y_test, y_pred, average='weighted')\n",
    "        f1_scores[name] = score\n",
    "        print(f'{name} F1 Score: {score:.4f}')\n",
    "    except Exception as e:\n",
    "        print(f'{name} could not be trained. Error: {e}\\n')\n",
    "\n",
    "# Display the F1 scores\n",
    "print('\\nModel Performance Comparison:')\n",
    "for name, score in f1_scores.items():\n",
    "    print(f'{name}: F1 Score = {score:.4f}')\n"
   ]
  },
  {
   "cell_type": "code",
   "execution_count": null,
   "id": "4eee97a2",
   "metadata": {
    "ExecuteTime": {
     "end_time": "2024-10-28T19:46:52.429222Z",
     "start_time": "2024-10-28T19:46:52.427199Z"
    }
   },
   "outputs": [],
   "source": [
    "\n",
    "original_f1_scores = f1_scores\n"
   ]
  },
  {
   "cell_type": "code",
   "execution_count": null,
   "id": "4297209f",
   "metadata": {
    "ExecuteTime": {
     "end_time": "2024-10-28T19:46:52.731300Z",
     "start_time": "2024-10-28T19:46:52.474268Z"
    }
   },
   "outputs": [],
   "source": [
    "def plot_f1_scores(scores_dict, title, filename=None):\n",
    "    plt.figure(figsize=(12, 6))\n",
    "    sns.set_theme(style=\"whitegrid\")\n",
    "\n",
    "    # Convert the scores_dict to a DataFrame and sort by F1 Score\n",
    "    scores_df = pd.DataFrame(list(scores_dict.items()), columns=['Model', 'F1 Score'])\n",
    "    scores_df = scores_df.sort_values('F1 Score', ascending=False)\n",
    "\n",
    "    # Create a barplot\n",
    "    ax = sns.barplot(x='Model', y='F1 Score', data=scores_df, palette='Blues_d')\n",
    "\n",
    "    plt.ylabel('Weighted F1 Score', fontsize=12)\n",
    "    plt.title(title, fontsize=14)\n",
    "    plt.xticks(rotation=45, ha='right', fontsize=10)\n",
    "    plt.yticks(fontsize=10)\n",
    "    plt.ylim(0, 1)\n",
    "\n",
    "    # Add data labels on top of each bar\n",
    "    for p in ax.patches:\n",
    "        height = p.get_height()\n",
    "        ax.text(p.get_x() + p.get_width() / 2., height + 0.01,\n",
    "                f'{height:.2f}', ha=\"center\", fontsize=10)\n",
    "\n",
    "    plt.tight_layout()\n",
    "\n",
    "    # Save the plot if a filename is provided\n",
    "    if filename:\n",
    "        plt.savefig(filename, dpi=300, bbox_inches='tight')\n",
    "\n",
    "    plt.show()\n",
    "\n",
    "# Plot original scores\n",
    "plot_f1_scores(original_f1_scores, 'Model Performance with Original Features')"
   ]
  },
  {
   "cell_type": "code",
   "execution_count": null,
   "id": "b1cab0cd",
   "metadata": {
    "ExecuteTime": {
     "end_time": "2024-10-28T19:46:52.753993Z",
     "start_time": "2024-10-28T19:46:52.752670Z"
    }
   },
   "outputs": [],
   "source": []
  },
  {
   "cell_type": "code",
   "execution_count": null,
   "id": "2b562d34",
   "metadata": {
    "ExecuteTime": {
     "end_time": "2024-10-28T19:46:52.799219Z",
     "start_time": "2024-10-28T19:46:52.796825Z"
    }
   },
   "outputs": [],
   "source": []
  },
  {
   "cell_type": "code",
   "execution_count": null,
   "id": "770b2de5",
   "metadata": {
    "ExecuteTime": {
     "end_time": "2024-10-28T19:46:53.088872Z",
     "start_time": "2024-10-28T19:46:52.844034Z"
    }
   },
   "outputs": [],
   "source": [
    "y_pred = model.predict(X_test)\n",
    "cm = confusion_matrix(y_test, y_pred)\n",
    "disp = ConfusionMatrixDisplay(confusion_matrix=cm)\n",
    "disp.plot()\n",
    "plt.show()"
   ]
  },
  {
   "cell_type": "markdown",
   "id": "5ae05df9",
   "metadata": {},
   "source": [
    "# Prepare the RNA features"
   ]
  },
  {
   "cell_type": "code",
   "execution_count": null,
   "id": "6bf25ecd",
   "metadata": {
    "ExecuteTime": {
     "end_time": "2024-10-28T19:46:53.113627Z",
     "start_time": "2024-10-28T19:46:53.111775Z"
    }
   },
   "outputs": [],
   "source": [
    "# prepare data for training\n",
    "features = rna_embedding.X\n",
    "labels = None"
   ]
  },
  {
   "cell_type": "code",
   "execution_count": null,
   "id": "4da7e52c",
   "metadata": {
    "ExecuteTime": {
     "end_time": "2024-10-28T19:46:53.163510Z",
     "start_time": "2024-10-28T19:46:53.154630Z"
    }
   },
   "outputs": [],
   "source": [
    "predicted_RNA_CN = model.predict(features)"
   ]
  },
  {
   "cell_type": "code",
   "execution_count": null,
   "id": "f0a4a414",
   "metadata": {
    "ExecuteTime": {
     "end_time": "2024-10-28T19:46:53.718489Z",
     "start_time": "2024-10-28T19:46:53.202408Z"
    }
   },
   "outputs": [],
   "source": [
    "rna_embedding = anndata.AnnData(rna_embedding)\n",
    "rna_embedding.obs = rna.obs\n",
    "#  add the predicted CN labels to the RNA embedding\n",
    "rna_embedding.obs['predicted_CN'] = pd.Categorical(predicted_RNA_CN)\n",
    "# plot the RNA embedding with the predicted CN labels PCA\n",
    "sc.tl.pca(rna_embedding)\n",
    "# make the shape be the cell type\n",
    "sc.pl.tsne(rna_embedding, color=['predicted_CN', 'Cluster'], title='Predicted CN labels on RNA-seq data')"
   ]
  },
  {
   "cell_type": "code",
   "execution_count": null,
   "id": "e5e061e7",
   "metadata": {
    "ExecuteTime": {
     "end_time": "2024-10-28T19:46:53.721467999Z",
     "start_time": "2024-10-15T15:47:38.266091Z"
    }
   },
   "outputs": [],
   "source": [
    "\n"
   ]
  },
  {
   "cell_type": "code",
   "execution_count": null,
   "id": "c97688dc",
   "metadata": {
    "ExecuteTime": {
     "end_time": "2024-10-28T19:46:53.721713690Z",
     "start_time": "2024-10-28T19:43:27.724219Z"
    }
   },
   "outputs": [],
   "source": [
    "# \n",
    "cell_types = rna_embedding.obs['Cluster'].unique()\n",
    "silhouette_score_per_cell_type = {}\n",
    "davies_bouldin_score_per_cell_type = {}\n",
    "calinski_harabasz_score_per_cell_type = {}\n",
    "rna_embedding.obs['silhouette_score']  = [None]*rna_embedding.obs.shape[0]\n",
    "rna_embedding.obs['davies_bouldin_score']  = [None]*rna_embedding.obs.shape[0]\n",
    "rna_embedding.obs['calinski_harabasz_score']  = [None]*rna_embedding.obs.shape[0]\n",
    "for curr_cell_type in cell_types:\n",
    "    # get the scores for each cell type cluster\n",
    "    curr_cell_type_indexes = rna_embedding.obs['Cluster'] == curr_cell_type\n",
    "    curr_cell_type_data = rna_embedding[curr_cell_type_indexes].X\n",
    "    curr_predicted_CN = rna_embedding.obs['predicted_CN'][curr_cell_type_indexes]\n",
    "    \n",
    "    silhouette_score_per_cell_type[curr_cell_type] = silhouette_score(curr_cell_type_data, curr_predicted_CN)\n",
    "    davies_bouldin_score_per_cell_type[curr_cell_type] = -  davies_bouldin_score(curr_cell_type_data, curr_predicted_CN) # we want higer better\n",
    "    calinski_harabasz_score_per_cell_type[curr_cell_type] = calinski_harabasz_score(curr_cell_type_data, curr_predicted_CN)\n",
    "    \n",
    "    rna_embedding.obs['silhouette_score'][curr_cell_type_indexes] = silhouette_score_per_cell_type[curr_cell_type]\n",
    "    rna_embedding.obs['davies_bouldin_score'][curr_cell_type_indexes] = davies_bouldin_score_per_cell_type[curr_cell_type]\n",
    "    rna_embedding.obs['calinski_harabasz_score'][curr_cell_type_indexes] = calinski_harabasz_score_per_cell_type[curr_cell_type]\n",
    "\n",
    "# normalize all scores between 0 and 1 and means them to one final score using sklearn.preprocessing.MinMaxScaler:\n",
    "scaler = MinMaxScaler()\n",
    "rna_embedding.obs['norm_silhouette_score'] = scaler.fit_transform(rna_embedding.obs['silhouette_score'].values.reshape(-1, 1))\n",
    "rna_embedding.obs['norm_davies_bouldin_score'] = scaler.fit_transform(rna_embedding.obs['davies_bouldin_score'].values.reshape(-1, 1))\n",
    "rna_embedding.obs['norm_calinski_harabasz_score'] = scaler.fit_transform(rna_embedding.obs['calinski_harabasz_score'].values.reshape(-1, 1))\n",
    " \n",
    "# mean all score to final score\n",
    "rna_embedding.obs['final_score'] = (rna_embedding.obs['norm_silhouette_score'] + rna_embedding.obs['norm_davies_bouldin_score'] + rna_embedding.obs['norm_calinski_harabasz_score'])/3\n",
    "sns.barplot(x='Cluster', y='final_score', data=rna_embedding.obs)\n",
    "plt.title('Final Clustering Score on RNA-seq data')\n",
    "plt.show()\n",
    "\n"
   ]
  },
  {
   "cell_type": "code",
   "execution_count": null,
   "id": "a5f62b12",
   "metadata": {
    "ExecuteTime": {
     "end_time": "2024-10-28T19:46:53.721900944Z",
     "start_time": "2024-10-15T16:10:32.242355Z"
    }
   },
   "outputs": [],
   "source": []
  },
  {
   "cell_type": "code",
   "execution_count": null,
   "id": "a525fe46",
   "metadata": {
    "ExecuteTime": {
     "end_time": "2024-10-28T19:46:53.721999284Z",
     "start_time": "2024-10-28T19:43:12.302698Z"
    }
   },
   "outputs": [],
   "source": [
    "# plot the RNA embedding with the silhouette score as color with jet cmap\n",
    "sc.pl.tsne(rna_embedding, color='Cluster', title='cell types')\n",
    "sc.pl.tsne(rna_embedding, cmap='plasma',color=['silhouette_score','davies_bouldin_score','calinski_harabasz_score'])\n",
    "sc.pl.tsne(rna_embedding, cmap='plasma',color=['final_score'], title='final clustering Score on RNA-seq data')\n",
    "# merge all score to one when higher means better so I will have to max(davies_bouldin_score) - davies_bouldin_score and normalize all scores\n",
    "    \n",
    "    \n"
   ]
  },
  {
   "cell_type": "code",
   "execution_count": null,
   "id": "96d1e47e",
   "metadata": {
    "ExecuteTime": {
     "end_time": "2024-10-28T19:46:53.722100340Z",
     "start_time": "2024-10-28T19:43:12.613222Z"
    }
   },
   "outputs": [],
   "source": []
  },
  {
   "cell_type": "code",
   "execution_count": null,
   "id": "748edc6e",
   "metadata": {
    "ExecuteTime": {
     "end_time": "2024-10-28T19:46:53.722163485Z",
     "start_time": "2024-10-28T19:43:12.845938Z"
    }
   },
   "outputs": [],
   "source": [
    "best_sil_score_cell_types_index = np.argsort(list(silhouette_score_per_cell_type.values()))\n",
    "\n",
    "truncated_cell_types = rna_embedding.obs['Cluster'].unique()[:3]\n",
    "# take the best 3 cell types\n",
    "np.argmax(silhouette_score_per_cell_type)\n",
    "for curr_cell_type in truncated_cell_types:\n",
    "    subset_data = rna_embedding[rna_embedding.obs['Cluster'] == curr_cell_type]\n",
    "    sc.pl.tsne(subset_data, color='predicted_CN', title=f'Predicted CN labels for {curr_cell_type}')"
   ]
  },
  {
   "cell_type": "code",
   "execution_count": null,
   "id": "f1417e0e",
   "metadata": {
    "ExecuteTime": {
     "end_time": "2024-10-28T19:46:53.722229241Z",
     "start_time": "2024-10-28T19:43:13.091103Z"
    }
   },
   "outputs": [],
   "source": [
    "num_clusters = len(np.unique(codex_embedding.obs['CN']))\n",
    "gmm = GaussianMixture(n_components=num_clusters, random_state=0)\n",
    "gmm_labels = gmm.fit_predict(rna_embedding.X)\n",
    "ami_score = adjusted_mutual_info_score(rna_embedding.obs['predicted_CN'], gmm_labels)\n",
    "rna_embedding.obs['GMM'] = pd.Categorical(gmm_labels)\n",
    "print('Adjusted Mutual Information Score:', ami_score)"
   ]
  },
  {
   "cell_type": "code",
   "execution_count": null,
   "id": "ce450b10",
   "metadata": {
    "ExecuteTime": {
     "end_time": "2024-10-28T19:46:53.722293362Z",
     "start_time": "2024-10-28T19:43:13.370342Z"
    }
   },
   "outputs": [],
   "source": [
    "# plot the RNA embedding with the HDBSCAN labels vs the predicted CN labels\n",
    "sc.pl.tsne(rna_embedding, color=['GMM', 'predicted_CN'], title='GMM vs Predicted CN labels on RNA-seq data')"
   ]
  },
  {
   "cell_type": "code",
   "execution_count": null,
   "id": "7e06dcdf",
   "metadata": {
    "ExecuteTime": {
     "end_time": "2024-10-28T19:46:53.722352165Z",
     "start_time": "2024-10-15T16:27:41.146544Z"
    }
   },
   "outputs": [],
   "source": [
    "\n",
    "clusterer = hdbscan.HDBSCAN(min_cluster_size=2, gen_min_span_tree=True)\n",
    "clusterer.fit(rna_embedding.X)\n",
    "hierarchy = clusterer.single_linkage_tree_.to_numpy()\n",
    "num_clusters = len(np.unique(codex_embedding.obs['CN']))\n",
    "selected_clusters = cut_tree(hierarchy, n_clusters=num_clusters).flatten()\n",
    "rna_embedding.obs['HDBSCAN_Cut'] = pd.Categorical(selected_clusters)\n",
    "# Check mutual information score between predicted CN labels and the cut HDBSCAN labels\n",
    "ami_score = adjusted_mutual_info_score(rna_embedding.obs['predicted_CN'], rna_embedding.obs['HDBSCAN_Cut'])\n",
    "print('Adjusted Mutual Information Score:', ami_score)"
   ]
  },
  {
   "cell_type": "code",
   "execution_count": null,
   "id": "7ed743c1",
   "metadata": {
    "ExecuteTime": {
     "end_time": "2024-10-28T19:46:53.722447503Z",
     "start_time": "2024-10-15T02:53:59.504685Z"
    }
   },
   "outputs": [],
   "source": [
    "# plot the RNA embedding with the HDBSCAN labels vs the predicted CN labels\n",
    "sc.pl.pca(rna_embedding, color=['HDBSCAN_Cut', 'predicted_CN'], title='HDBSCAN vs Predicted CN labels on RNA-seq data')"
   ]
  },
  {
   "cell_type": "code",
   "execution_count": null,
   "id": "97e89355",
   "metadata": {
    "ExecuteTime": {
     "end_time": "2024-10-28T19:46:53.722603506Z",
     "start_time": "2024-10-15T02:53:59.775341Z"
    }
   },
   "outputs": [],
   "source": []
  },
  {
   "cell_type": "code",
   "execution_count": null,
   "id": "1ef4173a",
   "metadata": {
    "ExecuteTime": {
     "end_time": "2024-10-28T19:39:49.253151044Z",
     "start_time": "2024-10-15T02:53:59.976434Z"
    }
   },
   "outputs": [],
   "source": []
  }
 ],
 "metadata": {
  "kernelspec": {
   "display_name": "maxfuse",
   "language": "python",
   "name": "python3"
  },
  "language_info": {
   "codemirror_mode": {
    "name": "ipython",
    "version": 3
   },
   "file_extension": ".py",
   "mimetype": "text/x-python",
   "name": "python",
   "nbconvert_exporter": "python",
   "pygments_lexer": "ipython3",
   "version": "3.8.19"
  }
 },
 "nbformat": 4,
 "nbformat_minor": 5
}
