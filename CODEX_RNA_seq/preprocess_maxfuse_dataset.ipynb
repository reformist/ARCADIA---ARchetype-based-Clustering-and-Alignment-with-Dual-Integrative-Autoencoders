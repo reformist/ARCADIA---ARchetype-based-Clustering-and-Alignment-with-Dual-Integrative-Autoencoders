{
 "cells": [
  {
   "cell_type": "code",
   "execution_count": 102,
   "id": "e2f9dd7c6e4d8333",
   "metadata": {},
   "outputs": [
    {
     "name": "stdout",
     "output_type": "stream",
     "text": [
      "/Users/nicholasdjedjos/miniconda3/envs/archetypegen/bin/python\n"
     ]
    }
   ],
   "source": [
    "# preprocess the real data from Elham lab and peprform the archetype analysis\n",
    "import copy\n",
    "import importlib\n",
    "import os\n",
    "import re\n",
    "import sys\n",
    "import os\n",
    "\n",
    "parent_folder = os.path.abspath(os.path.join(os.getcwd(), '..'))\n",
    "sys.path.append(parent_folder)\n",
    "import anndata\n",
    "import numpy as np\n",
    "\n",
    "import pandas as pd\n",
    "import scanpy as sc\n",
    "\n",
    "from sklearn.metrics import silhouette_score\n",
    "\n",
    "import scvi\n",
    "import seaborn as sns\n",
    "from anndata import AnnData\n",
    "from matplotlib import pyplot as plt\n",
    "from py_pcha import PCHA\n",
    "from scipy.sparse import issparse\n",
    "from scipy.spatial.distance import cdist\n",
    "from scipy.stats import zscore\n",
    "from sklearn.cluster import KMeans\n",
    "from sklearn.decomposition import PCA\n",
    "from sympy.physics.units import current\n",
    "from tqdm import tqdm\n",
    "from kneed import KneeLocator\n",
    "\n",
    "import bar_nick_utils\n",
    "import covet_utils\n",
    "\n",
    "importlib.reload(bar_nick_utils)\n",
    "importlib.reload(covet_utils)\n",
    "from covet_utils import compute_covet\n",
    "\n",
    "from bar_nick_utils import preprocess_rna, preprocess_protein, plot_archetypes, \\\n",
    "    get_cell_representations_as_archetypes_cvxpy, reorder_rows_to_maximize_diagonal, evaluate_distance_metrics, \\\n",
    "    plot_archetypes_matching, compare_matchings, find_best_pair_by_row_matching, add_spatial_data_to_prot, \\\n",
    "    clean_uns_for_h5ad, get_latest_file\n",
    "\n",
    "plot_flag = False\n",
    "# computationally figure out which ones are best\n",
    "np.random.seed(8)\n",
    "! which python\n",
    "\n"
   ]
  },
  {
   "cell_type": "code",
   "execution_count": 103,
   "id": "75d70fa49a8637d4",
   "metadata": {},
   "outputs": [],
   "source": [
    "### reading in data (maxfuse adaptation)"
   ]
  },
  {
   "cell_type": "code",
   "execution_count": 104,
   "id": "b319011b",
   "metadata": {},
   "outputs": [],
   "source": [
    "# importing data from upenn site\n",
    "import requests, zipfile, io\n",
    "r = requests.get(\"http://stat.wharton.upenn.edu/~zongming/maxfuse/data.zip\")\n",
    "z = zipfile.ZipFile(io.BytesIO(r.content))\n",
    "z.extractall(\"../\")"
   ]
  },
  {
   "cell_type": "code",
   "execution_count": 105,
   "id": "9e1c4b61",
   "metadata": {},
   "outputs": [],
   "source": [
    "protein = pd.read_csv(\"../data/tonsil/tonsil_codex.csv\") # ~178,000 codex cells"
   ]
  },
  {
   "cell_type": "code",
   "execution_count": 107,
   "id": "ccd19cdc",
   "metadata": {},
   "outputs": [
    {
     "name": "stderr",
     "output_type": "stream",
     "text": [
      "/Users/nicholasdjedjos/miniconda3/envs/archetypegen/lib/python3.10/site-packages/anndata/_core/anndata.py:401: FutureWarning: The dtype argument is deprecated and will be removed in late 2024.\n",
      "  warnings.warn(\n"
     ]
    }
   ],
   "source": [
    "\n",
    "# input csv contains meta info, take only protein features\n",
    "\n",
    "protein_features = ['CD38', 'CD19', 'CD31', 'Vimentin', 'CD22', 'Ki67', 'CD8',\n",
    "       'CD90', 'CD123', 'CD15', 'CD3', 'CD152', 'CD21', 'cytokeratin', 'CD2',\n",
    "       'CD66', 'collagen IV', 'CD81', 'HLA-DR', 'CD57', 'CD4', 'CD7', 'CD278',\n",
    "       'podoplanin', 'CD45RA', 'CD34', 'CD54', 'CD9', 'IGM', 'CD117', 'CD56',\n",
    "       'CD279', 'CD45', 'CD49f', 'CD5', 'CD16', 'CD63', 'CD11b', 'CD1c',\n",
    "       'CD40', 'CD274', 'CD27', 'CD104', 'CD273', 'FAPalpha', 'Ecadherin' ]\n",
    "# convert to AnnData\n",
    "protein_locations = ['centroid_x', 'centroid_y']\n",
    "protein_adata = anndata.AnnData(\n",
    "    protein[protein_features].to_numpy(), dtype=np.float32\n",
    ")\n",
    "# for us, I included spatial data as well (maxfuse doesn't take this into account)\n",
    "protein_adata.obsm[\"spatial\"] = protein[protein_locations].to_numpy()\n"
   ]
  },
  {
   "cell_type": "code",
   "execution_count": 108,
   "id": "c7846594",
   "metadata": {},
   "outputs": [
    {
     "name": "stderr",
     "output_type": "stream",
     "text": [
      "/Users/nicholasdjedjos/miniconda3/envs/archetypegen/lib/python3.10/site-packages/anndata/_core/anndata.py:401: FutureWarning: The dtype argument is deprecated and will be removed in late 2024.\n",
      "  warnings.warn(\n"
     ]
    }
   ],
   "source": [
    "# read in RNA data\n",
    "from scipy.io import mmread\n",
    "\n",
    "rna = mmread(\"../data/tonsil/tonsil_rna_counts.txt\") # rna count as sparse matrix, 10k cells (RNA)\n",
    "rna_names = pd.read_csv('../data/tonsil/tonsil_rna_names.csv')['names'].to_numpy()\n",
    "# convert to AnnData\n",
    "rna_adata = anndata.AnnData(\n",
    "    rna.tocsr(), dtype=np.float32\n",
    ")\n",
    "rna_adata.var_names = rna_names"
   ]
  },
  {
   "cell_type": "code",
   "execution_count": 109,
   "id": "b178b470",
   "metadata": {},
   "outputs": [],
   "source": [
    "# read in celltyle labels (used for evaluation of integration results for maxfuse, but we need them\n",
    "# for our own analyses)\n",
    "metadata_rna = pd.read_csv('../data/tonsil/tonsil_rna_meta.csv')\n",
    "labels_rna = metadata_rna['cluster.info'].to_numpy()\n",
    "labels_codex = protein['cluster.term'].to_numpy()\n",
    "\n",
    "protein_adata.obs['cell_types'] = labels_codex\n",
    "rna_adata.obs['cell_types'] = labels_rna"
   ]
  },
  {
   "cell_type": "code",
   "execution_count": 110,
   "id": "1a965bdd",
   "metadata": {},
   "outputs": [
    {
     "data": {
      "text/plain": [
       "cell_types\n",
       "CD4 T          3458\n",
       "B-CD22-CD40    3454\n",
       "B-Ki67         2835\n",
       "Plasma         1665\n",
       "CD8 T          1420\n",
       "DC              145\n",
       "Name: count, dtype: int64"
      ]
     },
     "execution_count": 110,
     "metadata": {},
     "output_type": "execute_result"
    }
   ],
   "source": [
    "rna_adata.obs['cell_types'].value_counts()"
   ]
  },
  {
   "cell_type": "code",
   "execution_count": 111,
   "id": "d1fbffcf",
   "metadata": {},
   "outputs": [
    {
     "data": {
      "text/plain": [
       "cell_types\n",
       "B-CD22-CD40    74285\n",
       "CD4 T          39321\n",
       "B-Ki67         30985\n",
       "CD8 T          19827\n",
       "Plasma         11173\n",
       "DC              3328\n",
       "Name: count, dtype: int64"
      ]
     },
     "execution_count": 111,
     "metadata": {},
     "output_type": "execute_result"
    }
   ],
   "source": [
    "protein_adata.obs['cell_types'].value_counts()"
   ]
  },
  {
   "cell_type": "code",
   "execution_count": 113,
   "id": "601b107e",
   "metadata": {},
   "outputs": [],
   "source": [
    "# the next part of maxfuse tutorial \n",
    "# does their 1-1 correspondence/fuzzy matching work, but since we don't do this, I don't include it"
   ]
  },
  {
   "cell_type": "code",
   "execution_count": 114,
   "id": "40fd9e17",
   "metadata": {},
   "outputs": [],
   "source": [
    "adata_1 = rna_adata\n",
    "adata_2 = protein_adata"
   ]
  },
  {
   "cell_type": "code",
   "execution_count": 115,
   "id": "e827d770c8228b33",
   "metadata": {},
   "outputs": [],
   "source": [
    "# filter out all tumor type cells\n",
    "adata_2 = adata_2[adata_2.obs['cell_types'] != 'tumor']\n",
    "adata_2 = adata_2[adata_2.obs['cell_types'] != 'dead']\n",
    "\n",
    "num_rna_cells = 6000\n",
    "num_protein_cells = 20000\n",
    "# num_rna_cells = num_protein_cells= 1000\n",
    "subsample_n_obs_rna = min(adata_1.shape[0],num_rna_cells)\n",
    "subsample_n_obs_protein = min(adata_2.shape[0],num_protein_cells)\n",
    "sc.pp.subsample(adata_1, n_obs=subsample_n_obs_rna)\n",
    "sc.pp.subsample(adata_2, n_obs=subsample_n_obs_protein)\n",
    "\n",
    "# don't have new annotation for maxfuse\n",
    "# adata_1.obs['cell_types'] = adata_1.obs['new_annotation']\n",
    "# adata_2.obs['cell_types'] = adata_2.obs['cell_type']\n",
    "\n",
    "# nk cells seems to mess up the archetype matching, for now remove them\n",
    "adata_1 = adata_1[adata_1.obs['cell_types'] != 'nk cells'] \n",
    "adata_2 = adata_2[adata_2.obs['cell_types'] != 'nk cells']\n",
    "\n",
    "\n",
    "adata_1 = adata_1[adata_1.obs['cell_types'].argsort(), :]  # sort by cell types for easier visualization\n",
    "# adata_2 = adata_2[adata_2.obs['cell_types'].argsort(), :]  # sort by cell types for easier visualization\n",
    "adata_2 = adata_2[adata_2.obs['cell_types'].argsort(), :]  # sort by cell types for easier visualization\n",
    "\n",
    "# initial_adata_rna = adata[adata.obs['batch'] == f'SLN111-D1']\n",
    "# initial_adata_protein = adata[adata.obs['batch'] == f'SLN208-D1'] \n",
    "# get rna from one patient, protein from the other then run the whole archetype analysis\n",
    "# cell type protein, cell type rna, see which one's \n",
    "plot_flag=False\n",
    "if plot_flag:\n",
    "    pass  # too long\n",
    "    sc.pp.pca(adata_2, n_comps=10)\n",
    "    sc.pp.neighbors(adata_2)  # Compute the neighbors needed for UMAP\n",
    "    sc.tl.umap(adata_2)  # Calculate UMAP coordinates\n",
    "    sc.pl.umap(adata_2, color='cell_types')\n",
    "    # same for rna\n",
    "    sc.pp.pca(adata_1, n_comps=10)\n",
    "    sc.pp.neighbors(adata_1)  # Compute the neighbors needed for UMAP\n",
    "    sc.tl.umap(adata_1)  # Calculate UMAP coordinates\n",
    "    sc.pl.umap(adata_1, color='cell_types')"
   ]
  },
  {
   "cell_type": "code",
   "execution_count": 116,
   "id": "516c05737a26ad9c",
   "metadata": {},
   "outputs": [],
   "source": [
    "# make sure we dont have gene column in var if it is equal to the index\n",
    "if 'gene' in adata_1.var.columns and np.array_equal(adata_1.var['gene'].values, (adata_1.var.index.values)):\n",
    "    adata_1.var.drop(columns='gene', inplace=True)\n",
    "if 'gene' in adata_2.var.columns and np.array_equal(adata_2.var['gene'].values, (adata_2.var.index.values)):\n",
    "    adata_2.var.drop(columns='gene', inplace=True)"
   ]
  },
  {
   "cell_type": "code",
   "execution_count": 117,
   "id": "93998586867397e5",
   "metadata": {},
   "outputs": [],
   "source": [
    "# set(adata_1.obs['new_annotation']), set(adata_2.obs['cell_type'])"
   ]
  },
  {
   "cell_type": "code",
   "execution_count": 118,
   "id": "74f653188b25fb3e",
   "metadata": {},
   "outputs": [
    {
     "name": "stderr",
     "output_type": "stream",
     "text": [
      "/var/folders/gt/1c8d4lks1vgbghz7rr9vnqzm0000gn/T/ipykernel_71500/736450490.py:5: ImplicitModificationWarning: Trying to modify attribute `.obs` of view, initializing view as actual.\n",
      "  adata_1.obs['major_cell_types'] = adata_1.obs['cell_types'].values\n",
      "/var/folders/gt/1c8d4lks1vgbghz7rr9vnqzm0000gn/T/ipykernel_71500/736450490.py:6: ImplicitModificationWarning: Trying to modify attribute `.obs` of view, initializing view as actual.\n",
      "  adata_2.obs['major_cell_types'] = adata_2.obs['cell_types'].values\n"
     ]
    }
   ],
   "source": [
    "# filer out the cell types that are not in the other dataset\n",
    "mutual_cell_types = set(adata_1.obs['cell_types']).intersection(set(adata_2.obs['cell_types']))\n",
    "adata_1 = adata_1[adata_1.obs['cell_types'].isin(mutual_cell_types)]\n",
    "adata_2 = adata_2[adata_2.obs['cell_types'].isin(mutual_cell_types)]\n",
    "adata_1.obs['major_cell_types'] = adata_1.obs['cell_types'].values\n",
    "adata_2.obs['major_cell_types'] = adata_2.obs['cell_types'].values"
   ]
  },
  {
   "cell_type": "code",
   "execution_count": 119,
   "id": "73491aa1270f4369",
   "metadata": {},
   "outputs": [],
   "source": [
    "# Filter cells and genes (different sample)\n",
    "sc.pp.filter_cells(adata_1, min_genes=100)\n",
    "sc.pp.filter_genes(adata_1, min_cells=20)\n",
    "# Identify highly variable genes (for further analysis, could narrow down)\n",
    "sc.pp.highly_variable_genes(adata_1, n_top_genes=2000, flavor='seurat_v3')"
   ]
  },
  {
   "cell_type": "code",
   "execution_count": 120,
   "id": "b1b95d0a19824175",
   "metadata": {},
   "outputs": [],
   "source": [
    "\n",
    "# Scatter plot of variance vs. mean expression\n",
    "# common approach to inspect the variance of genes. It shows the relationship between mean expression and variance (or dispersion) and highlights the selected highly variable genes.\n",
    "if plot_flag:\n",
    "    plt.figure(figsize=(8, 6))\n",
    "    plt.scatter(adata_1.var['means'], adata_1.var['variances'], alpha=0.3, label='All genes')\n",
    "    plt.scatter(adata_1.var['means'][adata_1.var['highly_variable']],\n",
    "                adata_1.var['variances'][adata_1.var['highly_variable']],\n",
    "                color='red', label='Highly variable genes')\n",
    "    plt.xlabel('Mean expression')\n",
    "    plt.ylabel('Variance')\n",
    "    plt.xscale('log')\n",
    "    plt.yscale('log')\n",
    "    plt.legend()\n",
    "    plt.title('Variance vs. Mean Expression of Genes')\n",
    "    plt.show()"
   ]
  },
  {
   "cell_type": "code",
   "execution_count": 121,
   "id": "2d82b2c808f1e963",
   "metadata": {},
   "outputs": [],
   "source": [
    "# plt.figure(figsize=(8, 6))\n",
    "# plt.hist(adata_1.var['variances'], bins=75, alpha=0.7)\n",
    "# plt.axvline(x=adata_1.var['variances'][adata_1.var['highly_variable']].min(), color='red', linestyle='dashed', label='Cutoff')\n",
    "# plt.xlabel('Variance')\n",
    "# plt.ylabel('Frequency')\n",
    "# plt.yscale('log')\n",
    "# plt.title('Distribution of Gene Variances')\n",
    "# plt.legend()\n",
    "# plt.show()"
   ]
  },
  {
   "cell_type": "code",
   "execution_count": 122,
   "id": "b08bec9b5d435575",
   "metadata": {},
   "outputs": [],
   "source": [
    "variances_sorted = np.sort(adata_1.var['variances'])[::-1]\n",
    "\n",
    "if plot_flag:\n",
    "    plt.figure(figsize=(8, 6))\n",
    "    plt.plot(range(1, len(variances_sorted) + 1), variances_sorted)\n",
    "    plt.xlabel('Gene rank')\n",
    "    plt.ylabel('Variance')\n",
    "    # plt.xscale('log')\n",
    "\n",
    "    plt.yscale('log')\n",
    "    plt.title('Elbow plot of Gene Variances')\n",
    "    plt.axvline(x=1000, color='red', linestyle='dashed', label='n_top_genes=1000')\n",
    "    plt.legend()\n",
    "    plt.show()\n",
    "    plt.figure()\n",
    "kneedle = KneeLocator(range(1, len(variances_sorted) + 1), np.log(variances_sorted), S=4.0, curve=\"convex\",\n",
    "                      direction=\"decreasing\")\n",
    "if plot_flag:\n",
    "    kneedle.plot_knee()\n"
   ]
  },
  {
   "cell_type": "code",
   "execution_count": 123,
   "id": "3d1c656aef5cd0e7",
   "metadata": {},
   "outputs": [
    {
     "name": "stdout",
     "output_type": "stream",
     "text": [
      "932\n"
     ]
    }
   ],
   "source": [
    "print(kneedle.knee)"
   ]
  },
  {
   "cell_type": "code",
   "execution_count": 124,
   "id": "59d243bf7ec70899",
   "metadata": {},
   "outputs": [],
   "source": [
    "sc.pp.highly_variable_genes(adata_1, n_top_genes=kneedle.knee, flavor='seurat_v3')"
   ]
  },
  {
   "cell_type": "code",
   "execution_count": 125,
   "id": "8e33b07b8e363baf",
   "metadata": {},
   "outputs": [
    {
     "name": "stdout",
     "output_type": "stream",
     "text": [
      "Selected 932 highly variable genes.\n",
      "Variance ratio after highly variable gene selection PCA (10 PCs): 0.9979\n"
     ]
    },
    {
     "name": "stderr",
     "output_type": "stream",
     "text": [
      "/Users/nicholasdjedjos/miniconda3/envs/archetypegen/lib/python3.10/site-packages/scanpy/preprocessing/_pca.py:314: ImplicitModificationWarning: Setting element `.obsm['X_pca']` of view, initializing view as actual.\n",
      "  adata.obsm[key_obsm] = X_pca\n"
     ]
    }
   ],
   "source": [
    "adata_1 = adata_1[:, adata_1.var['highly_variable']]\n",
    "print(f\"Selected {adata_1.shape[1]} highly variable genes.\")\n",
    "# PCA after selecting highly variable genes\n",
    "sc.pp.pca(adata_1)\n",
    "print(\n",
    "    f\"Variance ratio after highly variable gene selection PCA (10 PCs): {adata_1.uns['pca']['variance_ratio'][:10].sum():.4f}\")\n",
    "\n"
   ]
  },
  {
   "cell_type": "code",
   "execution_count": 126,
   "id": "e1d0115015f805a8",
   "metadata": {},
   "outputs": [],
   "source": [
    "adata_1 = adata_1[\n",
    "    adata_1.obs.sort_values(by=['cell_types']).index\n",
    "]\n",
    "\n",
    "adata_2 = adata_2[\n",
    "    adata_2.obs.sort_values(by=['cell_types']).index\n",
    "]\n"
   ]
  },
  {
   "cell_type": "code",
   "execution_count": 127,
   "id": "d40c31fddcaeb465",
   "metadata": {},
   "outputs": [
    {
     "name": "stdout",
     "output_type": "stream",
     "text": [
      "variance explained by first 10 PCs 0.9978915452957153\n",
      "Variance ratio after log transformation PCA (10 PCs): 0.6301\n",
      "Variance ratio after normalization PCA (10 PCs): 0.4030\n"
     ]
    }
   ],
   "source": [
    "# initial adata code (different samples) (takes a little while longer for some reason)\n",
    "# make sure I do this to adata_2 as well\n",
    "\n",
    "adata_1_rna = adata_1.copy()\n",
    "sc.pp.pca(adata_1_rna)\n",
    "print(f'variance explained by first 10 PCs {adata_1_rna.uns[\"pca\"][\"variance_ratio\"][:10].sum()}')\n",
    "adata_1_rna = preprocess_rna(adata_1_rna)\n",
    "sc.pp.pca(adata_1_rna)"
   ]
  },
  {
   "cell_type": "code",
   "execution_count": 128,
   "id": "b632d5136153344c",
   "metadata": {},
   "outputs": [],
   "source": [
    "# adata_1_rna.obsm.pop('protein_expression')\n",
    "# assert len(set(adata.obs['batch']))!=1\n",
    "adata_2_prot = adata_2\n",
    "# # add all obs and var to adata_prot\n",
    "# adata_prot.obs = adata_rna.obs (this is a potential problem as rna and protein obs don't match currently)\n"
   ]
  },
  {
   "cell_type": "code",
   "execution_count": 129,
   "id": "2105ba69a4503c68",
   "metadata": {},
   "outputs": [
    {
     "name": "stderr",
     "output_type": "stream",
     "text": [
      "/Users/nicholasdjedjos/miniconda3/envs/archetypegen/lib/python3.10/site-packages/scanpy/preprocessing/_simple.py:168: ImplicitModificationWarning: Trying to modify attribute `.obs` of view, initializing view as actual.\n",
      "  adata.obs[\"n_genes\"] = number\n"
     ]
    }
   ],
   "source": [
    "sc.pp.filter_cells(adata_2_prot, min_genes=30)\n",
    "sc.pp.filter_genes(adata_2_prot, min_cells=50)"
   ]
  },
  {
   "cell_type": "code",
   "execution_count": 130,
   "id": "99829178d57940e7",
   "metadata": {},
   "outputs": [],
   "source": [
    "if plot_flag:\n",
    "    sc.pp.pca(adata_2_prot)\n",
    "    sc.pp.neighbors(adata_2_prot)  # Compute the neighbors needed for UMAP\n",
    "    sc.tl.umap(adata_2_prot)  # Calculate UMAP coordinates\n",
    "    sc.pl.umap(adata_2_prot, color='cell_types')\n",
    "    # same for rna\n",
    "    sc.pp.pca(adata_1_rna)\n",
    "    sc.pp.neighbors(adata_1_rna)  # Compute the neighbors needed for UMAP\n",
    "    sc.tl.umap(adata_1_rna)  # Calculate UMAP coordinates\n",
    "    sc.pl.umap(adata_1_rna, color='cell_types')"
   ]
  },
  {
   "cell_type": "code",
   "execution_count": 131,
   "id": "40afeb850d6fbead",
   "metadata": {},
   "outputs": [
    {
     "name": "stdout",
     "output_type": "stream",
     "text": [
      "Variance ratio after PCA (10 PCs): 0.7657\n",
      "\n",
      "Variance ratio after normalization PCA (10 PCs): 0.7231\n",
      "\n",
      "Variance ratio after log transformation PCA (10 PCs): 0.7337\n"
     ]
    }
   ],
   "source": [
    "adata_2_prot.obs = adata_2_prot.obs.drop(columns=['n_genes'])\n",
    "adata_2_prot = preprocess_protein(adata_2_prot)\n",
    "adata_2_prot.obsm.pop('X_pca')\n",
    "adata_2_prot.varm.pop('PCs')\n",
    "original_protein_num = adata_2_prot.X.shape[1]"
   ]
  },
  {
   "cell_type": "code",
   "execution_count": 132,
   "id": "6345c47abfab87a0",
   "metadata": {},
   "outputs": [
    {
     "data": {
      "text/plain": [
       "array(['B-CD22-CD40', 'B-Ki67', 'CD4 T', 'CD8 T', 'DC', 'Plasma'],\n",
       "      dtype=object)"
      ]
     },
     "execution_count": 132,
     "metadata": {},
     "output_type": "execute_result"
    }
   ],
   "source": [
    "adata_2_prot.obs['major_cell_types'].unique()\n",
    "adata_2_prot.obs['cell_types'].unique()"
   ]
  },
  {
   "cell_type": "code",
   "execution_count": 133,
   "id": "ae705ea9",
   "metadata": {},
   "outputs": [
    {
     "data": {
      "text/plain": [
       "AnnData object with n_obs × n_vars = 19747 × 46\n",
       "    obs: 'cell_types', 'major_cell_types'\n",
       "    var: 'n_cells'\n",
       "    uns: 'pca', 'log1p'\n",
       "    obsm: 'spatial'"
      ]
     },
     "execution_count": 133,
     "metadata": {},
     "output_type": "execute_result"
    }
   ],
   "source": [
    "adata_2_prot"
   ]
  },
  {
   "cell_type": "code",
   "execution_count": 134,
   "id": "fd59c985df3ecf39",
   "metadata": {},
   "outputs": [],
   "source": [
    "\n",
    "assert adata_2_prot.obs.index.is_unique\n",
    "\n",
    "# this is commented out because we will use the actual spatial data\n",
    "# adata_2_prot,horizontal_splits,vertical_splits = add_spatial_data_to_prot(adata_2_prot, major_to_minor_dict) \n",
    "# adata_2_prot.obsm['spatial_location'] = pd.DataFrame([adata_2_prot.obs['X'],adata_2_prot.obs['Y']]).T\n",
    "x_coor = adata_2_prot.obsm['spatial'][:, 0]\n",
    "y_coor = adata_2_prot.obsm['spatial'][:, 1]\n",
    "temp = pd.DataFrame([x_coor, y_coor], index=['x', 'y']).T\n",
    "temp.index = adata_2_prot.obs.index\n",
    "adata_2_prot.obsm['spatial_location'] = temp\n",
    "adata_2_prot.obs['X'] = x_coor\n",
    "adata_2_prot.obs['Y'] = y_coor\n",
    "if plot_flag:\n",
    "    sc.pl.scatter(adata_2_prot[adata_2_prot.obs['major_cell_types'] == 'T-reg'], x='X', y='Y', color='cell_types',\n",
    "                  title='B Cell subtypes locations')\n",
    "    # sc.pl.scatter(adata_2_prot[adata_2_prot.obs['major_cell_types']=='CD4 T'], x='X', y='Y', color='cell_types', title='T Cell subtypes locations')\n",
    "    # sc.pl.scatter(adata_2_prot[adata_2_prot.obs['major_cell_types']=='CD8 T'], x='X', y='Y', color='cell_types', title='T Cell subtypes locations')"
   ]
  },
  {
   "cell_type": "code",
   "execution_count": 135,
   "id": "6fbdff18",
   "metadata": {},
   "outputs": [],
   "source": [
    "clean_uns_for_h5ad(adata_2_prot)\n",
    "clean_uns_for_h5ad(adata_1_rna)\n",
    "time_stamp = pd.Timestamp.now().strftime(\"%Y-%m-%d-%H-%M-%S\")\n",
    "adata_1_rna.write(f'data/preprocessed_adata_rna_maxfuse_{time_stamp}.h5ad')\n",
    "adata_2_prot.write(f'data/preprocessed_adata_prot_maxfuse_{time_stamp}.h5ad')\n"
   ]
  }
 ],
 "metadata": {
  "kernelspec": {
   "display_name": "scvi",
   "language": "python",
   "name": "python3"
  },
  "language_info": {
   "codemirror_mode": {
    "name": "ipython",
    "version": 3
   },
   "file_extension": ".py",
   "mimetype": "text/x-python",
   "name": "python",
   "nbconvert_exporter": "python",
   "pygments_lexer": "ipython3",
   "version": "3.10.16"
  }
 },
 "nbformat": 5,
 "nbformat_minor": 9
}
