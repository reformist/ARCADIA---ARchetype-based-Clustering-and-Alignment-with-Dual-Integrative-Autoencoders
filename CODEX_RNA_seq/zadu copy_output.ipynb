{
 "cells": [
  {
   "cell_type": "code",
   "execution_count": 1,
   "metadata": {
    "execution": {
     "iopub.execute_input": "2025-03-11T03:29:58.055314Z",
     "iopub.status.busy": "2025-03-11T03:29:58.054846Z",
     "iopub.status.idle": "2025-03-11T03:29:58.063141Z",
     "shell.execute_reply": "2025-03-11T03:29:58.062509Z"
    }
   },
   "outputs": [
    {
     "name": "stdout",
     "output_type": "stream",
     "text": [
      "Hello, this is a sample text file.\n"
     ]
    }
   ],
   "source": [
    "# make a txt file and write some text to it\n",
    "with open('example.txt', 'w') as file:\n",
    "    file.write('Hello, this is a sample text file.')\n",
    "\n",
    "# then read the file and print the contents\n",
    "with open('example.txt', 'r') as file:\n",
    "    contents = file.read()\n",
    "    print(contents)\n"
   ]
  }
 ],
 "metadata": {
  "kernelspec": {
   "display_name": "archetypegen",
   "language": "python",
   "name": "python3"
  },
  "language_info": {
   "codemirror_mode": {
    "name": "ipython",
    "version": 3
   },
   "file_extension": ".py",
   "mimetype": "text/x-python",
   "name": "python",
   "nbconvert_exporter": "python",
   "pygments_lexer": "ipython3",
   "version": "3.10.16"
  }
 },
 "nbformat": 4,
 "nbformat_minor": 2
}
