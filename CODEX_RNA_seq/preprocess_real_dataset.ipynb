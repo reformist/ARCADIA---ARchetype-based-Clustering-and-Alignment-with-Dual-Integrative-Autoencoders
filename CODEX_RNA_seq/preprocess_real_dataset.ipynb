{
 "cells": [
  {
   "cell_type": "code",
   "execution_count": null,
   "id": "e2f9dd7c6e4d8333",
   "metadata": {},
   "outputs": [],
   "source": [
    "# preprocess the real data from Elham lab and peprform the archetype analysis\n",
    "import copy\n",
    "import importlib\n",
    "import os\n",
    "import re\n",
    "import sys\n",
    "import os\n",
    "import scipy.sparse as sp\n",
    "\n",
    "parent_folder = os.path.abspath(os.path.join(os.getcwd(), '..'))\n",
    "sys.path.append(parent_folder)\n",
    "import anndata\n",
    "import numpy as np\n",
    "\n",
    "import pandas as pd\n",
    "import scanpy as sc\n",
    "\n",
    "from sklearn.metrics import silhouette_score\n",
    "\n",
    "import scvi\n",
    "import seaborn as sns\n",
    "from anndata import AnnData\n",
    "from matplotlib import pyplot as plt\n",
    "from py_pcha import PCHA\n",
    "from scipy.sparse import issparse\n",
    "from scipy.spatial.distance import cdist\n",
    "from scipy.stats import zscore\n",
    "from sklearn.cluster import KMeans\n",
    "from sklearn.decomposition import PCA\n",
    "from sympy.physics.units import current\n",
    "from tqdm import tqdm\n",
    "from kneed import KneeLocator\n",
    "\n",
    "import bar_nick_utils\n",
    "import covet_utils\n",
    "\n",
    "importlib.reload(bar_nick_utils)\n",
    "importlib.reload(covet_utils)\n",
    "from covet_utils import compute_covet\n",
    "\n",
    "from bar_nick_utils import preprocess_rna, preprocess_protein, plot_archetypes, \\\n",
    "    get_cell_representations_as_archetypes_cvxpy, reorder_rows_to_maximize_diagonal, evaluate_distance_metrics, \\\n",
    "    plot_archetypes_matching, compare_matchings, find_best_pair_by_row_matching, add_spatial_data_to_prot, \\\n",
    "    clean_uns_for_h5ad, get_latest_file\n",
    "\n",
    "plot_flag = False\n",
    "# computationally figure out which ones are best\n",
    "np.random.seed(8)\n",
    "! which python\n",
    "\n"
   ]
  },
  {
   "cell_type": "code",
   "execution_count": null,
   "id": "75d70fa49a8637d4",
   "metadata": {},
   "outputs": [],
   "source": [
    "### reading in data"
   ]
  },
  {
   "cell_type": "code",
   "execution_count": null,
   "id": "e827d770c8228b33",
   "metadata": {},
   "outputs": [],
   "source": [
    "\n",
    "adata_rna = sc.read(\"../rna_umap.h5ad\") # 5546 × 13447 \n",
    "adata_prot = sc.read(\"../codex_cn_tumor.h5ad\") # 893987 × 30\n",
    "\n",
    "# filter out all tumor type cells\n",
    "adata_prot = adata_prot[adata_prot.obs['cell_type'] != 'tumor']\n",
    "adata_prot = adata_prot[adata_prot.obs['cell_type'] != 'dead']\n",
    "\n",
    "num_rna_cells = 6000\n",
    "num_protein_cells = 20000\n",
    "num_rna_cells = num_protein_cells= 2000\n",
    "subsample_n_obs_rna = min(adata_rna.shape[0],num_rna_cells)\n",
    "subsample_n_obs_protein = min(adata_prot.shape[0],num_protein_cells)\n",
    "sc.pp.subsample(adata_rna, n_obs=subsample_n_obs_rna)\n",
    "sc.pp.subsample(adata_prot, n_obs=subsample_n_obs_protein)\n",
    "\n",
    "adata_rna.obs['cell_types'] = adata_rna.obs['new_annotation']\n",
    "adata_prot.obs['cell_types'] = adata_prot.obs['cell_type']\n",
    "\n",
    "# nk cells seems to mess up the archetype matching, for now remove them\n",
    "adata_rna = adata_rna[adata_rna.obs['cell_types'] != 'nk cells'] \n",
    "adata_prot = adata_prot[adata_prot.obs['cell_types'] != 'nk cells']\n",
    "\n",
    "\n",
    "adata_rna = adata_rna[adata_rna.obs['cell_types'].argsort(), :]  # sort by cell types for easier visualization\n",
    "# adata_prot = adata_prot[adata_prot.obs['cell_types'].argsort(), :]  # sort by cell types for easier visualization\n",
    "adata_prot = adata_prot[adata_prot.obs['cell_types'].argsort(), :]  # sort by cell types for easier visualization\n",
    "\n",
    "# initial_adata_rna = adata[adata.obs['batch'] == f'SLN111-D1']\n",
    "# initial_adata_protein = adata[adata.obs['batch'] == f'SLN208-D1'] \n",
    "# get rna from one patient, protein from the other then run the whole archetype analysis\n",
    "# cell type protein, cell type rna, see which one's \n",
    "# plot data before preprocessing with a subsample of 1000 cells\n",
    "if plot_flag:\n",
    "    subsample_n_obs_rna_plot = min(adata_rna.shape[0], 1000)\n",
    "    subsample_n_obs_protein_plot = min(adata_prot.shape[0], 1000)\n",
    "    \n",
    "    adata_rna_plot = adata_rna[np.random.choice(adata_rna.shape[0], subsample_n_obs_rna_plot, replace=False), :]\n",
    "    adata_prot_plot = adata_prot[np.random.choice(adata_prot.shape[0], subsample_n_obs_protein_plot, replace=False), :]\n",
    "    \n",
    "    # same for RNA\n",
    "    sc.pp.pca(adata_rna_plot, n_comps=10)\n",
    "    sc.pp.neighbors(adata_rna_plot)  # Compute the neighbors needed for UMAP\n",
    "    sc.tl.umap(adata_rna_plot)  # Calculate UMAP coordinates\n",
    "    sc.pl.umap(adata_rna_plot, color='cell_types', title='RNA data (1000 subsample)')\n",
    "    \n",
    "    # same for Protein\n",
    "    sc.pp.pca(adata_prot_plot, n_comps=10)\n",
    "    sc.pp.neighbors(adata_prot_plot)  # Compute the neighbors needed for UMAP\n",
    "    sc.tl.umap(adata_prot_plot)  # Calculate UMAP coordinates\n",
    "    sc.pl.umap(adata_prot_plot, color='cell_types', title='Protein data (1000 subsample)')\n",
    "\n",
    "    "
   ]
  },
  {
   "cell_type": "code",
   "execution_count": null,
   "id": "516c05737a26ad9c",
   "metadata": {},
   "outputs": [],
   "source": [
    "# make sure we dont have gene column in var if it is equal to the index\n",
    "if 'gene' in adata_rna.var.columns and np.array_equal(adata_rna.var['gene'].values, (adata_rna.var.index.values)):\n",
    "    adata_rna.var.drop(columns='gene', inplace=True)\n",
    "if 'gene' in adata_prot.var.columns and np.array_equal(adata_prot.var['gene'].values, (adata_prot.var.index.values)):\n",
    "    adata_prot.var.drop(columns='gene', inplace=True)"
   ]
  },
  {
   "cell_type": "code",
   "execution_count": null,
   "id": "93998586867397e5",
   "metadata": {},
   "outputs": [],
   "source": [
    "set(adata_rna.obs['new_annotation']), set(adata_prot.obs['cell_type'])"
   ]
  },
  {
   "cell_type": "code",
   "execution_count": null,
   "id": "74f653188b25fb3e",
   "metadata": {},
   "outputs": [],
   "source": [
    "# filer out the cell types that are not in the other dataset\n",
    "mutual_cell_types = set(adata_rna.obs['new_annotation']).intersection(set(adata_prot.obs['cell_type']))\n",
    "adata_rna = adata_rna[adata_rna.obs['new_annotation'].isin(mutual_cell_types)]\n",
    "adata_prot = adata_prot[adata_prot.obs['cell_type'].isin(mutual_cell_types)]\n",
    "adata_rna.obs['major_cell_types'] = adata_rna.obs['new_annotation'].values\n",
    "adata_prot.obs['major_cell_types'] = adata_prot.obs['cell_type'].values"
   ]
  },
  {
   "cell_type": "code",
   "execution_count": null,
   "id": "73491aa1270f4369",
   "metadata": {},
   "outputs": [],
   "source": []
  },
  {
   "cell_type": "code",
   "execution_count": null,
   "id": "b1b95d0a19824175",
   "metadata": {},
   "outputs": [],
   "source": [
    "\n",
    "# Scatter plot of variance vs. mean expression\n",
    "# common approach to inspect the variance of genes. It shows the relationship between mean expression and variance (or dispersion) and highlights the selected highly variable genes.\n",
    "if plot_flag:\n",
    "    sc.pp.highly_variable_genes(adata_rna, n_top_genes=2000)\n",
    "    plt.figure(figsize=(8, 6))\n",
    "    plt.scatter(adata_rna.var['means'], adata_rna.var['variances'], alpha=0.3, label='All genes')\n",
    "    plt.scatter(adata_rna.var['means'][adata_rna.var['highly_variable']],\n",
    "                adata_rna.var['variances'][adata_rna.var['highly_variable']],\n",
    "                color='red', label='Highly variable genes')\n",
    "    plt.xlabel('Mean expression')\n",
    "    plt.ylabel('Variance')\n",
    "    plt.xscale('log')\n",
    "    plt.yscale('log')\n",
    "    plt.legend()\n",
    "    plt.title('Raw data - Variance vs. Mean Expression of Genes')\n",
    "    plt.show()"
   ]
  },
  {
   "cell_type": "code",
   "execution_count": null,
   "id": "2d82b2c808f1e963",
   "metadata": {},
   "outputs": [],
   "source": [
    "# plt.figure(figsize=(8, 6))\n",
    "# plt.hist(adata_rna.var['variances'], bins=75, alpha=0.7)\n",
    "# plt.axvline(x=adata_rna.var['variances'][adata_rna.var['highly_variable']].min(), color='red', linestyle='dashed', label='Cutoff')\n",
    "# plt.xlabel('Variance')\n",
    "# plt.ylabel('Frequency')\n",
    "# plt.yscale('log')\n",
    "# plt.title('Distribution of Gene Variances')\n",
    "# plt.legend()\n",
    "# plt.show()"
   ]
  },
  {
   "cell_type": "code",
   "execution_count": null,
   "id": "b08bec9b5d435575",
   "metadata": {},
   "outputs": [],
   "source": [
    "variances_sorted = np.sort(adata_rna.var['variances'])[::-1]\n",
    "\n",
    "if plot_flag:\n",
    "    plt.figure(figsize=(8, 6))\n",
    "    plt.plot(range(1, len(variances_sorted) + 1), variances_sorted)\n",
    "    plt.xlabel('Gene rank')\n",
    "    plt.ylabel('Variance')\n",
    "    # plt.xscale('log')\n",
    "\n",
    "    plt.yscale('log')\n",
    "    plt.title('Elbow plot of Gene Variances')\n",
    "    plt.axvline(x=1000, color='red', linestyle='dashed', label='n_top_genes=1000')\n",
    "    plt.legend()\n",
    "    plt.show()\n",
    "    plt.figure()\n",
    "kneedle = KneeLocator(range(1, len(variances_sorted) + 1), np.log(variances_sorted), S=4.0, curve=\"convex\",\n",
    "                      direction=\"decreasing\")\n",
    "if plot_flag:\n",
    "    kneedle.plot_knee()\n"
   ]
  },
  {
   "cell_type": "code",
   "execution_count": null,
   "id": "3d1c656aef5cd0e7",
   "metadata": {},
   "outputs": [],
   "source": [
    "adata_rna = preprocess_rna(adata_rna,n_top_genes=kneedle.knee)\n",
    "if plot_flag:\n",
    "    plt.figure(figsize=(8, 6))\n",
    "    plt.scatter(adata_rna.var['means'], adata_rna.var['variances'], alpha=0.3, label='All genes')\n",
    "    plt.scatter(adata_rna.var['means'][adata_rna.var['highly_variable']],\n",
    "                adata_rna.var['variances'][adata_rna.var['highly_variable']],\n",
    "                color='red', label='Highly variable genes')\n",
    "    plt.xlabel('Mean expression')\n",
    "    plt.ylabel('Variance')\n",
    "    plt.xscale('log')\n",
    "    plt.yscale('log')\n",
    "    plt.legend()\n",
    "    plt.title('Processed data - Variance vs. Mean Expression of Genes')\n",
    "    plt.show()"
   ]
  },
  {
   "cell_type": "code",
   "execution_count": null,
   "id": "e1d0115015f805a8",
   "metadata": {},
   "outputs": [],
   "source": [
    "adata_rna = adata_rna[\n",
    "    adata_rna.obs.sort_values(by=['cell_types']).index\n",
    "]"
   ]
  },
  {
   "cell_type": "code",
   "execution_count": null,
   "id": "d40c31fddcaeb465",
   "metadata": {},
   "outputs": [],
   "source": [
    "\n",
    "adata_rna = adata_rna.copy()\n",
    "sc.pp.pca(adata_rna)\n",
    "print(f'variance explained by first 10 PCs {adata_rna.uns[\"pca\"][\"variance_ratio\"][:10].sum()}')\n",
    "adata_rna = preprocess_rna(adata_rna)\n",
    "sc.pp.pca(adata_rna)"
   ]
  },
  {
   "cell_type": "code",
   "execution_count": null,
   "id": "3ebcb90b",
   "metadata": {},
   "outputs": [],
   "source": [
    "adata_rna"
   ]
  },
  {
   "cell_type": "code",
   "execution_count": null,
   "id": "b632d5136153344c",
   "metadata": {},
   "outputs": [],
   "source": [
    "# adata_rna.obsm.pop('protein_expression')\n",
    "# assert len(set(adata.obs['batch']))!=1\n",
    "adata_prot = preprocess_protein(adata_prot)\n",
    "# # add all obs and var to adata_prot\n",
    "# adata_prot.obs = adata_rna.obs (this is a potential problem as rna and protein obs don't match currently)\n"
   ]
  },
  {
   "cell_type": "code",
   "execution_count": null,
   "id": "99829178d57940e7",
   "metadata": {},
   "outputs": [],
   "source": [
    "if plot_flag:\n",
    "    # same for rna\n",
    "    sc.pp.pca(adata_rna)\n",
    "    sc.pp.neighbors(adata_rna)  # Compute the neighbors needed for UMAP\n",
    "    sc.tl.umap(adata_rna)  # Calculate UMAP coordinates\n",
    "    sc.pl.umap(adata_rna, color='cell_types')\n",
    "    # same for protein\n",
    "    sc.pp.pca(adata_prot)\n",
    "    sc.pp.neighbors(adata_prot)  # Compute the neighbors needed for UMAP\n",
    "    sc.tl.umap(adata_prot)  # Calculate UMAP coordinates\n",
    "    sc.pl.umap(adata_prot, color='cell_types')\n"
   ]
  },
  {
   "cell_type": "code",
   "execution_count": null,
   "id": "c91adb52",
   "metadata": {},
   "outputs": [],
   "source": []
  },
  {
   "cell_type": "code",
   "execution_count": null,
   "id": "40afeb850d6fbead",
   "metadata": {},
   "outputs": [],
   "source": [
    "adata_prot.obs = adata_prot.obs.drop(columns=['n_genes'])\n",
    "adata_prot.obsm.pop('X_pca')\n",
    "adata_prot.varm.pop('PCs')\n",
    "original_protein_num = adata_prot.X.shape[1]"
   ]
  },
  {
   "cell_type": "code",
   "execution_count": null,
   "id": "6345c47abfab87a0",
   "metadata": {},
   "outputs": [],
   "source": [
    "adata_prot.obs['major_cell_types'].unique()\n",
    "adata_prot.obs['cell_types'].unique()"
   ]
  },
  {
   "cell_type": "code",
   "execution_count": null,
   "id": "fd59c985df3ecf39",
   "metadata": {},
   "outputs": [],
   "source": [
    "\n",
    "assert adata_prot.obs.index.is_unique\n",
    "x_coor = adata_prot.obsm['spatial'][:, 0]\n",
    "y_coor = adata_prot.obsm['spatial'][:, 1]\n",
    "temp = pd.DataFrame([x_coor, y_coor], index=['x', 'y']).T\n",
    "temp.index = adata_prot.obs.index\n",
    "adata_prot.obsm['spatial_location'] = temp\n",
    "adata_prot.obs['X'] = x_coor\n",
    "adata_prot.obs['Y'] = y_coor\n",
    "if plot_flag:\n",
    "    sc.pl.scatter(adata_prot, x='X', y='Y', color='cell_types', title='T Cell subtypes locations')\n",
    "    # sc.pl.scatter(adata_prot[adata_prot.obs['major_cell_types']=='CD8 T'], x='X', y='Y', color='cell_types', title='T Cell subtypes locations')"
   ]
  },
  {
   "cell_type": "code",
   "execution_count": null,
   "id": "32ed0100",
   "metadata": {},
   "outputs": [],
   "source": [
    "adata_prot = adata_prot[\n",
    "    adata_prot.obs.sort_values(by=['cell_types']).index\n",
    "]"
   ]
  },
  {
   "cell_type": "code",
   "execution_count": null,
   "id": "0d4caa57",
   "metadata": {},
   "outputs": [],
   "source": [
    "if plot_flag:\n",
    "    # Randomly select 100 cells\n",
    "    num_cells = min(1000, adata_rna.n_obs, adata_prot.n_obs)\n",
    "    random_indices_protein = np.random.choice(adata_prot.n_obs, num_cells, replace=False)\n",
    "    random_indices_rna = np.random.choice(adata_rna.n_obs, num_cells, replace=False)\n",
    "\n",
    "    # For protein data\n",
    "    protein_data = adata_prot.X[random_indices_protein, :]\n",
    "    sns.heatmap(protein_data, xticklabels=False, yticklabels=False)\n",
    "    plt.title(\"Protein Expression Heatmap (Random 100 Cells)\")\n",
    "    plt.show()\n",
    "\n",
    "    # For RNA data\n",
    "    rna_data = adata_rna.X[random_indices_rna, :].todense() if issparse(adata_rna.X) else adata_rna.X[random_indices_rna, :]\n",
    "    sns.heatmap(rna_data, xticklabels=False, yticklabels=False)\n",
    "    plt.title(\"RNA Expression Heatmap (Random 100 Cells)\")\n",
    "    plt.show()"
   ]
  },
  {
   "cell_type": "code",
   "execution_count": null,
   "id": "6fbdff18",
   "metadata": {},
   "outputs": [],
   "source": [
    "clean_uns_for_h5ad(adata_prot)\n",
    "clean_uns_for_h5ad(adata_rna)\n",
    "time_stamp = pd.Timestamp.now().strftime(\"%Y-%m-%d-%H-%M-%S\")\n",
    "adata_rna.write(f'data/preprocessed_adata_rna_{time_stamp}.h5ad')\n",
    "adata_prot.write(f'data/preprocessed_adata_prot_{time_stamp}.h5ad')\n"
   ]
  }
 ],
 "metadata": {
  "kernelspec": {
   "display_name": "scvi",
   "language": "python",
   "name": "python3"
  },
  "language_info": {
   "codemirror_mode": {
    "name": "ipython",
    "version": 3
   },
   "file_extension": ".py",
   "mimetype": "text/x-python",
   "name": "python",
   "nbconvert_exporter": "python",
   "pygments_lexer": "ipython3",
   "version": "3.10.16"
  }
 },
 "nbformat": 4,
 "nbformat_minor": 4
}
