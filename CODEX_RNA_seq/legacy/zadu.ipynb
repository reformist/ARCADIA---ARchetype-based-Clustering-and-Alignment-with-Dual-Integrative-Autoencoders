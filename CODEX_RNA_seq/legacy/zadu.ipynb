{
 "cells": [
  {
   "cell_type": "code",
   "execution_count": null,
   "metadata": {},
   "outputs": [],
   "source": [
    "!pip install zadu"
   ]
  },
  {
   "cell_type": "code",
   "execution_count": null,
   "metadata": {},
   "outputs": [],
   "source": [
    "from zadu import zadu"
   ]
  },
  {
   "cell_type": "code",
   "execution_count": null,
   "metadata": {},
   "outputs": [],
   "source": [
    "from zadu import zadu\n",
    "\n",
    "hd, ld = load_datasets()\n",
    "spec = [{\n",
    "    \"id\"    : \"tnc\",\n",
    "    \"params\": { \"k\": 20 },\n",
    "}, {\n",
    "    \"id\"    : \"snc\",\n",
    "    \"params\": { \"k\": 30, \"clustering_strategy\": \"dbscan\" }\n",
    "}]\n",
    "\n",
    "scores = zadu.ZADU(spec, hd).measure(ld)\n",
    "print(\"T&C:\", scores[0])\n",
    "print(\"S&C:\", scores[1])"
   ]
  },
  {
   "cell_type": "markdown",
   "metadata": {},
   "source": [
    "#### explanation of ZADU: used to evaluate dimensionality reduction embeddings. we hope this will be useful because we use UMAP to understand mixing between RNA and Protein modalities along with other things  "
   ]
  },
  {
   "cell_type": "code",
   "execution_count": null,
   "metadata": {},
   "outputs": [],
   "source": [
    "from sklearn.datasets import fetch_openml\n",
    "from sklearn.manifold import TSNE\n",
    "hd = fetch_openml('mnist_784', version=1, cache=True).data.to_numpy()[::7]\n",
    "ld = TSNE().fit_transform(hd)"
   ]
  },
  {
   "cell_type": "code",
   "execution_count": null,
   "metadata": {},
   "outputs": [],
   "source": [
    "# directly accessing functions\n",
    "from zadu.measures import *\n",
    "\n",
    "mrre = mean_relative_rank_error.measure(hd, ld, k=20)\n",
    "pr  = pearson_r.measure(hd, ld)\n",
    "nh  = neighborhood_hit.measure(ld, label, k=20)"
   ]
  },
  {
   "cell_type": "code",
   "execution_count": null,
   "metadata": {},
   "outputs": [],
   "source": [
    "mrre"
   ]
  },
  {
   "cell_type": "code",
   "execution_count": null,
   "metadata": {},
   "outputs": [],
   "source": [
    "pr"
   ]
  },
  {
   "cell_type": "code",
   "execution_count": null,
   "metadata": {},
   "outputs": [],
   "source": [
    "from zadu import zadu\n",
    "from zaduvis import zaduvis\n",
    "import matplotlib.pyplot as plt\n",
    "from sklearn.manifold import TSNE\n",
    "from sklearn.datasets import fetch_openml\n",
    "\n",
    "\n",
    "hd = fetch_openml('mnist_784', version=1, cache=True).data.to_numpy()[::7]\n",
    "ld = TSNE().fit_transform(hd)\n",
    "\n",
    "## Computing local pointwise distortions\n",
    "spec = [{\n",
    "    \"id\": \"tnc\",\n",
    "    \"params\": {\"k\": 25}\n",
    "},{\n",
    "    \"id\": \"snc\",\n",
    "    \"params\": {\"k\": 50}\n",
    "}]\n",
    "zadu_obj = zadu.ZADU(spec, hd, return_local=True)\n"
   ]
  },
  {
   "cell_type": "code",
   "execution_count": null,
   "metadata": {},
   "outputs": [],
   "source": [
    "scores, local_list = zadu_obj.measure(ld)\n",
    "\n",
    "tnc_local = local_list[0]\n",
    "snc_local = local_list[1]\n",
    "\n",
    "local_trustworthiness = tnc_local[\"local_trustworthiness\"]\n",
    "local_continuity = tnc_local[\"local_continuity\"]\n",
    "local_steadiness = snc_local[\"local_steadiness\"]\n",
    "local_cohesiveness = snc_local[\"local_cohesiveness\"]\n",
    "\n",
    "fig, ax = plt.subplots(1, 4, figsize=(50, 12.5))\n",
    "zaduvis.checkviz(ld, local_trustworthiness, local_continuity, ax=ax[0])\n",
    "zaduvis.reliability_map(ld, local_trustworthiness, local_continuity, k=10, ax=ax[1])\n",
    "zaduvis.checkviz(ld, local_steadiness, local_cohesiveness, ax=ax[2])\n",
    "zaduvis.reliability_map(ld, local_steadiness, local_cohesiveness, k=10, ax=ax[3])"
   ]
  }
 ],
 "metadata": {
  "kernelspec": {
   "display_name": "archetypegen",
   "language": "python",
   "name": "python3"
  },
  "language_info": {
   "codemirror_mode": {
    "name": "ipython",
    "version": 3
   },
   "file_extension": ".py",
   "mimetype": "text/x-python",
   "name": "python",
   "nbconvert_exporter": "python",
   "pygments_lexer": "ipython3",
   "version": "3.10.16"
  }
 },
 "nbformat": 4,
 "nbformat_minor": 2
}
