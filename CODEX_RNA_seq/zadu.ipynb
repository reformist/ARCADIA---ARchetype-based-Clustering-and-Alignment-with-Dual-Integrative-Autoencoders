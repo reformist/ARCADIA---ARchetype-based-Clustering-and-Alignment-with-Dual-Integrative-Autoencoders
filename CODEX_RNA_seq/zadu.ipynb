{
 "cells": [
  {
   "cell_type": "code",
   "execution_count": 1,
   "metadata": {},
   "outputs": [
    {
     "name": "stdout",
     "output_type": "stream",
     "text": [
      "Collecting zadu\n",
      "  Downloading zadu-0.2.0-py3-none-any.whl.metadata (9.8 kB)\n",
      "Requirement already satisfied: numpy in /Users/nicholasdjedjos/miniconda3/envs/archetypegen/lib/python3.10/site-packages (from zadu) (1.26.4)\n",
      "Requirement already satisfied: scikit-learn in /Users/nicholasdjedjos/miniconda3/envs/archetypegen/lib/python3.10/site-packages (from zadu) (1.6.1)\n",
      "Requirement already satisfied: scipy in /Users/nicholasdjedjos/miniconda3/envs/archetypegen/lib/python3.10/site-packages (from zadu) (1.15.1)\n",
      "Collecting snc (from zadu)\n",
      "  Downloading snc-0.2.1-py3-none-any.whl.metadata (19 kB)\n",
      "Requirement already satisfied: matplotlib in /Users/nicholasdjedjos/miniconda3/envs/archetypegen/lib/python3.10/site-packages (from zadu) (3.10.0)\n",
      "Collecting faiss-cpu (from zadu)\n",
      "  Downloading faiss_cpu-1.10.0-cp310-cp310-macosx_11_0_arm64.whl.metadata (4.4 kB)\n",
      "Requirement already satisfied: packaging in /Users/nicholasdjedjos/miniconda3/envs/archetypegen/lib/python3.10/site-packages (from faiss-cpu->zadu) (24.2)\n",
      "Requirement already satisfied: contourpy>=1.0.1 in /Users/nicholasdjedjos/miniconda3/envs/archetypegen/lib/python3.10/site-packages (from matplotlib->zadu) (1.3.1)\n",
      "Requirement already satisfied: cycler>=0.10 in /Users/nicholasdjedjos/miniconda3/envs/archetypegen/lib/python3.10/site-packages (from matplotlib->zadu) (0.12.1)\n",
      "Requirement already satisfied: fonttools>=4.22.0 in /Users/nicholasdjedjos/miniconda3/envs/archetypegen/lib/python3.10/site-packages (from matplotlib->zadu) (4.55.3)\n",
      "Requirement already satisfied: kiwisolver>=1.3.1 in /Users/nicholasdjedjos/miniconda3/envs/archetypegen/lib/python3.10/site-packages (from matplotlib->zadu) (1.4.8)\n",
      "Requirement already satisfied: pillow>=8 in /Users/nicholasdjedjos/miniconda3/envs/archetypegen/lib/python3.10/site-packages (from matplotlib->zadu) (11.1.0)\n",
      "Requirement already satisfied: pyparsing>=2.3.1 in /Users/nicholasdjedjos/miniconda3/envs/archetypegen/lib/python3.10/site-packages (from matplotlib->zadu) (3.2.1)\n",
      "Requirement already satisfied: python-dateutil>=2.7 in /Users/nicholasdjedjos/miniconda3/envs/archetypegen/lib/python3.10/site-packages (from matplotlib->zadu) (2.9.0.post0)\n",
      "Requirement already satisfied: joblib>=1.2.0 in /Users/nicholasdjedjos/miniconda3/envs/archetypegen/lib/python3.10/site-packages (from scikit-learn->zadu) (1.4.2)\n",
      "Requirement already satisfied: threadpoolctl>=3.1.0 in /Users/nicholasdjedjos/miniconda3/envs/archetypegen/lib/python3.10/site-packages (from scikit-learn->zadu) (3.5.0)\n",
      "Requirement already satisfied: numba in /Users/nicholasdjedjos/miniconda3/envs/archetypegen/lib/python3.10/site-packages (from snc->zadu) (0.60.0)\n",
      "Collecting pyclustering (from snc->zadu)\n",
      "  Downloading pyclustering-0.10.1.2.tar.gz (2.6 MB)\n",
      "\u001b[2K     \u001b[90m━━━━━━━━━━━━━━━━━━━━━━━━━━━━━━━━━━━━━━━━\u001b[0m \u001b[32m2.6/2.6 MB\u001b[0m \u001b[31m3.3 MB/s\u001b[0m eta \u001b[36m0:00:00\u001b[0ma \u001b[36m0:00:01\u001b[0m\n",
      "\u001b[?25h  Preparing metadata (setup.py) ... \u001b[?25ldone\n",
      "\u001b[?25hCollecting hdbscan (from snc->zadu)\n",
      "  Downloading hdbscan-0.8.40.tar.gz (6.9 MB)\n",
      "\u001b[2K     \u001b[90m━━━━━━━━━━━━━━━━━━━━━━━━━━━━━━━━━━━━━━━━\u001b[0m \u001b[32m6.9/6.9 MB\u001b[0m \u001b[31m4.3 MB/s\u001b[0m eta \u001b[36m0:00:00\u001b[0m00:01\u001b[0m00:01\u001b[0mm\n",
      "\u001b[?25h  Installing build dependencies ... \u001b[?25ldone\n",
      "\u001b[?25h  Getting requirements to build wheel ... \u001b[?25ldone\n",
      "\u001b[?25h  Preparing metadata (pyproject.toml) ... \u001b[?25ldone\n",
      "\u001b[?25hRequirement already satisfied: six>=1.5 in /Users/nicholasdjedjos/miniconda3/envs/archetypegen/lib/python3.10/site-packages (from python-dateutil>=2.7->matplotlib->zadu) (1.17.0)\n",
      "Requirement already satisfied: llvmlite<0.44,>=0.43.0dev0 in /Users/nicholasdjedjos/miniconda3/envs/archetypegen/lib/python3.10/site-packages (from numba->snc->zadu) (0.43.0)\n",
      "Downloading zadu-0.2.0-py3-none-any.whl (26 kB)\n",
      "Downloading faiss_cpu-1.10.0-cp310-cp310-macosx_11_0_arm64.whl (3.2 MB)\n",
      "\u001b[2K   \u001b[90m━━━━━━━━━━━━━━━━━━━━━━━━━━━━━━━━━━━━━━━━\u001b[0m \u001b[32m3.2/3.2 MB\u001b[0m \u001b[31m6.2 MB/s\u001b[0m eta \u001b[36m0:00:00\u001b[0ma \u001b[36m0:00:01\u001b[0m\n",
      "\u001b[?25hDownloading snc-0.2.1-py3-none-any.whl (16 kB)\n",
      "Building wheels for collected packages: hdbscan, pyclustering\n",
      "  Building wheel for hdbscan (pyproject.toml) ... \u001b[?25ldone\n",
      "\u001b[?25h  Created wheel for hdbscan: filename=hdbscan-0.8.40-cp310-cp310-macosx_11_0_arm64.whl size=710090 sha256=aaab3edc51634ff2880a1f01458b5b25b1f871ba1b0782aec8d13dba1c841385\n",
      "  Stored in directory: /Users/nicholasdjedjos/Library/Caches/pip/wheels/54/ba/75/e1883bf767fda8494225c99b81fbf5e977e23459d35e93b301\n",
      "  Building wheel for pyclustering (setup.py) ... \u001b[?25ldone\n",
      "\u001b[?25h  Created wheel for pyclustering: filename=pyclustering-0.10.1.2-py3-none-any.whl size=2395164 sha256=e3311ebba029f6e034edcf8f1763c8bce9931c696eb5ce8d5b6626fc5ec05501\n",
      "  Stored in directory: /Users/nicholasdjedjos/Library/Caches/pip/wheels/b5/42/97/11eee99f5c1e4fdfc170f0a54f9c9eb195df66edb4cf69f449\n",
      "Successfully built hdbscan pyclustering\n",
      "Installing collected packages: faiss-cpu, pyclustering, hdbscan, snc, zadu\n",
      "Successfully installed faiss-cpu-1.10.0 hdbscan-0.8.40 pyclustering-0.10.1.2 snc-0.2.1 zadu-0.2.0\n"
     ]
    }
   ],
   "source": [
    "!pip install zadu"
   ]
  },
  {
   "cell_type": "code",
   "execution_count": 1,
   "metadata": {},
   "outputs": [],
   "source": [
    "from zadu import zadu"
   ]
  },
  {
   "cell_type": "code",
   "execution_count": 2,
   "metadata": {},
   "outputs": [
    {
     "ename": "NameError",
     "evalue": "name 'load_datasets' is not defined",
     "output_type": "error",
     "traceback": [
      "\u001b[0;31m---------------------------------------------------------------------------\u001b[0m",
      "\u001b[0;31mNameError\u001b[0m                                 Traceback (most recent call last)",
      "\u001b[1;32m/Users/nicholasdjedjos/Documents/stat_ml_for_genomics/Mapping-scRNA-seq-Variability-Using-Co-Embedding-to-Understand-Cell-Neighborhood-Effects/CITE-seq_RNA_seq/zadu.ipynb Cell 3\u001b[0m line \u001b[0;36m3\n\u001b[1;32m      <a href='vscode-notebook-cell:/Users/nicholasdjedjos/Documents/stat_ml_for_genomics/Mapping-scRNA-seq-Variability-Using-Co-Embedding-to-Understand-Cell-Neighborhood-Effects/CITE-seq_RNA_seq/zadu.ipynb#W1sZmlsZQ%3D%3D?line=0'>1</a>\u001b[0m \u001b[39mfrom\u001b[39;00m\u001b[39m \u001b[39m\u001b[39mzadu\u001b[39;00m\u001b[39m \u001b[39m\u001b[39mimport\u001b[39;00m zadu\n\u001b[0;32m----> <a href='vscode-notebook-cell:/Users/nicholasdjedjos/Documents/stat_ml_for_genomics/Mapping-scRNA-seq-Variability-Using-Co-Embedding-to-Understand-Cell-Neighborhood-Effects/CITE-seq_RNA_seq/zadu.ipynb#W1sZmlsZQ%3D%3D?line=2'>3</a>\u001b[0m hd, ld \u001b[39m=\u001b[39m load_datasets()\n\u001b[1;32m      <a href='vscode-notebook-cell:/Users/nicholasdjedjos/Documents/stat_ml_for_genomics/Mapping-scRNA-seq-Variability-Using-Co-Embedding-to-Understand-Cell-Neighborhood-Effects/CITE-seq_RNA_seq/zadu.ipynb#W1sZmlsZQ%3D%3D?line=3'>4</a>\u001b[0m spec \u001b[39m=\u001b[39m [{\n\u001b[1;32m      <a href='vscode-notebook-cell:/Users/nicholasdjedjos/Documents/stat_ml_for_genomics/Mapping-scRNA-seq-Variability-Using-Co-Embedding-to-Understand-Cell-Neighborhood-Effects/CITE-seq_RNA_seq/zadu.ipynb#W1sZmlsZQ%3D%3D?line=4'>5</a>\u001b[0m     \u001b[39m\"\u001b[39m\u001b[39mid\u001b[39m\u001b[39m\"\u001b[39m    : \u001b[39m\"\u001b[39m\u001b[39mtnc\u001b[39m\u001b[39m\"\u001b[39m,\n\u001b[1;32m      <a href='vscode-notebook-cell:/Users/nicholasdjedjos/Documents/stat_ml_for_genomics/Mapping-scRNA-seq-Variability-Using-Co-Embedding-to-Understand-Cell-Neighborhood-Effects/CITE-seq_RNA_seq/zadu.ipynb#W1sZmlsZQ%3D%3D?line=5'>6</a>\u001b[0m     \u001b[39m\"\u001b[39m\u001b[39mparams\u001b[39m\u001b[39m\"\u001b[39m: { \u001b[39m\"\u001b[39m\u001b[39mk\u001b[39m\u001b[39m\"\u001b[39m: \u001b[39m20\u001b[39m },\n\u001b[0;32m   (...)\u001b[0m\n\u001b[1;32m      <a href='vscode-notebook-cell:/Users/nicholasdjedjos/Documents/stat_ml_for_genomics/Mapping-scRNA-seq-Variability-Using-Co-Embedding-to-Understand-Cell-Neighborhood-Effects/CITE-seq_RNA_seq/zadu.ipynb#W1sZmlsZQ%3D%3D?line=8'>9</a>\u001b[0m     \u001b[39m\"\u001b[39m\u001b[39mparams\u001b[39m\u001b[39m\"\u001b[39m: { \u001b[39m\"\u001b[39m\u001b[39mk\u001b[39m\u001b[39m\"\u001b[39m: \u001b[39m30\u001b[39m, \u001b[39m\"\u001b[39m\u001b[39mclustering_strategy\u001b[39m\u001b[39m\"\u001b[39m: \u001b[39m\"\u001b[39m\u001b[39mdbscan\u001b[39m\u001b[39m\"\u001b[39m }\n\u001b[1;32m     <a href='vscode-notebook-cell:/Users/nicholasdjedjos/Documents/stat_ml_for_genomics/Mapping-scRNA-seq-Variability-Using-Co-Embedding-to-Understand-Cell-Neighborhood-Effects/CITE-seq_RNA_seq/zadu.ipynb#W1sZmlsZQ%3D%3D?line=9'>10</a>\u001b[0m }]\n\u001b[1;32m     <a href='vscode-notebook-cell:/Users/nicholasdjedjos/Documents/stat_ml_for_genomics/Mapping-scRNA-seq-Variability-Using-Co-Embedding-to-Understand-Cell-Neighborhood-Effects/CITE-seq_RNA_seq/zadu.ipynb#W1sZmlsZQ%3D%3D?line=11'>12</a>\u001b[0m scores \u001b[39m=\u001b[39m zadu\u001b[39m.\u001b[39mZADU(spec, hd)\u001b[39m.\u001b[39mmeasure(ld)\n",
      "\u001b[0;31mNameError\u001b[0m: name 'load_datasets' is not defined"
     ]
    }
   ],
   "source": [
    "from zadu import zadu\n",
    "\n",
    "hd, ld = load_datasets()\n",
    "spec = [{\n",
    "    \"id\"    : \"tnc\",\n",
    "    \"params\": { \"k\": 20 },\n",
    "}, {\n",
    "    \"id\"    : \"snc\",\n",
    "    \"params\": { \"k\": 30, \"clustering_strategy\": \"dbscan\" }\n",
    "}]\n",
    "\n",
    "scores = zadu.ZADU(spec, hd).measure(ld)\n",
    "print(\"T&C:\", scores[0])\n",
    "print(\"S&C:\", scores[1])"
   ]
  },
  {
   "cell_type": "markdown",
   "metadata": {},
   "source": [
    "#### explanation of ZADU: used to evaluate dimensionality reduction embeddings. we hope this will be useful because we use UMAP to understand mixing between RNA and Protein modalities along with other things  "
   ]
  },
  {
   "cell_type": "code",
   "execution_count": 7,
   "metadata": {},
   "outputs": [],
   "source": [
    "from sklearn.datasets import fetch_openml\n",
    "from sklearn.manifold import TSNE\n",
    "hd = fetch_openml('mnist_784', version=1, cache=True).data.to_numpy()[::7]\n",
    "ld = TSNE().fit_transform(hd)"
   ]
  },
  {
   "cell_type": "code",
   "execution_count": 8,
   "metadata": {},
   "outputs": [
    {
     "ename": "NameError",
     "evalue": "name 'label' is not defined",
     "output_type": "error",
     "traceback": [
      "\u001b[0;31m---------------------------------------------------------------------------\u001b[0m",
      "\u001b[0;31mNameError\u001b[0m                                 Traceback (most recent call last)",
      "\u001b[1;32m/Users/nicholasdjedjos/Documents/stat_ml_for_genomics/Mapping-scRNA-seq-Variability-Using-Co-Embedding-to-Understand-Cell-Neighborhood-Effects/CITE-seq_RNA_seq/zadu.ipynb Cell 6\u001b[0m line \u001b[0;36m6\n\u001b[1;32m      <a href='vscode-notebook-cell:/Users/nicholasdjedjos/Documents/stat_ml_for_genomics/Mapping-scRNA-seq-Variability-Using-Co-Embedding-to-Understand-Cell-Neighborhood-Effects/CITE-seq_RNA_seq/zadu.ipynb#W6sZmlsZQ%3D%3D?line=3'>4</a>\u001b[0m mrre \u001b[39m=\u001b[39m mean_relative_rank_error\u001b[39m.\u001b[39mmeasure(hd, ld, k\u001b[39m=\u001b[39m\u001b[39m20\u001b[39m)\n\u001b[1;32m      <a href='vscode-notebook-cell:/Users/nicholasdjedjos/Documents/stat_ml_for_genomics/Mapping-scRNA-seq-Variability-Using-Co-Embedding-to-Understand-Cell-Neighborhood-Effects/CITE-seq_RNA_seq/zadu.ipynb#W6sZmlsZQ%3D%3D?line=4'>5</a>\u001b[0m pr  \u001b[39m=\u001b[39m pearson_r\u001b[39m.\u001b[39mmeasure(hd, ld)\n\u001b[0;32m----> <a href='vscode-notebook-cell:/Users/nicholasdjedjos/Documents/stat_ml_for_genomics/Mapping-scRNA-seq-Variability-Using-Co-Embedding-to-Understand-Cell-Neighborhood-Effects/CITE-seq_RNA_seq/zadu.ipynb#W6sZmlsZQ%3D%3D?line=5'>6</a>\u001b[0m nh  \u001b[39m=\u001b[39m neighborhood_hit\u001b[39m.\u001b[39mmeasure(ld, label, k\u001b[39m=\u001b[39m\u001b[39m20\u001b[39m)\n",
      "\u001b[0;31mNameError\u001b[0m: name 'label' is not defined"
     ]
    }
   ],
   "source": [
    "# directly accessing functions\n",
    "from zadu.measures import *\n",
    "\n",
    "mrre = mean_relative_rank_error.measure(hd, ld, k=20)\n",
    "pr  = pearson_r.measure(hd, ld)\n",
    "nh  = neighborhood_hit.measure(ld, label, k=20)"
   ]
  },
  {
   "cell_type": "code",
   "execution_count": 9,
   "metadata": {},
   "outputs": [
    {
     "data": {
      "text/plain": [
       "{'mrre_false': 0.9865586005713552, 'mrre_missing': 0.9754750609418492}"
      ]
     },
     "execution_count": 9,
     "metadata": {},
     "output_type": "execute_result"
    }
   ],
   "source": [
    "mrre"
   ]
  },
  {
   "cell_type": "code",
   "execution_count": 10,
   "metadata": {},
   "outputs": [
    {
     "data": {
      "text/plain": [
       "{'pearson_r': 0.3886639768944751}"
      ]
     },
     "execution_count": 10,
     "metadata": {},
     "output_type": "execute_result"
    }
   ],
   "source": [
    "pr"
   ]
  },
  {
   "cell_type": "code",
   "execution_count": 11,
   "metadata": {},
   "outputs": [
    {
     "ename": "TypeError",
     "evalue": "an integer is required",
     "output_type": "error",
     "traceback": [
      "\u001b[0;31m---------------------------------------------------------------------------\u001b[0m",
      "\u001b[0;31mTypeError\u001b[0m                                 Traceback (most recent call last)",
      "\u001b[1;32m/Users/nicholasdjedjos/Documents/stat_ml_for_genomics/Mapping-scRNA-seq-Variability-Using-Co-Embedding-to-Understand-Cell-Neighborhood-Effects/CITE-seq_RNA_seq/zadu.ipynb Cell 9\u001b[0m line \u001b[0;36m1\n\u001b[1;32m     <a href='vscode-notebook-cell:/Users/nicholasdjedjos/Documents/stat_ml_for_genomics/Mapping-scRNA-seq-Variability-Using-Co-Embedding-to-Understand-Cell-Neighborhood-Effects/CITE-seq_RNA_seq/zadu.ipynb#W2sZmlsZQ%3D%3D?line=10'>11</a>\u001b[0m \u001b[39m## Computing local pointwise distortions\u001b[39;00m\n\u001b[1;32m     <a href='vscode-notebook-cell:/Users/nicholasdjedjos/Documents/stat_ml_for_genomics/Mapping-scRNA-seq-Variability-Using-Co-Embedding-to-Understand-Cell-Neighborhood-Effects/CITE-seq_RNA_seq/zadu.ipynb#W2sZmlsZQ%3D%3D?line=11'>12</a>\u001b[0m spec \u001b[39m=\u001b[39m [{\n\u001b[1;32m     <a href='vscode-notebook-cell:/Users/nicholasdjedjos/Documents/stat_ml_for_genomics/Mapping-scRNA-seq-Variability-Using-Co-Embedding-to-Understand-Cell-Neighborhood-Effects/CITE-seq_RNA_seq/zadu.ipynb#W2sZmlsZQ%3D%3D?line=12'>13</a>\u001b[0m     \u001b[39m\"\u001b[39m\u001b[39mid\u001b[39m\u001b[39m\"\u001b[39m: \u001b[39m\"\u001b[39m\u001b[39mtnc\u001b[39m\u001b[39m\"\u001b[39m,\n\u001b[1;32m     <a href='vscode-notebook-cell:/Users/nicholasdjedjos/Documents/stat_ml_for_genomics/Mapping-scRNA-seq-Variability-Using-Co-Embedding-to-Understand-Cell-Neighborhood-Effects/CITE-seq_RNA_seq/zadu.ipynb#W2sZmlsZQ%3D%3D?line=13'>14</a>\u001b[0m     \u001b[39m\"\u001b[39m\u001b[39mparams\u001b[39m\u001b[39m\"\u001b[39m: {\u001b[39m\"\u001b[39m\u001b[39mk\u001b[39m\u001b[39m\"\u001b[39m: \u001b[39m25\u001b[39m}\n\u001b[0;32m   (...)\u001b[0m\n\u001b[1;32m     <a href='vscode-notebook-cell:/Users/nicholasdjedjos/Documents/stat_ml_for_genomics/Mapping-scRNA-seq-Variability-Using-Co-Embedding-to-Understand-Cell-Neighborhood-Effects/CITE-seq_RNA_seq/zadu.ipynb#W2sZmlsZQ%3D%3D?line=16'>17</a>\u001b[0m     \u001b[39m\"\u001b[39m\u001b[39mparams\u001b[39m\u001b[39m\"\u001b[39m: {\u001b[39m\"\u001b[39m\u001b[39mk\u001b[39m\u001b[39m\"\u001b[39m: \u001b[39m50\u001b[39m}\n\u001b[1;32m     <a href='vscode-notebook-cell:/Users/nicholasdjedjos/Documents/stat_ml_for_genomics/Mapping-scRNA-seq-Variability-Using-Co-Embedding-to-Understand-Cell-Neighborhood-Effects/CITE-seq_RNA_seq/zadu.ipynb#W2sZmlsZQ%3D%3D?line=17'>18</a>\u001b[0m }]\n\u001b[0;32m---> <a href='vscode-notebook-cell:/Users/nicholasdjedjos/Documents/stat_ml_for_genomics/Mapping-scRNA-seq-Variability-Using-Co-Embedding-to-Understand-Cell-Neighborhood-Effects/CITE-seq_RNA_seq/zadu.ipynb#W2sZmlsZQ%3D%3D?line=18'>19</a>\u001b[0m zadu_obj \u001b[39m=\u001b[39m zadu\u001b[39m.\u001b[39;49mZADU(spec, hd, return_local\u001b[39m=\u001b[39;49m\u001b[39mTrue\u001b[39;49;00m)\n",
      "File \u001b[0;32m~/miniconda3/envs/archetypegen/lib/python3.10/site-packages/zadu/zadu.py:65\u001b[0m, in \u001b[0;36mZADU.__init__\u001b[0;34m(self, spec_list, orig, return_local, verbose, geodesic)\u001b[0m\n\u001b[1;32m     63\u001b[0m \t\t\u001b[39mself\u001b[39m\u001b[39m.\u001b[39morig_distance_matrix \u001b[39m=\u001b[39m pdist\u001b[39m.\u001b[39mpairwise_distance_matrix(orig)\n\u001b[1;32m     64\u001b[0m \u001b[39mif\u001b[39;00m \u001b[39mself\u001b[39m\u001b[39m.\u001b[39mknn_ranking_flag:\n\u001b[0;32m---> 65\u001b[0m \t\u001b[39mself\u001b[39m\u001b[39m.\u001b[39morig_knn_indices, \u001b[39mself\u001b[39m\u001b[39m.\u001b[39morig_knn_ranking \u001b[39m=\u001b[39m knn\u001b[39m.\u001b[39;49mknn_with_ranking(orig, \u001b[39mself\u001b[39;49m\u001b[39m.\u001b[39;49mknn_ranking_flag, distance_matrix\u001b[39m=\u001b[39;49m\u001b[39mself\u001b[39;49m\u001b[39m.\u001b[39;49morig_distance_matrix)\n\u001b[1;32m     66\u001b[0m \u001b[39melif\u001b[39;00m \u001b[39mself\u001b[39m\u001b[39m.\u001b[39mknn_flag \u001b[39mand\u001b[39;00m \u001b[39mself\u001b[39m\u001b[39m.\u001b[39mknn_flag_k \u001b[39m>\u001b[39m \u001b[39mself\u001b[39m\u001b[39m.\u001b[39mknn_ranking_flag_k:\n\u001b[1;32m     67\u001b[0m \t\u001b[39mself\u001b[39m\u001b[39m.\u001b[39morig_knn_indices \u001b[39m=\u001b[39m knn\u001b[39m.\u001b[39mknn(orig, \u001b[39mself\u001b[39m\u001b[39m.\u001b[39mknn_flag_k, distance_function\u001b[39m=\u001b[39m\u001b[39m\"\u001b[39m\u001b[39meuclidean\u001b[39m\u001b[39m\"\u001b[39m)\n",
      "File \u001b[0;32m~/miniconda3/envs/archetypegen/lib/python3.10/site-packages/zadu/measures/utils/knn.py:23\u001b[0m, in \u001b[0;36mknn_with_ranking\u001b[0;34m(points, k, distance_matrix)\u001b[0m\n\u001b[1;32m     20\u001b[0m \u001b[39mif\u001b[39;00m distance_matrix \u001b[39mis\u001b[39;00m \u001b[39mNone\u001b[39;00m:\n\u001b[1;32m     21\u001b[0m   distance_matrix \u001b[39m=\u001b[39m pairwise_distance_matrix(points, \u001b[39m\"\u001b[39m\u001b[39meuclidean\u001b[39m\u001b[39m\"\u001b[39m)\n\u001b[0;32m---> 23\u001b[0m knn_indices \u001b[39m=\u001b[39m np\u001b[39m.\u001b[39;49mempty((points\u001b[39m.\u001b[39;49mshape[\u001b[39m0\u001b[39;49m], k), dtype\u001b[39m=\u001b[39;49mnp\u001b[39m.\u001b[39;49mint32)\n\u001b[1;32m     24\u001b[0m ranking \u001b[39m=\u001b[39m np\u001b[39m.\u001b[39mempty((points\u001b[39m.\u001b[39mshape[\u001b[39m0\u001b[39m], points\u001b[39m.\u001b[39mshape[\u001b[39m0\u001b[39m]), dtype\u001b[39m=\u001b[39mnp\u001b[39m.\u001b[39mint32)\n\u001b[1;32m     26\u001b[0m \u001b[39mfor\u001b[39;00m i \u001b[39min\u001b[39;00m \u001b[39mrange\u001b[39m(points\u001b[39m.\u001b[39mshape[\u001b[39m0\u001b[39m]):\n",
      "\u001b[0;31mTypeError\u001b[0m: an integer is required"
     ]
    }
   ],
   "source": [
    "from zadu import zadu\n",
    "from zaduvis import zaduvis\n",
    "import matplotlib.pyplot as plt\n",
    "from sklearn.manifold import TSNE\n",
    "from sklearn.datasets import fetch_openml\n",
    "\n",
    "\n",
    "hd = fetch_openml('mnist_784', version=1, cache=True).data.to_numpy()[::7]\n",
    "ld = TSNE().fit_transform(hd)\n",
    "\n",
    "## Computing local pointwise distortions\n",
    "spec = [{\n",
    "    \"id\": \"tnc\",\n",
    "    \"params\": {\"k\": 25}\n",
    "},{\n",
    "    \"id\": \"snc\",\n",
    "    \"params\": {\"k\": 50}\n",
    "}]\n",
    "zadu_obj = zadu.ZADU(spec, hd, return_local=True)\n"
   ]
  },
  {
   "cell_type": "code",
   "execution_count": null,
   "metadata": {},
   "outputs": [],
   "source": [
    "scores, local_list = zadu_obj.measure(ld)\n",
    "\n",
    "tnc_local = local_list[0]\n",
    "snc_local = local_list[1]\n",
    "\n",
    "local_trustworthiness = tnc_local[\"local_trustworthiness\"]\n",
    "local_continuity = tnc_local[\"local_continuity\"]\n",
    "local_steadiness = snc_local[\"local_steadiness\"]\n",
    "local_cohesiveness = snc_local[\"local_cohesiveness\"]\n",
    "\n",
    "fig, ax = plt.subplots(1, 4, figsize=(50, 12.5))\n",
    "zaduvis.checkviz(ld, local_trustworthiness, local_continuity, ax=ax[0])\n",
    "zaduvis.reliability_map(ld, local_trustworthiness, local_continuity, k=10, ax=ax[1])\n",
    "zaduvis.checkviz(ld, local_steadiness, local_cohesiveness, ax=ax[2])\n",
    "zaduvis.reliability_map(ld, local_steadiness, local_cohesiveness, k=10, ax=ax[3])"
   ]
  }
 ],
 "metadata": {
  "kernelspec": {
   "display_name": "archetypegen",
   "language": "python",
   "name": "python3"
  },
  "language_info": {
   "codemirror_mode": {
    "name": "ipython",
    "version": 3
   },
   "file_extension": ".py",
   "mimetype": "text/x-python",
   "name": "python",
   "nbconvert_exporter": "python",
   "pygments_lexer": "ipython3",
   "version": "3.10.16"
  }
 },
 "nbformat": 4,
 "nbformat_minor": 2
}
