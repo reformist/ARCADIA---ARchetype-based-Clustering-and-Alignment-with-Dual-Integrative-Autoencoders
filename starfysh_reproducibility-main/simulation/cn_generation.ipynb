{
 "cells": [
  {
   "cell_type": "markdown",
   "metadata": {},
   "source": [
    "## Analysis from Friday"
   ]
  },
  {
   "cell_type": "code",
   "execution_count": null,
   "metadata": {},
   "outputs": [],
   "source": [
    "import numpy as np\n",
    "import pandas as pd\n",
    "import scanpy as sc\n",
    "# making CN profiles\n",
    "\n",
    "# columns is cell type (2 cell types)\n",
    "\n",
    "cn_profiles = [ [1,0],\n",
    "                [1,1], \n",
    "                [0,1] ] # all unique vectors\n",
    "\n",
    "# need to create cells ourselves, 10 cells, 2 cell types\n",
    "cell_type_1  = np.random.randn(5,3) # 5 of cell type1\n",
    "# choose 3 of these to be sub cell type 1, 2 to be 2\n",
    "\n",
    "cell_type_2 = np.random.randn(5,3) # 5 of cell type2\n",
    "# choose 2 to be 1, 3 to be 2\n",
    "\n",
    "\n",
    "# two sub_cell_types\n",
    "\n",
    "# how did we know length of sub_cell_type_1 is 5\n",
    "# ans: each cell has a sub cell type\n",
    "\n",
    "# these are 5 cells and corresponding sub cell types\n",
    "# boolean choice, boolean mask\n",
    "sub_cell_type_1 = [ 1,1,1,2,2 ] # randomly assign subcell type to cells, already have thi\n",
    "\n",
    "# choose all of the cells from cell type 1 \n",
    "sub_cell_type_1_dict = {(1,0):1 ,(1,1):2}\n",
    "# for sub_cell_type_1\n",
    "# different cell type for each cell neighborhood\n",
    "# 1 is [1,0], 2 is [1,1]\n",
    "sub_cell_type_2 = [ 1,2,1,2,2 ]\n",
    "# 1 is [1,0], 2 is [1,1]\n",
    "sub_cell_type_2_dict = {(0,1):1 ,(1,1):2}\n"
   ]
  },
  {
   "cell_type": "code",
   "execution_count": null,
   "metadata": {},
   "outputs": [],
   "source": [
    "print(sub_cell_type_1_dict[(1,0)])"
   ]
  },
  {
   "cell_type": "code",
   "execution_count": null,
   "metadata": {},
   "outputs": [],
   "source": [
    "cell_type_1_df = pd.DataFrame(cell_type_1)\n",
    "cell_type_1_df['subcluster'] = sub_cell_type_1"
   ]
  },
  {
   "cell_type": "code",
   "execution_count": null,
   "metadata": {},
   "outputs": [],
   "source": [
    "cell_type_2_df = pd.DataFrame(cell_type_2)\n",
    "cell_type_2_df['subcluster'] = sub_cell_type_2"
   ]
  },
  {
   "cell_type": "code",
   "execution_count": null,
   "metadata": {},
   "outputs": [],
   "source": [
    "cell_type_2_df"
   ]
  },
  {
   "cell_type": "code",
   "execution_count": null,
   "metadata": {},
   "outputs": [],
   "source": [
    "spots = [] # append every time\n",
    "cn_choice = []\n",
    "for i in range(10):\n",
    "    random_choice = np.random.randint(0,3)\n",
    "    choice = tuple(cn_profiles[random_choice])\n",
    "    \n",
    "    # if random_choice in sub_cell_type_1_dict:\n",
    "\n",
    "    # after sampling cn_profile, map to sub_cell_type\n",
    "\n",
    "\n",
    "    # cn_choice.append(choice)\n",
    "    # this above chooses random cell neighbhorhood\n",
    "    # creating spots\n",
    "    # final_gene_profile = []\n",
    "    \n",
    "    # make change to for loop\n",
    "    # need both cell type and cell sub type\n",
    "    # print(choice)\n",
    "    for cell_type_index,count_cell_type in enumerate(choice):\n",
    "        # print(\"this is celltype\")\n",
    "        if count_cell_type == 0:\n",
    "            continue\n",
    "        if cell_type_index == 0:\n",
    "            sub_cluster = sub_cell_type_1_dict[choice] # should be 1 or 2\n",
    "            partition = cell_type_1_df[cell_type_1_df['subcluster'] == sub_cluster]\n",
    "            rand_choice = np.random.randint(0,len(partition))\n",
    "            final_gene_profile = partition.iloc[rand_choice,:-1] # don't want the subcluster column\n",
    "\n",
    "            # check what the sub-type of the cell is \n",
    "            # need to change this\n",
    "            # function that selects from a list randomly\n",
    "            # how to create this list \n",
    "            # rand_choice = np.random.randint(0,len(cell_type_1),size=count_cell_type)\n",
    "            \n",
    "            # final_gene_profile.append(cell_type_1[rand_choice,:])\n",
    "        if cell_type_index == 1:\n",
    "            sub_cluster = sub_cell_type_2_dict[choice]\n",
    "            partition = cell_type_2_df[cell_type_2_df['subcluster'] == sub_cluster]\n",
    "            rand_choice = np.random.randint(0,len(partition))\n",
    "            # choosing random value in cell type 2\n",
    "            # rand_choice = np.random.randint(0,len(cell_type_2),size=count_cell_type)\n",
    "\n",
    "            # print(list(partition.iloc[rand_choice,:-1]))\n",
    "            final_gene_profile = partition.iloc[rand_choice,:-1]\n",
    "            # final_gene_profile = cell_type_2[rand_choice,:]\n",
    "\n",
    "        # print(final_gene_profile)\n",
    "    \n",
    "    # spots.append(final_gene_profile)\n",
    "\n",
    "\n",
    "        \n",
    "    \n"
   ]
  },
  {
   "cell_type": "code",
   "execution_count": null,
   "metadata": {},
   "outputs": [],
   "source": [
    "print(cn_choice) # for each spot we want the count of all the cells in the spot\n",
    "# each cell is a major cell type, also has a subtype\n",
    "# vectors to represent subtypes\n",
    "\n",
    "# place each subtype in a different cell neighborhood profile\n",
    "\n",
    "print(spots)"
   ]
  },
  {
   "cell_type": "code",
   "execution_count": null,
   "metadata": {},
   "outputs": [],
   "source": [
    "# only want expression values associated with correct cell type and subcell type\n",
    "# dictionary with [0,1], [1,1], [1,0] keys and values as their corresponding gene expressions\n",
    "# then \n",
    "# how do I map to sub_cell_type1\n",
    "# what does cn_choice and spot mean?\n",
    "# spot is the cell and its gene expression that is placed there. it is randomly chosen from cell_type_x\n",
    "# cn_choice is the cell neighborhood (proportion of cell type)\n",
    "# what is sub_cell_type1: the sub_cell_types of each cell in major cell type\n",
    "# aim is for our spots to have spatial information not be randomly placed\n",
    "\n",
    "\n",
    "cell_type_1.shape"
   ]
  },
  {
   "cell_type": "code",
   "execution_count": null,
   "metadata": {},
   "outputs": [],
   "source": []
  },
  {
   "cell_type": "markdown",
   "metadata": {},
   "source": [
    "## Generating Synthetic Data from Real Dataset Now"
   ]
  },
  {
   "cell_type": "code",
   "execution_count": null,
   "metadata": {},
   "outputs": [],
   "source": [
    "adata_count_matrix = sc.read_mtx(\"/Users/nicholasdjedjos/Documents/stat_ml_for_genomics/Mapping-scRNA-seq-Variability-Using-Co-Embedding-to-Understand-Cell-Neighborhood-Effects/starfysh_reproducibility-main/data/CID44971_TNBC/scrna/count_matrix_sparse.mtx\")"
   ]
  },
  {
   "cell_type": "code",
   "execution_count": null,
   "metadata": {},
   "outputs": [],
   "source": [
    "adata_count_matrix_meta = pd.read_csv(\"/Users/nicholasdjedjos/Documents/stat_ml_for_genomics/Mapping-scRNA-seq-Variability-Using-Co-Embedding-to-Understand-Cell-Neighborhood-Effects/starfysh_reproducibility-main/data/CID44971_TNBC/scrna/metadata_sf.csv\")"
   ]
  },
  {
   "cell_type": "code",
   "execution_count": null,
   "metadata": {},
   "outputs": [],
   "source": [
    "adata_count_matrix_t = adata_count_matrix.transpose()"
   ]
  },
  {
   "cell_type": "code",
   "execution_count": null,
   "metadata": {},
   "outputs": [],
   "source": [
    "adata_count_matrix_t.obs['celltype_major'] = pd.Categorical(adata_count_matrix_meta['celltype_major'])\n",
    "adata_count_matrix_t.obs['celltype_minor'] = pd.Categorical(adata_count_matrix_meta['celltype_minor'])\n",
    "adata_count_matrix_t.obs['celltype_subset'] = pd.Categorical(adata_count_matrix_meta['celltype_subset'])\n",
    "adata_count_matrix_t.obs['subtype'] = pd.Categorical(adata_count_matrix_meta['subtype'])"
   ]
  },
  {
   "cell_type": "code",
   "execution_count": null,
   "metadata": {},
   "outputs": [],
   "source": [
    "sc.pp.neighbors(adata_count_matrix_t)\n",
    "sc.tl.umap(adata_count_matrix_t)"
   ]
  },
  {
   "cell_type": "code",
   "execution_count": null,
   "metadata": {},
   "outputs": [],
   "source": [
    "sc.pl.umap(adata_count_matrix_t, color='celltype_major') # this checks out"
   ]
  },
  {
   "cell_type": "code",
   "execution_count": null,
   "metadata": {},
   "outputs": [],
   "source": [
    "sc.pl.umap(adata_count_matrix_t, color ='celltype_minor')\n"
   ]
  },
  {
   "cell_type": "code",
   "execution_count": null,
   "metadata": {},
   "outputs": [],
   "source": [
    "sc.pl.umap(adata_count_matrix_t, color ='celltype_subset')"
   ]
  },
  {
   "cell_type": "code",
   "execution_count": null,
   "metadata": {},
   "outputs": [],
   "source": [
    "sc.pl.umap(adata_count_matrix_t, color ='subtype')"
   ]
  },
  {
   "cell_type": "code",
   "execution_count": null,
   "metadata": {},
   "outputs": [],
   "source": [
    "adata_count_matrix_t.obs['cn'] = -1"
   ]
  },
  {
   "cell_type": "code",
   "execution_count": null,
   "metadata": {},
   "outputs": [],
   "source": [
    "adata_count_matrix_t"
   ]
  },
  {
   "cell_type": "code",
   "execution_count": null,
   "metadata": {},
   "outputs": [],
   "source": [
    "# initializing adata_count_matrix_t obsm\n",
    "# first find # of rows\n",
    "rows = adata_count_matrix_t.n_obs\n",
    "initialized_values = np.full((rows, 9), -1)\n",
    "\n",
    "\n",
    "adata_count_matrix_t.obsm['cn_vector'] = initialized_values\n"
   ]
  },
  {
   "cell_type": "code",
   "execution_count": null,
   "metadata": {},
   "outputs": [],
   "source": [
    "adata_count_matrix_t.obsm['cn_vector']"
   ]
  },
  {
   "cell_type": "code",
   "execution_count": null,
   "metadata": {},
   "outputs": [],
   "source": [
    "celltype_major_set = set()\n",
    "celltype_minor_set = set()\n",
    "celltype_subset_set = set()\n",
    "for title in adata_count_matrix_t.obs['celltype_major']:\n",
    "    celltype_major_set.add(title)\n",
    "for title in adata_count_matrix_t.obs['celltype_minor']:\n",
    "    celltype_minor_set.add(title)\n",
    "for title in adata_count_matrix_t.obs['celltype_subset']:\n",
    "    celltype_subset_set.add(title)\n"
   ]
  },
  {
   "cell_type": "code",
   "execution_count": null,
   "metadata": {},
   "outputs": [],
   "source": [
    "B_cells_partition = adata_count_matrix_t[adata_count_matrix_t.obs['celltype_major'] == 'B-cells']\n",
    "CAFs_cells_partition = adata_count_matrix_t[adata_count_matrix_t.obs['celltype_major'] == 'CAFs']\n",
    "Cancer_Epithelial_partition = adata_count_matrix_t[adata_count_matrix_t.obs['celltype_major'] == 'Cancer Epithelial']\n",
    "Endothelial_partition = adata_count_matrix_t[adata_count_matrix_t.obs['celltype_major'] == 'Endothelial']\n",
    "Myeloid_partition = adata_count_matrix_t[adata_count_matrix_t.obs['celltype_major'] == 'Myeloid']\n",
    "Normal_Epithelial_partition =adata_count_matrix_t[adata_count_matrix_t.obs['celltype_major'] == 'Normal Epithelial']\n",
    "PVL_partition = adata_count_matrix_t[adata_count_matrix_t.obs['celltype_major'] == 'PVL']\n",
    "Plasmablasts_partition = adata_count_matrix_t[adata_count_matrix_t.obs['celltype_major'] == 'Plasmablasts']\n",
    "T_cells_partition = adata_count_matrix_t[adata_count_matrix_t.obs['celltype_major'] == 'T-cells']"
   ]
  },
  {
   "cell_type": "code",
   "execution_count": null,
   "metadata": {},
   "outputs": [],
   "source": [
    "# ignoring nan for now\n",
    "\n",
    "# 1. create CN\n",
    "# 2. choose random cell in CN\n",
    "# 3. put it in as a count at a spot"
   ]
  },
  {
   "cell_type": "code",
   "execution_count": null,
   "metadata": {},
   "outputs": [],
   "source": [
    "cn_profile_order = sorted(list(adata_count_matrix_t.obs['celltype_major'].unique()), reverse=True)"
   ]
  },
  {
   "cell_type": "code",
   "execution_count": null,
   "metadata": {},
   "outputs": [],
   "source": [
    "print(cn_profile_order)"
   ]
  },
  {
   "cell_type": "code",
   "execution_count": null,
   "metadata": {},
   "outputs": [],
   "source": [
    "# creating CN profiles. each vector is a unique CN.\n",
    "# ['T-cells', 'Plasmablasts', 'PVL', 'Normal Epithelial', 'Myeloid', 'Endothelial', 'Cancer Epithelial', 'CAFs', 'B-cells']\n",
    "import numpy as np\n",
    "import pandas as pd\n",
    "import scanpy as sc\n",
    "\n",
    "cn_profiles = [ # T Cells\n",
    "                (1, 1, 0, 0, 0, 0, 0, 0, 0), # Activated CD8, Plasmoblasts\n",
    "                (1 ,0, 1, 0, 0, 0, 0, 0, 0), # Tcm, PVL immature\n",
    "                (1, 0, 0, 1, 0, 0, 0, 0, 0), # Treg, normal epithelial\n",
    "                (1, 0, 0, 0, 1, 0, 0, 0, 0), # Tem, pdC\n",
    "                (1, 0, 0, 0, 0, 1, 0, 0, 0), # Tfh, endothelial\n",
    "\n",
    "                # skip plasmoblasts, as can also use the T-cell activated CD8\n",
    "                # PVL\n",
    "                (0 ,0, 1, 0, 0, 0, 1, 0, 0), # PVL differentiated, cancer_epithelial_basal\n",
    "\n",
    "                # skip normal epithelial, can just use Treg\n",
    "\n",
    "                # myeloid has a lot of subtypes\n",
    "                (0, 0, 0, 0, 1, 0, 0, 1, 0), # cDC , CAFs myCAF-like\n",
    "                (0, 0, 0, 0, 1, 0, 0, 0, 1), # Macrophage M1, B cells memory\n",
    "                (0, 1, 0, 0, 1, 0, 0, 0, 0), # Monocytes, assigned to random plasmablast\n",
    "                (0, 0, 1, 0, 1, 0, 0, 0, 0), # Macrophage M2, assigned to random PVL\n",
    "\n",
    "                # skip Endothelial\n",
    "\n",
    "                # cancer epithelial\n",
    "                (0, 0, 0, 1, 0, 0, 1, 0, 0), # LumB, assigned to random normal epithelial\n",
    "\n",
    "                # skip CAFs\n",
    "\n",
    "                # B-cells\n",
    "                (0, 0, 0, 0, 0, 1, 0, 0, 1), # B cells naive\n",
    "                \n",
    "                ] \n",
    "print(len(cn_profiles))\n",
    "print(len(set(cn_profiles)))\n",
    "\n"
   ]
  },
  {
   "cell_type": "code",
   "execution_count": null,
   "metadata": {},
   "outputs": [],
   "source": [
    "# dictionary for mapping major cell type to cell type subset\n",
    "# \n",
    "\n",
    "T_cells_dict = { (1, 1, 0, 0, 0, 0, 0, 0, 0) : 'Activated CD8',\n",
    "                 (1 ,0, 1, 0, 0, 0, 0, 0, 0) : 'Tcm', \n",
    "                 (1, 0, 0, 1, 0, 0, 0, 0, 0) : 'Treg',\n",
    "                 (1, 0, 0, 0, 1, 0, 0, 0, 0) : 'Tem', \n",
    "                 (1, 0, 0, 0, 0, 1, 0, 0, 0) : 'Tfh'\n",
    "                }\n",
    "\n",
    "Plasmablasts_dict = { (1, 1, 0, 0, 0, 0, 0, 0, 0) : 'Plasmablasts',\n",
    "                      (0, 1, 0, 0, 1, 0, 0, 0, 0) : 'Plasmablasts'} # choosing a random plasmablast for monocyte\n",
    "\n",
    "PVL_dict = {(1 ,0, 1, 0, 0, 0, 0, 0, 0) : 'PVL immature',\n",
    "            (0 ,0, 1, 0, 0, 0, 1, 0, 0) : 'PVL differentiated',\n",
    "            (0, 0, 1, 0, 1, 0, 0, 0, 0) : 'PVL random'} # basically choosing a random PVL for the next cell subtype\n",
    "\n",
    "Normal_Epithelial_dict = {(1, 0, 0, 1, 0, 0, 0, 0, 0) : 'Normal epithelial',\n",
    "                          (0, 0, 0, 1, 0, 0, 1, 0, 0) : 'Normal epithelial'} # choosing a random normal epithelial cell for LuMB\n",
    "\n",
    "Myeloid_dict = { \n",
    "                (1, 0, 0, 0, 1, 0, 0, 0, 0) : \"pDC\",\n",
    "                (0, 0, 0, 0, 1, 0, 0, 1, 0) : \"cDC\",\n",
    "                (0, 0, 0, 0, 1, 0, 0, 0, 1) : \"Macrophage M1\",\n",
    "                (0, 1, 0, 0, 1, 0, 0, 0, 0) : \"Monocytes\",\n",
    "                (0, 0, 1, 0, 1, 0, 0, 0, 0) : \"Macrophage M2\"\n",
    "                }\n",
    "\n",
    "Endothelial_dict = {\n",
    "                (1, 0, 0, 0, 0, 1, 0, 0, 0) : 'Endothelial',\n",
    "                (0, 0, 0, 0, 0, 1, 0, 0, 1) : 'Endothelial' # choosing a random endothelial for B cells naive\n",
    "                }\n",
    "\n",
    "Cancer_Epithelial_dict = {(0 ,0, 1, 0, 0, 0, 1, 0, 0) : 'Basal',\n",
    "                          (0, 0, 0, 1, 0, 0, 1, 0, 0) : 'LumB'}\n",
    "\n",
    "CAFs_dict = {(0, 0, 0, 0, 1, 0, 0, 1, 0) : 'CAFs myCAF-like'}\n",
    "\n",
    "B_cells_dict = {(0, 0, 0, 0, 1, 0, 0, 0, 1) : 'B cells memory',\n",
    "                (0, 0, 0, 0, 0, 1, 0, 0, 1) : 'B cells naive'}\n"
   ]
  },
  {
   "cell_type": "code",
   "execution_count": null,
   "metadata": {},
   "outputs": [],
   "source": [
    "adata_count_matrix_t.obs"
   ]
  },
  {
   "cell_type": "code",
   "execution_count": null,
   "metadata": {},
   "outputs": [],
   "source": [
    "# number of cells added \n",
    "cell_set = set()"
   ]
  },
  {
   "cell_type": "code",
   "execution_count": null,
   "metadata": {},
   "outputs": [],
   "source": [
    "# different sets for each subset\n",
    "# not to add the same cell\n",
    "\n",
    "def cell_sampler(cell_type: str, cell_type_dict: dict, choice: tuple):\n",
    "        # print(choice)\n",
    "        if choice not in cell_type_dict:\n",
    "                print(\"entered a choice that isn't implemented yet\")\n",
    "                return \"not implemented yet\"\n",
    "        if 'random' in cell_type_dict[choice]:\n",
    "                rand_choice = np.random.randint(0,len(cell_type_dict.values()))\n",
    "                # put stuff in a set, pop off\n",
    "                rand_choice_value = (list(cell_type_dict.values())[rand_choice])\n",
    "                if 'random' in rand_choice_value:\n",
    "                        rand_choice = list(cell_type_dict.values())[0]\n",
    "                else:\n",
    "                        rand_choice = rand_choice_value\n",
    "                sub_cluster = rand_choice\n",
    "        else:\n",
    "                sub_cluster = cell_type_dict[choice] \n",
    " \n",
    "        sub_cluster_cells = adata_count_matrix_t[adata_count_matrix_t.obs['celltype_subset'] == sub_cluster]\n",
    "        possible_indices = sub_cluster_cells.obs.index.tolist()\n",
    "        # sub_cluster_cells = pd.DataFrame(sub_cluster_cells.X.toarray())\n",
    "        selected_index = np.random.choice(possible_indices)\n",
    "        # while selected_index in cell_set:\n",
    "        #         selected_index = np.random.choice(possible_indices)\n",
    "        # length = len(possible_indices)\n",
    "        # print(f\"this is the length of sub_cluster_cells and I'm in this dict: {cell_type_dict}: {length}\")\n",
    "        # rand_choice = np.random.randint(length)\n",
    "        # print(selected_index)\n",
    "        cell_set.add(selected_index)\n",
    "        # row_position = sub_cluster_cells.obs.index.get_loc(selected_index) # row position of the index in the subset I took\n",
    "        # print(row_position)\n",
    "        # print(\"before problem\")\n",
    "        # print(int(selected_index))\n",
    "        # print(selected_index)\n",
    "        # print(type(selected_index))\n",
    "        adata_count_matrix_t.obsm['cn_vector'][int(selected_index)] = list(choice)  # choice is the cn\n",
    "        \n",
    "        return 0\n",
    "\n",
    "        # cell_gene_profile = sub_cluster_cells.iloc[rand_choice,:]\n",
    "        # return (sub_cluster, list(cell_gene_profile))\n",
    "        # return (sub_cluster, list(cell_gene_profile), cell_type)\n",
    "    "
   ]
  },
  {
   "cell_type": "code",
   "execution_count": null,
   "metadata": {},
   "outputs": [],
   "source": [
    "adata_count_matrix_t.obsm['cn_vector'][1]"
   ]
  },
  {
   "cell_type": "code",
   "execution_count": null,
   "metadata": {},
   "outputs": [],
   "source": [
    "# now, writing sampling algorithm\n",
    "from collections import defaultdict\n",
    "spots = defaultdict(list) # append every time, these are the cells chosen for each spot\n",
    "cn_choice = []\n",
    "\n",
    "for i in range(80000): # only want 10 spots\n",
    "    random_choice = np.random.randint(0,len(cn_profiles)) # choosing a random CN\n",
    "    # print(f\"this is the random_choice at this cycle: {i}, {random_choice}\" )\n",
    "    choice = (cn_profiles[random_choice])\n",
    "\n",
    "    # print(f\"this is the choice in the major for loop: {choice}\")\n",
    "    # index is the cell type, cell_type_count is how many of that cell there is\n",
    "    for cell_type_index,cell_type_count in enumerate(choice):\n",
    "        # ['T-cells', 'Plasmablasts', 'PVL', 'Normal Epithelial', 'Myeloid', 'Endothelial', 'Cancer Epithelial', 'CAFs', 'B-cells']\n",
    "        if cell_type_count == 0: # if there is 0 counts, we don't want to add any cells\n",
    "            continue\n",
    "        # all counts are just 1\n",
    "        if cell_type_index == 0: # if cell type has a value and is first cell type (T cells in this case)\n",
    "            cell_gene_profile = cell_sampler('T-cells', T_cells_dict, choice)\n",
    "            # spots[i] += cell_gene_profile\n",
    "        if cell_type_index == 1:\n",
    "            cell_gene_profile = cell_sampler('Plasmablasts', Plasmablasts_dict, choice)\n",
    "            # spots[i] += cell_gene_profile\n",
    "        if cell_type_index == 2: \n",
    "            cell_gene_profile = cell_sampler('PVL', PVL_dict, choice)\n",
    "            # spots[i] += cell_gene_profile\n",
    "        if cell_type_index == 3:\n",
    "            cell_gene_profile = cell_sampler('Normal Epithelial', Normal_Epithelial_dict, choice)\n",
    "            # spots[i] += cell_gene_profile\n",
    "        if cell_type_index == 4:\n",
    "            cell_gene_profile = cell_sampler('Myeloid', Myeloid_dict, choice)\n",
    "            # spots[i] += cell_gene_profile\n",
    "        if cell_type_index == 5:\n",
    "            cell_gene_profile = cell_sampler('Endothelial', Endothelial_dict, choice)\n",
    "            # spots[i] += cell_gene_profile\n",
    "        if cell_type_index == 6:\n",
    "            cell_gene_profile = cell_sampler('Cancer Epithelial', Cancer_Epithelial_dict, choice)\n",
    "            # spots[i] += cell_gene_profile\n",
    "        if cell_type_index == 7:\n",
    "            cell_gene_profile = cell_sampler('CAFs', CAFs_dict, choice)\n",
    "            # spots[i] += cell_gene_profile\n",
    "        if cell_type_index == 8:\n",
    "            cell_gene_profile = cell_sampler('B-cells', B_cells_dict, choice)\n",
    "            # spots[i] += cell_gene_profile\n",
    "\n",
    "\n",
    "   \n",
    "\n",
    "\n",
    "        \n",
    "    \n"
   ]
  },
  {
   "cell_type": "code",
   "execution_count": null,
   "metadata": {},
   "outputs": [],
   "source": [
    "print(len(cell_set))"
   ]
  },
  {
   "cell_type": "code",
   "execution_count": null,
   "metadata": {},
   "outputs": [],
   "source": [
    "pri"
   ]
  },
  {
   "cell_type": "code",
   "execution_count": null,
   "metadata": {},
   "outputs": [],
   "source": [
    "# adata_count_matrix_t.obsm['cn_vector'][79] = (1,1,1,1,1,1,1,1,1)\n",
    "cn_vector_df = pd.DataFrame(adata_count_matrix_t.obsm['cn_vector'])\n",
    "# pd.DataFrame(adata_count_matrix_t.obsm['cn_vector']) == [0,  1,   0,  0,  0,  0,   0]\n",
    "# cn_vector_df == [0,1,0,]\n",
    "# cn_vector_df[cn_vector_df ==  [0,0, 0,   1,   0,   0,   0,   0,   0]]"
   ]
  },
  {
   "cell_type": "code",
   "execution_count": null,
   "metadata": {},
   "outputs": [],
   "source": [
    "exclude = [-1,-1,-1,-1,-1,-1,-1,-1,-1]\n",
    "mask = ~(adata_count_matrix_t.obsm['cn_vector'] == exclude).all(axis=1)\n",
    "\n",
    "adata_count_matrix_t_cn = adata_count_matrix_t[mask]\n"
   ]
  },
  {
   "cell_type": "code",
   "execution_count": null,
   "metadata": {},
   "outputs": [],
   "source": [
    "adata_count_matrix_t_cn.obsm['cn_vector']"
   ]
  },
  {
   "cell_type": "code",
   "execution_count": null,
   "metadata": {},
   "outputs": [],
   "source": [
    "cn_profiles_dict = { # T Cells\n",
    "                (1, 1, 0, 0, 0, 0, 0, 0, 0) : 1, # Activated CD8, Plasmoblasts\n",
    "                (1 ,0, 1, 0, 0, 0, 0, 0, 0) : 2, # Tcm, PVL immature\n",
    "                (1, 0, 0, 1, 0, 0, 0, 0, 0) : 3, # Treg, normal epithelial\n",
    "                (1, 0, 0, 0, 1, 0, 0, 0, 0) : 4, # Tem, pdC\n",
    "                (1, 0, 0, 0, 0, 1, 0, 0, 0) : 5, # Tfh, endothelial\n",
    "\n",
    "                # skip plasmoblasts, as can also use the T-cell activated CD8\n",
    "                # PVL\n",
    "                (0 ,0, 1, 0, 0, 0, 1, 0, 0) : 6, # PVL differentiated, cancer_epithelial_basal\n",
    "\n",
    "                # skip normal epithelial, can just use Treg\n",
    "\n",
    "                # myeloid has a lot of subtypes\n",
    "                (0, 0, 0, 0, 1, 0, 0, 1, 0) : 7, # cDC , CAFs myCAF-like\n",
    "                (0, 0, 0, 0, 1, 0, 0, 0, 1) : 8, # Macrophage M1, B cells memory\n",
    "                (0, 1, 0, 0, 1, 0, 0, 0, 0) : 9, # Monocytes, assigned to random plasmablast\n",
    "                (0, 0, 1, 0, 1, 0, 0, 0, 0) : 10, # Macrophage M2, assigned to random PVL\n",
    "\n",
    "                # skip Endothelial\n",
    "\n",
    "                # cancer epithelial\n",
    "                (0, 0, 0, 1, 0, 0, 1, 0, 0) : 11, # LumB, assigned to random normal epithelial\n",
    "\n",
    "                # skip CAFs\n",
    "\n",
    "                # B-cells\n",
    "                (0, 0, 0, 0, 0, 1, 0, 0, 1) : 12, # B cells naive\n",
    "                \n",
    "            }"
   ]
  },
  {
   "cell_type": "code",
   "execution_count": null,
   "metadata": {},
   "outputs": [],
   "source": [
    "obs_arr = []\n",
    "# cn_profiles_dict[(0, 0, 0, 0, 0, 1, 0, 0, 1)]\n",
    "for arr in adata_count_matrix_t_cn.obsm['cn_vector']:\n",
    "    # print(type(arr))\n",
    "    # print(type(tuple(arr)))\n",
    "    # break\n",
    "    obs_arr.append(cn_profiles_dict[tuple(arr)])"
   ]
  },
  {
   "cell_type": "code",
   "execution_count": null,
   "metadata": {},
   "outputs": [],
   "source": [
    "adata_count_matrix_t_cn.obs['cn_vector_int'] = obs_arr"
   ]
  },
  {
   "cell_type": "code",
   "execution_count": null,
   "metadata": {},
   "outputs": [],
   "source": [
    "adata_count_matrix_t_cn"
   ]
  },
  {
   "cell_type": "code",
   "execution_count": null,
   "metadata": {},
   "outputs": [],
   "source": [
    "sc.pl.umap(adata_count_matrix_t_cn, color='celltype_major')"
   ]
  },
  {
   "cell_type": "code",
   "execution_count": null,
   "metadata": {},
   "outputs": [],
   "source": [
    "adata_count_matrix_t_cn_t_cell = adata_count_matrix_t_cn[adata_count_matrix_t_cn.obs['celltype_major'] == 'T-cells']"
   ]
  },
  {
   "cell_type": "code",
   "execution_count": null,
   "metadata": {},
   "outputs": [],
   "source": [
    "sc.pl.umap(adata_count_matrix_t_cn_t_cell,color='cn_vector_int')"
   ]
  },
  {
   "cell_type": "code",
   "execution_count": null,
   "metadata": {},
   "outputs": [],
   "source": [
    "adata_count_matrix_t_cn_t_cell"
   ]
  },
  {
   "cell_type": "code",
   "execution_count": null,
   "metadata": {},
   "outputs": [],
   "source": [
    "sc.pl.umap(adata_count_matrix_t_cn_t_cell, color = 'celltype_subset' )"
   ]
  },
  {
   "cell_type": "code",
   "execution_count": null,
   "metadata": {},
   "outputs": [],
   "source": [
    "sc.tl.umap(adata_count_matrix_t_cn_t_cell)"
   ]
  },
  {
   "cell_type": "code",
   "execution_count": null,
   "metadata": {},
   "outputs": [],
   "source": [
    "sc.pl.umap(adata_count_matrix_t_cn_t_cell, color='cn_vector_int')"
   ]
  },
  {
   "cell_type": "code",
   "execution_count": null,
   "metadata": {},
   "outputs": [],
   "source": [
    "adata_count_matrix_t_cn.write(\"adata_cn.h5ad\")"
   ]
  },
  {
   "cell_type": "markdown",
   "metadata": {},
   "source": [
    "### NOTE:  I'm not using every cell neighborhood here; just the onest that are defined in two cell type subset dictionaries. this is limiting because some cells don't have CNs that are defined across two cell types"
   ]
  },
  {
   "cell_type": "code",
   "execution_count": null,
   "metadata": {},
   "outputs": [],
   "source": [
    "cell_gene = []\n",
    "for spot in spots.values():\n",
    "    cell_gene.append(spot)\n"
   ]
  },
  {
   "cell_type": "code",
   "execution_count": null,
   "metadata": {},
   "outputs": [],
   "source": [
    "final_spots = []\n",
    "for val in spots.values():\n",
    "    if len(val) == 21: # length should be 4 (2 cells each) if it's 21 that means not implemented\n",
    "        continue\n",
    "    # print(val)\n",
    "    final_spots.append(val)\n",
    "print(len(final_spots))"
   ]
  },
  {
   "cell_type": "markdown",
   "metadata": {},
   "source": [
    "### this is how many actual spots we have. the length of the next df will be double because I am including all the cells in each spot, and each spot has exactly two cells"
   ]
  },
  {
   "cell_type": "code",
   "execution_count": null,
   "metadata": {},
   "outputs": [],
   "source": [
    "for i in final_spots:\n",
    "    print(len(i))"
   ]
  },
  {
   "cell_type": "code",
   "execution_count": null,
   "metadata": {},
   "outputs": [],
   "source": [
    "df_dict = dict()\n",
    "for spot_number, tuple_ in enumerate(final_spots):\n",
    "    for val in tuple_:\n",
    "        df_dict[tuple_[0] + f' {spot_number}'] = tuple_[1] # only two cells per spot right now\n",
    "        df_dict[tuple_[2] + f' {spot_number}'] = tuple_[3]\n",
    "\n",
    "\n",
    "    \n"
   ]
  },
  {
   "cell_type": "code",
   "execution_count": null,
   "metadata": {},
   "outputs": [],
   "source": [
    "print(len(df_dict))"
   ]
  },
  {
   "cell_type": "markdown",
   "metadata": {},
   "source": [
    "### the number after the cell subset is the spot. as you can see, two cell types per spot (which is also a CN)"
   ]
  },
  {
   "cell_type": "code",
   "execution_count": null,
   "metadata": {},
   "outputs": [],
   "source": [
    "spots_df = pd.DataFrame(df_dict)\n",
    "spots_df.head()"
   ]
  },
  {
   "cell_type": "code",
   "execution_count": null,
   "metadata": {},
   "outputs": [],
   "source": [
    "spots_df.columns"
   ]
  },
  {
   "cell_type": "markdown",
   "metadata": {},
   "source": [
    "### Miscellaneous"
   ]
  },
  {
   "cell_type": "code",
   "execution_count": null,
   "metadata": {},
   "outputs": [],
   "source": []
  },
  {
   "cell_type": "code",
   "execution_count": null,
   "metadata": {},
   "outputs": [],
   "source": [
    "cols = []\n",
    "values = []\n",
    "major_cell_type = []\n",
    "for tuple in cell_gene:\n",
    "    cols.append(tuple[0])\n",
    "    values.append(tuple[1])\n",
    "    major_cell_type.append(tuple[2])"
   ]
  },
  {
   "cell_type": "code",
   "execution_count": null,
   "metadata": {},
   "outputs": [],
   "source": [
    "spot_dict = dict()\n",
    "for idx, cell_type in enumerate(cols):\n",
    "    spot_dict[cell_type + f\" {idx}\"] = values[idx]\n"
   ]
  },
  {
   "cell_type": "code",
   "execution_count": null,
   "metadata": {},
   "outputs": [],
   "source": [
    "spot_dict_df = pd.DataFrame(spot_dict)\n",
    "# this is weird, should be multiple cells in a spot"
   ]
  },
  {
   "cell_type": "code",
   "execution_count": null,
   "metadata": {},
   "outputs": [],
   "source": [
    "# need to add cell type and the CN\n",
    "spot_dict_df.loc[\"major_cell_type\"] = major_cell_type"
   ]
  },
  {
   "cell_type": "code",
   "execution_count": null,
   "metadata": {},
   "outputs": [],
   "source": [
    "spot_dict_df.columns"
   ]
  },
  {
   "cell_type": "code",
   "execution_count": null,
   "metadata": {},
   "outputs": [],
   "source": []
  }
 ],
 "metadata": {
  "kernelspec": {
   "display_name": "simulation",
   "language": "python",
   "name": "python3"
  },
  "language_info": {
   "codemirror_mode": {
    "name": "ipython",
    "version": 3
   },
   "file_extension": ".py",
   "mimetype": "text/x-python",
   "name": "python",
   "nbconvert_exporter": "python",
   "pygments_lexer": "ipython3",
   "version": "3.8.20"
  }
 },
 "nbformat": 4,
 "nbformat_minor": 2
}
